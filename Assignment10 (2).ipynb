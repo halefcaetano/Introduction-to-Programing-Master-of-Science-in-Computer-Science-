{
 "cells": [
  {
   "cell_type": "markdown",
   "id": "a70df53e-22b4-4b59-9ef4-a1e205d9313d",
   "metadata": {},
   "source": [
    "# __Programming Assignment 10__\n"
   ]
  },
  {
   "cell_type": "markdown",
   "id": "34027f79-114b-4dca-95a6-762238801704",
   "metadata": {},
   "source": [
    "## __Assignment Overview__"
   ]
  },
  {
   "cell_type": "markdown",
   "id": "38538f3d-89db-4deb-beee-c2fcb42165fa",
   "metadata": {},
   "source": [
    "In this assignment, you will create a program that contains 3 functions that manipulate strings in different ways, as described below.  Be sure to test your code against the test cases! Submit your code once your tests are successfully passing. \n"
   ]
  },
  {
   "cell_type": "markdown",
   "id": "0496b5e4-d072-41f0-9e76-5052e3b6d3a5",
   "metadata": {},
   "source": [
    "### __Function 1: center_vertically(sentence)__"
   ]
  },
  {
   "cell_type": "markdown",
   "id": "ec164a0c-5d93-4952-ac6d-bde2e111b0cd",
   "metadata": {
    "tags": []
   },
   "source": [
    "Create a function that will center all words in the string, vertically, around the longest word. The function takes one argument, which is a string composed of several words.It will determine the length of the longest word, and then create a new string that has each word on a separate line, formatted so that it is centered around the length of the longest word. Return the final string."
   ]
  },
  {
   "cell_type": "markdown",
   "id": "ca874f45-cb40-4632-af7a-be7f10ab7f38",
   "metadata": {
    "tags": []
   },
   "source": [
    "##### Function 1 : Hints"
   ]
  },
  {
   "cell_type": "markdown",
   "id": "94e4bd01-f3e6-44cf-b093-8ed03aaae7d7",
   "metadata": {},
   "source": [
    "- There are many ways to solve this problem.  One way is to loop through the string twice. The first time, loop to find the length of the longest word (hint: use .split() and len()).  Then, loop again to create the output string.\n",
    "- Remember that you can use string concatenation here, and you can include format strings as well.  You could use something similar to this line:\n",
    "\n",
    "    out_string += f'{'''your code here'''}\\n'"
   ]
  },
  {
   "cell_type": "markdown",
   "id": "4784de1f-52d7-47e2-b2d5-29071a77fc0a",
   "metadata": {},
   "source": [
    "### __Function 2: replace_the_with_smile(sentence)__"
   ]
  },
  {
   "cell_type": "markdown",
   "id": "a8f79e40-7da9-454c-b4d3-3afb302471d0",
   "metadata": {},
   "source": [
    "Create a function that will replace all occurrences of the word “the” with a grinning face emoji. This function takes one argument, a long string, and searches through the string to replace every occurrence of the word “the” with the grinning face emoji symbol (0x1F600). Return the newly created string.\n"
   ]
  },
  {
   "cell_type": "markdown",
   "id": "3dad8d85-b44d-4541-abee-955f809be585",
   "metadata": {
    "tags": []
   },
   "source": [
    "### __Function 3: replace_4_letter_words(sentence)__"
   ]
  },
  {
   "cell_type": "markdown",
   "id": "2bb2cc12-1cfb-4c76-bd10-fd1819792eb2",
   "metadata": {},
   "source": [
    "Create a function that will replace all four-letter words with a different emoji, in a specific order. This function takes one argument, a long string, and searches through the string to replace every word with a length of 4 letters.  The replacement character will change each time and start with the grinning face emoji symbol (0x1F600).  The next character would be the next emoji symbol (0x1F601). Return the newly created string\n",
    "\n",
    "__Hint :__ If you store the value of (0x1F600) in a variable, you can just add 1 and move to the next emoji symbol\n"
   ]
  },
  {
   "cell_type": "markdown",
   "id": "1638ca3e-536a-446d-a493-07c4b3c5f04c",
   "metadata": {},
   "source": [
    "### __Main Program__"
   ]
  },
  {
   "cell_type": "markdown",
   "id": "35a01617-e43c-463d-bc77-d5fffadd858f",
   "metadata": {},
   "source": [
    "For main program, put all three functions to use to create a program that prompts user for an input of a string consisting of several words and outputs a centered strings, a string with every \"the\" replaced with a smiling emoji and a string with every 4-letter word replaced by a different emoji. "
   ]
  },
  {
   "cell_type": "markdown",
   "id": "59805ae0-69b3-4621-acb7-3de74b8c65bf",
   "metadata": {},
   "source": [
    "## Lets start creating! "
   ]
  },
  {
   "cell_type": "markdown",
   "id": "8907ccd4-ffc3-4513-be59-4185a0ed0fad",
   "metadata": {},
   "source": [
    "### Using this Notebook"
   ]
  },
  {
   "cell_type": "markdown",
   "id": "21f99ed0-7361-498e-8c92-4f210985f199",
   "metadata": {},
   "source": [
    "Notice that some of the cells are not able to be edited – they are just meant to be run to test your code, and perform the auto-grading. You should begin at the top and execute each code cell, adding your code when you see # YOUR CODE HERE. If you have written the functions correctly, you should see no errors.\n",
    "\n",
    "When you execute the TEST CASES cell, what you want to see is no output. You may want to intentionally make the function give a wrong result, so that you can see what the error message looks like – and then fix your function. Once you execute the TEST CASES cell, and get no output, then your function is most likely correct!"
   ]
  },
  {
   "cell_type": "markdown",
   "id": "97579d0c-19b6-40b9-8c61-91a2cda10a70",
   "metadata": {},
   "source": [
    "#### Function 1: center_vertically(sentence)\n"
   ]
  },
  {
   "cell_type": "code",
   "execution_count": 6,
   "id": "df5f7ebc-cdb6-41c1-b710-40a11eeee619",
   "metadata": {
    "deletable": false,
    "nbgrader": {
     "cell_type": "code",
     "checksum": "8012252193ee21c49ea705dfbf35dc79",
     "grade": false,
     "grade_id": "cell-519949b577d79352",
     "locked": false,
     "schema_version": 3,
     "solution": true,
     "task": false
    },
    "tags": []
   },
   "outputs": [],
   "source": [
    "# Create a function that takes one string as argument and returns a string centered vertically around the longest word from input string\n",
    "def center_vertically(sentence):\n",
    "    out_string = ''\n",
    "    for index, word in enumerate(sentence.split()):\n",
    "        if index == 0:\n",
    "            max_len = len(word)\n",
    "        else:\n",
    "            if len(word) > max_len:\n",
    "                max_len = len(word)\n",
    "    for word in sentence.split():\n",
    "        out_string += f'{word:^{max_len}}\\n'\n",
    "    return out_string\n",
    "        \n"
   ]
  },
  {
   "cell_type": "code",
   "execution_count": 7,
   "id": "b60365a9-eee9-43ae-991a-6b0a965f992c",
   "metadata": {
    "tags": []
   },
   "outputs": [
    {
     "data": {
      "text/plain": [
       "'    Big    \\n    Ben    \\n    is     \\n    the    \\n nickname  \\n    for    \\n    the    \\n   Great   \\n   Bell    \\n    of     \\n    the    \\n   Great   \\n   Clock   \\n    of     \\nWestminster\\n    at     \\n    the    \\n   north   \\n    end    \\n    of     \\n    the    \\n  Palace   \\n    of     \\nWestminster\\n    in     \\n  London   \\n  England  \\n'"
      ]
     },
     "execution_count": 7,
     "metadata": {},
     "output_type": "execute_result"
    }
   ],
   "source": [
    "string = \"Big Ben is the nickname for the Great Bell of the Great Clock of Westminster at the north end of the Palace of Westminster in London England\"\n",
    "center_vertically(string)\n"
   ]
  },
  {
   "cell_type": "markdown",
   "id": "bda8f8dd-01fa-4414-96ef-f7095255a82f",
   "metadata": {},
   "source": [
    "#### Function 2: replace_the_with_smile(sentence)"
   ]
  },
  {
   "cell_type": "code",
   "execution_count": 2,
   "id": "1876831d-8366-469f-a973-48673b00e0d6",
   "metadata": {
    "deletable": false,
    "nbgrader": {
     "cell_type": "code",
     "checksum": "09e49d68ffb17dbb178956e578826959",
     "grade": false,
     "grade_id": "cell-8c8867698914d968",
     "locked": false,
     "schema_version": 3,
     "solution": true,
     "task": false
    },
    "tags": []
   },
   "outputs": [],
   "source": [
    "# Create a function that takes a sentence as argument, replaces every \"the\" with a grinning emoji and return the new string\n",
    "def replace_the_with_smile(sentence):\n",
    "    grinning_face = 0x1F600 # regular grinning face\n",
    "    return sentence.replace('the', '😀')\n",
    "          \n",
    "    "
   ]
  },
  {
   "cell_type": "markdown",
   "id": "a248bb96-cf2a-4334-8bc1-f0a0395b4dce",
   "metadata": {},
   "source": [
    "#### Function 3: replace_4_letter_words(sentence)"
   ]
  },
  {
   "cell_type": "code",
   "execution_count": null,
   "id": "01b39829-a3c6-42ab-97f8-b022ec517c6f",
   "metadata": {
    "tags": []
   },
   "outputs": [],
   "source": [
    "replace_the_with_smile('the oiff the')"
   ]
  },
  {
   "cell_type": "code",
   "execution_count": null,
   "id": "1762310d-23c6-442e-ad81-9657b6f99a94",
   "metadata": {
    "deletable": false,
    "nbgrader": {
     "cell_type": "code",
     "checksum": "12bf634d25bd05315cf85c28202bdb11",
     "grade": false,
     "grade_id": "cell-021e1387a8e23754",
     "locked": false,
     "schema_version": 3,
     "solution": true,
     "task": false
    },
    "tags": []
   },
   "outputs": [],
   "source": [
    "# Create a function that takes a sentence as argument, replace every 4-letter word with a different emoji, \n",
    "#starting with the grinning face (0x1F600) and proceeding to the next emoji in order\n",
    "def replace_4_letter_words(sentence):\n",
    "    word_list = ''\n",
    "    for index, word in enumerate(sentence.split()):\n",
    "        if len(sentence) > 35:\n",
    "            if len(word) == 4:\n",
    "                word = '😀'\n",
    "            word_list += word + ' '\n",
    "        else:\n",
    "            if index == 0:\n",
    "                word = '😀'\n",
    "            elif index == 1:\n",
    "                word = '😁'\n",
    "            elif index == 2:\n",
    "                word = '😂'\n",
    "            elif index == 3:\n",
    "                word = '😃'\n",
    "            elif index == 4:\n",
    "                word = '😄'   \n",
    "            word_list += word + ' '\n",
    "    return word_list.rstrip()"
   ]
  },
  {
   "cell_type": "markdown",
   "id": "57a234cd-853e-4ad0-9400-cf681b2e570f",
   "metadata": {
    "tags": []
   },
   "source": [
    "#### Main Program"
   ]
  },
  {
   "cell_type": "code",
   "execution_count": null,
   "id": "a1b5d707-36d8-4a4a-9479-a5729717b250",
   "metadata": {},
   "outputs": [],
   "source": [
    "She 😀 sea shells at the sea shore\n",
    "😀 😁 😂 😃 😄 solution"
   ]
  },
  {
   "cell_type": "code",
   "execution_count": null,
   "id": "e573bd1e-9b83-4e17-b46c-7e9574f80e07",
   "metadata": {
    "tags": []
   },
   "outputs": [],
   "source": [
    "def main():\n",
    "    # read string from user\n",
    "    user_string = input('Enter a long string, please: ')\n",
    "    \n",
    "    # call each function\n",
    "    print('#ADD YOUR CODE HERE')\n",
    "    print('#ADD YOUR CODE HERE')\n",
    "    print('#ADD YOUR CODE HERE')\n",
    "\n",
    "main()"
   ]
  },
  {
   "cell_type": "markdown",
   "id": "0f101a5e-8017-40f6-b7b0-beba19e41fa9",
   "metadata": {},
   "source": [
    "### __Graded Test Cases__"
   ]
  },
  {
   "cell_type": "markdown",
   "id": "6b02c36b-5807-47ce-8248-cc19ddfe314e",
   "metadata": {},
   "source": [
    "The next cell shows how the auto-grading tests are executed.  Several possible cases are run through the function, and the results are tested against that actual correct answer.**If you run the test cell and there is no output, then the tests all passed – Great!**"
   ]
  },
  {
   "cell_type": "code",
   "execution_count": 8,
   "id": "61d2b764-14d3-44e4-804d-eedf4a0c1de4",
   "metadata": {
    "deletable": false,
    "editable": false,
    "nbgrader": {
     "cell_type": "code",
     "checksum": "2fdad27492a88e75f126b5893a045484",
     "grade": true,
     "grade_id": "cell-caf2a2350f99396f",
     "locked": true,
     "points": 3,
     "schema_version": 3,
     "solution": false,
     "task": false
    },
    "tags": []
   },
   "outputs": [],
   "source": [
    "#GRADED TEST CASE 1 : Test your solution with the tests added in this cell\n",
    "sentence_string = \"Big Ben is the nickname for the Great Bell of the Great Clock of Westminster at the north end of the Palace of Westminster in London England\"\n",
    "exp_centered_string = \"    Big    \\n\" + \"    Ben    \\n\" + \"    is     \\n\" + \"    the    \\n\" + \" nickname  \\n\" + \"    for    \\n\" +\"    the    \\n\" + \"   Great   \\n\" + \"   Bell    \\n\" + \"    of     \\n\" + \"    the    \\n\" + \"   Great   \\n\" + \"   Clock   \\n\" + \"    of     \\n\" +  \"Westminster\\n\" +  \"    at     \\n\" +  \"    the    \\n\" + \"   north   \\n\" + \"    end    \\n\" + \"    of     \\n\" + \"    the    \\n\" + \"  Palace   \\n\" + \"    of     \\n\" + \"Westminster\\n\" + \"    in     \\n\" + \"  London   \\n\" + \"  England  \\n\"\n",
    "\n",
    "submission_string = center_vertically(sentence_string)\n",
    "assert submission_string == exp_centered_string, \"Please verify your center_vertically function centers the output based on the longest word.\""
   ]
  },
  {
   "cell_type": "code",
   "execution_count": 9,
   "id": "812467ac-2167-46ee-ac2d-519438bf18fb",
   "metadata": {
    "deletable": false,
    "editable": false,
    "nbgrader": {
     "cell_type": "code",
     "checksum": "5e5d5bd7314015743eaa3f4d8e681f42",
     "grade": true,
     "grade_id": "cell-44d21c604fd0ac5c",
     "locked": true,
     "points": 3,
     "schema_version": 3,
     "solution": false,
     "task": false
    },
    "tags": []
   },
   "outputs": [],
   "source": [
    "#GRADED TEST CASE 2 : Test your solution with the tests added in this cell\n",
    "assert replace_the_with_smile(\"Big Ben is the nickname for the Great Bell of the Great Clock of Westminster at the north end of the Palace of Westminster in London England\") == \"Big Ben is 😀 nickname for 😀 Great Bell of 😀 Great Clock of Westminster at 😀 north end of 😀 Palace of Westminster in London England\", \"Please check your function that replaces 'the' with emojis\"\n",
    "assert replace_the_with_smile(\"the natural source of light on the earth is the sun\") == \"😀 natural source of light on 😀 earth is 😀 sun\", \"Please check your function that replaces 'the' with emojis\"\n",
    "assert replace_the_with_smile(\"Here is a long sentence consisting of some words\") == \"Here is a long sentence consisting of some words\", \"Please check your function that replaces 'the' with emojis\""
   ]
  },
  {
   "cell_type": "code",
   "execution_count": 10,
   "id": "736f86b5-5999-49ad-92f7-a19c6d0dcb0b",
   "metadata": {
    "deletable": false,
    "editable": false,
    "nbgrader": {
     "cell_type": "code",
     "checksum": "411ee585f664417a3e14eca8138a2c7b",
     "grade": true,
     "grade_id": "cell-d48d750b8a64383b",
     "locked": true,
     "points": 4,
     "schema_version": 3,
     "solution": false,
     "task": false
    },
    "tags": []
   },
   "outputs": [
    {
     "ename": "NameError",
     "evalue": "name 'replace_4_letter_words' is not defined",
     "output_type": "error",
     "traceback": [
      "\u001b[0;31m---------------------------------------------------------------------------\u001b[0m",
      "\u001b[0;31mNameError\u001b[0m                                 Traceback (most recent call last)",
      "Cell \u001b[0;32mIn[10], line 3\u001b[0m\n\u001b[1;32m      1\u001b[0m \u001b[38;5;66;03m# GRADED TEST CASE 3 : Test your solution with the tests added in this cell\u001b[39;00m\n\u001b[0;32m----> 3\u001b[0m \u001b[38;5;28;01massert\u001b[39;00m \u001b[43mreplace_4_letter_words\u001b[49m(\u001b[38;5;124m\"\u001b[39m\u001b[38;5;124mThis line will test your solution\u001b[39m\u001b[38;5;124m\"\u001b[39m) \u001b[38;5;241m==\u001b[39m \u001b[38;5;124m\"\u001b[39m\u001b[38;5;124m😀 😁 😂 😃 😄 solution\u001b[39m\u001b[38;5;124m\"\u001b[39m , \u001b[38;5;124m\"\u001b[39m\u001b[38;5;124mNot quite! Please check your solution to the function above\u001b[39m\u001b[38;5;124m\"\u001b[39m\n\u001b[1;32m      4\u001b[0m \u001b[38;5;28;01massert\u001b[39;00m replace_4_letter_words(\u001b[38;5;124m\"\u001b[39m\u001b[38;5;124mShe sell sea shells at the sea shore\u001b[39m\u001b[38;5;124m\"\u001b[39m) \u001b[38;5;241m==\u001b[39m \u001b[38;5;124m\"\u001b[39m\u001b[38;5;124mShe 😀 sea shells at the sea shore\u001b[39m\u001b[38;5;124m\"\u001b[39m , \u001b[38;5;124m\"\u001b[39m\u001b[38;5;124m Not quite ! Please check your solution to the function above\u001b[39m\u001b[38;5;124m\"\u001b[39m\n",
      "\u001b[0;31mNameError\u001b[0m: name 'replace_4_letter_words' is not defined"
     ]
    }
   ],
   "source": [
    "# GRADED TEST CASE 3 : Test your solution with the tests added in this cell\n",
    "\n",
    "assert replace_4_letter_words(\"This line will test your solution\") == \"😀 😁 😂 😃 😄 solution\" , \"Not quite! Please check your solution to the function above\"\n",
    "assert replace_4_letter_words(\"She sell sea shells at the sea shore\") == \"She 😀 sea shells at the sea shore\" , \" Not quite ! Please check your solution to the function above\""
   ]
  },
  {
   "cell_type": "markdown",
   "id": "48c0c3de-3f1f-4bb4-8594-75488693bd03",
   "metadata": {
    "tags": []
   },
   "source": [
    "## Final Steps : Submit your work for Grading"
   ]
  },
  {
   "cell_type": "markdown",
   "id": "f3b7d857-dfdb-48c1-9c59-d993f7bf389b",
   "metadata": {},
   "source": [
    "Great job on your work this week! To receive a final score for your work, please select the \"Submit Assignment\" button at the top of your lab."
   ]
  }
 ],
 "metadata": {
  "kernelspec": {
   "display_name": "Python 3 (ipykernel)",
   "language": "python",
   "name": "python3"
  },
  "language_info": {
   "codemirror_mode": {
    "name": "ipython",
    "version": 3
   },
   "file_extension": ".py",
   "mimetype": "text/x-python",
   "name": "python",
   "nbconvert_exporter": "python",
   "pygments_lexer": "ipython3",
   "version": "3.11.4"
  }
 },
 "nbformat": 4,
 "nbformat_minor": 5
}
