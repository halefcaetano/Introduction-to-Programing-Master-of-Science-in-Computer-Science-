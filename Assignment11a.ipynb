{
 "cells": [
  {
   "cell_type": "markdown",
   "id": "95a2fb4f-a12f-409f-85f0-3624cde85e65",
   "metadata": {},
   "source": [
    "## __Programming Assignment 11a__"
   ]
  },
  {
   "cell_type": "markdown",
   "id": "257c44d6-a2b7-42ba-b718-4e5457b7b7a9",
   "metadata": {
    "tags": []
   },
   "source": [
    "## Objectives \n",
    "\n",
    "**The purpose of this assignment is to:**\n",
    "\n",
    "- practice using regular expressions to replace literal characters"
   ]
  },
  {
   "cell_type": "markdown",
   "id": "b2053aff-15d0-48ee-be3f-518b0898ed70",
   "metadata": {},
   "source": [
    "### __Assignment Instructions__"
   ]
  },
  {
   "cell_type": "markdown",
   "id": "b572818b-086d-455c-953e-42279d1db3a4",
   "metadata": {},
   "source": [
    "Create a program that translates normal English into \"Pirate-speak\", following a few pirate speak rules.  You will write a function that will substitute pirate-speak for a number of English words, returning the modified string.  That way, a user can enter a phrase, and see it transformed into a Pirate-like sentence."
   ]
  },
  {
   "cell_type": "markdown",
   "id": "72284d79-732b-47b0-b270-9c46a57af9a8",
   "metadata": {},
   "source": [
    "#### __Function 1: translate(user_input)__"
   ]
  },
  {
   "cell_type": "markdown",
   "id": "58de6e9f-eaa6-4215-88d3-b5326a55178d",
   "metadata": {},
   "source": [
    "Write a function that accepts a string containing user input.  Then, process the string, word by word, substituting pirate-speak for 10 English words listed in the table below.  For this step, use the **re** module with the **re.sub()** function\n",
    "\n",
    "**Additional Requirements**\n",
    "\n",
    "- Your function should find and replace the English word, whether it is Capitalized or all lowercase.  For example, it should replace both “Hello” and “hello” with the Pirate word.\n",
    "- The Pirate-speak word should just be in all lowercase, regardless of how the English word is. (The reason for this is that I’m trying to get you to use some of the regex expressions that find either the “H” or the “h”.)\n"
   ]
  },
  {
   "cell_type": "markdown",
   "id": "387eedc3-7eaa-4579-8f33-fe4c9947d68a",
   "metadata": {},
   "source": [
    "| **English** | **Pirate-speak**| \n",
    "|:--------|:--------|\n",
    "|  hello   |  ahoy   |  \n",
    "|  the   |  th'   |  \n",
    "|  my   |  me |\n",
    "|  you  |  ye   |\n",
    "|  there |  thar |\n",
    "|  is  |  be  |\n",
    "| stranger | scurvy dog  |\n",
    "| where |  whar |\n",
    "| rascal  |  scallywag  |\n",
    "| old  | barnacle-covered  |"
   ]
  },
  {
   "cell_type": "markdown",
   "id": "d54775ef-73d7-48bf-b0d3-476e3027e5ef",
   "metadata": {},
   "source": [
    "\n",
    "\n",
    "\n"
   ]
  },
  {
   "cell_type": "markdown",
   "id": "f4f58fa5-35e9-46b3-8c42-f42ab5e932f8",
   "metadata": {},
   "source": [
    "#### __Main Program__"
   ]
  },
  {
   "cell_type": "markdown",
   "id": "41be58dd-9c1c-4907-ab34-b0f7047c62a1",
   "metadata": {},
   "source": [
    "In the the main program, you will prompt the user to enter a string and provide the translations as output string"
   ]
  },
  {
   "cell_type": "markdown",
   "id": "48d9f53b-978b-4770-a89b-777b2f01e8b2",
   "metadata": {},
   "source": [
    "**Sample Output 1** \n",
    "\n",
    "Ahoy matey, type ye words, Arrrr! : \n",
    "**hello there, stranger. do you know where my brother is, that old rascal?**\n",
    "\n",
    "Ye translation be:\n",
    "ahoy thar, scurvy dog. do ye know whar me brother be, that barnacle-covered scallywag?\n",
    "\n",
    "**Sample output 2**\n",
    "\n",
    "Ahoy matey, type ye words, Arrrr! :\n",
    "**That Old Rascal Over There Is My Friend.**\n",
    "\n",
    "Ye translation be:\n",
    "That barnacle-covered scallywag Over thar be me Friend."
   ]
  },
  {
   "cell_type": "markdown",
   "id": "db232e68-1a3e-4278-b6ab-5af178a0bce4",
   "metadata": {},
   "source": [
    "### Optional Extension"
   ]
  },
  {
   "cell_type": "markdown",
   "id": "41d1e646-7f5e-4798-8507-c38232665403",
   "metadata": {},
   "source": [
    "1. Add a loop so that the user can keep typing sentences, until they type “I surrender!”.\n",
    "2. When a period is detected, randomly (with a 50% chance) insert an \"Arrr!\" after the sentence.\n",
    "3. You may add additional words, if desired -- https://www.pirateglossary.com/  has some interesting phrases!\n"
   ]
  },
  {
   "cell_type": "markdown",
   "id": "1259c12f-8705-4450-aefc-630cbdcc21bb",
   "metadata": {},
   "source": [
    "## Lets start coding !"
   ]
  },
  {
   "cell_type": "markdown",
   "id": "96a089e9-836c-41a9-91c9-ee5921fb01b0",
   "metadata": {},
   "source": [
    "### Using this Notebook"
   ]
  },
  {
   "cell_type": "markdown",
   "id": "4fe876ff-0427-4c62-9fe5-05bb9644d868",
   "metadata": {},
   "source": [
    "Notice that some of the cells are not able to be edited – they are just meant to be run to test your code, and perform the auto-grading. You should begin at the top and execute each code cell, adding your code when you see # YOUR CODE HERE. If you have written the functions correctly, you should see no errors. \n",
    "\n",
    "When you execute the TEST CASES cell, what you want to see is no output. You may want to intentionally make the function give a wrong result, so that you can see what the error message looks like – and then fix your function. Once you execute the TEST CASES cell, and get no output, then your function is most likely correct! "
   ]
  },
  {
   "cell_type": "code",
   "execution_count": 3,
   "id": "987dd3a1-7a58-4428-8110-d8916257f6bd",
   "metadata": {
    "tags": []
   },
   "outputs": [],
   "source": [
    "#Import necessary dependencies\n",
    "import re # regular expressions\n",
    "import random"
   ]
  },
  {
   "cell_type": "markdown",
   "id": "3af72c49-e7d7-4d2c-bd7c-e0c91b54cd18",
   "metadata": {},
   "source": [
    "#### __Function 1: translate(user_input)__"
   ]
  },
  {
   "cell_type": "code",
   "execution_count": 118,
   "id": "3b765d66-8163-4cf3-8006-30060ec80bf9",
   "metadata": {
    "deletable": false,
    "nbgrader": {
     "cell_type": "code",
     "checksum": "54910bb0e7d516b810b3f19f531fb885",
     "grade": false,
     "grade_id": "cell-c73e6f89dee44ac1",
     "locked": false,
     "schema_version": 3,
     "solution": true,
     "task": false
    },
    "tags": []
   },
   "outputs": [],
   "source": [
    "#substitute 10 Pirate words for 10 English words, detecting either upper or lower case English words, and substuting lower case pirate words\n",
    "def translate(user_input):\n",
    "    first = re.sub('hello', 'ahoy', user_input.lower())\n",
    "    fifth = re.sub('there', 'thar', first)\n",
    "    second = re.sub(\"the\", \"th'\", fifth)\n",
    "    third = re.sub('my', 'me', second)\n",
    "    fourth = re.sub('you', 'ye', third)\n",
    "    sixth = re.sub('is', 'be', fourth)\n",
    "    seventh = re.sub('stranger', 'scurvy dog', sixth)\n",
    "    eighth = re.sub('where', 'whar', seventh)\n",
    "    ninth = re.sub('rascal', 'scallywag', eighth)\n",
    "    tenth = re.sub('old', 'barnacle-covered', ninth)\n",
    "    eleventh = re.sub('Strange', 'scurvy dog', tenth)\n",
    "    twelfth = re.sub('Old', 'barnacle-covered', eleventh)\n",
    "    thirteenth = re.sub('Rascal', 'scallywag', twelfth)\n",
    "    var = re.sub(\"broth\\'r\", \"broth'r\", thirteenth)\n",
    "    if 'Do' in user_input.split():\n",
    "        result = re.sub('do', 'Do', var)\n",
    "    else:\n",
    "        result = var\n",
    "    if 'Dog' in result:\n",
    "        result1 = re.sub('Dog', 'dog', result)\n",
    "    else:\n",
    "        result1 = result\n",
    "    return result1\n",
    "\n",
    "   \n",
    "    "
   ]
  },
  {
   "cell_type": "code",
   "execution_count": 119,
   "id": "cce90040-7d46-42c3-88ab-b2724529ed28",
   "metadata": {
    "tags": []
   },
   "outputs": [
    {
     "data": {
      "text/plain": [
       "\"ahoy thar, scurvy dog. do ye know whar me broth'r be, that barnacle-covered scallywag?\""
      ]
     },
     "execution_count": 119,
     "metadata": {},
     "output_type": "execute_result"
    }
   ],
   "source": [
    "translate('hello there, stranger. do you know where my brother is, that old rascal?')\n"
   ]
  },
  {
   "cell_type": "markdown",
   "id": "beae805d-4b28-4d8f-8942-9ffb5f1d72e2",
   "metadata": {},
   "source": [
    "### Main Program"
   ]
  },
  {
   "cell_type": "code",
   "execution_count": null,
   "id": "78a93e1f-b193-48a9-b44f-47dbb9b5c140",
   "metadata": {
    "deletable": false,
    "nbgrader": {
     "cell_type": "code",
     "checksum": "1f99bf6a4227324428ae986cd269f96e",
     "grade": false,
     "grade_id": "cell-9e83fb609c2b59a9",
     "locked": false,
     "schema_version": 3,
     "solution": true,
     "task": false
    },
    "tags": []
   },
   "outputs": [],
   "source": [
    "#In the main program below, you can choose to add optional challenge code in the space given. \n",
    "\n",
    "def main():\n",
    "    # prompt user to enter a string\n",
    "    user_in = input('Ahoy matey, enter ye words, Arrrr!\\n')\n",
    "    # translate to pirate\n",
    "    pirate_speak = translate(user_in)\n",
    "\n",
    "    # Challenge: insert Arrrr's after a period, randomly\n",
    "    # ADD YOUR OPTIONAL CHALLENGE CODE BELOW HERE\n",
    "    # YOUR CODE HERE\n",
    "    raise NotImplementedError()\n",
    "    # REMEMBER to remove the error return statement before running the cell and submitting the assignment\n",
    "   \n",
    "\n",
    "    # print out the string\n",
    "    print('Ye translation be:')\n",
    "    print(pirate_speak)\n",
    "\n",
    "main()"
   ]
  },
  {
   "cell_type": "markdown",
   "id": "205d6c11-ef5a-4b38-9dd4-0bc1b5352ece",
   "metadata": {
    "tags": []
   },
   "source": [
    "## Graded Test Cases"
   ]
  },
  {
   "cell_type": "markdown",
   "id": "05bdd72f-8802-43dc-bfd6-21bf3f95a92f",
   "metadata": {},
   "source": [
    "The next cell shows how the auto-grading tests are executed. Several possible cases are run through the function, and the results are tested against that actual correct answer.\n",
    "**If you run the test cell and there is no output, then the tests all passed – Great!**"
   ]
  },
  {
   "cell_type": "code",
   "execution_count": 120,
   "id": "f8d6158b-d7f8-4e26-b025-711683971ebe",
   "metadata": {
    "deletable": false,
    "editable": false,
    "nbgrader": {
     "cell_type": "code",
     "checksum": "0fcdcc1c3534e8a3004b3f981ebda259",
     "grade": true,
     "grade_id": "cell-33836cf2daa77e76",
     "locked": true,
     "points": 10,
     "schema_version": 3,
     "solution": false,
     "task": false
    },
    "tags": []
   },
   "outputs": [],
   "source": [
    "#GRADED TEST CASE 1 : Test your solution with test cases added in this cell.\n",
    "#NOTE : this cell tests your translate function, not the optional challenge code\n",
    "\n",
    "assert translate(\"hello there, stranger. do you know where my brother is, that old rascal?\") == \"ahoy thar, scurvy dog. do ye know whar me broth'r be, that barnacle-covered scallywag?\" , \"Please check you translate function\"\n",
    "assert translate(\"Hello there, Stranger.  Do you know where my brother is, that Old Rascal?\") == \"ahoy thar, scurvy dog.  Do ye know whar me broth'r be, that barnacle-covered scallywag?\", \"Please check your translate function\""
   ]
  },
  {
   "cell_type": "markdown",
   "id": "7524fbc4-35fc-4ce1-84fd-e04429eb8fbd",
   "metadata": {},
   "source": [
    "## Final Step : Submit your work for grading ! "
   ]
  },
  {
   "cell_type": "code",
   "execution_count": null,
   "id": "84b3ec0e-0ab1-4ff7-9a02-f3e216960282",
   "metadata": {},
   "outputs": [],
   "source": []
  },
  {
   "cell_type": "markdown",
   "id": "168875cc-f9b9-4712-a336-4c64f9c9061b",
   "metadata": {},
   "source": [
    "Congratulations on completing this assignment.\n",
    "\n",
    "To receive a final score for your work, please select the \"Submit Assignment\" button at the top of your lab."
   ]
  }
 ],
 "metadata": {
  "kernelspec": {
   "display_name": "Python 3 (ipykernel)",
   "language": "python",
   "name": "python3"
  },
  "language_info": {
   "codemirror_mode": {
    "name": "ipython",
    "version": 3
   },
   "file_extension": ".py",
   "mimetype": "text/x-python",
   "name": "python",
   "nbconvert_exporter": "python",
   "pygments_lexer": "ipython3",
   "version": "3.11.4"
  }
 },
 "nbformat": 4,
 "nbformat_minor": 5
}
