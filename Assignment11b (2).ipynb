{
 "cells": [
  {
   "cell_type": "markdown",
   "id": "038dab6b-cef5-442c-9ba1-2b38ccc3d21c",
   "metadata": {},
   "source": [
    "# Programming Assignment 11b"
   ]
  },
  {
   "cell_type": "markdown",
   "id": "d21d5d96-df8f-460a-bf9f-04b0750f4d02",
   "metadata": {},
   "source": [
    "## Objectives \n",
    "\n",
    "**The purpose of this assignment is to:**\n",
    "\n",
    "- Revise how to open a file \n",
    "\n",
    "- Examine the data contained in a webpage\n",
    "\n",
    "- Use the re package to extract interesting information, using **re.search() .group() and .findall()**"
   ]
  },
  {
   "cell_type": "markdown",
   "id": "75f252cd-85de-4469-bcef-34ac445f2863",
   "metadata": {},
   "source": [
    "## Assignment Instructions"
   ]
  },
  {
   "cell_type": "markdown",
   "id": "afad7c2c-649f-4e8c-85eb-408fa0e577a0",
   "metadata": {},
   "source": [
    "In this week's assignment, we will use regular expressions to extract data. Check out this [webpage](https://www.bsu.edu/academics/collegesanddepartments/online/academic-programs/masters/ms-data-science) about the Ball State Data Science Master's program.  Notice that there are a few phone numbers here and there.  There are also zip codes on this page. We will be extracting this data. \n",
    "\n",
    "For this purpose, we have added a file named **MSDSwebpage.txt** in this lab. It is an HTML file for the webpage, but the extension has been changed to \".txt\" to make it easier for you to view it on your computer using a program like Notepad or TextEdit."
   ]
  },
  {
   "cell_type": "markdown",
   "id": "d0917ab8-5c3f-4c96-8f10-ab811354898d",
   "metadata": {},
   "source": [
    "### Function 1: process_webpage(filename)"
   ]
  },
  {
   "cell_type": "markdown",
   "id": "2f9d7d23-a19f-4fb1-80ac-cf7ab8803a0e",
   "metadata": {},
   "source": [
    "Write a function that accepts the name of a file as a string, opens the file, and returns the entire contents of the file as a string.  \n",
    "\n",
    "Your functions should include error handling, and if the file does not exist in the directory (for example, named “doesnotexist.txt”), it should return the string “There is no file named doesnotexist.txt in this directory.”\n"
   ]
  },
  {
   "cell_type": "markdown",
   "id": "edf74aee-e8d2-4b68-9a0a-5f422d43cec1",
   "metadata": {
    "tags": []
   },
   "source": [
    "##### Function 1 : Hints"
   ]
  },
  {
   "cell_type": "markdown",
   "id": "14915db3-94c6-4e8c-b640-56a72b4b7ba7",
   "metadata": {},
   "source": [
    "Check the programming assignment for Module 8.  You’ll need a similar structure."
   ]
  },
  {
   "cell_type": "markdown",
   "id": "f533f064-f009-406e-92e2-0f5bb3c126e7",
   "metadata": {},
   "source": [
    "### Function 2: get_phone_numbers(web_string)"
   ]
  },
  {
   "cell_type": "markdown",
   "id": "dadfafa3-c975-46ae-8942-64593b7515b6",
   "metadata": {},
   "source": [
    "Write a function that accepts a string named **web_string**, which contains the contents previously extracted from the file by function 1.  This function should then extract phone numbers and return a list of these numbers."
   ]
  },
  {
   "cell_type": "markdown",
   "id": "e6b7c4cb-41da-4a17-b194-28855b1532bc",
   "metadata": {
    "tags": []
   },
   "source": [
    "##### Function 2 : Hints"
   ]
  },
  {
   "cell_type": "markdown",
   "id": "6cea9c76-03f1-4e72-b10a-f40cd4f1cc83",
   "metadata": {},
   "source": [
    "- There are several ways to solve this problem.  One way is to use split() to split the input string into separate lines (use ‘\\n’ with split), and then process them with a for loop.\n",
    "- Be careful, as there may be more than one phone number found on a single line.  You may want to consider using re.findall() instead of re.search()."
   ]
  },
  {
   "cell_type": "markdown",
   "id": "78eae69a-d875-4907-b9af-a1c60e789871",
   "metadata": {},
   "source": [
    "### Function 3: get_5digit_nums(web_string)"
   ]
  },
  {
   "cell_type": "markdown",
   "id": "6c36388f-69e4-44f6-9f18-88789397258f",
   "metadata": {},
   "source": [
    "Write a function that accepts a string named **web_string**, which contains the contents previously extracted from the file by function 1.  This function should then extract all sets of 5 digit numbers (similar to zip codes) that are found in the file, returning a list of these numbers.\n"
   ]
  },
  {
   "cell_type": "markdown",
   "id": "2e428e43-c40b-4e13-b1f0-de6cafdc2e33",
   "metadata": {
    "tags": []
   },
   "source": [
    "##### Function 3 : Hints"
   ]
  },
  {
   "cell_type": "markdown",
   "id": "457553bb-2075-42f7-962e-7bb2cd60a4c9",
   "metadata": {},
   "source": [
    "This function will be very similar to function 2.  Note, however, that what is found are not actually zip codes, but instead other numbers that are found in the file."
   ]
  },
  {
   "cell_type": "markdown",
   "id": "67bb79a1-c78d-440f-b94d-ab1bdcfc1ec7",
   "metadata": {},
   "source": [
    "### Main Program "
   ]
  },
  {
   "cell_type": "markdown",
   "id": "7ade4bc4-f252-4e67-a0c6-ba8ffd7debd9",
   "metadata": {},
   "source": [
    "For main program, we put all the 3 functions together. The code has been provided for you. \n",
    "Feel free to modify the code in main to further your understanding, but be sure that the three functions meet the requirements listed above."
   ]
  },
  {
   "cell_type": "markdown",
   "id": "06b828e8-f114-4e14-be04-f9ced1f4e6d4",
   "metadata": {},
   "source": [
    "**Sample output**\n",
    "\n",
    "This file has the following items which may be phone numbers:\n",
    "['800-872-0369', '765-285-1581', '800-382-8540', '765-289-1241']\n",
    "\n",
    "\n",
    "This file has the following items which may be zip codes:\n",
    "['00000', '00027', '96131', '16889', '11509', '16889', '11509', '00000', '00027', '00000', '00027', '15000', '63819', '31467', '60000', '63819', '31467', '60000', '63824', '17040', '20000', '63819', '31467', '40000', '63819', '31467', '60000', '63819', '31467', '60000', '63819', '31467', '60000', '63819', '31467', '60000', '11231', '66518', '12688', '76216', '23035', '40962', '54040', '16910', '72141', '49343', '63781', '44737', '46327', '49337', '49337', '49593', '00000', '00027', '35444', '11390', '36676', '35444', '09228', '81842', '22913', '66779', '66779', '66779', '49098', '66779', '66779', '70777', '43222', '64935', '62174', '47014', '70777', '43222', '64935', '62174', '47014', '62174', '47014', '62174', '47014', '62174', '47014', '54617', '68547', '57145', '70777', '43222', '64935', '54617', '68547', '57145', '54617', '68547', '57145', '54617', '68547', '57145', '54617', '68547', '57145', '90600', '70777', '43222', '64935', '90600', '90600', '90600', '90600', '95714', '28846', '70777', '43222', '64935', '95714', '28846', '95714', '28846', '95714', '28846', '95714', '28846', '77887', '80123', '49186', '70777', '43222', '64935', '77887', '80123', '49186', '77887', '80123', '49186', '77887', '80123', '49186', '77887', '80123', '49186', '63819', '31467', '60000', '47306', '47306']\n"
   ]
  },
  {
   "cell_type": "markdown",
   "id": "11d4418e-80e4-4a96-bb71-0f4a91d4d877",
   "metadata": {},
   "source": [
    "## Let's Start Coding!"
   ]
  },
  {
   "cell_type": "markdown",
   "id": "9e91f913-0eb8-478d-966d-ea4484de5433",
   "metadata": {
    "tags": []
   },
   "source": [
    "### Using this Notebook"
   ]
  },
  {
   "cell_type": "markdown",
   "id": "d50e661a-022c-445c-ac94-cb948eb71868",
   "metadata": {},
   "source": [
    "Notice that some of the cells are not able to be edited – they are just meant to be run to test your code, and perform the auto-grading. You should begin at the top and execute each code cell, adding your code when you see # YOUR CODE HERE. If you have written the functions correctly, you should see no errors. \n",
    "\n",
    "When you execute the TEST CASES cell, what you want to see is no output. You may want to intentionally make the function give a wrong result, so that you can see what the error message looks like – and then fix your function. Once you execute the TEST CASES cell, and get no output, then your function is most likely correct! "
   ]
  },
  {
   "cell_type": "code",
   "execution_count": 10,
   "id": "11af8e94-5777-4c43-bed1-5849abf8198e",
   "metadata": {
    "tags": []
   },
   "outputs": [],
   "source": [
    "# Install required dependencies \n",
    "import re, inspect\n"
   ]
  },
  {
   "cell_type": "markdown",
   "id": "39fa5e57-d4f4-4d49-a66c-306b88be921d",
   "metadata": {},
   "source": [
    "#### Function 1: process_webpage(filename)"
   ]
  },
  {
   "cell_type": "code",
   "execution_count": 9,
   "id": "193a6579-b3fa-4f19-af8d-ec20e0b7fe65",
   "metadata": {
    "deletable": false,
    "nbgrader": {
     "cell_type": "code",
     "checksum": "dc9ddcd1a97aeab9a80d829e2401e385",
     "grade": false,
     "grade_id": "cell-9e602afcafd65048",
     "locked": false,
     "schema_version": 3,
     "solution": true,
     "task": false
    },
    "tags": []
   },
   "outputs": [],
   "source": [
    "def process_webpage(file_name):\n",
    "    ''' open file named filename and read all contents into a single string, \n",
    "        returning the string '''\n",
    "    try:\n",
    "        with open(file_name, 'r') as datafile:\n",
    "            content = ''\n",
    "            line_list = datafile.readlines()\n",
    "            for i in line_list:\n",
    "                content += i\n",
    "        return content\n",
    "    except FileNotFoundError:\n",
    "        return f\"There is no file named {file_name} in this directory.\"\n",
    "        "
   ]
  },
  {
   "cell_type": "markdown",
   "id": "1c05fe17-b479-4366-b752-5a745903c731",
   "metadata": {},
   "source": [
    "####  Function 2: get_phone_numbers(web_string)"
   ]
  },
  {
   "cell_type": "code",
   "execution_count": 11,
   "id": "f44e005e-388e-40ff-922f-4fa09d01693d",
   "metadata": {
    "deletable": false,
    "nbgrader": {
     "cell_type": "code",
     "checksum": "1f0cc49e995effbc8cb552ddd940b9fe",
     "grade": false,
     "grade_id": "cell-9828bc958fbc5bd1",
     "locked": false,
     "schema_version": 3,
     "solution": true,
     "task": false
    },
    "tags": []
   },
   "outputs": [],
   "source": [
    "def get_phone_numbers(web_string):\n",
    "    ''' processed the web_string and extract phone numbers, returning a list of numbers '''\n",
    "    contents = ''\n",
    "    for i in web_string:\n",
    "        contents += i \n",
    "    r = re.compile(r'\\d\\d\\d-\\d\\d\\d-\\d\\d\\d\\d')\n",
    "    results = r.findall(contents)\n",
    "    return results"
   ]
  },
  {
   "cell_type": "markdown",
   "id": "470069fa-7461-4482-a51a-1cd76032f12b",
   "metadata": {},
   "source": [
    "#### Function 3: get_5digit_nums(web_string)"
   ]
  },
  {
   "cell_type": "code",
   "execution_count": 15,
   "id": "ded46a5e-9238-4651-ad92-f73c05cb5061",
   "metadata": {
    "deletable": false,
    "nbgrader": {
     "cell_type": "code",
     "checksum": "605bcbee708ed24afdd00e517a1d5b17",
     "grade": false,
     "grade_id": "cell-7d10da9d6bf30ae0",
     "locked": false,
     "schema_version": 3,
     "solution": true,
     "task": false
    },
    "tags": []
   },
   "outputs": [],
   "source": [
    "def get_5digit_nums(web_string): \n",
    "    ''' take the string and extract 5 digit numbers, similar to zipcodes  '''\n",
    "    contents = ''\n",
    "    for i in web_string:\n",
    "        contents += i \n",
    "    r = re.compile(r'\\d\\d\\d\\d\\d')\n",
    "    results = r.findall(contents)\n",
    "    return results"
   ]
  },
  {
   "cell_type": "markdown",
   "id": "5427e4e2-3577-4084-ba77-be827163a300",
   "metadata": {},
   "source": [
    "## Testing your code with the Main program"
   ]
  },
  {
   "cell_type": "markdown",
   "id": "f1ce5025-32e2-4961-813f-98f4bcb9b17b",
   "metadata": {},
   "source": [
    "The main program has been provided for you, to use in testing. Feel free to modify the code in main to further your understanding, but be sure that the three functions meet the requirements listed above.\n",
    "\n",
    "Note : Do not change the variable names in the main() function below as they can impact the graded test cases."
   ]
  },
  {
   "cell_type": "code",
   "execution_count": 16,
   "id": "a162c308-b632-4e40-9653-b2ebaa96959a",
   "metadata": {
    "tags": []
   },
   "outputs": [
    {
     "name": "stdout",
     "output_type": "stream",
     "text": [
      "This file has the following items which may be phone numbers:\n",
      "['800-872-0369', '765-285-1581', '800-382-8540', '765-289-1241']\n",
      "This file has the following items which may be zip codes:\n",
      "['00000', '00027', '96131', '16889', '11509', '16889', '11509', '00000', '00027', '00000', '00027', '15000', '63819', '31467', '60000', '63819', '31467', '60000', '63824', '17040', '20000', '63819', '31467', '40000', '63819', '31467', '60000', '63819', '31467', '60000', '63819', '31467', '60000', '63819', '31467', '60000', '11231', '66518', '12688', '76216', '23035', '40962', '54040', '16910', '72141', '49343', '63781', '44737', '46327', '49337', '49337', '49593', '00000', '00027', '35444', '11390', '36676', '35444', '09228', '81842', '22913', '66779', '66779', '66779', '49098', '66779', '66779', '70777', '43222', '64935', '62174', '47014', '70777', '43222', '64935', '62174', '47014', '62174', '47014', '62174', '47014', '62174', '47014', '54617', '68547', '57145', '70777', '43222', '64935', '54617', '68547', '57145', '54617', '68547', '57145', '54617', '68547', '57145', '54617', '68547', '57145', '90600', '70777', '43222', '64935', '90600', '90600', '90600', '90600', '95714', '28846', '70777', '43222', '64935', '95714', '28846', '95714', '28846', '95714', '28846', '95714', '28846', '77887', '80123', '49186', '70777', '43222', '64935', '77887', '80123', '49186', '77887', '80123', '49186', '77887', '80123', '49186', '77887', '80123', '49186', '63819', '31467', '60000', '47306', '47306']\n",
      "\n",
      "Returning first 50 characters of the file :\n"
     ]
    },
    {
     "data": {
      "text/plain": [
       "'\\n\\n<!DOCTYPE html>\\n<html lang=\"en\">\\n  <head id=\"Hea'"
      ]
     },
     "execution_count": 16,
     "metadata": {},
     "output_type": "execute_result"
    }
   ],
   "source": [
    "def main():\n",
    "    main.web_text = process_webpage('MSDSwebsite.txt')\n",
    "    main.phone_numbers = get_phone_numbers(main.web_text)\n",
    "    main.fivedigit_nums = get_5digit_nums(main.web_text)\n",
    "    print('This file has the following items which may be phone numbers:')\n",
    "    print(main.phone_numbers)\n",
    "    print('This file has the following items which may be zip codes:')\n",
    "    print(main.fivedigit_nums)\n",
    "    \n",
    "    #returning the first 50 characters of the content\n",
    "    print(\"\\nReturning first 50 characters of the file :\")\n",
    "    return(main.web_text[0:50])\n",
    "\n",
    "main()\n",
    "\n"
   ]
  },
  {
   "cell_type": "markdown",
   "id": "61b55174-4450-4033-b0ac-c963c1757e06",
   "metadata": {},
   "source": [
    "## Graded Test Cases "
   ]
  },
  {
   "cell_type": "markdown",
   "id": "a5e96f97-4c4c-46f7-a4f3-f72451ba67bd",
   "metadata": {},
   "source": [
    "The next cells shows how the auto-grading tests are executed. Several possible cases are run through the function, and the results are tested against that actual correct answer.\n",
    "**If you run the test cell and there is no output, then the tests all passed – Great!**"
   ]
  },
  {
   "cell_type": "code",
   "execution_count": 17,
   "id": "69d2f488-dd4c-4747-a023-091a61b50bdd",
   "metadata": {
    "deletable": false,
    "editable": false,
    "nbgrader": {
     "cell_type": "code",
     "checksum": "0b304e6e76ebd9e4392da3d9f3afa104",
     "grade": true,
     "grade_id": "cell-ae95d54b3be13d1a",
     "locked": true,
     "points": 4,
     "schema_version": 3,
     "solution": false,
     "task": false
    },
    "tags": []
   },
   "outputs": [
    {
     "name": "stdout",
     "output_type": "stream",
     "text": [
      "This file has the following items which may be phone numbers:\n",
      "['800-872-0369', '765-285-1581', '800-382-8540', '765-289-1241']\n",
      "This file has the following items which may be zip codes:\n",
      "['00000', '00027', '96131', '16889', '11509', '16889', '11509', '00000', '00027', '00000', '00027', '15000', '63819', '31467', '60000', '63819', '31467', '60000', '63824', '17040', '20000', '63819', '31467', '40000', '63819', '31467', '60000', '63819', '31467', '60000', '63819', '31467', '60000', '63819', '31467', '60000', '11231', '66518', '12688', '76216', '23035', '40962', '54040', '16910', '72141', '49343', '63781', '44737', '46327', '49337', '49337', '49593', '00000', '00027', '35444', '11390', '36676', '35444', '09228', '81842', '22913', '66779', '66779', '66779', '49098', '66779', '66779', '70777', '43222', '64935', '62174', '47014', '70777', '43222', '64935', '62174', '47014', '62174', '47014', '62174', '47014', '62174', '47014', '54617', '68547', '57145', '70777', '43222', '64935', '54617', '68547', '57145', '54617', '68547', '57145', '54617', '68547', '57145', '54617', '68547', '57145', '90600', '70777', '43222', '64935', '90600', '90600', '90600', '90600', '95714', '28846', '70777', '43222', '64935', '95714', '28846', '95714', '28846', '95714', '28846', '95714', '28846', '77887', '80123', '49186', '70777', '43222', '64935', '77887', '80123', '49186', '77887', '80123', '49186', '77887', '80123', '49186', '77887', '80123', '49186', '63819', '31467', '60000', '47306', '47306']\n",
      "\n",
      "Returning first 50 characters of the file :\n"
     ]
    }
   ],
   "source": [
    "#GRADED TEST CASE 1a : Checking if the Correct file is processed \n",
    "errorCheck = False\n",
    "error_statement = \"There is no file\"\n",
    "\n",
    "#calling the main function to get the output\n",
    "results = main()\n",
    "if error_statement in results:\n",
    "    errorCheck = False\n",
    "else:\n",
    "    errorCheck = True\n",
    "\n",
    "assert errorCheck, \"It seems like you have used an incorrect file. Please check if you have processed the correct file! \" "
   ]
  },
  {
   "cell_type": "code",
   "execution_count": 18,
   "id": "6c0144b2-c9b8-433a-bcd8-c64f37c53f34",
   "metadata": {
    "deletable": false,
    "editable": false,
    "nbgrader": {
     "cell_type": "code",
     "checksum": "01a5ca72df4fa4b4397b0c5044478edd",
     "grade": true,
     "grade_id": "cell-b5f6d9af3526cd08",
     "locked": true,
     "points": 1,
     "schema_version": 3,
     "solution": false,
     "task": false
    },
    "tags": []
   },
   "outputs": [],
   "source": [
    "#GRADED TEST CASE 1b : Checking if an incorrect file is caught or processed\n",
    "#In this cell , we are checking whether the function raises an error when an incorrect file is passed to it\n",
    "error_check = bool\n",
    "error_statement = \"There is no file\"\n",
    "file_name = \"SomeFile.txt\"\n",
    "results = process_webpage(file_name)\n",
    "\n",
    "if error_statement in results:\n",
    "    error_check = True\n",
    "else :\n",
    "    error_check = False\n",
    "\n",
    "\n",
    "assert error_check, \" Please check if you have processed the file correctly! \" \n"
   ]
  },
  {
   "cell_type": "code",
   "execution_count": 19,
   "id": "20c272ad-40f9-4751-b7b8-cbd99ae85ba2",
   "metadata": {
    "deletable": false,
    "editable": false,
    "nbgrader": {
     "cell_type": "code",
     "checksum": "382a996b4d947359b5e2e8aeac443f96",
     "grade": true,
     "grade_id": "cell-3fdc9f0409dddf9b",
     "locked": true,
     "points": 5,
     "schema_version": 3,
     "solution": false,
     "task": false
    },
    "tags": []
   },
   "outputs": [],
   "source": [
    "#GRADED TEST CASE 2 : Checking if a list of numbers is extracted from the file\n",
    "\n",
    "error_check = False\n",
    "result_list = ['800-872-0369', '765-285-1581', '800-382-8540', '765-289-1241']\n",
    "\n",
    "if result_list == main.phone_numbers :\n",
    "    error_check = True\n",
    "else :\n",
    "    error_check = False\n",
    "    \n",
    "assert error_check, \"Please check your function and make sure you are processing the right file\""
   ]
  },
  {
   "cell_type": "code",
   "execution_count": 20,
   "id": "d7bbac3b-c0f5-48d3-aa5b-1b487cc2a914",
   "metadata": {
    "deletable": false,
    "editable": false,
    "nbgrader": {
     "cell_type": "code",
     "checksum": "8c5d9ce4f9a0db7c8234f30c2e74ec3a",
     "grade": true,
     "grade_id": "cell-16e3c2b19214f119",
     "locked": true,
     "points": 5,
     "schema_version": 3,
     "solution": false,
     "task": false
    },
    "tags": []
   },
   "outputs": [],
   "source": [
    "#GRADED TEST CASE 3 : Checking if only 5-digit numberic data is extracted from the file\n",
    "\n",
    "error_check_regex = bool\n",
    "error_check_len = bool \n",
    "\n",
    "#using a list of correct 5-digit numbers similar to zipcodes\n",
    "expected_pincodes = ['00000' , '76216', '22913', '66779', '47306']\n",
    "\n",
    "#using a list of incorrect outputs to test \n",
    "incorrect_pincodes = [ 'B2345' , '555555' ,'200' ,'XB345']\n",
    "\n",
    "function_result = main.fivedigit_nums\n",
    "\n",
    "check = all(items in function_result for items in incorrect_pincodes)\n",
    "\n",
    "#Test for checking the regex used in the function\n",
    "if check is True :\n",
    "    error_check_regex = False\n",
    "else :\n",
    "    error_check_regex = True\n",
    "    \n",
    "#Test case to check the length of each extracted number\n",
    "for each_zipcode in function_result :\n",
    "    if len(each_zipcode) != 5 :\n",
    "        error_check_len = False\n",
    "    else :\n",
    "        error_check_len = True\n",
    "        \n",
    "\n",
    "assert error_check_regex , \"Please check your function. Make sure you are extracting from the right file and only numeric codes are extracted\"\n",
    "assert error_check_len , \"Please check your function. Make sure you are extracting from the right file and only 5-digit numbers are extracted\""
   ]
  },
  {
   "cell_type": "markdown",
   "id": "67ba6c59-e82b-458b-8325-07b985d0a50a",
   "metadata": {},
   "source": [
    "## Submit your Work for Grading"
   ]
  },
  {
   "cell_type": "markdown",
   "id": "20183e43-0442-4fc0-a41b-b26d05c7bd75",
   "metadata": {},
   "source": [
    "Congratulations on completing this assignment.\n",
    "\n",
    "To receive a final score for your work, please select the \"Submit Assignment\" button at the top of your lab."
   ]
  }
 ],
 "metadata": {
  "kernelspec": {
   "display_name": "Python 3 (ipykernel)",
   "language": "python",
   "name": "python3"
  },
  "language_info": {
   "codemirror_mode": {
    "name": "ipython",
    "version": 3
   },
   "file_extension": ".py",
   "mimetype": "text/x-python",
   "name": "python",
   "nbconvert_exporter": "python",
   "pygments_lexer": "ipython3",
   "version": "3.11.4"
  }
 },
 "nbformat": 4,
 "nbformat_minor": 5
}
