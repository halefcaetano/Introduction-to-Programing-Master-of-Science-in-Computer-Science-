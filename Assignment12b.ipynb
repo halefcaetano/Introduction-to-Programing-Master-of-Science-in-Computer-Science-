{
 "cells": [
  {
   "cell_type": "markdown",
   "id": "7d72a21c-52bc-448a-8931-54bcad8302b7",
   "metadata": {},
   "source": [
    "# Programming Assignment 12b"
   ]
  },
  {
   "cell_type": "markdown",
   "id": "140bcba3-ea14-4441-b516-35543e23eceb",
   "metadata": {},
   "source": [
    "## Assignment Instructions"
   ]
  },
  {
   "cell_type": "markdown",
   "id": "fa7e56f5-00f2-4498-96b4-ef3ec55341a2",
   "metadata": {
    "tags": []
   },
   "source": [
    "This program asks the user to enter a sentence, verifying that only one sentence was entered.   \n",
    "Then, it performs a sentiment analysis on the sentence, using both the `TextBlob` default sentiment analyzer and the `NaiveBayesAnalyzer`.  \n",
    "\n",
    "For the default sentiment analyzer, it will print out one of 5 emoji characters, in the range of 😀 🙂 😐 🙁 😟  where the sentiments are in the ranges: \n",
    "\n",
    "* 1.0 and 0.6 means 😀 \n",
    "\n",
    "* 0.6 and 0.35 means 🙂 \n",
    "\n",
    "* 0.35 and -0.35 means 😐  \n",
    "\n",
    "* -0.35 and -0.6 means 🙁  \n",
    "\n",
    "* -0.6 and -1.0 means 😟 \n",
    "\n",
    "For the `NaiveBayesAnalyzer`, it will just print a happy face 😀 or a sad face 😟, for positive and negative sentiments, respectively. \n",
    "\n",
    "As usual, a simple main program is provided.  You will write the three functions called by main().  (Your grade for this assignment is based on the performance of these three functions.).   \n",
    "Closely examine the sample output below to determine the functionally required. "
   ]
  },
  {
   "cell_type": "markdown",
   "id": "c663d14a-f174-4019-96f0-a90e21683a16",
   "metadata": {
    "tags": []
   },
   "source": [
    "#### Sample Outputs\n"
   ]
  },
  {
   "cell_type": "markdown",
   "id": "86350c58-e333-4ee1-949d-d895018916dd",
   "metadata": {
    "tags": []
   },
   "source": [
    "**Sample Output 1:**  \n",
    "Please enter a single sentence: \n",
    "\n",
    "**User Input:** Today is a great day! \n",
    "\n",
    "Default sentiment analyzer reports:   \n",
    "Polarity: 1.0 😀   \n",
    "NaiveBayesAnalyzer reports:   \n",
    "Polarity: 😀 positive   "
   ]
  },
  {
   "cell_type": "markdown",
   "id": "5412288b-812c-485a-929f-a7798e57d6a0",
   "metadata": {
    "tags": []
   },
   "source": [
    "**Sample Output 2:**  \n",
    "Please enter a single sentence.  \n",
    "\n",
    "**User Input:** Today is an ok day.   \n",
    "\n",
    "Default sentiment analyzer reports:   \n",
    "Polarity: 0.5 🙂   \n",
    "NaiveBayesAnalyzer reports:   \n",
    "Polarity: 😀 positive   "
   ]
  },
  {
   "cell_type": "markdown",
   "id": "5968eb64-df2e-4baf-8d57-d5f412f4cce2",
   "metadata": {
    "tags": []
   },
   "source": [
    "**Sample Output 3:**  \n",
    "Please enter a single sentence. \n",
    "\n",
    "**User Input:**  Today is a day. \n",
    "\n",
    "Default sentiment analyzer reports:   \n",
    "Polarity: 0.0 😐   \n",
    "NaiveBayesAnalyzer reports:   \n",
    "Polarity: 😀 positive   "
   ]
  },
  {
   "cell_type": "markdown",
   "id": "ed00913a-e919-4aba-a238-01d2412b4b7f",
   "metadata": {
    "tags": []
   },
   "source": [
    "**Sample Output 4:**    \n",
    "Please enter a single sentence.   \n",
    "\n",
    "**User Input:** Today is a lousy day.   \n",
    "\n",
    "Default sentiment analyzer reports:   \n",
    "Polarity: -0.5 🙁   \n",
    "NaiveBayesAnalyzer reports:   \n",
    "Polarity: 😟 negative   \n"
   ]
  },
  {
   "cell_type": "markdown",
   "id": "d4eeeec7-a81c-4afe-9c79-1cdf3dd18421",
   "metadata": {
    "tags": []
   },
   "source": [
    "**Sample Output 5:**  \n",
    "Please enter a single sentence.   \n",
    "\n",
    "**User Input:** Today was a terrible day.   \n",
    "\n",
    "Default sentiment analyzer reports:   \n",
    "Polarity: -1.0 😟   \n",
    "NaiveBayesAnalyzer reports:   \n",
    "Polarity: 😟 negative   \n"
   ]
  },
  {
   "cell_type": "markdown",
   "id": "534baf37-7e1e-4887-8986-be1f0a8182e0",
   "metadata": {},
   "source": [
    "**Sample Output 6:**  \n",
    "Please enter a single sentence.   \n",
    "\n",
    "**User Input:** Today was a day. Tomorrow is another one.   \n",
    " \n",
    "You entered more than one sentence. "
   ]
  },
  {
   "cell_type": "markdown",
   "id": "e10511f7-edcf-4aed-a81c-03038ae8705b",
   "metadata": {
    "tags": []
   },
   "source": [
    "**Sample Output 7:**  \n",
    "Please enter a single sentence.   \n",
    "\n",
    "**User Input:** Today was an amazing day!  Hopefully, tomorrow will also be great. \n",
    " \n",
    "You entered more than one sentence. \n"
   ]
  },
  {
   "cell_type": "markdown",
   "id": "c8a6ba59-d628-4bbb-9a06-7bf0ef55cacb",
   "metadata": {
    "tags": []
   },
   "source": [
    "## Let's start coding!"
   ]
  },
  {
   "cell_type": "markdown",
   "id": "39532d65-9907-4a07-afae-8f6ed57a100f",
   "metadata": {
    "tags": []
   },
   "source": [
    "#### Using this Notebook "
   ]
  },
  {
   "cell_type": "markdown",
   "id": "6a8c2887-c13e-48f4-a6d5-be6d7e86177f",
   "metadata": {
    "tags": []
   },
   "source": [
    "Notice that some of the cells are not able to be edited – they are just meant to be run to test your code, and perform the auto grading. You should begin at the top and execute each code cell, adding your code when you see # YOUR CODE HERE.  \n",
    "If you have written the functions correctly, you should see no errors.\n",
    "\n",
    "When you execute the TEST CASES cell, what you want to see is no output. You may want to intentionally make the function give a wrong result, so that you can see what the error message looks like – and then fix your function.   \n",
    "Once you execute the TEST CASES cell, and get no output, then your function is most likely correct!"
   ]
  },
  {
   "cell_type": "code",
   "execution_count": 2,
   "id": "77996c36-460c-47d0-8f45-f6760469b6dd",
   "metadata": {
    "deletable": false,
    "editable": false,
    "nbgrader": {
     "cell_type": "code",
     "checksum": "2b9c7570673bd48c585dff1748189f02",
     "grade": false,
     "grade_id": "cell-03d9b7788c0bebf2",
     "locked": true,
     "schema_version": 3,
     "solution": false,
     "task": false
    },
    "tags": []
   },
   "outputs": [],
   "source": [
    "import nltk\n",
    "from textblob import TextBlob\n",
    "from textblob.sentiments import NaiveBayesAnalyzer"
   ]
  },
  {
   "cell_type": "markdown",
   "id": "6ce92287-24fe-465f-98a8-31674d168340",
   "metadata": {},
   "source": [
    "### Step 1: Write function num_sentences()"
   ]
  },
  {
   "cell_type": "code",
   "execution_count": 13,
   "id": "3e9cc52d-2676-4568-afc0-cad192c99c9a",
   "metadata": {
    "deletable": false,
    "nbgrader": {
     "cell_type": "code",
     "checksum": "98e984a33bc405aa53fb8d18a82b6052",
     "grade": false,
     "grade_id": "cell-44a0994fc0d12898",
     "locked": false,
     "schema_version": 3,
     "solution": true,
     "task": false
    },
    "tags": []
   },
   "outputs": [],
   "source": [
    "### GRADED FUNCTION: Write the function \"num_sentences\"\n",
    "\n",
    "def num_sentences(text):\n",
    "    blob = TextBlob(text)\n",
    "    return len(blob.sentences)"
   ]
  },
  {
   "cell_type": "code",
   "execution_count": 9,
   "id": "5127b20f-af1f-4548-b8e1-644ac25aa427",
   "metadata": {
    "tags": []
   },
   "outputs": [
    {
     "name": "stdout",
     "output_type": "stream",
     "text": [
      "3\n"
     ]
    }
   ],
   "source": [
    "## Try out your function \n",
    "text = 'This is sentence one. This is sentence two. There should be three sentences'\n",
    "print(num_sentences(text))"
   ]
  },
  {
   "cell_type": "markdown",
   "id": "d74e1b2f-f57c-4214-9d85-c856da125bef",
   "metadata": {
    "tags": []
   },
   "source": [
    "### Step 2: Write function report_sentiment(text)"
   ]
  },
  {
   "cell_type": "code",
   "execution_count": 14,
   "id": "157c3cf3-89f3-49ad-ba04-b79a77299a8f",
   "metadata": {
    "deletable": false,
    "nbgrader": {
     "cell_type": "code",
     "checksum": "71c6fb2e8a18a47759ce1dff1cd6bc26",
     "grade": false,
     "grade_id": "cell-58341e91ad0b7cba",
     "locked": false,
     "schema_version": 3,
     "solution": true,
     "task": false
    },
    "tags": []
   },
   "outputs": [],
   "source": [
    "### GRADED FUNCTION:  Write a second function called \"report_sentiment\"\n",
    "\n",
    "def report_sentiment(text):\n",
    "    ''' return a string reporting the TextBlob default sentiment, in emoji '''\n",
    "    blob = TextBlob(text)\n",
    "    polarity = blob.sentiment.polarity\n",
    "    if polarity <= 1 or polarity > 0.6:\n",
    "        return f'Polarity: {polarity} 😀'\n",
    "    elif polarity <= 0.6 or polarity > 0.35:\n",
    "        return f'Polarity: {polarity} 🙂'\n",
    "    elif polarity <= 0.35 or polarity > -0.35:\n",
    "        return f'Polarity: {polarity} 😐'\n",
    "    elif polarity <= -0.35 or polarity > -0.6:\n",
    "        return f'Polarity: {polarity} 🙁'\n",
    "    elif polarity <= -0.6 or polarity >= -1.0:\n",
    "        return f'Polarity: {polarity} 😟'"
   ]
  },
  {
   "cell_type": "code",
   "execution_count": 12,
   "id": "e81ea684-33f4-4054-abc9-3725383db979",
   "metadata": {
    "tags": []
   },
   "outputs": [
    {
     "name": "stdout",
     "output_type": "stream",
     "text": [
      "Polarity: -0.5 😀\n",
      "None\n",
      "Polarity: 0.39166666666666666 😀\n",
      "None\n"
     ]
    }
   ],
   "source": [
    "## Try out your function \n",
    "text1 = 'Today is a lousy day.'\n",
    "text2 = 'Textblob is amazingly simple to use. What great fun!'\n",
    "\n",
    "print(report_sentiment(text1))\n",
    "print(report_sentiment(text2))"
   ]
  },
  {
   "cell_type": "markdown",
   "id": "a7a5e3f7-beb5-4906-9c5d-e7d8c962a302",
   "metadata": {
    "tags": []
   },
   "source": [
    "### Step 3: Write function report_NBA_sentiment(text)"
   ]
  },
  {
   "cell_type": "code",
   "execution_count": 9,
   "id": "57ab6ea5-afa7-4947-be3e-a3ac188076b1",
   "metadata": {
    "deletable": false,
    "nbgrader": {
     "cell_type": "code",
     "checksum": "649464f9bfac1ab3b0c3c541427dcb48",
     "grade": false,
     "grade_id": "cell-b8df4cc0186a657c",
     "locked": false,
     "schema_version": 3,
     "solution": true,
     "task": false
    },
    "tags": []
   },
   "outputs": [],
   "source": [
    "### GRADED FUNCTION:  Write a third function called \"report_NBA_sentiment\"\n",
    "\n",
    "def report_NBA_sentiment(text):\n",
    "    ''' return a string reporting the TextBlob Naive Bayes Analyzer sentiment, and emoji '''\n",
    "    blob = TextBlob(text, analyzer= NaiveBayesAnalyzer())\n",
    "    if blob.sentiment.classification == 'pos':\n",
    "        return f'Polarity: 😀 positive'\n",
    "    else: \n",
    "        return f'Polarity: 😟 negative'"
   ]
  },
  {
   "cell_type": "code",
   "execution_count": 10,
   "id": "5e8cbfcf-073b-4d6c-bb9b-dc22007b98dc",
   "metadata": {
    "tags": []
   },
   "outputs": [
    {
     "name": "stdout",
     "output_type": "stream",
     "text": [
      "Sentiment(classification='neg', p_pos=0.3431499740529319, p_neg=0.6568500259470683)\n",
      "Polarity: 😟 negative\n",
      "Polarity: 😀 positive\n"
     ]
    }
   ],
   "source": [
    "## Try out your function\n",
    "text1 = 'Today is a lousy day.'\n",
    "text2 = 'Textblob is amazingly simple to use. What great fun!'\n",
    "blob = TextBlob(text1, analyzer= NaiveBayesAnalyzer())\n",
    "print(blob.sentiment)\n",
    "print(report_NBA_sentiment(text1))\n",
    "print(report_NBA_sentiment(text2))\n",
    "\n",
    "\n",
    "\n"
   ]
  },
  {
   "cell_type": "markdown",
   "id": "30368aea-7061-41cf-ab5c-b6350195a1b0",
   "metadata": {},
   "source": [
    "### Let's bring it all together in main()"
   ]
  },
  {
   "cell_type": "markdown",
   "id": "d8da4f20-d39b-4e57-ad0b-bc7d300a83e2",
   "metadata": {
    "tags": []
   },
   "source": [
    "The main function is provided for you below and is readonly. You do not need to edit this function."
   ]
  },
  {
   "cell_type": "code",
   "execution_count": 12,
   "id": "fecc068b-7f1e-467c-b25e-d47c67eaa0bb",
   "metadata": {
    "tags": []
   },
   "outputs": [
    {
     "name": "stdin",
     "output_type": "stream",
     "text": [
      "Please enter a single sentence. helo there\n"
     ]
    },
    {
     "ename": "NameError",
     "evalue": "name 'num_sentences' is not defined",
     "output_type": "error",
     "traceback": [
      "\u001b[0;31m---------------------------------------------------------------------------\u001b[0m",
      "\u001b[0;31mNameError\u001b[0m                                 Traceback (most recent call last)",
      "Cell \u001b[0;32mIn[12], line 16\u001b[0m\n\u001b[1;32m     13\u001b[0m         \u001b[38;5;28mprint\u001b[39m(\u001b[38;5;124m'\u001b[39m\u001b[38;5;124mNaiveBayesAnalyzer reports:\u001b[39m\u001b[38;5;124m'\u001b[39m)\n\u001b[1;32m     14\u001b[0m         \u001b[38;5;28mprint\u001b[39m(report_NBA_sentiment(corpus_text))\n\u001b[0;32m---> 16\u001b[0m \u001b[43mmain\u001b[49m\u001b[43m(\u001b[49m\u001b[43m)\u001b[49m\n",
      "Cell \u001b[0;32mIn[12], line 5\u001b[0m, in \u001b[0;36mmain\u001b[0;34m()\u001b[0m\n\u001b[1;32m      3\u001b[0m corpus_text \u001b[38;5;241m=\u001b[39m \u001b[38;5;28minput\u001b[39m(\u001b[38;5;124m'\u001b[39m\u001b[38;5;124mPlease enter a single sentence.\u001b[39m\u001b[38;5;124m'\u001b[39m)\n\u001b[1;32m      4\u001b[0m \u001b[38;5;66;03m# verify it is a single sentence, using TextBlob\u001b[39;00m\n\u001b[0;32m----> 5\u001b[0m \u001b[38;5;28;01mif\u001b[39;00m \u001b[43mnum_sentences\u001b[49m(corpus_text) \u001b[38;5;241m!=\u001b[39m \u001b[38;5;241m1\u001b[39m:\n\u001b[1;32m      6\u001b[0m     \u001b[38;5;28mprint\u001b[39m(\u001b[38;5;124m'\u001b[39m\u001b[38;5;124mYou entered more than one sentence.\u001b[39m\u001b[38;5;124m'\u001b[39m)\n\u001b[1;32m      7\u001b[0m \u001b[38;5;28;01melse\u001b[39;00m:\n\u001b[1;32m      8\u001b[0m     \u001b[38;5;66;03m# print the sentiment using the default TextBlob analyzer\u001b[39;00m\n",
      "\u001b[0;31mNameError\u001b[0m: name 'num_sentences' is not defined"
     ]
    }
   ],
   "source": [
    "def main():\n",
    "    # get input\n",
    "    corpus_text = input('Please enter a single sentence.')\n",
    "    # verify it is a single sentence, using TextBlob\n",
    "    if num_sentences(corpus_text) != 1:\n",
    "        print('You entered more than one sentence.')\n",
    "    else:\n",
    "        # print the sentiment using the default TextBlob analyzer\n",
    "        print('Default sentiment analyzer reports:')\n",
    "        print(report_sentiment(corpus_text))\n",
    "\n",
    "        # print the sentiment using ths NBA \n",
    "        print('NaiveBayesAnalyzer reports:')\n",
    "        print(report_NBA_sentiment(corpus_text))\n",
    "\n",
    "main()"
   ]
  },
  {
   "cell_type": "markdown",
   "id": "ad0475ba-fd69-43c7-9621-918d778a5c7b",
   "metadata": {},
   "source": [
    "### Step 3: Testing Your Work"
   ]
  },
  {
   "cell_type": "markdown",
   "id": "03ff9aea-7fed-4f6c-8a37-690638a8c65c",
   "metadata": {},
   "source": [
    "Your work will be autograded based on your function outputs for the test cases below. The next cell shows how the auto-grading tests are executed.  \n",
    "\n",
    "Several possible cases are run through the function, and the results are tested against that actual correct answer. If you run the test cell and there is no output, then the tests all passed – Great!"
   ]
  },
  {
   "cell_type": "code",
   "execution_count": 15,
   "id": "f4707b20-4abc-49fa-a5a5-55d94d389c66",
   "metadata": {
    "deletable": false,
    "editable": false,
    "nbgrader": {
     "cell_type": "code",
     "checksum": "8aaeadb35f534e1763a35b4ce522dec2",
     "grade": true,
     "grade_id": "cell-19240d2478ff1f89",
     "locked": true,
     "points": 2,
     "schema_version": 3,
     "solution": false,
     "task": false
    },
    "tags": []
   },
   "outputs": [],
   "source": [
    "# GRADED TEST CASES 1: This cell should not deliver any errors when this cell is run\n",
    "# Function num_sentences(text): tests the return of an expected number of sentences for corpus text\n",
    "\n",
    "text = \"Today was a day. Tomorrow is another one.\"\n",
    "assert num_sentences(text) == 2, \"Please verify your function is calculating the correct number of sentences.\""
   ]
  },
  {
   "cell_type": "code",
   "execution_count": 16,
   "id": "5ecf72c2-afcb-4509-933d-65eb65333970",
   "metadata": {
    "deletable": false,
    "editable": false,
    "nbgrader": {
     "cell_type": "code",
     "checksum": "fd05fe01e4331df46192976dcb430bc4",
     "grade": true,
     "grade_id": "cell-972625f7aab31e18",
     "locked": true,
     "points": 4,
     "schema_version": 3,
     "solution": false,
     "task": false
    },
    "tags": []
   },
   "outputs": [],
   "source": [
    "# GRADED TEST CASES 2: This cell should not deliver any errors when this cell is run\n",
    "# Function report_sentiment(text): tests a string and emoji sentiment are returned.\n",
    "\n",
    "text =  \"Today was an amazing day! Hopefully, tomorrow will also be great.\"\n",
    "exp_sentiment = \"Polarity: 0.7750000000000001 😀\"\n",
    "\n",
    "assert report_sentiment(text) == exp_sentiment, \"Please verify that your function delivers the appropriate sentiment polarity value and corresponding emoji.\""
   ]
  },
  {
   "cell_type": "code",
   "execution_count": null,
   "id": "15a35843-2e7c-4664-9d95-e6b8a3703609",
   "metadata": {
    "deletable": false,
    "editable": false,
    "nbgrader": {
     "cell_type": "code",
     "checksum": "b1eee3aaf538a9dbe5636932be9f84e9",
     "grade": true,
     "grade_id": "cell-3a25b6898afbf1a6",
     "locked": true,
     "points": 4,
     "schema_version": 3,
     "solution": false,
     "task": false
    },
    "tags": []
   },
   "outputs": [],
   "source": [
    "# GRADED TEST CASES 3: This cell should not deliver any errors when this cell is run\n",
    "# Function report_NBA_sentiment(text): tests a string and emoji is returned, based on Naive Bayes Analyzer sentiment\n",
    "\n",
    "text = \"Today is a lousy day.\"\n",
    "exp_sentiment = \"Polarity: 😟 negative\"\n",
    "\n",
    "assert report_NBA_sentiment(text) == exp_sentiment, \"Please verify that your function delivers the appropriate sentiment polarity value and corresponding emoji.\""
   ]
  },
  {
   "cell_type": "markdown",
   "id": "cace715c-2c61-4ecf-a8aa-1d60f8d15401",
   "metadata": {
    "tags": []
   },
   "source": [
    "### Step 4: Submit your Work for Grading"
   ]
  },
  {
   "cell_type": "markdown",
   "id": "d689cd88-efdb-4888-acb8-cf37c3ba1d5e",
   "metadata": {
    "tags": []
   },
   "source": [
    "To receive a final score for your work, please select the \"Submit Assignment\" button at the top of your lab."
   ]
  }
 ],
 "metadata": {
  "kernelspec": {
   "display_name": "Python 3 (ipykernel)",
   "language": "python",
   "name": "python3"
  },
  "language_info": {
   "codemirror_mode": {
    "name": "ipython",
    "version": 3
   },
   "file_extension": ".py",
   "mimetype": "text/x-python",
   "name": "python",
   "nbconvert_exporter": "python",
   "pygments_lexer": "ipython3",
   "version": "3.11.4"
  }
 },
 "nbformat": 4,
 "nbformat_minor": 5
}
