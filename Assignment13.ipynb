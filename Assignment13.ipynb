{
 "cells": [
  {
   "cell_type": "markdown",
   "id": "7d72a21c-52bc-448a-8931-54bcad8302b7",
   "metadata": {},
   "source": [
    "# Programming Assignment 13\n"
   ]
  },
  {
   "cell_type": "code",
   "execution_count": null,
   "id": "0ab54911",
   "metadata": {},
   "outputs": [],
   "source": []
  },
  {
   "cell_type": "markdown",
   "id": "140bcba3-ea14-4441-b516-35543e23eceb",
   "metadata": {},
   "source": [
    "## Assignment Instructions"
   ]
  },
  {
   "cell_type": "markdown",
   "id": "fa7e56f5-00f2-4498-96b4-ef3ec55341a2",
   "metadata": {
    "jp-MarkdownHeadingCollapsed": true,
    "tags": []
   },
   "source": [
    "The purpose of this assignment is to: \n",
    "\n",
    "* Learn how to perform webscraping (extracting content from a webpage in order to analyze the text) using the `BeautifulSoup` library \n",
    "\n",
    "* Use the `Textatistic` library to generate a readability score using the Dale-Chall score \n",
    "\n",
    "* Report the sentiment polarity and subjectivity using TextBlob \n",
    "\n",
    "**Note:**  We really should clean up the scraped text more -- if you print what is returned from the BeautifulSoup library, \n",
    "you will see that there is a bunch of other junk in there, which is likely messing up the readability score and the polarity. For example, I loaded a first-grade reading level book located here:  http://www.funbrainjr.com/stories/BrainyBlueberryAndTheBackpackBalloon/ \n",
    "and the Textatistic library reported a grade level of 13 (Freshman in college!).   Most likely, if we removed more of the \"junk\" from the webpage and just focused on the text, it would work better.  Data Munging is a critical part of any analysis! \n",
    "\n",
    "For this assignment, three websites have been selected, for articles on the same event by three different U.S. reporting agencies: \n",
    "\n",
    "* https://www.nytimes.com/live/2022/04/07/us/ketanji-brown-jackson-vote-scotus\n",
    "\n",
    "* https://www.cbsnews.com/news/ketanji-brown-jackson-supreme-court-senate-confirmation-first-black-woman/    \n",
    "\n",
    "* https://www.foxnews.com/politics/senate-confirmation-vote-ketanji-brown-jackson-supreme-court  \n",
    "\n",
    "We will write a python program to connect to these websites, download the text by webscraping, do some basic data munging, and then perform some analysis.  As we will see, we’ll encounter a few issues – but these are very common and it’s important to see how complex a task like this can be to get really accurate answers.  Be sure to read the Discussion section below to see what these issues are. \n",
    "\n",
    "This assignment is a great place to use good programming practice – and to break repeated tasks into functions.  Main will be provided, and you will write several functions that each perform a task.   \n",
    "\n",
    "##### **Function 1: extract_text(addr)**\n",
    "\n",
    "Write a function that takes a web address, connects to the website using the requests package, extracts the text using the BeautifulSoup package, and performs some basic data munging to remove HTML tags, and then returns the cleaned text. We often call this action webscraping, since we are quickly “scraping off” the text from a webpage. \n",
    " "
   ]
  },
  {
   "cell_type": "markdown",
   "id": "1027ddd8-f785-4725-89db-0e5662c5ec8c",
   "metadata": {
    "tags": []
   },
   "source": [
    "##### **Hints**\n"
   ]
  },
  {
   "cell_type": "markdown",
   "id": "89cfbbab-de81-4f59-9da3-ee90957ee57e",
   "metadata": {
    "tags": []
   },
   "source": [
    "* We have used the requests package previously in Project 2.  You can retrieve all the text on a webpage using the command: \n",
    "`response = requests.get(website_address_string)`\n",
    "\n",
    "    * The BeautifulSoup library (https://www.crummy.com/software/BeautifulSoup/ ) contains library routines that are useful for webscraping.  \n",
    "\n",
    "    * We will need to include the library:   \n",
    "    `from bs4 import BeautifulSoup`\n",
    "\n",
    "    * And then to make the soup object, we use the following line of code:   \n",
    "    `soup = BeautifulSoup(response.content, 'html.parser')`\n",
    "\n",
    "    * Note that, if you are doing this at home, you will need to follow the instructions in the documentation above to install both the bs4 package and the html.parser.  However, this Coursera lab environment already has those packages installed. \n",
    "\n",
    "* We can then remove HTML tags automatically (but not perfectly, see the discussion below) using the soup command:   \n",
    "`text = soup.get_text(strip=True)`"
   ]
  },
  {
   "cell_type": "markdown",
   "id": "c663d14a-f174-4019-96f0-a90e21683a16",
   "metadata": {
    "jp-MarkdownHeadingCollapsed": true,
    "tags": []
   },
   "source": [
    "##### **Function 2: readability(text)**\n",
    "\n",
    "Write a function that takes a string of text (the cleaned results of the webpage) and uses a library called Textatistic (https://www.erinhengel.com/software/textatistic/) to return the Dale-Chall readability score (see https://en.wikipedia.org/wiki/Dale%E2%80%93Chall_readability_formula which is a measure of the reading difficulty).   \n"
   ]
  },
  {
   "cell_type": "markdown",
   "id": "520177f8-af92-47e0-9afc-4b3a21c85072",
   "metadata": {
    "tags": []
   },
   "source": [
    "##### **Hints**"
   ]
  },
  {
   "cell_type": "markdown",
   "id": "db92d636-bf77-4a58-b3a2-76149fef6d56",
   "metadata": {},
   "source": [
    "* We will need to import the library:   \n",
    "`from textatistic import Textatistic` \n",
    "\n",
    "* We can gen}erate a number of measures using Textatistic using the following code:   \n",
    "`readability = Textatistic(text)` \n",
    "\n",
    "* The Dale-Chall readability score is then accessed this way:   \n",
    "`readability.dalechall_score` "
   ]
  },
  {
   "cell_type": "markdown",
   "id": "56133378-a08a-4c7f-a732-d7ffe4a39a3f",
   "metadata": {},
   "source": [
    "##### **Function 3: sentiment(text)**\n",
    "\n",
    "Write a function that accepts the text as an argument, then uses TextBlob to calulate and return the sentiment polarity score."
   ]
  },
  {
   "cell_type": "markdown",
   "id": "e15900c6-9b78-4ca8-8a18-4cfe7e8bbc14",
   "metadata": {
    "tags": []
   },
   "source": [
    "##### **Hints**\n"
   ]
  },
  {
   "cell_type": "markdown",
   "id": "0ec1f403-0236-444e-beb4-abf15df97e06",
   "metadata": {
    "tags": []
   },
   "source": [
    "We did this last week. "
   ]
  },
  {
   "cell_type": "markdown",
   "id": "3af8e311-3c6a-4b4e-8f55-d323aadbd948",
   "metadata": {
    "jp-MarkdownHeadingCollapsed": true,
    "tags": []
   },
   "source": [
    "##### **Function 4: print_sentences(text, num_sentences)**\n",
    "\n",
    "Write a function that will print the first N sentences of a text, where N is given by the number stored in the num_sentences variable.    \n",
    "Use the TextBlob package to automatically determine sentences.  This function just prints directly, and does not return a value. "
   ]
  },
  {
   "cell_type": "markdown",
   "id": "d651ee4f-6a1e-42f3-8004-c6e15031483e",
   "metadata": {
    "tags": []
   },
   "source": [
    "##### **Hints**\n"
   ]
  },
  {
   "cell_type": "markdown",
   "id": "6ce8bc6c-66e5-4de2-9f1d-17497ead7caf",
   "metadata": {
    "tags": []
   },
   "source": [
    "* First, convert the text to a TextBlob. \n",
    "* Then, you can use code similar to this to print: for sentence in blob.sentences: \n",
    "* You’ll want to count how many sentences were printed, and then exit the loop after the requested number have been printed. \n",
    "* See the discussion below, as this function yields surprising results. "
   ]
  },
  {
   "cell_type": "markdown",
   "id": "d89a35eb-e056-46e1-96cd-c8c92ed6f0d7",
   "metadata": {
    "tags": []
   },
   "source": [
    "## Discussion "
   ]
  },
  {
   "cell_type": "markdown",
   "id": "62cdaa20-9601-41c7-8254-ad4cf12388c4",
   "metadata": {},
   "source": [
    "This assignment illustrates the messy nature of working with real data.  If you examine the output of your program and the sample output below, you’ll notice a few things: \n",
    "\n",
    "* The actual data returned by a webpage can change over time – and what you receive may not be exactly what I received when I ran my code to generate the sample output. \n",
    "\n",
    "* In the output below – you'll notice that the first website did NOT actually return the text that you’d see if you browsed to the page normally.  It detected that something was different in how the program was automatically connecting and refused to send the text over.  There are ways to get around this, but this is a pretty common occurrence, so I’m glad that we got to see it in this assignment! \n",
    "\n",
    "* The second website has a jumbled first sentence (#0) – it's catching a bunch of links for other stories, which were combined into one “sentence”.  This is not really reflective of the article’s writing, and in a serious study, we would need to do a more thorough job of cleaning the data. \n",
    "\n",
    "* The second sentence (#1) is also jumbled, but the article actually starts in the middle of that sentence. \n",
    "\n",
    "* The remaining sentences are mostly ok – and the rest of the article follows. \n",
    "\n",
    "* The third website’s first 5 sentences are pretty much useless, if we are trying to measure the reading level or sentiment of the article. \n",
    "\n",
    "* Given all that, the sentiment and Dale-Chall scores are probably not very accurate!  We’d need to do a better job extracting the actual content of the article before doing the analysis.   \n",
    "\n",
    "Be careful when doing analysis like this – and don’t just blindly trust the numbers returned.  Sometimes the data passed to the functions is not what you expect.  (There is the phrase “garbage in – garbage out”, which applies to many areas of both data analytics and computer science!) "
   ]
  },
  {
   "cell_type": "markdown",
   "id": "b6c2e23d-e3ac-4374-9db0-c9ca19a846e2",
   "metadata": {
    "tags": []
   },
   "source": [
    "#### Sample Outputs"
   ]
  },
  {
   "cell_type": "markdown",
   "id": "9833f0ac-0791-45b3-872c-115dc329384b",
   "metadata": {},
   "source": [
    "(Note that webpages are dynamic, and many include advertising and suggested further reading, which change over time.  Your values may be slightly different than those shown below.)"
   ]
  },
  {
   "cell_type": "markdown",
   "id": "86350c58-e333-4ee1-949d-d895018916dd",
   "metadata": {
    "tags": []
   },
   "source": [
    "**Sample Output 1:**\n",
    "\n",
    "Text from https://www.nytimes.com/live/2022/04/07/us/ketanji-brown-jackson-vote-scotus has results: \n",
    "Reability Dale-Chall score: 15.88 \n",
    "Sentiment Polarity: 0.00 which is mostly neutral \n",
    "The first 5 sentences are: \n",
    "Sentence #0: nytimes.comPlease enable JS and disable any ad blocker "
   ]
  },
  {
   "cell_type": "markdown",
   "id": "5412288b-812c-485a-929f-a7798e57d6a0",
   "metadata": {
    "tags": []
   },
   "source": [
    "**Sample Output 2:**  \n",
    "Text from https://www.cbsnews.com/news/ketanji-brown-jackson-supreme-court-senate-confirmation-first-black-woman/ has results:  \n",
    "Reability Dale-Chall score: 10.74   \n",
    "Sentiment Polarity: 0.13 which is mostly neutral   \n",
    "The first 5 sentences are:   \n",
    "Sentence #0: Ketanji Brown Jackson confirmed to Supreme Court, making history as first Black female justiceHawaii WildfiresLGBTQ+ Veterans' LawsuitMega Millions WinnerNew COVID ShotsCBS News LiveManaging Your MoneyNewslettersNewsUSWorldPoliticsEntertainmentHealthWatchMoneyWatchCBS VillageTechnologyScienceCrimeSportsEssentialsAt least 6 killed on Hawaii's Maui island as fires force people to fleeNewly unveiled memo cited in Trump indictment detailed false electors schemeMan killed during FBI raid made threats against Biden, sources sayRobbie Robertson, guitarist for The Band, dies at age 80U.S. \n",
    "Sentence #1: nurse and daughter released more than a week after kidnap in HaitiTop doctor leaving Louisiana due to anti-LGBTQ legislationSpecial counsel obtained search warrant for Trump's Twitter accountFeinstein recovering after hospital visit for \"minor fall\" at California homeWhat to know about the new COVID shots this fallShowsCBS MorningsCBS Evening News60 MinutesCBS Saturday MorningFace the NationSunday Morning48 HoursCBS ReportsCBS News MorningsAmerica DecidesPrime Time with John DickersonCBS News WeekenderThe TakeoutThe UpliftEye On AmericaThe DishHere Comes the SunPerson To PersonLiveCBS News LiveCBS News BaltimoreCBS News Bay AreaCBS News BostonCBS News ChicagoCBS News ColoradoCBS News DetroitCBS News Los AngelesCBS News MiamiCBS News MinnesotaCBS News New YorkCBS News PhiladelphiaCBS News PittsburghCBS News SacramentoCBS News TexasCBS Sports HQMixibleLocalAtlantaBaltimoreBay AreaBostonChicagoColoradoDetroitLos AngelesMiamiMinnesotaNew YorkPhiladelphiaPittsburghSacramentoSeattleTampaTexasMoreLatestVideoPhotosPodcastsIn DepthLocalA Moment With…Innovators & DisruptorsLog InNewslettersMobileRSSCBS StoreParamount+Join Our Talent CommunityDavos 2023SearchSearchLoginWatch CBS NewsKetanji Brown Jackson confirmed to Supreme Court, making history as first Black female justiceget the free apphttps://www.cbsnews.com/news/ketanji-brown-jackson-supreme-court-senate-confirmation-first-black-woman/link copiedBy Melissa QuinnUpdated on:  April 7, 2022 / 7:13 PM/ CBS NewsFirst Black woman confirmed to Supreme CourtKetanji Brown Jackson becomes first Black woman confirmed to Supreme Court03:19Washington —The Senate voted to confirmJudge Ketanji Brown Jacksonto the Supreme Court on Thursday, cementing her place in history as the first Black woman to serve on the nation's highest court.Jackson's confirmation as the 116th justice in U.S. history received bipartisan backing, with a final vote of 53 to 47 in the upper chamber.Three Republicans, Sens. \n",
    "Sentence #2: Susan Collins of Maine, Lisa Murkowski of Alaska and Mitt Romney of Utah, joined all 50 Democrats in supporting President Biden's nominee. \n",
    "Sentence #3: Vice President Kamala Harris, the first woman and first woman of color to hold the role, presided over the Senate during the vote. \n",
    "Sentence #4: \"On this vote, the yays are 53. \n"
   ]
  },
  {
   "cell_type": "markdown",
   "id": "5968eb64-df2e-4baf-8d57-d5f412f4cce2",
   "metadata": {
    "tags": []
   },
   "source": [
    "**Sample Output 3:**  \n",
    "Text from https://www.cbsnews.com/news/ketanji-brown-jackson-supreme-court-senate-confirmation-first-black-woman/ has results:   \n",
    "Reability Dale-Chall score: 10.74   \n",
    "Sentiment Polarity: 0.13 which is mostly neutral   \n",
    "The first 5 sentences are:   \n",
    "Sentence #0: Ketanji Brown Jackson confirmed to Supreme Court, making history as first Black female justiceHawaii WildfiresLGBTQ+ Veterans' LawsuitMega Millions WinnerNew COVID ShotsCBS News LiveManaging Your MoneyNewslettersNewsUSWorldPoliticsEntertainmentHealthWatchMoneyWatchCBS VillageTechnologyScienceCrimeSportsEssentialsAt least 6 killed on Hawaii's Maui island as fires force people to fleeNewly unveiled memo cited in Trump indictment detailed false electors schemeMan killed during FBI raid made threats against Biden, sources sayRobbie Robertson, guitarist for The Band, dies at age 80U.S. \n",
    "Sentence #1: nurse and daughter released more than a week after kidnap in HaitiTop doctor leaving Louisiana due to anti-LGBTQ legislationSpecial counsel obtained search warrant for Trump's Twitter accountFeinstein recovering after hospital visit for \"minor fall\" at California homeWhat to know about the new COVID shots this fallShowsCBS MorningsCBS Evening News60 MinutesCBS Saturday MorningFace the NationSunday Morning48 HoursCBS ReportsCBS News MorningsAmerica DecidesPrime Time with John DickersonCBS News WeekenderThe TakeoutThe UpliftEye On AmericaThe DishHere Comes the SunPerson To PersonLiveCBS News LiveCBS News BaltimoreCBS News Bay AreaCBS News BostonCBS News ChicagoCBS News ColoradoCBS News DetroitCBS News Los AngelesCBS News MiamiCBS News MinnesotaCBS News New YorkCBS News PhiladelphiaCBS News PittsburghCBS News SacramentoCBS News TexasCBS Sports HQMixibleLocalAtlantaBaltimoreBay AreaBostonChicagoColoradoDetroitLos AngelesMiamiMinnesotaNew YorkPhiladelphiaPittsburghSacramentoSeattleTampaTexasMoreLatestVideoPhotosPodcastsIn DepthLocalA Moment With…Innovators & DisruptorsLog InNewslettersMobileRSSCBS StoreParamount+Join Our Talent CommunityDavos 2023SearchSearchLoginWatch CBS NewsKetanji Brown Jackson confirmed to Supreme Court, making history as first Black female justiceget the free apphttps://www.cbsnews.com/news/ketanji-brown-jackson-supreme-court-senate-confirmation-first-black-woman/link copiedBy Melissa QuinnUpdated on:  April 7, 2022 / 7:13 PM/ CBS NewsFirst Black woman confirmed to Supreme CourtKetanji Brown Jackson becomes first Black woman confirmed to Supreme Court03:19Washington —The Senate voted to confirmJudge Ketanji Brown Jacksonto the Supreme Court on Thursday, cementing her place in history as the first Black woman to serve on the nation's highest court.Jackson's confirmation as the 116th justice in U.S. history received bipartisan backing, with a final vote of 53 to 47 in the upper chamber.Three Republicans, Sens. \n",
    "Sentence #2: Susan Collins of Maine, Lisa Murkowski of Alaska and Mitt Romney of Utah, joined all 50 Democrats in supporting President Biden's nominee. \n",
    "Sentence #3: Vice President Kamala Harris, the first woman and first woman of color to hold the role, presided over the Senate during the vote. \n",
    "Sentence #4: \"On this vote, the yays are 53. \n"
   ]
  },
  {
   "cell_type": "markdown",
   "id": "c8a6ba59-d628-4bbb-9a06-7bf0ef55cacb",
   "metadata": {
    "tags": []
   },
   "source": [
    "## Let's start coding!"
   ]
  },
  {
   "cell_type": "markdown",
   "id": "39532d65-9907-4a07-afae-8f6ed57a100f",
   "metadata": {
    "tags": []
   },
   "source": [
    "#### Using this Notebook "
   ]
  },
  {
   "cell_type": "markdown",
   "id": "6a8c2887-c13e-48f4-a6d5-be6d7e86177f",
   "metadata": {
    "tags": []
   },
   "source": [
    "Notice that some of the cells are not able to be edited – they are just meant to be run to test your code, and perform the auto grading. You should begin at the top and execute each code cell, adding your code when you see # YOUR CODE HERE. If you have written the functions correctly, you should see no errors.\n",
    "\n",
    "When you execute the TEST CASES cell, what you want to see is no output. You may want to intentionally make the function give a wrong result, so that you can see what the error message looks like – and then fix your function. Once you execute the TEST CASES cell, and get no output, then your function is most likely correct!"
   ]
  },
  {
   "cell_type": "code",
   "execution_count": 8,
   "id": "77996c36-460c-47d0-8f45-f6760469b6dd",
   "metadata": {
    "deletable": false,
    "editable": false,
    "nbgrader": {
     "cell_type": "code",
     "checksum": "9b199907ed488e3aef33c36dcdeebf52",
     "grade": false,
     "grade_id": "cell-f23c3e1978e938d3",
     "locked": true,
     "schema_version": 3,
     "solution": false,
     "task": false
    },
    "tags": []
   },
   "outputs": [],
   "source": [
    "import requests, inspect\n",
    "from bs4 import BeautifulSoup\n",
    "from textblob import TextBlob\n",
    "from textatistic import Textatistic"
   ]
  },
  {
   "cell_type": "markdown",
   "id": "6ce92287-24fe-465f-98a8-31674d168340",
   "metadata": {},
   "source": [
    "### Step 1: You are provided the function report_pol"
   ]
  },
  {
   "cell_type": "markdown",
   "id": "8a391b8f-4d58-4968-9d38-7503a1be2fe4",
   "metadata": {
    "tags": []
   },
   "source": [
    "As this function is provided in advance, it is readonly. You do not need to modify this cell, but you do need to run it."
   ]
  },
  {
   "cell_type": "code",
   "execution_count": 9,
   "id": "3e9cc52d-2676-4568-afc0-cad192c99c9a",
   "metadata": {
    "deletable": false,
    "editable": false,
    "nbgrader": {
     "cell_type": "code",
     "checksum": "c3146440394d06e3c998de2daa54b6cf",
     "grade": false,
     "grade_id": "cell-1492121b909a2949",
     "locked": true,
     "schema_version": 3,
     "solution": false,
     "task": false
    },
    "tags": []
   },
   "outputs": [],
   "source": [
    "### UNGRADED FUNCTION\n",
    "\n",
    "def report_pol(pol):\n",
    "    ''' Report the polarity as positive, negative, or neutral '''\n",
    "    if pol < -0.60:\n",
    "        result = f'very negative'\n",
    "    elif pol < -0.35:\n",
    "        result = f'somewhat negative'\n",
    "    elif pol < 0.35:\n",
    "        result = f'mostly neutral'\n",
    "    elif pol < 0.60:\n",
    "        result = f'somewhat positive'\n",
    "    else :\n",
    "        result = f'positive'\n",
    "    return result "
   ]
  },
  {
   "cell_type": "markdown",
   "id": "a7a5e3f7-beb5-4906-9c5d-e7d8c962a302",
   "metadata": {
    "tags": []
   },
   "source": [
    "### Step 2: Write function extract_text(addr)"
   ]
  },
  {
   "cell_type": "code",
   "execution_count": 7,
   "id": "57ab6ea5-afa7-4947-be3e-a3ac188076b1",
   "metadata": {
    "deletable": false,
    "nbgrader": {
     "cell_type": "code",
     "checksum": "d1ed37f64d357f88633b67906b71a5f7",
     "grade": false,
     "grade_id": "cell-b8df4cc0186a657c",
     "locked": false,
     "schema_version": 3,
     "solution": true,
     "task": false
    },
    "tags": []
   },
   "outputs": [],
   "source": [
    "### GRADED FUNCTION:  Write a second function called \"extract_text\"\n",
    "\n",
    "def extract_text(addr):\n",
    "    ''' visit the website in the address, extract the text using Beautiful Soup,\n",
    "        remove the html tags and return the text'''\n",
    "    response = requests.get(addr)\n",
    "    soup = BeautifulSoup(response.content, 'html.parser')\n",
    "    text = soup.get_text(strip=True)\n",
    "    return text"
   ]
  },
  {
   "cell_type": "code",
   "execution_count": null,
   "id": "0b3a67f4-7c14-47c6-ab57-6026f234d776",
   "metadata": {
    "tags": []
   },
   "outputs": [],
   "source": [
    "# Try out your function\n",
    "addr = \"https://www.cbsnews.com/news/ketanji-brown-jackson-supreme-court-senate-confirmation-first-black-woman/\"\n",
    "text = extract_text(addr)\n",
    "print(text)"
   ]
  },
  {
   "cell_type": "markdown",
   "id": "e8365fc3-0e5b-43cf-b39b-3c8d86b1296f",
   "metadata": {
    "tags": []
   },
   "source": [
    "### Step 3: Write function print_sentences(text, num_sentences)"
   ]
  },
  {
   "cell_type": "code",
   "execution_count": 57,
   "id": "b6ead91c-dfec-448d-bec8-c6d36ffb4631",
   "metadata": {
    "deletable": false,
    "nbgrader": {
     "cell_type": "code",
     "checksum": "c4d47113d307f1e1e0bd446999c19c08",
     "grade": false,
     "grade_id": "cell-246433127d09a89f",
     "locked": false,
     "schema_version": 3,
     "solution": true,
     "task": false
    },
    "tags": []
   },
   "outputs": [],
   "source": [
    "### GRADED FUNCTION:  Write a third function called \"print_sentences\"\n",
    "\n",
    "def print_sentences(text, num_sentences):\n",
    "    ''' print the first few sentences in the text, where the number of sentences\n",
    "        is given by num_sentences '''\n",
    "    blob = TextBlob(text)\n",
    "    for i in range(num_sentences):\n",
    "        print(blob.sentences[i])\n",
    "    "
   ]
  },
  {
   "cell_type": "code",
   "execution_count": 58,
   "id": "e5b79c79-ad6b-4cfa-8a8e-d2fef900114c",
   "metadata": {
    "tags": []
   },
   "outputs": [
    {
     "name": "stdout",
     "output_type": "stream",
     "text": [
      "Ketanji Brown Jackson confirmed to Supreme Court, making history as first Black female justiceHunter Biden LawsuitNew Orleans WaterMaui Fire AftermathTrump InvestigationsCBS News LiveManaging Your MoneyNewslettersNewsUSWorldPoliticsEntertainmentHealthWatchMoneyWatchCBS VillageTechnologyScienceCrimeSportsEssentialsDonald Trump and his company \"repeatedly\" violated fraud law, N.Y. judge rulesHusband of NYC day care owner arrested in child's fentanyl deathHunter Biden sues Rudy Giuliani, attorney Robert Costello for \"hacking\" laptopAt least 20 dead in gas station blast as Nagorno-Karabakh residents fleeTarget says it's closing 9 stores because of surging retail theftsFTC and 17 states file sweeping antitrust suit against AmazonSupreme Court denies Alabama's bid to use GOP-drawn congressional map\"Los Chapitos\" Mexican cartel members sanctioned for fentanyl traffickingPolice investigating death of former NFL wide receiver Mike WilliamsShowsCBS MorningsCBS Evening News60 MinutesCBS Saturday MorningFace the NationSunday Morning48 HoursCBS ReportsCBS News MorningsAmerica DecidesPrime Time with John DickersonCBS News WeekenderThe TakeoutThe UpliftEye On AmericaThe DishHere Comes the SunPerson To PersonLiveCBS News LiveCBS News BaltimoreCBS News Bay AreaCBS News BostonCBS News ChicagoCBS News ColoradoCBS News DetroitCBS News Los AngelesCBS News MiamiCBS News MinnesotaCBS News New YorkCBS News PhiladelphiaCBS News PittsburghCBS News SacramentoCBS News TexasCBS Sports HQMixibleLocalBaltimoreBay AreaBostonChicagoColoradoDetroitLos AngelesMiamiMinnesotaNew YorkPhiladelphiaPittsburghSacramentoTexasMoreLatestVideoPhotosPodcastsIn DepthLocalA Moment With…Innovators & DisruptorsLog InNewslettersMobileRSSCBS StoreParamount+Join Our Talent CommunityDavos 2023SearchSearchLoginWatch CBS NewsKetanji Brown Jackson confirmed to Supreme Court, making history as first Black female justiceget the free apphttps://www.cbsnews.com/news/ketanji-brown-jackson-supreme-court-senate-confirmation-first-black-woman/link copiedBy Melissa QuinnUpdated on:  April 7, 2022 / 7:13 PM/ CBS NewsFirst Black woman confirmed to Supreme CourtKetanji Brown Jackson becomes first Black woman confirmed to Supreme Court03:19Washington —The Senate voted to confirmJudge Ketanji Brown Jacksonto the Supreme Court on Thursday, cementing her place in history as the first Black woman to serve on the nation's highest court.Jackson's confirmation as the 116th justice in U.S. history received bipartisan backing, with a final vote of 53 to 47 in the upper chamber.Three Republicans, Sens.\n",
      "Susan Collins of Maine, Lisa Murkowski of Alaska and Mitt Romney of Utah, joined all 50 Democrats in supporting President Biden's nominee.\n",
      "Vice President Kamala Harris, the first woman and first woman of color to hold the role, presided over the Senate during the vote.\n",
      "\"On this vote, the yays are 53.\n",
      "None\n"
     ]
    }
   ],
   "source": [
    "# Try out your function\n",
    "addr = \"https://www.cbsnews.com/news/ketanji-brown-jackson-supreme-court-senate-confirmation-first-black-woman/\"\n",
    "text = extract_text(addr)\n",
    "print(print_sentences(text,2))"
   ]
  },
  {
   "cell_type": "markdown",
   "id": "f20f11cb-4a98-48d5-976d-f80eb9ca2f95",
   "metadata": {
    "tags": []
   },
   "source": [
    "### Step 4: Write function readability(text)"
   ]
  },
  {
   "cell_type": "code",
   "execution_count": 73,
   "id": "12ae8650-5b7c-4b2f-b0ad-d60856f26405",
   "metadata": {
    "deletable": false,
    "nbgrader": {
     "cell_type": "code",
     "checksum": "3e85a3416c6a9908b7f6573d5dd8a4b9",
     "grade": false,
     "grade_id": "cell-4488f95397e1c043",
     "locked": false,
     "schema_version": 3,
     "solution": true,
     "task": false
    },
    "tags": []
   },
   "outputs": [],
   "source": [
    "### GRADED FUNCTION:  Write a fifth function for option 4 called \"generate_sentiment\"\n",
    "\n",
    "def readability(text):\n",
    "    ''' return the readability score reported by Textastistic for Dale-Chall '''\n",
    "    readability = Textatistic(text)\n",
    "    result = readability.dalechall_score \n",
    "    return result"
   ]
  },
  {
   "cell_type": "code",
   "execution_count": 74,
   "id": "135749d8-9134-48e9-b15b-94d9634ac4ac",
   "metadata": {
    "tags": []
   },
   "outputs": [
    {
     "data": {
      "text/plain": [
       "10.749461333121053"
      ]
     },
     "execution_count": 74,
     "metadata": {},
     "output_type": "execute_result"
    }
   ],
   "source": [
    "# Try out your function\n",
    "addr = \"https://www.cbsnews.com/news/ketanji-brown-jackson-supreme-court-senate-confirmation-first-black-woman/\"\n",
    "text = extract_text(addr)\n",
    "readability(text)"
   ]
  },
  {
   "cell_type": "markdown",
   "id": "58ff3428-e5d8-43af-94b5-eca75c000c86",
   "metadata": {},
   "source": [
    "### Step 5: Write function sentiment(text)"
   ]
  },
  {
   "cell_type": "code",
   "execution_count": 68,
   "id": "e16f2b23-c902-49b4-be8e-5aa6ea212510",
   "metadata": {
    "deletable": false,
    "nbgrader": {
     "cell_type": "code",
     "checksum": "2b0aeec55d1e83c45d71db7e94097d4d",
     "grade": false,
     "grade_id": "cell-f4c6e56f60f4084c",
     "locked": false,
     "schema_version": 3,
     "solution": true,
     "task": false
    },
    "tags": []
   },
   "outputs": [],
   "source": [
    "def sentiment(text):\n",
    "    ''' return the sentiment score reported by TextBlob '''\n",
    "    blob = TextBlob(text)\n",
    "    return blob.sentiment.polarity"
   ]
  },
  {
   "cell_type": "code",
   "execution_count": 69,
   "id": "e36dbf76-68ea-4bae-a7ee-346e82dbc50d",
   "metadata": {
    "tags": []
   },
   "outputs": [
    {
     "data": {
      "text/plain": [
       "0.13183955400341954"
      ]
     },
     "execution_count": 69,
     "metadata": {},
     "output_type": "execute_result"
    }
   ],
   "source": [
    "# Try out your function\n",
    "addr = \"https://www.cbsnews.com/news/ketanji-brown-jackson-supreme-court-senate-confirmation-first-black-woman/\"\n",
    "text = extract_text(addr)\n",
    "sentiment(text)"
   ]
  },
  {
   "cell_type": "markdown",
   "id": "30368aea-7061-41cf-ab5c-b6350195a1b0",
   "metadata": {},
   "source": [
    "### Step 6: Bring it all together in main()"
   ]
  },
  {
   "cell_type": "code",
   "execution_count": 63,
   "id": "fecc068b-7f1e-467c-b25e-d47c67eaa0bb",
   "metadata": {
    "tags": []
   },
   "outputs": [
    {
     "name": "stdout",
     "output_type": "stream",
     "text": [
      "Text from https://www.nytimes.com/live/2022/04/07/us/ketanji-brown-jackson-vote-scotus has results:\n"
     ]
    },
    {
     "ename": "TypeError",
     "evalue": "unsupported format string passed to Textatistic.__format__",
     "output_type": "error",
     "traceback": [
      "\u001b[0;31m---------------------------------------------------------------------------\u001b[0m",
      "\u001b[0;31mTypeError\u001b[0m                                 Traceback (most recent call last)",
      "Cell \u001b[0;32mIn[63], line 53\u001b[0m\n\u001b[1;32m     47\u001b[0m     \u001b[38;5;28mprint\u001b[39m(\u001b[38;5;124m'\u001b[39m\u001b[38;5;130;01m\\n\u001b[39;00m\u001b[38;5;124m'\u001b[39m)\n\u001b[1;32m     49\u001b[0m     \u001b[38;5;66;03m# you might want to uncomment this and take a closer look at the text \u001b[39;00m\n\u001b[1;32m     50\u001b[0m     \u001b[38;5;66;03m#print('\\n\\n\\nThe entire second article is:')\u001b[39;00m\n\u001b[1;32m     51\u001b[0m     \u001b[38;5;66;03m#print(text2)\u001b[39;00m\n\u001b[0;32m---> 53\u001b[0m \u001b[43mmain\u001b[49m\u001b[43m(\u001b[49m\u001b[43m)\u001b[49m\n",
      "Cell \u001b[0;32mIn[63], line 31\u001b[0m, in \u001b[0;36mmain\u001b[0;34m()\u001b[0m\n\u001b[1;32m     27\u001b[0m \u001b[38;5;66;03m#######\u001b[39;00m\n\u001b[1;32m     28\u001b[0m \u001b[38;5;66;03m# Report results\u001b[39;00m\n\u001b[1;32m     29\u001b[0m \u001b[38;5;66;03m#######\u001b[39;00m\n\u001b[1;32m     30\u001b[0m \u001b[38;5;28mprint\u001b[39m(\u001b[38;5;124mf\u001b[39m\u001b[38;5;124m'\u001b[39m\u001b[38;5;124mText from \u001b[39m\u001b[38;5;132;01m{\u001b[39;00mwebsite1\u001b[38;5;132;01m}\u001b[39;00m\u001b[38;5;124m has results:\u001b[39m\u001b[38;5;124m'\u001b[39m)\n\u001b[0;32m---> 31\u001b[0m \u001b[38;5;28mprint\u001b[39m(\u001b[38;5;124mf\u001b[39m\u001b[38;5;124m'\u001b[39m\u001b[38;5;124mReability Dale-Chall score: \u001b[39m\u001b[38;5;132;01m{\u001b[39;00mreadability1\u001b[38;5;132;01m:\u001b[39;00m\u001b[38;5;124m0.2f\u001b[39m\u001b[38;5;132;01m}\u001b[39;00m\u001b[38;5;124m'\u001b[39m)\n\u001b[1;32m     32\u001b[0m \u001b[38;5;28mprint\u001b[39m(\u001b[38;5;124mf\u001b[39m\u001b[38;5;124m'\u001b[39m\u001b[38;5;124mSentiment Polarity: \u001b[39m\u001b[38;5;132;01m{\u001b[39;00msentiment1\u001b[38;5;132;01m:\u001b[39;00m\u001b[38;5;124m0.2f\u001b[39m\u001b[38;5;132;01m}\u001b[39;00m\u001b[38;5;124m which is \u001b[39m\u001b[38;5;132;01m{\u001b[39;00mreport_pol(sentiment1)\u001b[38;5;132;01m}\u001b[39;00m\u001b[38;5;124m'\u001b[39m)\n\u001b[1;32m     33\u001b[0m \u001b[38;5;28mprint\u001b[39m(\u001b[38;5;124m'\u001b[39m\u001b[38;5;124mThe first 5 sentences are:\u001b[39m\u001b[38;5;124m'\u001b[39m)\n",
      "\u001b[0;31mTypeError\u001b[0m: unsupported format string passed to Textatistic.__format__"
     ]
    }
   ],
   "source": [
    "def main():\n",
    "# set three websites to compare\n",
    "    website1 = 'https://www.nytimes.com/live/2022/04/07/us/ketanji-brown-jackson-vote-scotus' \n",
    "    website2 = 'https://www.cbsnews.com/news/ketanji-brown-jackson-supreme-court-senate-confirmation-first-black-woman/'\n",
    "    website3 = 'https://www.foxnews.com/politics/senate-confirmation-vote-ketanji-brown-jackson-supreme-court'\n",
    "\n",
    "    # get data using requests, then process using BeautifulSoup\n",
    "    text1 = extract_text(website1)\n",
    "    text2 = extract_text(website2)\n",
    "    text3 = extract_text(website3)\n",
    "\n",
    "    #######\n",
    "    # Load the text into the Textatistic library, and extract the Dale-Chall \n",
    "    # readability score.\n",
    "    #######\n",
    "    readability1 = readability(text1)\n",
    "    readability2 = readability(text2)\n",
    "    readability3 = readability(text3)\n",
    "\n",
    "    #######\n",
    "    # Load the text into the TextBlob library, and extract the sentiment polarity, \n",
    "    #######\n",
    "    sentiment1 = sentiment(text1)\n",
    "    sentiment2 = sentiment(text2)\n",
    "    sentiment3 = sentiment(text3)\n",
    "\n",
    "    #######\n",
    "    # Report results\n",
    "    #######\n",
    "    print(f'Text from {website1} has results:')\n",
    "    print(f'Reability Dale-Chall score: {readability1:0.2f}')\n",
    "    print(f'Sentiment Polarity: {sentiment1:0.2f} which is {report_pol(sentiment1)}')\n",
    "    print('The first 5 sentences are:')\n",
    "    print_sentences(text1, 5)\n",
    "    print('\\n')\n",
    "    print(f'Text from {website2} has results:')\n",
    "    print(f'Reability Dale-Chall score: {readability2:0.2f}')\n",
    "    print(f'Sentiment Polarity: {sentiment2:0.2f} which is {report_pol(sentiment2)}')\n",
    "    print('The first 5 sentences are:')\n",
    "    print_sentences(text2, 5)\n",
    "    print('\\n')\n",
    "    print(f'Text from {website3} has results:')\n",
    "    print(f'Reability Dale-Chall score: {readability3:0.2f}')\n",
    "    print(f'Sentiment Polarity: {sentiment3:0.2f} which is {report_pol(sentiment3)}')\n",
    "    print('The first 5 sentences are:')\n",
    "    print_sentences(text3, 5)\n",
    "    print('\\n')\n",
    "    \n",
    "    # you might want to uncomment this and take a closer look at the text \n",
    "    #print('\\n\\n\\nThe entire second article is:')\n",
    "    #print(text2)\n",
    "            \n",
    "main()"
   ]
  },
  {
   "cell_type": "markdown",
   "id": "ad0475ba-fd69-43c7-9621-918d778a5c7b",
   "metadata": {},
   "source": [
    "### Step 7: Testing Your Work"
   ]
  },
  {
   "cell_type": "markdown",
   "id": "03ff9aea-7fed-4f6c-8a37-690638a8c65c",
   "metadata": {},
   "source": [
    "Your work will be autograded based on your function outputs for the test cases below. The next cell shows how the auto-grading tests are executed.  \n",
    "\n",
    "Several possible cases are run through the function, and the results are tested against that actual correct answer. If you run the test cell and there is no output, then the tests all passed – Great!"
   ]
  },
  {
   "cell_type": "code",
   "execution_count": 64,
   "id": "f4707b20-4abc-49fa-a5a5-55d94d389c66",
   "metadata": {
    "deletable": false,
    "editable": false,
    "nbgrader": {
     "cell_type": "code",
     "checksum": "835e89084ba05b68886bf22059b698fe",
     "grade": true,
     "grade_id": "cell-19240d2478ff1f89",
     "locked": true,
     "points": 3,
     "schema_version": 3,
     "solution": false,
     "task": false
    },
    "tags": []
   },
   "outputs": [],
   "source": [
    "# GRADED TEST CASE 1: This cell should not deliver any errors when this cell is run\n",
    "# Function 1: extract_text(addr)\n",
    "\n",
    "# Test 1: requests, BeautifulSoup, html tag removal in syntax\n",
    "req_bs4_found = False\n",
    "tags_removed = False\n",
    "\n",
    "list_time_lines = inspect.getsource(extract_text)\n",
    "code_lines = list_time_lines.splitlines()\n",
    "for line in code_lines:\n",
    "    if \"requests\" in line or \"BeautifulSoup\" in line:\n",
    "        req_bs4_found = True\n",
    "    elif \"get_text(strip=True)\" in line:\n",
    "        tags_removed  = True\n",
    "    else:\n",
    "        continue\n",
    "        \n",
    "# Test 2:\n",
    "site_data_success = False\n",
    "\n",
    "try:\n",
    "    addr = \"https://en.wikipedia.org/wiki/Ball_State_University\"\n",
    "    results = extract_text(addr)\n",
    "    site_data_success = True\n",
    "except Exception as e:\n",
    "    print(e)\n",
    "    \n",
    "assert req_bs4_found == True, \"Please verify that you've used requests and BeautifulSoup to acquire site data.\"\n",
    "assert tags_removed == True, \"Please verifiy that your function removes HTML tags with soup commands.\"\n",
    "assert site_data_success == True, \"Please verifiy that your function reaches a valid url and returns appropriate site data.\""
   ]
  },
  {
   "cell_type": "code",
   "execution_count": 65,
   "id": "5ecf72c2-afcb-4509-933d-65eb65333970",
   "metadata": {
    "deletable": false,
    "editable": false,
    "nbgrader": {
     "cell_type": "code",
     "checksum": "d74665e7b7c1ce1c1f2e91e2b00c0933",
     "grade": true,
     "grade_id": "cell-972625f7aab31e18",
     "locked": true,
     "points": 4,
     "schema_version": 3,
     "solution": false,
     "task": false
    },
    "tags": []
   },
   "outputs": [
    {
     "name": "stdout",
     "output_type": "stream",
     "text": [
      "Ketanji Brown Jackson confirmed to Supreme Court, making history as first Black female justiceJacksonville ShootingTropical Storm IdaliaTrump InvestigationsAI In ClassroomsCBS News LiveManaging Your MoneyNewslettersNewsUSWorldPoliticsEntertainmentHealthWatchMoneyWatchCBS VillageTechnologyScienceCrimeSportsEssentialsHurricane Idalia path, timeline: When and where storm will hit FloridaJudge sets March 2024 trial date in Trump's federal election caseHere's what experts say to know about new COVID variant BA.2.86Former Trump chief of staff Mark Meadows takes the stand in Georgia case'Armed and dangerous' person reported on UNC campusDeSantis booed at vigil for Jacksonville shooting victimsUgandan man faces possible death penalty under draconian anti-gay lawJoe the Plumber, who questioned Obama on his tax plans, dead at49Student loan repayments are set to resume.\n",
      "Here's what to know.ShowsCBS MorningsCBS Evening News60 MinutesCBS Saturday MorningFace the NationSunday Morning48 HoursCBS ReportsCBS News MorningsAmerica DecidesPrime Time with John DickersonCBS News WeekenderThe TakeoutThe UpliftEye On AmericaThe DishHere Comes the SunPerson To PersonLiveCBS News LiveCBS News BaltimoreCBS News Bay AreaCBS News BostonCBS News ChicagoCBS News ColoradoCBS News DetroitCBS News Los AngelesCBS News MiamiCBS News MinnesotaCBS News New YorkCBS News PhiladelphiaCBS News PittsburghCBS News SacramentoCBS News TexasCBS Sports HQMixibleLocalAtlantaBaltimoreBay AreaBostonChicagoColoradoDetroitLos AngelesMiamiMinnesotaNew YorkPhiladelphiaPittsburghSacramentoSeattleTampaTexasMoreLatestVideoPhotosPodcastsIn DepthLocalA Moment With…Innovators & DisruptorsLog InNewslettersMobileRSSCBS StoreParamount+Join Our Talent CommunityDavos 2023SearchSearchLoginWatch CBS NewsKetanji Brown Jackson confirmed to Supreme Court, making history as first Black female justiceget the free apphttps://www.cbsnews.com/news/ketanji-brown-jackson-supreme-court-senate-confirmation-first-black-woman/link copiedBy Melissa QuinnUpdated on:  April 7, 2022 / 7:13 PM/ CBS NewsFirst Black woman confirmed to Supreme CourtKetanji Brown Jackson becomes first Black woman confirmed to Supreme Court03:19Washington —The Senate voted to confirmJudge Ketanji Brown Jacksonto the Supreme Court on Thursday, cementing her place in history as the first Black woman to serve on the nation's highest court.Jackson's confirmation as the 116th justice in U.S. history received bipartisan backing, with a final vote of 53 to 47 in the upper chamber.Three Republicans, Sens.\n",
      "Susan Collins of Maine, Lisa Murkowski of Alaska and Mitt Romney of Utah, joined all 50 Democrats in supporting President Biden's nominee.\n",
      "Vice President Kamala Harris, the first woman and first woman of color to hold the role, presided over the Senate during the vote.\n"
     ]
    }
   ],
   "source": [
    "# GRADED TEST CASE 2: This cell should not deliver any errors when this cell is run\n",
    "\n",
    "# Function 2 print_sentences(text, num_sentences):\n",
    "sample_html = \"Ketanji Brown Jackson confirmed to Supreme Court, making history as first Black female justiceJacksonville ShootingTropical Storm IdaliaTrump InvestigationsAI In ClassroomsCBS News LiveManaging Your MoneyNewslettersNewsUSWorldPoliticsEntertainmentHealthWatchMoneyWatchCBS VillageTechnologyScienceCrimeSportsEssentialsHurricane Idalia path, timeline: When and where storm will hit FloridaJudge sets March 2024 trial date in Trump's federal election caseHere's what experts say to know about new COVID variant BA.2.86Former Trump chief of staff Mark Meadows takes the stand in Georgia case'Armed and dangerous' person reported on UNC campusDeSantis booed at vigil for Jacksonville shooting victimsUgandan man faces possible death penalty under draconian anti-gay lawJoe the Plumber, who questioned Obama on his tax plans, dead at49Student loan repayments are set to resume. Here's what to know.ShowsCBS MorningsCBS Evening News60 MinutesCBS Saturday MorningFace the NationSunday Morning48 HoursCBS ReportsCBS News MorningsAmerica DecidesPrime Time with John DickersonCBS News WeekenderThe TakeoutThe UpliftEye On AmericaThe DishHere Comes the SunPerson To PersonLiveCBS News LiveCBS News BaltimoreCBS News Bay AreaCBS News BostonCBS News ChicagoCBS News ColoradoCBS News DetroitCBS News Los AngelesCBS News MiamiCBS News MinnesotaCBS News New YorkCBS News PhiladelphiaCBS News PittsburghCBS News SacramentoCBS News TexasCBS Sports HQMixibleLocalAtlantaBaltimoreBay AreaBostonChicagoColoradoDetroitLos AngelesMiamiMinnesotaNew YorkPhiladelphiaPittsburghSacramentoSeattleTampaTexasMoreLatestVideoPhotosPodcastsIn DepthLocalA Moment With…Innovators & DisruptorsLog InNewslettersMobileRSSCBS StoreParamount+Join Our Talent CommunityDavos 2023SearchSearchLoginWatch CBS NewsKetanji Brown Jackson confirmed to Supreme Court, making history as first Black female justiceget the free apphttps://www.cbsnews.com/news/ketanji-brown-jackson-supreme-court-senate-confirmation-first-black-woman/link copiedBy Melissa QuinnUpdated on:  April 7, 2022 / 7:13 PM/ CBS NewsFirst Black woman confirmed to Supreme CourtKetanji Brown Jackson becomes first Black woman confirmed to Supreme Court03:19Washington —The Senate voted to confirmJudge Ketanji Brown Jacksonto the Supreme Court on Thursday, cementing her place in history as the first Black woman to serve on the nation's highest court.Jackson's confirmation as the 116th justice in U.S. history received bipartisan backing, with a final vote of 53 to 47 in the upper chamber.Three Republicans, Sens. Susan Collins of Maine, Lisa Murkowski of Alaska and Mitt Romney of Utah, joined all 50 Democrats in supporting President Biden's nominee. Vice President Kamala Harris, the first woman and first woman of color to hold the role, presided over the Senate during the vote.'On this vote, the yays are 53. The nays are 47 and this nomination is confirmed,' Harris said to rousing applause from senators.\"\n",
    "\n",
    "sentence_length = 2\n",
    "sentence_data = print_sentences(sample_html,sentence_length)\n",
    "\n",
    "# Test None is returned\n",
    "assert sentence_data == None, \"Please verify that your print_sentences function does not return any data, but prints a desired number of sentences.\"\n",
    "\n",
    "# Test sentences, TextBlob, and print statement used:\n",
    "textblob_check = False\n",
    "print_check = False\n",
    "sentences_check = False\n",
    "loop_check = False\n",
    "\n",
    "list_time_lines = inspect.getsource(print_sentences)\n",
    "code_lines = list_time_lines.splitlines()\n",
    "\n",
    "for line in code_lines:\n",
    "    if \"TextBlob\" in line:\n",
    "        textblob_check = True\n",
    "    elif \"print\" in line:\n",
    "        print_check = True\n",
    "        \n",
    "    if \"sentence\" in line:\n",
    "        sentences_check = True\n",
    "    if \"for\" in line and \"in\" in line:\n",
    "        loop_check = True\n",
    "\n",
    "assert textblob_check == True, \"Please verify you've used TextBlob in your print_sentences function\"\n",
    "assert print_check == True,  \"Please verify you've printed out sentences in your print_sentences function\"\n",
    "assert sentences_check == True, \"Please verify you've isolated sentences in your print_sentences function\"\n",
    "assert loop_check == True, \"Please verify you've looped through sentences as part of your print_sentences function\""
   ]
  },
  {
   "cell_type": "code",
   "execution_count": 75,
   "id": "15a35843-2e7c-4664-9d95-e6b8a3703609",
   "metadata": {
    "deletable": false,
    "editable": false,
    "nbgrader": {
     "cell_type": "code",
     "checksum": "c0629d4741026d7e5890a7212fb27a1b",
     "grade": true,
     "grade_id": "cell-3a25b6898afbf1a6",
     "locked": true,
     "points": 2,
     "schema_version": 3,
     "solution": false,
     "task": false
    },
    "tags": []
   },
   "outputs": [],
   "source": [
    "# GRADED TEST CASE 3: This cell should not deliver any errors when this cell is run\n",
    "\n",
    "# Function readability(text)\n",
    "sample_text = \"Ketanji Brown Jackson confirmed to Supreme Court, making history as first Black female justiceJacksonville ShootingTropical Storm IdaliaTrump InvestigationsAI In ClassroomsCBS News LiveManaging Your MoneyNewslettersNewsUSWorldPoliticsEntertainmentHealthWatchMoneyWatchCBS VillageTechnologyScienceCrimeSportsEssentialsHurricane Idalia path, timeline: When and where storm will hit FloridaJudge sets March 2024 trial date in Trump's federal election caseHere's what experts say to know about new COVID variant BA.2.86Former Trump chief of staff Mark Meadows takes the stand in Georgia case'Armed and dangerous' person reported on UNC campusDeSantis booed at vigil for Jacksonville shooting victimsUgandan man faces possible death penalty under draconian anti-gay lawJoe the Plumber, who questioned Obama on his tax plans, dead at49Student loan repayments are set to resume. Here's what to know.ShowsCBS MorningsCBS Evening News60 MinutesCBS Saturday MorningFace the NationSunday Morning48 HoursCBS ReportsCBS News MorningsAmerica DecidesPrime Time with John DickersonCBS News WeekenderThe TakeoutThe UpliftEye On AmericaThe DishHere Comes the SunPerson To PersonLiveCBS News LiveCBS News BaltimoreCBS News Bay AreaCBS News BostonCBS News ChicagoCBS News ColoradoCBS News DetroitCBS News Los AngelesCBS News MiamiCBS News MinnesotaCBS News New YorkCBS News PhiladelphiaCBS News PittsburghCBS News SacramentoCBS News TexasCBS Sports HQMixibleLocalAtlantaBaltimoreBay AreaBostonChicagoColoradoDetroitLos AngelesMiamiMinnesotaNew YorkPhiladelphiaPittsburghSacramentoSeattleTampaTexasMoreLatestVideoPhotosPodcastsIn DepthLocalA Moment With…Innovators & DisruptorsLog InNewslettersMobileRSSCBS StoreParamount+Join Our Talent CommunityDavos 2023SearchSearchLoginWatch CBS NewsKetanji Brown Jackson confirmed to Supreme Court, making history as first Black female justiceget the free apphttps://www.cbsnews.com/news/ketanji-brown-jackson-supreme-court-senate-confirmation-first-black-woman/link copiedBy Melissa QuinnUpdated on:  April 7, 2022 / 7:13 PM/ CBS NewsFirst Black woman confirmed to Supreme CourtKetanji Brown Jackson becomes first Black woman confirmed to Supreme Court03:19Washington —The Senate voted to confirmJudge Ketanji Brown Jacksonto the Supreme Court on Thursday, cementing her place in history as the first Black woman to serve on the nation's highest court.Jackson's confirmation as the 116th justice in U.S. history received bipartisan backing, with a final vote of 53 to 47 in the upper chamber.Three Republicans, Sens. Susan Collins of Maine, Lisa Murkowski of Alaska and Mitt Romney of Utah, joined all 50 Democrats in supporting President Biden's nominee. Vice President Kamala Harris, the first woman and first woman of color to hold the role, presided over the Senate during the vote.'On this vote, the yays are 53. The nays are 47 and this nomination is confirmed,' Harris said to rousing applause from senators.\"\n",
    "readability(sample_text)\n",
    "\n",
    "# Verify dalechall_score used\n",
    "dalechall_score_check = False\n",
    "\n",
    "list_time_lines = inspect.getsource(readability)\n",
    "code_lines = list_time_lines.splitlines()\n",
    "\n",
    "for line in code_lines:\n",
    "    if \"dalechall_score\" in line:\n",
    "        dalechall_score_check = True\n",
    "\n",
    "assert readability(sample_text) == 12.26130911567996, \"Please verify you've implemented your readability function correctly\"\n",
    "assert dalechall_score_check == True, \"Please verify you've implemented your function with the dalechall_score\""
   ]
  },
  {
   "cell_type": "code",
   "execution_count": 70,
   "id": "0d065269-1a40-4c20-9d49-055639a22d32",
   "metadata": {
    "deletable": false,
    "editable": false,
    "nbgrader": {
     "cell_type": "code",
     "checksum": "9c973ad23d735eade8feafd05489b65e",
     "grade": true,
     "grade_id": "cell-5ff291336958beff",
     "locked": true,
     "points": 1,
     "schema_version": 3,
     "solution": false,
     "task": false
    },
    "tags": []
   },
   "outputs": [],
   "source": [
    "# GRADED TEST CASE 4: This cell should not deliver any errors when this cell is run\n",
    "sample_text = \"Ketanji Brown Jackson confirmed to Supreme Court, making history as first Black female justiceJacksonville ShootingTropical Storm IdaliaTrump InvestigationsAI In ClassroomsCBS News LiveManaging Your MoneyNewslettersNewsUSWorldPoliticsEntertainmentHealthWatchMoneyWatchCBS VillageTechnologyScienceCrimeSportsEssentialsHurricane Idalia path, timeline: When and where storm will hit FloridaJudge sets March 2024 trial date in Trump's federal election caseHere's what experts say to know about new COVID variant BA.2.86Former Trump chief of staff Mark Meadows takes the stand in Georgia case'Armed and dangerous' person reported on UNC campusDeSantis booed at vigil for Jacksonville shooting victimsUgandan man faces possible death penalty under draconian anti-gay lawJoe the Plumber, who questioned Obama on his tax plans, dead at49Student loan repayments are set to resume. Here's what to know.ShowsCBS MorningsCBS Evening News60 MinutesCBS Saturday MorningFace the NationSunday Morning48 HoursCBS ReportsCBS News MorningsAmerica DecidesPrime Time with John DickersonCBS News WeekenderThe TakeoutThe UpliftEye On AmericaThe DishHere Comes the SunPerson To PersonLiveCBS News LiveCBS News BaltimoreCBS News Bay AreaCBS News BostonCBS News ChicagoCBS News ColoradoCBS News DetroitCBS News Los AngelesCBS News MiamiCBS News MinnesotaCBS News New YorkCBS News PhiladelphiaCBS News PittsburghCBS News SacramentoCBS News TexasCBS Sports HQMixibleLocalAtlantaBaltimoreBay AreaBostonChicagoColoradoDetroitLos AngelesMiamiMinnesotaNew YorkPhiladelphiaPittsburghSacramentoSeattleTampaTexasMoreLatestVideoPhotosPodcastsIn DepthLocalA Moment With…Innovators & DisruptorsLog InNewslettersMobileRSSCBS StoreParamount+Join Our Talent CommunityDavos 2023SearchSearchLoginWatch CBS NewsKetanji Brown Jackson confirmed to Supreme Court, making history as first Black female justiceget the free apphttps://www.cbsnews.com/news/ketanji-brown-jackson-supreme-court-senate-confirmation-first-black-woman/link copiedBy Melissa QuinnUpdated on:  April 7, 2022 / 7:13 PM/ CBS NewsFirst Black woman confirmed to Supreme CourtKetanji Brown Jackson becomes first Black woman confirmed to Supreme Court03:19Washington —The Senate voted to confirmJudge Ketanji Brown Jacksonto the Supreme Court on Thursday, cementing her place in history as the first Black woman to serve on the nation's highest court.Jackson's confirmation as the 116th justice in U.S. history received bipartisan backing, with a final vote of 53 to 47 in the upper chamber.Three Republicans, Sens. Susan Collins of Maine, Lisa Murkowski of Alaska and Mitt Romney of Utah, joined all 50 Democrats in supporting President Biden's nominee. Vice President Kamala Harris, the first woman and first woman of color to hold the role, presided over the Senate during the vote.'On this vote, the yays are 53. The nays are 47 and this nomination is confirmed,' Harris said to rousing applause from senators.\"\n",
    "\n",
    "# Function 4 sentiment(text):\n",
    "assert sentiment(sample_text) == 0.10331088664421999, \"Please verify you've implemented your sentiment function accurately\""
   ]
  },
  {
   "cell_type": "markdown",
   "id": "cace715c-2c61-4ecf-a8aa-1d60f8d15401",
   "metadata": {
    "tags": []
   },
   "source": [
    "### Step 8: Submit your Work for Grading"
   ]
  },
  {
   "cell_type": "markdown",
   "id": "d689cd88-efdb-4888-acb8-cf37c3ba1d5e",
   "metadata": {
    "tags": []
   },
   "source": [
    "To receive a final score for your work, please select the \"Submit Assignment\" button at the top of your lab."
   ]
  }
 ],
 "metadata": {
  "kernelspec": {
   "display_name": "Python 3 (ipykernel)",
   "language": "python",
   "name": "python3"
  },
  "language_info": {
   "codemirror_mode": {
    "name": "ipython",
    "version": 3
   },
   "file_extension": ".py",
   "mimetype": "text/x-python",
   "name": "python",
   "nbconvert_exporter": "python",
   "pygments_lexer": "ipython3",
   "version": "3.11.4"
  }
 },
 "nbformat": 4,
 "nbformat_minor": 5
}
