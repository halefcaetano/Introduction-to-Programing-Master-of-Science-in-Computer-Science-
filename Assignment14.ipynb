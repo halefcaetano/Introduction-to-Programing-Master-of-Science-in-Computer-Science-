{
 "cells": [
  {
   "cell_type": "markdown",
   "id": "7d72a21c-52bc-448a-8931-54bcad8302b7",
   "metadata": {},
   "source": [
    "# Programming Assignment 14"
   ]
  },
  {
   "cell_type": "markdown",
   "id": "140bcba3-ea14-4441-b516-35543e23eceb",
   "metadata": {},
   "source": [
    "## Assignment Instructions"
   ]
  },
  {
   "cell_type": "markdown",
   "id": "fa7e56f5-00f2-4498-96b4-ef3ec55341a2",
   "metadata": {},
   "source": [
    "In this assignment, you will use the requests package and your understanding of JSON objects to build a very basic web browser in just a few lines of code.  We’ll limit it to connection only to Wikipedia – and only display limited information.  The user will be able to type in the exact Wikipedia article (for example, “Ball_State_University”).  Your program will connect to Wikipedia API, retrieve the JSON object, split out the information of interest, and print it to the screen. \n",
    "\n",
    "##### You should carefully study the following the Live Coding lectures: \n",
    "\n",
    "* “Using python to connect to an API: the requests package” shows how to use the requests package to connect to Wikipedia and retrieve a JSON object for an article. \n",
    "\n",
    "* “Exploring JSON structure” shows how to access complex internal JSON structures to extract the desired information, using an example JSON object. \n",
    "\n",
    "* You’ll need to use the techniques from the second Live Coding lecture to extract the information that you need from the Wikipedia JSON that is retrieved using the techniques for the first lecture. \n",
    "\n",
    "The function definitions for this lab are relatively general – and structured more like something you’d want to write for yourself, instead of an assignment.  However, we still need to make it gradable, so that you can have the instant feedback that is so important for learning – so we’ll define the function names, arguments, and return values for that purpose. \n",
    "\n",
    "- #### Function 1: get_Wikipedia_json_for_title(article_title) \n",
    "Write a function that will connect to Wikipedia and request an article of a specific title (passed to the function as a string). The function will return the JSON object received. \n",
    "\n",
    "\n",
    "\n",
    "- #### Function 2: json_title_and_toc(json_obj) \n",
    "Write a function that will accept a JSON object, and return a string that contains relevant information about the article sections.  The returned information must match the format shown below.  Each section will be returned as a line in the string, formatted exactly in this manner: \n",
    "\n",
    "    - *Section#: Title of section*\n",
    "\n",
    "    - In the returned string, the # sign indicates the section number as stored in the JSON object, with no space between the word “Section” and the number. \n",
    "\n",
    "        - Is this totally arbitrary that I specify it this way?  Yes!  Does it help illustrate the point that when we work with data and write programs, we often must get something exactly correct in order for it to work?  Absolutely.  Very frequently, we encounter weird formatting requirements, and one character of a difference can cause the whole program to fail.  (In this case, it will not pass the grading requirements!) \n",
    "\n",
    " \n",
    "\n",
    "#### Main program \n",
    "\n",
    "As usual, main() is provided.  In this case, though, there is an annoying issue that should probably be fixed (but is optional!).  If you are up for a challenge, make it so that your program will NOT crash if you enter a title for an article that does not exist in Wikipedia (such as the article “asoidfjklwqer;ewqm”). \n",
    " "
   ]
  },
  {
   "cell_type": "markdown",
   "id": "c663d14a-f174-4019-96f0-a90e21683a16",
   "metadata": {
    "tags": []
   },
   "source": [
    "#### Sample Outputs\n"
   ]
  },
  {
   "cell_type": "markdown",
   "id": "86350c58-e333-4ee1-949d-d895018916dd",
   "metadata": {
    "tags": []
   },
   "source": [
    "**Sample Output 1:**\n",
    "Please enter a wikipedia article title, with _ for spaces enter \"quit\" to exit:  \n",
    "**User Input** The_Wizard_of_Oz   \n",
    "\n",
    "The Wizard of Oz   \n",
    "Section1: Adaptations of the novel   \n",
    "Section1.1: Film   \n",
    "Section1.2: Television and video   \n",
    "Section1.3: Musicals and concerts   \n",
    "Section1.4: Gaming   \n",
    "Section2: People nicknamed \"Wizard of Oz\"   \n",
    "Section3: Other uses   \n",
    "Section4: See also   \n",
    " "
   ]
  },
  {
   "cell_type": "markdown",
   "id": "5412288b-812c-485a-929f-a7798e57d6a0",
   "metadata": {
    "tags": []
   },
   "source": [
    "**Sample Output 2:**  \n",
    "Please enter a wikipedia article title, with _ for spaces enter \"quit\" to exit:  \n",
    "**User Input** Zappa\n",
    "\n",
    "Zappa"
   ]
  },
  {
   "cell_type": "markdown",
   "id": "5968eb64-df2e-4baf-8d57-d5f412f4cce2",
   "metadata": {
    "tags": []
   },
   "source": [
    "**Sample Output 3:**  \n",
    "Please enter a wikipedia article title, with _ for spaces enter \"quit\" to exit:  \n",
    "**User Input**  Frank_Zappa  \n",
    "\n",
    "Frank Zappa \n",
    "Section1: 1940s–1960s: early life and career   \n",
    "Section1.1: Childhood   \n",
    "Section1.2: First musical interests   \n",
    "Section1.3: Studio Z   \n",
    "Section2: Late 1960s: the Mothers of Invention \n",
    "Section2.1: Formation    \n",
    "Section2.2: Debut album: <i>Freak Out!</i>    \n",
    "Section2.3: New York period (1966–1968)    \n",
    "Section2.4: Disbandment    \n",
    "Section3: 1970s    \n",
    "Section3.1: Rebirth of the Mothers and filmmaking    \n",
    "Section3.2: Accident, attack, and aftermath    \n",
    "Section3.3: Solo albums: Waka/Jawaka and The Grand Wazoo    \n",
    "Section3.4: Top 10 album: <i>Apostrophe (<span>&#39;</span>)</i>    \n",
    "Section3.5: Business breakups and touring    \n",
    "Section3.6: Zappa Records label    \n",
    "Section4: 1980s–1990s    \n",
    "Section4.1: \"Valley Girl\" and classical performances    \n",
    "Section4.2: Synclavier works    \n",
    "Section4.3: Merchandising    \n",
    "Section4.4: Digital medium and last tour    \n",
    "Section4.5: Health deterioration    \n",
    "Section5: Death    \n",
    "Section6: Musical style and development    \n",
    "Section6.1: Genres    \n",
    "Section6.2: Influences    \n",
    "Section6.3: Project/Object    \n",
    "Section6.4: Techniques    \n",
    "Section6.4.1: Guitar playing    \n",
    "Section6.4.2: Tape manipulation    \n",
    "Section7: Personal life    \n",
    "Section8: Beliefs and politics    \n",
    "Section8.1: Drugs    \n",
    "Section8.2: Government and religion    \n",
    "Section8.3: Anti-censorship    \n",
    "Section9: Legacy    \n",
    "Section9.1: Acclaim and honors    \n",
    "Section9.1.1: Grammy Awards    \n",
    "Section9.2: Artists influenced by Zappa    \n",
    "Section9.3: References in arts and sciences    \n",
    "Section9.4: <i>Zappa</i> documentary    \n",
    "Section10: Discography    \n",
    "Section11: Tour    \n",
    "Section12: See also    \n",
    "Section13: Notes    \n",
    "Section14: References    \n",
    "Section15: Bibliography    \n",
    "Section16: External links    "
   ]
  },
  {
   "cell_type": "markdown",
   "id": "ed00913a-e919-4aba-a238-01d2412b4b7f",
   "metadata": {
    "tags": []
   },
   "source": [
    "**Sample Output 4:**\n",
    "Please enter a wikipedia article title, with _ for spaces enter \"quit\" to exit:  \n",
    "**User Input** Python_(programming_language)  \n",
    "\n",
    "Python (programming language)   \n",
    "Section1: History   \n",
    "Section2: Design philosophy and features   \n",
    "Section3: Syntax and semantics   \n",
    "Section3.1: Indentation   \n",
    "Section3.2: Statements and control flow   \n",
    "Section3.3: Expressions   \n",
    "Section3.4: Methods   \n",
    "Section3.5: Typing   \n",
    "Section3.6: Arithmetic operations   \n",
    "Section4: Programming examples   \n",
    "Section5: Libraries   \n",
    "Section6: Development environments   \n",
    "Section7: Implementations   \n",
    "Section7.1: Reference implementation   \n",
    "Section7.2: Other implementations   \n",
    "Section7.3: Unsupported implementations   \n",
    "Section7.4: Cross-compilers to other languages   \n",
    "Section7.5: Performance   \n",
    "Section8: Development   \n",
    "Section9: API documentation generators   \n",
    "Section10: Naming   \n",
    "Section11: Popularity   \n",
    "Section12: Uses   \n",
    "Section13: Languages influenced by Python   \n",
    "Section14: See also   \n",
    "Section15: References   \n",
    "Section15.1: Sources   \n",
    "Section16: Further reading   \n",
    "Section17: External links   "
   ]
  },
  {
   "cell_type": "markdown",
   "id": "d4eeeec7-a81c-4afe-9c79-1cdf3dd18421",
   "metadata": {
    "tags": []
   },
   "source": [
    "**Sample Output 5:**\n",
    "Please enter a wikipedia article title, with _ for spaces enter \"quit\" to exit:  \n",
    "**User Input** Ball_State_University   \n",
    "\n",
    "Ball State University    \n",
    "Section1: History    \n",
    "Section1.1: Predecessor schools    \n",
    "Section1.2: The Ball brothers and Ball State Teachers College era (1917–1960)    \n",
    "Section1.3: Independent institution (1961-present)    \n",
    "Section2: Campus    \n",
    "Section2.1: Main campus    \n",
    "Section2.2: Campus transportation    \n",
    "Section2.3: Athletic facilities    \n",
    "Section2.4: Architecture       \n",
    "Section2.5: Sustainability    \n",
    "Section2.5.1: Geothermal system    \n",
    "Section2.6: Satellite facilities    \n",
    "Section3: Academics    \n",
    "Section3.1: Student body    \n",
    "Section3.2: Tuition    \n",
    "Section3.3: Colleges    \n",
    "Section3.4: Library system    \n",
    "Section3.5: Rankings    \n",
    "Section4: Student life    \n",
    "Section4.1: Housing    \n",
    "Section4.2: Student organizations and activities    \n",
    "Section4.3: Media    \n",
    "Section4.3.1: <i>Ball State Daily News</i>    \n",
    "Section4.3.2: <i>Ball Bearings</i> magazine    \n",
    "Section4.3.3: Byte    \n",
    "Section4.3.4: Cardinal Metrics    \n",
    "Section4.3.5: Cardinal WX    \n",
    "Section4.3.6: NewsLink Indiana    \n",
    "Section4.3.7: Ball State Sports Link    \n",
    "Section4.3.8: WCRD    \n",
    "Section4.3.9: The McKinley Avenue Agency    \n",
    "Section4.3.10: Ball State Public Media    \n",
    "Section5: Athletics    \n",
    "Section6: Traditions    \n",
    "Section6.1: <i>Beneficence</i>    \n",
    "Section6.2: <i>Frog Baby</i>    \n",
    "Section6.3: <i>The Naked Lady</i>    \n",
    "Section6.4: Homecoming    \n",
    "Section6.5: Other traditions    \n",
    "Section7: Notable alumni    \n",
    "Section8: See also    \n",
    "Section9: Notes    \n",
    "Section10: References    \n",
    "Section11: Further reading    \n",
    "Section12: External links   "
   ]
  },
  {
   "cell_type": "markdown",
   "id": "e10511f7-edcf-4aed-a81c-03038ae8705b",
   "metadata": {
    "tags": []
   },
   "source": [
    "Coursera**Sample Output 6:**  \n",
    "Please enter a wikipedia article title, with _ for spaces enter \"quit\" to exit:  \n",
    "**User Input**  Coursera  \n",
    "\n",
    "Coursera   \n",
    "Section1: History   \n",
    "Section1.1: Finances   \n",
    "Section1.2: Funding   \n",
    "Section1.3: Business model   \n",
    "Section2: Strategic partners   \n",
    "Section3: Product and services   \n",
    "Section3.1: Courses   \n",
    "Section3.2: Degrees   \n",
    "Section3.3: Professional certificate   \n",
    "Section4: Impact   \n",
    "Section4.1: Outreach and sponsorship programs   \n",
    "Section5: References   \n",
    "Section6: External links   "
   ]
  },
  {
   "cell_type": "markdown",
   "id": "716088b8-2833-4e08-913c-b925def2f744",
   "metadata": {
    "tags": []
   },
   "source": [
    "**Sample Output 7:**  \n",
    "Please enter a wikipedia article title, with _ for spaces enter \"quit\" to exit:  \n",
    "**User Input**  quit "
   ]
  },
  {
   "cell_type": "markdown",
   "id": "c8a6ba59-d628-4bbb-9a06-7bf0ef55cacb",
   "metadata": {
    "tags": []
   },
   "source": [
    "## Let's start coding!"
   ]
  },
  {
   "cell_type": "markdown",
   "id": "39532d65-9907-4a07-afae-8f6ed57a100f",
   "metadata": {
    "tags": []
   },
   "source": [
    "#### Using this Notebook "
   ]
  },
  {
   "cell_type": "markdown",
   "id": "6a8c2887-c13e-48f4-a6d5-be6d7e86177f",
   "metadata": {
    "tags": []
   },
   "source": [
    "Notice that some of the cells are not able to be edited – they are just meant to be run to test your code, and perform the auto grading. You should begin at the top and execute each code cell, adding your code when you see # YOUR CODE HERE. If you have written the functions correctly, you should see no errors.\n",
    "\n",
    "When you execute the TEST CASES cell, what you want to see is no output. You may want to intentionally make the function give a wrong result, so that you can see what the error message looks like – and then fix your function. Once you execute the TEST CASES cell, and get no output, then your function is most likely correct!"
   ]
  },
  {
   "cell_type": "code",
   "execution_count": null,
   "id": "77996c36-460c-47d0-8f45-f6760469b6dd",
   "metadata": {
    "deletable": false,
    "editable": false,
    "nbgrader": {
     "cell_type": "code",
     "checksum": "3fbe4de6f73f0be6293e5cd910edc2a2",
     "grade": false,
     "grade_id": "cell-03d9b7788c0bebf2",
     "locked": true,
     "schema_version": 3,
     "solution": false,
     "task": false
    },
    "tags": []
   },
   "outputs": [],
   "source": [
    "## import all dependencies\n",
    "import requests # for http connections\n",
    "import json, inspect"
   ]
  },
  {
   "cell_type": "markdown",
   "id": "6ce92287-24fe-465f-98a8-31674d168340",
   "metadata": {},
   "source": [
    "### Step 1: Write function get_Wikipedia_json_for_title()"
   ]
  },
  {
   "cell_type": "code",
   "execution_count": 273,
   "id": "263f1588-91c0-4960-b863-405d5bb0c78f",
   "metadata": {
    "deletable": false,
    "nbgrader": {
     "cell_type": "code",
     "checksum": "7987add980e24edb303b9030b69d6961",
     "grade": false,
     "grade_id": "cell-44a0994fc0d12898",
     "locked": false,
     "schema_version": 3,
     "solution": true,
     "task": false
    },
    "tags": []
   },
   "outputs": [],
   "source": [
    "### GRADED FUNCTION: Write the function \"get_Wikipedia_json_for_title()\"\n",
    "\n",
    "def get_Wikipedia_json_for_title(article_title):\n",
    "    ''' Write a function that will connect to Wikipedia and get an article \n",
    "    of a specific title, returning the json object '''\n",
    "    url = 'https://en.wikipedia.org/w/api.php?action=parse&page=' + article_title +'&format=json'\n",
    "    response = requests.get(url)\n",
    "    json = response.json()      \n",
    "    return json"
   ]
  },
  {
   "cell_type": "code",
   "execution_count": null,
   "id": "5127b20f-af1f-4548-b8e1-644ac25aa427",
   "metadata": {
    "tags": []
   },
   "outputs": [],
   "source": [
    "## Try out your function with a sample article title input\n",
    "article_title = \"The_Wizard_of_Oz\"\n",
    "wiki_data = get_Wikipedia_json_for_title(article_title)\n",
    "print(wiki_data)"
   ]
  },
  {
   "cell_type": "code",
   "execution_count": null,
   "id": "3223c8ae-89dc-4d52-b09c-97cb0df210bd",
   "metadata": {},
   "outputs": [],
   "source": []
  },
  {
   "cell_type": "markdown",
   "id": "d74e1b2f-f57c-4214-9d85-c856da125bef",
   "metadata": {
    "tags": []
   },
   "source": [
    "### Step 2: Write function json_title_and_toc()"
   ]
  },
  {
   "cell_type": "code",
   "execution_count": 271,
   "id": "157c3cf3-89f3-49ad-ba04-b79a77299a8f",
   "metadata": {
    "deletable": false,
    "nbgrader": {
     "cell_type": "code",
     "checksum": "34e75496b5bdae2d4274deca74768871",
     "grade": false,
     "grade_id": "cell-58341e91ad0b7cba",
     "locked": false,
     "schema_version": 3,
     "solution": true,
     "task": false
    },
    "tags": []
   },
   "outputs": [],
   "source": [
    "### GRADED FUNCTION:  Write a second function called \"json_title_and_toc\"\n",
    "\n",
    "def json_title_and_toc(json_obj):\n",
    "    ''' Write a function that will accept a json object, and \n",
    "    return a string that contains relevant information about the article sections '''\n",
    "    json = json_obj['parse']['sections']\n",
    "    string = str(json_obj['parse']['title'])\n",
    "    for i in range (0, len(json)):\n",
    "        string += f\"\\nSection{json[i]['number']}: {json[i]['line']}\"\n",
    "    return string"
   ]
  },
  {
   "cell_type": "code",
   "execution_count": 272,
   "id": "e81ea684-33f4-4054-abc9-3725383db979",
   "metadata": {
    "tags": []
   },
   "outputs": [
    {
     "name": "stdout",
     "output_type": "stream",
     "text": [
      "Coursera\n",
      "Section1: History\n",
      "Section1.1: Finances\n",
      "Section1.2: Funding\n",
      "Section1.3: Business model\n",
      "Section2: Strategic partners\n",
      "Section3: Product and services\n",
      "Section3.1: Courses\n",
      "Section3.2: Degrees\n",
      "Section3.3: Professional certificate\n",
      "Section4: Impact\n",
      "Section4.1: Outreach and sponsorship programs\n",
      "Section5: References\n",
      "Section6: External links\n"
     ]
    }
   ],
   "source": [
    "## Try out your function using the short json_object returned from get_Wikipedia_json_for_title()\n",
    "article_title = \"Coursera\"\n",
    "wiki_data = get_Wikipedia_json_for_title(article_title)\n",
    "summary = json_title_and_toc(wiki_data)\n",
    "\n",
    "print(summary)"
   ]
  },
  {
   "cell_type": "code",
   "execution_count": null,
   "id": "fecc068b-7f1e-467c-b25e-d47c67eaa0bb",
   "metadata": {
    "tags": []
   },
   "outputs": [],
   "source": [
    "def main():\n",
    "    while True:\n",
    "        print('\\nPlease enter a wikipedia article title, with _ for spaces')\n",
    "        title = input('enter \"quit\" to exit: ')\n",
    "        if title == 'quit':\n",
    "            break\n",
    "        json_response = get_Wikipedia_json_for_title(title)\n",
    "        article_summary = json_title_and_toc(json_response)\n",
    "        print(article_summary)\n",
    "    \n",
    "main()"
   ]
  },
  {
   "cell_type": "markdown",
   "id": "ad0475ba-fd69-43c7-9621-918d778a5c7b",
   "metadata": {},
   "source": [
    "### Step 3: Testing Your Work"
   ]
  },
  {
   "cell_type": "markdown",
   "id": "03ff9aea-7fed-4f6c-8a37-690638a8c65c",
   "metadata": {},
   "source": [
    "Your work will be autograded based on your function outputs for the test cases below. The next cell shows how the auto-grading tests are executed.  \n",
    "\n",
    "Several possible cases are run through the function, and the results are tested against that actual correct answer. If you run the test cell and there is no output, then the tests all passed – Great!"
   ]
  },
  {
   "cell_type": "code",
   "execution_count": 274,
   "id": "f4707b20-4abc-49fa-a5a5-55d94d389c66",
   "metadata": {
    "deletable": false,
    "editable": false,
    "nbgrader": {
     "cell_type": "code",
     "checksum": "52acdf1e678bb15f6f53f8af1903abbd",
     "grade": true,
     "grade_id": "cell-19240d2478ff1f89",
     "locked": true,
     "points": 2,
     "schema_version": 3,
     "solution": false,
     "task": false
    },
    "tags": []
   },
   "outputs": [],
   "source": [
    "# GRADED TEST CASES 1: This cell should not deliver any errors when this cell is run\n",
    "\n",
    "# Function 1: Errors if parameter provided is not a valid string\n",
    "article_title = 3\n",
    "non_string_error = False\n",
    "\n",
    "try:\n",
    "    response = get_Wikipedia_json_for_title(article_title)\n",
    "    non_string_error = False\n",
    "except:\n",
    "    non_string_error = True\n",
    "\n",
    "assert non_string_error == True, \"Please verify your function only takes string inputs\""
   ]
  },
  {
   "cell_type": "code",
   "execution_count": 275,
   "id": "5ecf72c2-afcb-4509-933d-65eb65333970",
   "metadata": {
    "deletable": false,
    "editable": false,
    "nbgrader": {
     "cell_type": "code",
     "checksum": "34e165e130d9c89db70fc11bcede471a",
     "grade": true,
     "grade_id": "cell-972625f7aab31e18",
     "locked": true,
     "points": 6,
     "schema_version": 3,
     "solution": false,
     "task": false
    },
    "tags": []
   },
   "outputs": [],
   "source": [
    "# GRADED TEST CASES 2: This cell should not deliver any errors when this cell is run\n",
    "# Function 1: Checks for a valid json response\n",
    "\n",
    "json_url_syntax = False\n",
    "returns_data_response = False\n",
    "json_check = False\n",
    "response_handled = False\n",
    "\n",
    "#### Function returns data without error\n",
    "try:\n",
    "    response = get_Wikipedia_json_for_title(\"The_Wizard_of_Oz\")\n",
    "    returns_data_response = True\n",
    "except:\n",
    "    returns_data_response = False\n",
    "\n",
    "\n",
    "## Checks that the url response is not the requests type\n",
    "response = get_Wikipedia_json_for_title(\"Frank Zappa\")\n",
    "\n",
    "if type(response) is requests.models.Response:\n",
    "    response_handled = False\n",
    "else:\n",
    "    response_handled = True\n",
    "\n",
    "    \n",
    "## Checks for json in dict from response.json()\n",
    "try:\n",
    "    response = get_Wikipedia_json_for_title(\"Python_(programming_language)\")\n",
    "    if type(response) is dict and \"parse\" in response:\n",
    "        json_check = True\n",
    "    data = json.dumps(response, indent=4, sort_keys=True) # check dict to json conversion with pretty print\n",
    "    newdata = json.loads(data) # check json to python conversion\n",
    "except:\n",
    "    json_check = False\n",
    "    \n",
    "assert returns_data_response == True, \"Please verify your function returns data correctly without erroring.\"\n",
    "assert json_check == True, \"Please verify data is returned in a json parsable format\"\n",
    "assert response_handled == True, \"Please verify that you've returned the correct data type from your URL response\""
   ]
  },
  {
   "cell_type": "code",
   "execution_count": 276,
   "id": "15a35843-2e7c-4664-9d95-e6b8a3703609",
   "metadata": {
    "deletable": false,
    "editable": false,
    "nbgrader": {
     "cell_type": "code",
     "checksum": "b35f7d0f1ac5cfe50deadb910b1afbb9",
     "grade": true,
     "grade_id": "cell-3a25b6898afbf1a6",
     "locked": true,
     "points": 2,
     "schema_version": 3,
     "solution": false,
     "task": false
    },
    "tags": []
   },
   "outputs": [],
   "source": [
    "# GRADED TEST CASES 3: This cell should not deliver any errors when this cell is run\n",
    "# Function 2: Checks for specific section formatting\n",
    "\n",
    "def find_sections(article_title):\n",
    "    wiki_data = get_Wikipedia_json_for_title(article_title)\n",
    "    summary = json_title_and_toc(wiki_data)\n",
    "    lines = summary.splitlines()\n",
    "    count = 0\n",
    "    sections = []\n",
    "\n",
    "    for section in lines:\n",
    "        if count != 0:\n",
    "            if \"Section\" in section and \":\" in section:\n",
    "                sections.append(section)\n",
    "        count += 1\n",
    "    return sections\n",
    "\n",
    "assert find_sections(\"The_Wizard_of_Oz\") == ['Section1: Adaptations of the novel', 'Section1.1: Film', 'Section1.2: Television and video', 'Section1.3: Musicals and concerts', 'Section1.4: Gaming', 'Section2: People nicknamed \"Wizard of Oz\"', 'Section3: Other uses', 'Section4: See also'], \"Please verify that you've returned each section in the following format 'Section#: Title of section'\""
   ]
  },
  {
   "cell_type": "markdown",
   "id": "cace715c-2c61-4ecf-a8aa-1d60f8d15401",
   "metadata": {
    "tags": []
   },
   "source": [
    "### Step 4: Submit your Work for Grading"
   ]
  },
  {
   "cell_type": "markdown",
   "id": "d689cd88-efdb-4888-acb8-cf37c3ba1d5e",
   "metadata": {
    "tags": []
   },
   "source": [
    "To receive a final score for your work, please select the \"Submit Assignment\" button at the top of your lab."
   ]
  }
 ],
 "metadata": {
  "kernelspec": {
   "display_name": "Python 3 (ipykernel)",
   "language": "python",
   "name": "python3"
  },
  "language_info": {
   "codemirror_mode": {
    "name": "ipython",
    "version": 3
   },
   "file_extension": ".py",
   "mimetype": "text/x-python",
   "name": "python",
   "nbconvert_exporter": "python",
   "pygments_lexer": "ipython3",
   "version": "3.11.4"
  }
 },
 "nbformat": 4,
 "nbformat_minor": 5
}
