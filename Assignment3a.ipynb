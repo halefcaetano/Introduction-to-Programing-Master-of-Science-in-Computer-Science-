{
 "cells": [
  {
   "cell_type": "markdown",
   "id": "7d72a21c-52bc-448a-8931-54bcad8302b7",
   "metadata": {},
   "source": [
    "# Programming Assignment 3a"
   ]
  },
  {
   "cell_type": "markdown",
   "id": "140bcba3-ea14-4441-b516-35543e23eceb",
   "metadata": {},
   "source": [
    "## Assignment Instructions"
   ]
  },
  {
   "cell_type": "markdown",
   "id": "fa7e56f5-00f2-4498-96b4-ef3ec55341a2",
   "metadata": {},
   "source": [
    "Write two functions, described below.  Be sure to test your code against the test cases! Submit your code once your tests are passing.  \n",
    "Note: It is possible to earn partial credit for passing some of the tests, but not passing others.\n",
    "\n",
    "* #### Function 1:\n",
    "Define a function that takes no arguments but returns a random number between 1 and 6 (inclusive), using the random package's randrange() function.    \n",
    "This function can just be 1 line long, depending on how you want to write it. \n",
    "\n",
    "* #### Function 2:\n",
    "Define a second function that takes 3 arguments and returns the sum of the three numbers.  \n",
    "This function can also be just one line, depending on how you want to write it."
   ]
  },
  {
   "cell_type": "markdown",
   "id": "87c1f3ee-438c-415c-9784-ad57162ffd73",
   "metadata": {},
   "source": [
    "### Extension (optional)"
   ]
  },
  {
   "cell_type": "markdown",
   "id": "61fdf6d3-18bb-4dc2-a0bd-1e7c64b162a4",
   "metadata": {
    "tags": []
   },
   "source": [
    "If you want to turn these two functions into a fun program, you could write more lines of code (refer to the live coding videos for how to structure the main parts of your program, and where to place these functions).  This part is totally optional! \n",
    "\n",
    "* Start by printing a message telling the user that you are rolling 3 dice. \n",
    "\n",
    "* Use the function from above to generate a random number, storing it in a variable, and printing it out. \n",
    "\n",
    "* Repeat for a second die. \n",
    "\n",
    "* Repeat for a third die. \n",
    "\n",
    "* Use the other function from above to add together the values of these 3 dice roles, then print out the total for the user. "
   ]
  },
  {
   "cell_type": "markdown",
   "id": "c8a6ba59-d628-4bbb-9a06-7bf0ef55cacb",
   "metadata": {
    "tags": []
   },
   "source": [
    "## Let's start coding!"
   ]
  },
  {
   "cell_type": "code",
   "execution_count": 2,
   "id": "0b5d6eb7-d6df-4dd2-acb9-a76794309546",
   "metadata": {
    "tags": []
   },
   "outputs": [
    {
     "name": "stdout",
     "output_type": "stream",
     "text": [
      "Requirement already satisfied: nose in /opt/conda/lib/python3.11/site-packages (1.3.7)\n"
     ]
    }
   ],
   "source": [
    "# Install Necessary Dependencies\n",
    "!pip install nose\n",
    "import random\n",
    "from nose.tools import assert_equal"
   ]
  },
  {
   "cell_type": "markdown",
   "id": "6ce92287-24fe-465f-98a8-31674d168340",
   "metadata": {},
   "source": [
    "### Step 1: Roll a Single dice"
   ]
  },
  {
   "cell_type": "markdown",
   "id": "82f28585-d7b1-41fe-bbde-2248a9da4a27",
   "metadata": {
    "tags": []
   },
   "source": [
    "Notice that some of the cells are not able to be edited – they are just meant to be run to test your code, and perform the auto grading.  You should begin at the top and execute each code cell, adding your code when you see # YOUR CODE HERE.  If you have written the functions correctly, you should see no errors.\n",
    "\n",
    "When you execute the TEST CASES cell, what you want to see is no output.  You may want to intentionally make the function give a wrong result, so that you can see what the error message looks like – and then fix your function.  Once you execute the TEST CASES cell, and get no output, then your function is most likely correct!\n"
   ]
  },
  {
   "cell_type": "code",
   "execution_count": 8,
   "id": "3e9cc52d-2676-4568-afc0-cad192c99c9a",
   "metadata": {
    "deletable": false,
    "nbgrader": {
     "cell_type": "code",
     "checksum": "3c14ea92e579e80c69c21c281b011412",
     "grade": false,
     "grade_id": "cell-44a0994fc0d12898",
     "locked": false,
     "schema_version": 3,
     "solution": true,
     "task": false
    },
    "tags": []
   },
   "outputs": [
    {
     "name": "stdout",
     "output_type": "stream",
     "text": [
      "3\n"
     ]
    }
   ],
   "source": [
    "### GRADED FUNCTION 1: Write a function below to roll a single 6 sided die.\n",
    "\n",
    "def roll():\n",
    "    ''' roll a 6 sided die and return the result as an integer'''\n",
    "    number = random.randrange(1, 6)\n",
    "    return number\n"
   ]
  },
  {
   "cell_type": "code",
   "execution_count": 21,
   "id": "5127b20f-af1f-4548-b8e1-644ac25aa427",
   "metadata": {
    "deletable": false,
    "editable": false,
    "nbgrader": {
     "cell_type": "code",
     "checksum": "04a808755cb673ae45917b189b5267ec",
     "grade": false,
     "grade_id": "cell-5688a4494f5db8f1",
     "locked": true,
     "schema_version": 3,
     "solution": false,
     "task": false
    },
    "tags": []
   },
   "outputs": [
    {
     "name": "stdout",
     "output_type": "stream",
     "text": [
      "Your single role value is:  5\n"
     ]
    }
   ],
   "source": [
    "# Try out a single roll\n",
    "singleRoll = roll()\n",
    "print(\"Your single role value is: \", singleRoll)"
   ]
  },
  {
   "cell_type": "code",
   "execution_count": 23,
   "id": "a8a4978a-42f3-4a1f-a69c-0ebe1e2730a7",
   "metadata": {
    "deletable": false,
    "editable": false,
    "nbgrader": {
     "cell_type": "code",
     "checksum": "62779ab070744870e838604ceff3a74b",
     "grade": true,
     "grade_id": "cell-db80e0ef9e26012a",
     "locked": true,
     "points": 1,
     "schema_version": 3,
     "solution": false,
     "task": false
    },
    "tags": []
   },
   "outputs": [],
   "source": [
    "# TEST CASES: This cell should not deliver any errors when this cell is run\n",
    "assert roll() <= 7 and singleRoll >= 1, \"Not quite. Verify that you've accounted for a 6 side die and upper bounds of range. Your roll value %s \" % singleRoll"
   ]
  },
  {
   "cell_type": "markdown",
   "id": "d74e1b2f-f57c-4214-9d85-c856da125bef",
   "metadata": {
    "tags": []
   },
   "source": [
    "### Step 2: Get the total from all dice rolls"
   ]
  },
  {
   "cell_type": "code",
   "execution_count": 24,
   "id": "157c3cf3-89f3-49ad-ba04-b79a77299a8f",
   "metadata": {
    "deletable": false,
    "nbgrader": {
     "cell_type": "code",
     "checksum": "e91f306711cbcc57017934375e3d4a3a",
     "grade": false,
     "grade_id": "cell-58341e91ad0b7cba",
     "locked": false,
     "schema_version": 3,
     "solution": true,
     "task": false
    },
    "tags": []
   },
   "outputs": [],
   "source": [
    "### GRADED FUNCTION 2:  Write a function called \"total_throw\" below that adds 3 dice numbers together\n",
    "\n",
    "def total_throw(die1,die2,die3):\n",
    "    ''' return the total of 3 dice (6-sided) rolls as an integer'''\n",
    "    sum_numbers = die1 + die2 + die3\n",
    "    return sum_numbers\n"
   ]
  },
  {
   "cell_type": "code",
   "execution_count": 20,
   "id": "7de7b974-11c9-42ce-9719-cfaec53449ed",
   "metadata": {
    "tags": []
   },
   "outputs": [
    {
     "name": "stdout",
     "output_type": "stream",
     "text": [
      "Your throw value is:  8\n"
     ]
    }
   ],
   "source": [
    "# Try out a roll of three dice\n",
    "totalRoll = total_throw(1, 2, 5)\n",
    "print(\"Your throw value is: \", totalRoll)"
   ]
  },
  {
   "cell_type": "code",
   "execution_count": 18,
   "id": "4a4687de-b1f4-4676-9ecf-d184c107d152",
   "metadata": {
    "deletable": false,
    "editable": false,
    "nbgrader": {
     "cell_type": "code",
     "checksum": "23030aaa7d1723066a2b34d80933b11d",
     "grade": true,
     "grade_id": "cell-7a38aac5fa573393",
     "locked": true,
     "points": 1,
     "schema_version": 3,
     "solution": false,
     "task": false
    },
    "tags": []
   },
   "outputs": [],
   "source": [
    "# GRADED TEST CASES: This cell should not deliver any errors when this cell is run\n",
    "assert total_throw(1,1,1) <= 18 and totalRoll >= 3 and total_throw(1, 2, 5) == 8, \"Not quite. Verify that you've added the total of all dice. Your total roll value is %s \" % totalRoll"
   ]
  },
  {
   "cell_type": "markdown",
   "id": "ad0475ba-fd69-43c7-9621-918d778a5c7b",
   "metadata": {},
   "source": [
    "## Putting it all together"
   ]
  },
  {
   "cell_type": "markdown",
   "id": "03ff9aea-7fed-4f6c-8a37-690638a8c65c",
   "metadata": {},
   "source": [
    "### Step 3: Now let's put it all together\n",
    "Below is a program that will use your functions to roll 3 dice for the user.  You should try running this code several times, and notice how the random numbers are different each time."
   ]
  },
  {
   "cell_type": "code",
   "execution_count": 25,
   "id": "bc677e14-2548-457f-b2af-6866c9012f16",
   "metadata": {
    "tags": []
   },
   "outputs": [
    {
     "name": "stdout",
     "output_type": "stream",
     "text": [
      "Rolling 3 dice...\n",
      "You rolled a 1\n",
      "You rolled a 3\n",
      "You rolled a 2\n",
      "The total of your dice throw is 6\n"
     ]
    }
   ],
   "source": [
    "### BEGIN OPTIONAL SOLUTION\n",
    "# Tell the user we're ready to roll\n",
    "print('Rolling 3 dice...')\n",
    "# Roll 3 dice\n",
    "# Get the total of all 3 dice and print\n",
    "one = roll()\n",
    "print('You rolled a', one)\n",
    "two = roll()\n",
    "print('You rolled a', two)\n",
    "three = roll()\n",
    "print('You rolled a', three)\n",
    "total = total_throw(one, two, three)\n",
    "# report the total\n",
    "print('The total of your dice throw is',total )\n",
    "### END OPTIONAL SOLUTION"
   ]
  },
  {
   "cell_type": "code",
   "execution_count": null,
   "id": "8ac0f782-7df0-4c52-98fa-9f7a5549f9da",
   "metadata": {},
   "outputs": [],
   "source": []
  },
  {
   "cell_type": "code",
   "execution_count": null,
   "id": "63327803-2658-4e8b-877b-bfacdd5db4df",
   "metadata": {},
   "outputs": [],
   "source": []
  }
 ],
 "metadata": {
  "kernelspec": {
   "display_name": "Python 3 (ipykernel)",
   "language": "python",
   "name": "python3"
  },
  "language_info": {
   "codemirror_mode": {
    "name": "ipython",
    "version": 3
   },
   "file_extension": ".py",
   "mimetype": "text/x-python",
   "name": "python",
   "nbconvert_exporter": "python",
   "pygments_lexer": "ipython3",
   "version": "3.11.4"
  }
 },
 "nbformat": 4,
 "nbformat_minor": 5
}
