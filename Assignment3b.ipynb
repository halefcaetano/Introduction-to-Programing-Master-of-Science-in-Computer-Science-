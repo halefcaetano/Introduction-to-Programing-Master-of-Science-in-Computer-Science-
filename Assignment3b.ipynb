{
 "cells": [
  {
   "cell_type": "markdown",
   "metadata": {
    "tags": []
   },
   "source": [
    "# Programming Assignment 3b"
   ]
  },
  {
   "cell_type": "markdown",
   "metadata": {},
   "source": [
    "## Assignment Instructions"
   ]
  },
  {
   "cell_type": "markdown",
   "metadata": {},
   "source": [
    "Write two functions, described below. Be sure to test your code against the test cases! Submit your code once your tests are passing.  \n",
    "\n",
    "*Note: It is possible to earn partial credit for passing some of the tests, but not passing others.*"
   ]
  },
  {
   "cell_type": "markdown",
   "metadata": {},
   "source": [
    "### __Function 1__:  "
   ]
  },
  {
   "cell_type": "markdown",
   "metadata": {},
   "source": [
    "Write a function to calculate the area of a circle, using the formula `pi*r*r`.  If you want, you can use the constant math.pi instead of entering 3.14159.  "
   ]
  },
  {
   "cell_type": "markdown",
   "metadata": {},
   "source": [
    "### __Function 2__:  "
   ]
  },
  {
   "cell_type": "markdown",
   "metadata": {},
   "source": [
    "Write a function to calculate the circumference of a circle, using the formula `2*pi*r`. If you want, you can use the constant math.pi again.\n"
   ]
  },
  {
   "cell_type": "markdown",
   "metadata": {},
   "source": [
    "### Extension (Optional)  "
   ]
  },
  {
   "cell_type": "markdown",
   "metadata": {},
   "source": [
    "If you want to turn these two functions into a full program, you could write more lines of code (refer to the live coding videos for how to structure the main parts of your program, and where to place these functions).  This part is totally optional! \n",
    "\n",
    "\n",
    "Follow these instructions to create a python program that will give the user a menu of 3 options to choose from, and then take a different action depending on which option they choose.  They can either calculate the area of a circle, the circumference of a circle, or quit the program.  The program will continue to ask them for these options, until they choose to quit. \n",
    "\n",
    "* Prompt the user to select from these options:  Enter 1 to calculate the area, 2 to calculate the circumference, 0 to exit the program. \n",
    "\n",
    "* If they type a 1, prompt the user to enter a radius as a floating point number, then call your function to calculate the area.  Then, loop back to step 2. \n",
    "\n",
    "*  If they type a 2, prompt the user to enter a radius as a floating point number, then call your function to calculate the circumference. Then, loop back to step 2. \n",
    "\n",
    "*  If they type a 0, exit the program. "
   ]
  },
  {
   "cell_type": "markdown",
   "metadata": {},
   "source": [
    "## Let's start coding!"
   ]
  },
  {
   "cell_type": "markdown",
   "metadata": {},
   "source": [
    "#### Using this Notebook"
   ]
  },
  {
   "cell_type": "markdown",
   "metadata": {
    "tags": []
   },
   "source": [
    "Notice that some of the cells are not able to be edited – they are just meant to be run to test your code, and perform the auto grading. You should begin at the top and execute each code cell, adding your code when you see # YOUR CODE HERE. If you have written the functions correctly, you should see no errors.\n",
    "\n",
    "When you execute the TEST CASES cell, what you want to see is no output. You may want to intentionally make the function give a wrong result, so that you can see what the error message looks like – and then fix your function. Once you execute the TEST CASES cell, and get no output, then your function is most likely correct!"
   ]
  },
  {
   "cell_type": "code",
   "execution_count": 1,
   "metadata": {
    "deletable": false,
    "editable": false,
    "nbgrader": {
     "cell_type": "code",
     "checksum": "115e36172295ed2d6d16b0e7aee6c1f6",
     "grade": false,
     "grade_id": "cell-54605e2111601db2",
     "locked": true,
     "schema_version": 3,
     "solution": false,
     "task": false
    },
    "tags": []
   },
   "outputs": [],
   "source": [
    "# Install Necessary Dependencies\n",
    "import math, nose\n",
    "from nose.tools import assert_almost_equal"
   ]
  },
  {
   "cell_type": "markdown",
   "metadata": {},
   "source": [
    "### Function 1: area"
   ]
  },
  {
   "cell_type": "code",
   "execution_count": 14,
   "metadata": {
    "deletable": false,
    "nbgrader": {
     "cell_type": "code",
     "checksum": "e5f2b1c2d2bea42194a6e675b3b2931f",
     "grade": false,
     "grade_id": "cell-f65fe616cbb0881f",
     "locked": false,
     "schema_version": 3,
     "solution": true,
     "task": false
    },
    "tags": []
   },
   "outputs": [
    {
     "name": "stdin",
     "output_type": "stream",
     "text": [
      "Enter a  to calculate the area of the circle. 20\n"
     ]
    },
    {
     "name": "stdout",
     "output_type": "stream",
     "text": [
      "The area of the cirlce is 1256.64\n"
     ]
    }
   ],
   "source": [
    "### GRADED FUNCTION 1: Write a function to calculate the area of a circle.\n",
    "def area(radius):\n",
    "    ''' return the area of a circle of this radius '''\n",
    "    pi = math.pi\n",
    "    circle = pi * radius * radius\n",
    "    return circle\n",
    "    raise NotImplementedError()\n",
    "number = int(input('Enter a  to calculate the area of the circle.'))\n",
    "print(f'The area of the cirlce is {\"%.2f\" % area(number)}')"
   ]
  },
  {
   "cell_type": "markdown",
   "metadata": {},
   "source": [
    "The cell below gives you an opportunity to test your code in a way similar to how the auto-grader will test it.  The first line of code allows you to replace the ‘…’ with a number of your choice.  When you run the cell, the second line will call the function that contains your solution.  The third line then prints the results, so that you can manually test it – if you put these numbers into a calculator, are they correct?"
   ]
  },
  {
   "cell_type": "markdown",
   "metadata": {},
   "source": [
    "The next cell shows how the auto-grading tests are executed.  Several possible cases are run through the function, and the results are tested against that actual correct answer. If you run the test cell and there is no output, then the tests all passed – Great!\n",
    "\n",
    "If you’re curious, the function named assert_almost_equal() is a way to test floating point numbers – if you remember from the lectures, these are always rounded at the end, and so we cannot say that they are exactly equal, but only that they are pretty close to the same number. "
   ]
  },
  {
   "cell_type": "code",
   "execution_count": 13,
   "metadata": {
    "tags": []
   },
   "outputs": [
    {
     "name": "stdout",
     "output_type": "stream",
     "text": [
      "radius of circle: 20, calculated area: 1256.6370614359173\n"
     ]
    }
   ],
   "source": [
    "# Manually test `area`\n",
    "test_radius_for_area = 20 # replace ... with an appropriate value of your choice for the radius variable\n",
    "test_area_function = area(test_radius_for_area)\n",
    "print(f\"radius of circle: {test_radius_for_area}, calculated area: {test_area_function}\")"
   ]
  },
  {
   "cell_type": "code",
   "execution_count": 15,
   "metadata": {
    "deletable": false,
    "editable": false,
    "nbgrader": {
     "cell_type": "code",
     "checksum": "fc0be263bee9cfe84612e63e85999e66",
     "grade": true,
     "grade_id": "cell-3ada116f80055b02",
     "locked": true,
     "points": 5,
     "schema_version": 3,
     "solution": false,
     "task": false
    },
    "tags": []
   },
   "outputs": [],
   "source": [
    "# TEST CASES: This cell should not deliver any errors if all tests are passing.\n",
    "assert_almost_equal(area(1), math.pi, places=2, msg=\"Check your area function.\")\n",
    "assert_almost_equal(area(0), 0, places=2, msg=\"Check your area function with radius 0.\")\n",
    "assert_almost_equal(area(2), 4*math.pi, places=2, msg=\"Check your area function with radius 2.\")\n",
    "assert_almost_equal(area(10), 100*math.pi, places=2, msg=\"Check your area function with radius 10.\")"
   ]
  },
  {
   "cell_type": "markdown",
   "metadata": {},
   "source": [
    "### Function 2: Circumference"
   ]
  },
  {
   "cell_type": "code",
   "execution_count": 17,
   "metadata": {
    "deletable": false,
    "nbgrader": {
     "cell_type": "code",
     "checksum": "c5a12df92c7d4cbe3b4c110ec0ad900a",
     "grade": false,
     "grade_id": "cell-97bec1841199b27e",
     "locked": false,
     "schema_version": 3,
     "solution": true,
     "task": false
    },
    "tags": []
   },
   "outputs": [
    {
     "name": "stdin",
     "output_type": "stream",
     "text": [
      "Enter a  to calculate the circumference of the circle. 40\n"
     ]
    },
    {
     "name": "stdout",
     "output_type": "stream",
     "text": [
      "The area of the cirlce is 251.33\n"
     ]
    }
   ],
   "source": [
    "def circumference(radius):\n",
    "    ''' return the circumference of a circle of this radius '''\n",
    "    pi = math.pi\n",
    "    circle = pi * 2 * radius\n",
    "    return circle\n",
    "    raise NotImplementedError()\n",
    "number = int(input('Enter a  to calculate the circumference of the circle.'))\n",
    "print(f'The area of the cirlce is {\"%.2f\" % circumference(number)}')"
   ]
  },
  {
   "cell_type": "code",
   "execution_count": 18,
   "metadata": {
    "tags": []
   },
   "outputs": [
    {
     "name": "stdout",
     "output_type": "stream",
     "text": [
      "radius of circle: 40, calculated area: 251.32741228718345\n"
     ]
    }
   ],
   "source": [
    "# Manually test `circumference`\n",
    "test_radius_for_circumference = 40 # replace ... with an appropriate value of your choice for the radius variable\n",
    "test_area_function = circumference(test_radius_for_circumference)\n",
    "print(f\"radius of circle: {test_radius_for_circumference}, calculated area: {test_area_function}\")"
   ]
  },
  {
   "cell_type": "code",
   "execution_count": 19,
   "metadata": {
    "deletable": false,
    "editable": false,
    "nbgrader": {
     "cell_type": "code",
     "checksum": "e315d6c735e46d31358f5e64476b5d16",
     "grade": true,
     "grade_id": "cell-0cead43d8902123f",
     "locked": true,
     "points": 5,
     "schema_version": 3,
     "solution": false,
     "task": false
    },
    "tags": []
   },
   "outputs": [],
   "source": [
    "# TEST CASES: This cell should not deliver any errors if all tests are passing.\n",
    "assert_almost_equal(circumference(1), 2*math.pi, places=2, msg=\"Check your circumference function.\")\n",
    "assert_almost_equal(circumference(0), 0, places=2, msg=\"Check your circumference function with radius 0.\")\n",
    "assert_almost_equal(circumference(2), 4*math.pi, places=2, msg=\"Check your circumference function with radius 2.\")\n",
    "assert_almost_equal(circumference(10), 20*math.pi, places=2, msg=\"Check your circumference function with radius 10.\")"
   ]
  },
  {
   "cell_type": "markdown",
   "metadata": {
    "tags": []
   },
   "source": [
    "## Putting it all together"
   ]
  },
  {
   "cell_type": "markdown",
   "metadata": {
    "tags": []
   },
   "source": [
    "Now let's put it all together! Below is a program that will prompt the user (you in this case!) for two measurement values. \n",
    "The program will then use these measurements to calculate an area and circumference of a circle. You can try this out below and watch how your functions come to life in a real-world application!"
   ]
  },
  {
   "cell_type": "code",
   "execution_count": 20,
   "metadata": {
    "tags": []
   },
   "outputs": [
    {
     "name": "stdin",
     "output_type": "stream",
     "text": [
      "Enter 1 for the area\n",
      "Enter 2 for the circumference\n",
      "Enter 0 to exit\n",
      " 1\n",
      "Enter a radius:  20\n"
     ]
    },
    {
     "name": "stdout",
     "output_type": "stream",
     "text": [
      "The area is 1256.64\n"
     ]
    },
    {
     "name": "stdin",
     "output_type": "stream",
     "text": [
      "Enter 1 for the area\n",
      "Enter 2 for the circumference\n",
      "Enter 0 to exit\n",
      " 2\n",
      "Enter a radius:  20\n"
     ]
    },
    {
     "name": "stdout",
     "output_type": "stream",
     "text": [
      "The circumference is 125.66\n"
     ]
    },
    {
     "name": "stdin",
     "output_type": "stream",
     "text": [
      "Enter 1 for the area\n",
      "Enter 2 for the circumference\n",
      "Enter 0 to exit\n",
      " 0\n"
     ]
    }
   ],
   "source": [
    "def main():\n",
    "    \n",
    "    while True:\n",
    "        # ask if they want an area or circumference\n",
    "        answer = input('Enter 1 for the area\\nEnter 2 for the circumference\\nEnter 0 to exit\\n')\n",
    "\n",
    "        # do what the user says\n",
    "        if answer == '1':  # area\n",
    "            # prompt user for radius\n",
    "            rad = float(input('Enter a radius: '))\n",
    "            print(f'The area is {area(rad):.2f}')\n",
    "        elif answer == '2': # circumference\n",
    "            # prompt user for radius\n",
    "            rad = float(input('Enter a radius: '))\n",
    "            print(f'The circumference is {circumference(rad):.2f}')\n",
    "        elif answer == '0': # quit\n",
    "            break\n",
    "        else: # they entered something else|\n",
    "            print('I do not recognize that input.')\n",
    "main()\n"
   ]
  },
  {
   "cell_type": "code",
   "execution_count": null,
   "metadata": {},
   "outputs": [],
   "source": []
  }
 ],
 "metadata": {
  "kernelspec": {
   "display_name": "Python 3 (ipykernel)",
   "language": "python",
   "name": "python3"
  },
  "language_info": {
   "codemirror_mode": {
    "name": "ipython",
    "version": 3
   },
   "file_extension": ".py",
   "mimetype": "text/x-python",
   "name": "python",
   "nbconvert_exporter": "python",
   "pygments_lexer": "ipython3",
   "version": "3.11.4"
  }
 },
 "nbformat": 4,
 "nbformat_minor": 4
}
