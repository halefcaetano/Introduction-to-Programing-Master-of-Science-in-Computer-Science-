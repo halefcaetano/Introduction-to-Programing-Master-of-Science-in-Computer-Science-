{
 "cells": [
  {
   "cell_type": "markdown",
   "metadata": {},
   "source": [
    "# Programming Assignment 4"
   ]
  },
  {
   "cell_type": "markdown",
   "metadata": {
    "tags": []
   },
   "source": [
    "## Assignment Instructions"
   ]
  },
  {
   "cell_type": "markdown",
   "metadata": {},
   "source": [
    "Write two functions, described below.  Be sure to test your code against the test cases!  Submit your code once your tests are passing.  (It is possible to earn partial credit for passing some of the tests, but not passing others.) "
   ]
  },
  {
   "cell_type": "markdown",
   "metadata": {
    "tags": []
   },
   "source": [
    "### __Function 1__:   "
   ]
  },
  {
   "cell_type": "markdown",
   "metadata": {},
   "source": [
    "Define a function that will take no arguments, but will return an integer that represents the option selected (option 1, 2, 3, or 4).  The \"inside\" of this function should:  \n",
    "\n",
    "Print a list of menu options that the user can select from.  Use these 4 options: \n",
    "\n",
    "1. See an uplifting message \n",
    "\n",
    "2. See a programming tip \n",
    "\n",
    "3. Watch me count \n",
    "\n",
    "4. Quit this program. \n",
    "\n",
    "Ask the user to enter a number to indicate their selection  \n",
    "\n",
    "Use an if statement to see if they typed a 1.  If so, return the integer 1.    \n",
    "\n",
    "*Hint:  you can compare strings, like this:*  \n",
    "\n",
    "```python\n",
    "if user_input == '1':  \n",
    "    # they entered a 1, great!\n",
    "```\n",
    "\n",
    "In this way, you avoid the program crashing if they type \"asdf\" and then you try to convert that to an integer.   \n",
    "Similarly, use elif statements to return 2, 3, and 4.  \n",
    "Include an else statement that tells them that they entered an invalid number.  You can return a 0 in that case.  "
   ]
  },
  {
   "cell_type": "markdown",
   "metadata": {},
   "source": [
    "### __Function 2__: "
   ]
  },
  {
   "cell_type": "markdown",
   "metadata": {},
   "source": [
    "Write a function with one argument that is an integer.  That function should use a for loop to print out the numbers from 1 to that number (inclusive)."
   ]
  },
  {
   "cell_type": "markdown",
   "metadata": {},
   "source": [
    "### __Main Program__: *Putting it all together*"
   ]
  },
  {
   "cell_type": "markdown",
   "metadata": {},
   "source": [
    "Now pull these two functions together into a whole program.  Your code should use your first function to present the user with a menu of options.  \n",
    "If your first function returns a 1, your program will print an uplifting message (choose a quote that you find encouraging).  \n",
    "If they instead pressed a 2, your program will print a programming tip (choose something that you have learned in this class).  \n",
    "If they pressed 3, your program will then ask them for a number, then count up to that number, starting at 1 (using the function that you wrote).  \n",
    "If they press 4, the program will exit.   \n",
    "\n",
    "In this case, you do not need to continue looping – the user would need to run the program another time in order to choose a different option. \n",
    "\n",
    "When you run your program, it should produce output similar to what is shown below.  It does not need to be identical, but should be functionally the same. "
   ]
  },
  {
   "cell_type": "markdown",
   "metadata": {},
   "source": [
    "## Let's start coding!"
   ]
  },
  {
   "cell_type": "markdown",
   "metadata": {
    "tags": []
   },
   "source": [
    "### Using this Notebook"
   ]
  },
  {
   "cell_type": "markdown",
   "metadata": {},
   "source": [
    "Notice that some of the cells are not able to be edited – they are just meant to be run to test your code, and perform the auto grading. You should begin at the top and execute each code cell, adding your code when you see # YOUR CODE HERE. If you have written the functions correctly, you should see no errors.\n",
    "\n",
    "When you execute the TEST CASES cell, what you want to see is no output. You may want to intentionally make the function give a wrong result, so that you can see what the error message looks like – and then fix your function. Once you execute the TEST CASES cell, and get no output, then your function is most likely correct!"
   ]
  },
  {
   "cell_type": "code",
   "execution_count": 24,
   "metadata": {
    "tags": []
   },
   "outputs": [],
   "source": [
    "# Install Necessary Dependencies\n",
    "import nose, inspect\n",
    "from nose.tools import assert_equal"
   ]
  },
  {
   "cell_type": "markdown",
   "metadata": {},
   "source": [
    "### Function 1: menu"
   ]
  },
  {
   "cell_type": "code",
   "execution_count": 143,
   "metadata": {
    "deletable": false,
    "nbgrader": {
     "cell_type": "code",
     "checksum": "b5d6e643f9ed25ee8f73f1d73ee2c925",
     "grade": false,
     "grade_id": "cell-fb4aeb0d1c5c8ec4",
     "locked": false,
     "schema_version": 3,
     "solution": true,
     "task": false
    },
    "tags": []
   },
   "outputs": [
    {
     "name": "stdout",
     "output_type": "stream",
     "text": [
      "Choose between the options bellow:\n",
      "1 - See an uplifting message.\n",
      "2 - See a programming tip.\n",
      "3 - Watch me count.\n",
      "4 - Quit this program.\n"
     ]
    },
    {
     "name": "stdin",
     "output_type": "stream",
     "text": [
      "Write the number of your choice. 2\n"
     ]
    },
    {
     "data": {
      "text/plain": [
       "2"
      ]
     },
     "execution_count": 143,
     "metadata": {},
     "output_type": "execute_result"
    }
   ],
   "source": [
    "def menu():\n",
    "    ''' print a list of menu options, and return an integer representing the user's choice '''\n",
    "    print('Choose between the options bellow:')\n",
    "    print('1 - See an uplifting message.')\n",
    "    print('2 - See a programming tip.') \n",
    "    print('3 - Watch me count.')\n",
    "    print('4 - Quit this program.')\n",
    "    choice = input('Write the number of your choice.')\n",
    "    if choice == '1':\n",
    "        return 1\n",
    "    elif choice == '2':\n",
    "        return 2\n",
    "    elif choice == '3':\n",
    "        return 3\n",
    "    elif choice == '4':\n",
    "        return 4\n",
    "    else:\n",
    "        print('You entered a invalid number.')\n",
    "        return 0\n",
    "    \n",
    "    \n",
    "menu()"
   ]
  },
  {
   "cell_type": "code",
   "execution_count": 144,
   "metadata": {
    "tags": []
   },
   "outputs": [
    {
     "name": "stdout",
     "output_type": "stream",
     "text": [
      "Choose between the options bellow:\n",
      "1 - See an uplifting message.\n",
      "2 - See a programming tip.\n",
      "3 - Watch me count.\n",
      "4 - Quit this program.\n"
     ]
    },
    {
     "name": "stdin",
     "output_type": "stream",
     "text": [
      "Write the number of your choice. 1\n"
     ]
    },
    {
     "name": "stdout",
     "output_type": "stream",
     "text": [
      "Choose between the options bellow:\n",
      "1 - See an uplifting message.\n",
      "2 - See a programming tip.\n",
      "3 - Watch me count.\n",
      "4 - Quit this program.\n"
     ]
    },
    {
     "name": "stdin",
     "output_type": "stream",
     "text": [
      "Write the number of your choice. 2\n"
     ]
    },
    {
     "name": "stdout",
     "output_type": "stream",
     "text": [
      "Choose between the options bellow:\n",
      "1 - See an uplifting message.\n",
      "2 - See a programming tip.\n",
      "3 - Watch me count.\n",
      "4 - Quit this program.\n"
     ]
    },
    {
     "name": "stdin",
     "output_type": "stream",
     "text": [
      "Write the number of your choice. 3\n"
     ]
    },
    {
     "name": "stdout",
     "output_type": "stream",
     "text": [
      "Choose between the options bellow:\n",
      "1 - See an uplifting message.\n",
      "2 - See a programming tip.\n",
      "3 - Watch me count.\n",
      "4 - Quit this program.\n"
     ]
    },
    {
     "name": "stdin",
     "output_type": "stream",
     "text": [
      "Write the number of your choice. 4\n"
     ]
    },
    {
     "name": "stdout",
     "output_type": "stream",
     "text": [
      "Choose between the options bellow:\n",
      "1 - See an uplifting message.\n",
      "2 - See a programming tip.\n",
      "3 - Watch me count.\n",
      "4 - Quit this program.\n"
     ]
    },
    {
     "name": "stdin",
     "output_type": "stream",
     "text": [
      "Write the number of your choice. 5\n"
     ]
    },
    {
     "name": "stdout",
     "output_type": "stream",
     "text": [
      "You entered a invalid number.\n"
     ]
    }
   ],
   "source": [
    "# MANUAL TESTING OF MENU\n",
    "# This cell will ask for input 5 different times.  \n",
    "# Enter each value (1, 2, 3, 4, 0 or any invalid value) one at a time.\n",
    "assert menu() == 1, \"Check your menu function with choice 1.\"\n",
    "assert menu() == 2, \"Check your menu function with choice 2.\"\n",
    "assert menu() == 3, \"Check your menu function with choice 3.\"\n",
    "assert menu() == 4, \"Check your menu function with choice 4.\"\n",
    "assert menu() == 0, \"Check your menu function with invalid choice.\""
   ]
  },
  {
   "cell_type": "code",
   "execution_count": 145,
   "metadata": {
    "deletable": false,
    "editable": false,
    "nbgrader": {
     "cell_type": "code",
     "checksum": "8f5f61d99a546d7fd6a2ccc039ed391b",
     "grade": true,
     "grade_id": "cell-b72fe6462a70755e",
     "locked": true,
     "points": 5,
     "schema_version": 3,
     "solution": false,
     "task": false
    },
    "tags": []
   },
   "outputs": [],
   "source": [
    "# GRADED TEST CASE 1: This cell should not deliver any errors when this cell is run\n",
    "# Check - for loop implementation\n",
    "if_statement_found = False\n",
    "option_input_found = False\n",
    "menu_option_found = False\n",
    "return_val_found = False\n",
    "\n",
    "menu_lines = inspect.getsource(menu)\n",
    "code_lines = menu_lines.splitlines()\n",
    "for line in code_lines:\n",
    "    if \"if\" in line:\n",
    "        if_statement_found = True\n",
    "    if \"input\" in line:\n",
    "        option_input_found = True\n",
    "    if \"see an uplifting message\" in line.lower():\n",
    "        menu_option_found = True\n",
    "    if \"return 4\" in line:\n",
    "        return_val_found = True\n",
    "        \n",
    "assert if_statement_found == True, \"Please verify you've implemented if logic in your function.\"\n",
    "assert option_input_found == True, \"Please verify if you've asked the user for their input.\"\n",
    "assert menu_option_found == True, \"Please verify if you've implemented all menu options.\"\n",
    "assert return_val_found == True, \"Please verify if you've returned all potential integer selection options from 1-4.\""
   ]
  },
  {
   "cell_type": "markdown",
   "metadata": {},
   "source": [
    "### Function 2: count_up"
   ]
  },
  {
   "cell_type": "code",
   "execution_count": 146,
   "metadata": {
    "deletable": false,
    "nbgrader": {
     "cell_type": "code",
     "checksum": "bc2fb921439ae112392f4cf34135a448",
     "grade": false,
     "grade_id": "cell-95f796f66fb927cc",
     "locked": false,
     "schema_version": 3,
     "solution": true,
     "task": false
    },
    "tags": []
   },
   "outputs": [
    {
     "name": "stdout",
     "output_type": "stream",
     "text": [
      "1\n",
      "2\n",
      "3\n",
      "4\n",
      "5\n",
      "6\n"
     ]
    }
   ],
   "source": [
    "def count_up(num):\n",
    "    ''' count from 1 to that number, inclusive '''\n",
    "    for i in range(1, num + 1):\n",
    "        print(i)\n",
    "count_up(6)"
   ]
  },
  {
   "cell_type": "code",
   "execution_count": 147,
   "metadata": {
    "tags": []
   },
   "outputs": [
    {
     "name": "stdout",
     "output_type": "stream",
     "text": [
      "1\n",
      "1\n",
      "2\n",
      "1\n",
      "2\n",
      "3\n",
      "1\n",
      "2\n",
      "3\n",
      "4\n",
      "1\n",
      "2\n",
      "3\n",
      "4\n",
      "5\n"
     ]
    }
   ],
   "source": [
    "# MANUAL TESTING OF count_up\n",
    "# This cell will ask for input 5 different times.  \n",
    "# Enter each input value (1, 2, 3, 4, 5) one at a time.\n",
    "assert count_up(1) == None, \"Check your count_up function with number 1.\"\n",
    "assert count_up(2) == None, \"Check your count_up function with number 2.\"\n",
    "assert count_up(3) == None, \"Check your count_up function with number 3.\"\n",
    "assert count_up(4) == None, \"Check your count_up function with number 4.\"\n",
    "assert count_up(5) == None, \"Check your count_up function with number 5.\""
   ]
  },
  {
   "cell_type": "code",
   "execution_count": 148,
   "metadata": {
    "deletable": false,
    "editable": false,
    "nbgrader": {
     "cell_type": "code",
     "checksum": "789bba0dfc90af563a4b95ef50addc36",
     "grade": true,
     "grade_id": "cell-a296d0b0289e0378",
     "locked": true,
     "points": 5,
     "schema_version": 3,
     "solution": false,
     "task": false
    },
    "tags": []
   },
   "outputs": [
    {
     "name": "stdout",
     "output_type": "stream",
     "text": [
      "1\n",
      "2\n",
      "3\n",
      "4\n",
      "5\n"
     ]
    }
   ],
   "source": [
    "# GRADED TEST CASE 2: This cell should not deliver any errors when this cell is run\n",
    "\n",
    "# Check - for loop implementation\n",
    "for_loop_found = False\n",
    "\n",
    "count_up_lines = inspect.getsource(count_up)\n",
    "code_lines = count_up_lines.splitlines()\n",
    "for line in code_lines:\n",
    "    if \"for\" in line and \"in\" in line and \":\" in line:\n",
    "        for_loop_found = True\n",
    "\n",
    "assert for_loop_found == True, \"Please verify you've implemented a for loop in your count_up function\"\n",
    "assert count_up(5) == None, \"Check your count_up function with number 5.\""
   ]
  },
  {
   "cell_type": "markdown",
   "metadata": {},
   "source": [
    "### Main program: *Putting it all together*"
   ]
  },
  {
   "cell_type": "code",
   "execution_count": 149,
   "metadata": {
    "deletable": false,
    "nbgrader": {
     "cell_type": "code",
     "checksum": "86bf8245b1109c64c65d915523934ad5",
     "grade": false,
     "grade_id": "cell-7529a8dd611d2644",
     "locked": false,
     "schema_version": 3,
     "solution": true,
     "task": false
    },
    "tags": []
   },
   "outputs": [
    {
     "name": "stdout",
     "output_type": "stream",
     "text": [
      "Choose between the options bellow:\n",
      "1 - See an uplifting message.\n",
      "2 - See a programming tip.\n",
      "3 - Watch me count.\n",
      "4 - Quit this program.\n"
     ]
    },
    {
     "name": "stdin",
     "output_type": "stream",
     "text": [
      "Write the number of your choice. 2\n"
     ]
    },
    {
     "name": "stdout",
     "output_type": "stream",
     "text": [
      "Don't forget to use indentation in your function.\n"
     ]
    }
   ],
   "source": [
    "# Now pull these two functions together into a whole program.  \n",
    "# Your code should use your first function to present the user with a menu of options.  \n",
    "def main():\n",
    "    while True:\n",
    "        request = menu()\n",
    "        if request == 1:\n",
    "            print('Believe you can do and you are halfway there.')\n",
    "            break\n",
    "        elif request == 2:   \n",
    "            print(\"Don't forget to use indentation in your function.\")\n",
    "            break\n",
    "        elif request == 3:\n",
    "            number = int(input('Enter a number: '))\n",
    "            count_up(number)\n",
    "            break\n",
    "        elif request == 4:\n",
    "            print('Exiting the program.')\n",
    "            break\n",
    "        else:\n",
    "            continue                                                                                                          \n",
    "\n",
    "# do not remove as this is calling the main function\n",
    "main()"
   ]
  },
  {
   "cell_type": "code",
   "execution_count": null,
   "metadata": {
    "tags": []
   },
   "outputs": [],
   "source": []
  },
  {
   "cell_type": "code",
   "execution_count": null,
   "metadata": {},
   "outputs": [],
   "source": []
  }
 ],
 "metadata": {
  "kernelspec": {
   "display_name": "Python 3 (ipykernel)",
   "language": "python",
   "name": "python3"
  },
  "language_info": {
   "codemirror_mode": {
    "name": "ipython",
    "version": 3
   },
   "file_extension": ".py",
   "mimetype": "text/x-python",
   "name": "python",
   "nbconvert_exporter": "python",
   "pygments_lexer": "ipython3",
   "version": "3.11.4"
  }
 },
 "nbformat": 4,
 "nbformat_minor": 4
}
