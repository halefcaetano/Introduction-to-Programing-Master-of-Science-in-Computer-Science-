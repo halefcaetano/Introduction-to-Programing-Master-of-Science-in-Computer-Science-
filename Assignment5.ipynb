{
 "cells": [
  {
   "cell_type": "markdown",
   "id": "42ee1399-de20-4b55-bf6c-f135735486de",
   "metadata": {},
   "source": [
    "# __Programming Assignment 5__"
   ]
  },
  {
   "cell_type": "markdown",
   "id": "6bc4d9a8-8222-44ee-80b6-67e6d7ad9c3d",
   "metadata": {},
   "source": [
    "## __Assignment Overview__"
   ]
  },
  {
   "cell_type": "markdown",
   "id": "f06f9006-9a91-49a2-9901-ec083d0a3112",
   "metadata": {},
   "source": [
    "Write a program that takes user input of 5 integers , stores them in a list and then loops through the list to calculate the average of those 5 numbers as the output.Additional intructions are added in the comments below, make sure to read through them carefully.\n",
    "\n",
    "Be sure to test your code against the test cases! Submit your code once your tests are successfully passing."
   ]
  },
  {
   "cell_type": "markdown",
   "id": "399498fb-13ac-4466-b6c7-efc444e8388f",
   "metadata": {},
   "source": [
    "### Lets start coding!! "
   ]
  },
  {
   "cell_type": "markdown",
   "id": "20538e64-5be2-4998-8c2c-0cab5b111ca7",
   "metadata": {},
   "source": [
    "First, you will need to ask the user to enter 5 numbers and store them in a list . [__Hint :__ Try reading the input from user in a loop to store in a list] "
   ]
  },
  {
   "cell_type": "code",
   "execution_count": 6,
   "id": "265270bc-779d-42c2-8e12-2c8c19e92adb",
   "metadata": {
    "deletable": false,
    "nbgrader": {
     "cell_type": "code",
     "checksum": "8ba85d9f95d7e08e4b0eeb56aa8f14cd",
     "grade": false,
     "grade_id": "cell-7a82fef6d1210fe2",
     "locked": false,
     "schema_version": 3,
     "solution": true,
     "task": false
    },
    "tags": []
   },
   "outputs": [
    {
     "name": "stdin",
     "output_type": "stream",
     "text": [
      "Enter a homework grade:  7\n",
      "Enter a homework grade:  7\n",
      "Enter a homework grade:  7\n",
      "Enter a homework grade:  7\n",
      "Enter a homework grade:  7\n"
     ]
    },
    {
     "name": "stdout",
     "output_type": "stream",
     "text": [
      "Your average homework grade is: 7.0\n"
     ]
    }
   ],
   "source": [
    "l = []\n",
    "s = 0\n",
    "for i in range(5):\n",
    "    l += [int(input('Enter a homework grade: '))]\n",
    "    \n",
    "for i in l:\n",
    "    s += i\n",
    "\n",
    "total = s / len(l)\n",
    "print('Your average homework grade is:', total)\n"
   ]
  },
  {
   "cell_type": "code",
   "execution_count": null,
   "id": "8af0bf47-9054-4cc6-ba24-10bedfc9ebac",
   "metadata": {
    "tags": []
   },
   "outputs": [],
   "source": [
    "#print out the list of numbers \n",
    "\n",
    "print(\"You entered the following homework grades: \", homework_grades)"
   ]
  },
  {
   "cell_type": "markdown",
   "id": "ba31eb18-5dd3-4b22-a05e-87487a26349c",
   "metadata": {},
   "source": [
    "### Calculating the average "
   ]
  },
  {
   "cell_type": "code",
   "execution_count": null,
   "id": "a4885444-d08a-4b32-8912-9deefa7adc5f",
   "metadata": {
    "deletable": false,
    "nbgrader": {
     "cell_type": "code",
     "checksum": "b06150c73369697e3352f5ecc2ba2d00",
     "grade": false,
     "grade_id": "cell-3bd0d4a350efc12f",
     "locked": false,
     "schema_version": 3,
     "solution": true,
     "task": false
    },
    "tags": []
   },
   "outputs": [],
   "source": [
    "# Use a for loop (with range()) to add up all of the grades in the list. \n",
    "# We have created a function that takes the list of numbers as parameter \n",
    "# and contains a variable named average already. Add your code in the mentioned spaces\n",
    "\n",
    "def calc_average(grade_list) :\n",
    "\n",
    "    average = 0\n",
    "    \n",
    "    # REMEMBER to remove the error return statement before running the cell and submitting the assignment\n",
    "    # YOUR CODE HERE\n",
    "    raise NotImplementedError()\n",
    "\n",
    "    ## After the for loop finishes, divide the total by 5, in order to calculate the average.\n",
    "    # YOUR CODE HERE\n",
    "    raise NotImplementedError()\n",
    "    \n",
    "    return average\n"
   ]
  },
  {
   "cell_type": "markdown",
   "id": "e5674e82-cddd-425d-bdb5-7732d35b47fc",
   "metadata": {
    "tags": []
   },
   "source": [
    "### Testing your work "
   ]
  },
  {
   "cell_type": "code",
   "execution_count": 20,
   "id": "bc903dac-f28a-4bb9-b9b8-c44beece671b",
   "metadata": {
    "tags": []
   },
   "outputs": [
    {
     "data": {
      "text/plain": [
       "7.0"
      ]
     },
     "execution_count": 20,
     "metadata": {},
     "output_type": "execute_result"
    }
   ],
   "source": [
    "# UNGRADED TEST CASES : You can use your own test lists to validate your code \n",
    "def calc_average(l):\n",
    "    s = 0\n",
    "    for i in l:\n",
    "        s += i\n",
    "\n",
    "    total = s / len(l)\n",
    "    return total\n",
    "\n",
    "\n",
    "your_list = [0,4,7,19,5]\n",
    "calc_average(your_list)\n"
   ]
  },
  {
   "cell_type": "code",
   "execution_count": 21,
   "id": "1915dc97-70c7-4fe1-8d9f-3569d20cc2f2",
   "metadata": {
    "deletable": false,
    "editable": false,
    "nbgrader": {
     "cell_type": "code",
     "checksum": "14d9535b1c692fc77645bdbc4629497d",
     "grade": true,
     "grade_id": "cell-49764892bbc6c937",
     "locked": true,
     "points": 5,
     "schema_version": 3,
     "solution": false,
     "task": false
    },
    "tags": []
   },
   "outputs": [],
   "source": [
    "# GRADED TEST CASES 1: You will not be able to edit this cell, but can run it for testing\n",
    "'''Test your solution for autograding with the tests added below in this cell'''\n",
    "### BEGIN TESTS\n",
    "assert calc_average([1,3,4,5,6]) == 3.8 , \"Please check your code for calculating the average .\" \n",
    "assert calc_average([0,4,7,19,5]) == 7 , \"Please check your code for calculating the average .\"\n",
    "### END TESTS"
   ]
  },
  {
   "cell_type": "code",
   "execution_count": 22,
   "id": "409ccf74-3f67-4f9c-a738-806339e8affa",
   "metadata": {
    "deletable": false,
    "editable": false,
    "nbgrader": {
     "cell_type": "code",
     "checksum": "5551eedc515092ab5e41dbc40ba2827d",
     "grade": true,
     "grade_id": "cell-456f37f799c7c183",
     "locked": true,
     "points": 5,
     "schema_version": 3,
     "solution": false,
     "task": false
    },
    "tags": []
   },
   "outputs": [],
   "source": [
    "# GRADED TEST CASES 2: You will not be able to edit this cell, but can run it for testing\n",
    "\n",
    "import inspect\n",
    "\n",
    "# Check - for loop implementation\n",
    "for_loop_found = False\n",
    "\n",
    "calc_avg_lines = inspect.getsource(calc_average)\n",
    "code_lines = calc_avg_lines.splitlines()\n",
    "\n",
    "for line in code_lines:\n",
    "    if \"for\" in line and \"in\" in line and \":\" in line:\n",
    "        for_loop_found = True\n",
    "        \n",
    "### BEGIN TESTS\n",
    "assert for_loop_found == True, \"Please verify you've implemented a for loop in calc_average.\"\n",
    "### END TESTS"
   ]
  },
  {
   "cell_type": "markdown",
   "id": "46a70750-b001-4591-99f5-ab9a6fcdc0c4",
   "metadata": {},
   "source": [
    "### Final Step :  Submit your Work for Grading"
   ]
  },
  {
   "cell_type": "markdown",
   "id": "e3fe0b74-0986-47f2-bd38-93e98f4ab0ff",
   "metadata": {
    "tags": []
   },
   "source": [
    "Great job on your work this week! To receive a final score for your work, please select the \"Submit Assignment\" button at the top of your lab.\n"
   ]
  }
 ],
 "metadata": {
  "kernelspec": {
   "display_name": "Python 3 (ipykernel)",
   "language": "python",
   "name": "python3"
  },
  "language_info": {
   "codemirror_mode": {
    "name": "ipython",
    "version": 3
   },
   "file_extension": ".py",
   "mimetype": "text/x-python",
   "name": "python",
   "nbconvert_exporter": "python",
   "pygments_lexer": "ipython3",
   "version": "3.11.4"
  }
 },
 "nbformat": 4,
 "nbformat_minor": 5
}
