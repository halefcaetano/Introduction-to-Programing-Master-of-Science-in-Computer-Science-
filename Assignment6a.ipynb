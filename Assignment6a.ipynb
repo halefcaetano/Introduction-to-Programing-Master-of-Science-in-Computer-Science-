{
 "cells": [
  {
   "cell_type": "markdown",
   "id": "02acbba3-bc47-490a-a7f0-484021f9db2d",
   "metadata": {},
   "source": [
    "# __Programming Assignment 6a__\n"
   ]
  },
  {
   "cell_type": "markdown",
   "id": "91c11e90-70bd-418a-8118-44d1de6e416b",
   "metadata": {},
   "source": [
    "## Assignment Instructions "
   ]
  },
  {
   "cell_type": "markdown",
   "id": "10cc2ed0-ffc9-4b59-bf55-98d862621bc6",
   "metadata": {},
   "source": [
    "Write three functions as described below. Be sure to test your code against the test cases! Submit your code once your tests are successfully passing. __Variable types are important in this one__ so be sure to read the directions closely below."
   ]
  },
  {
   "cell_type": "markdown",
   "id": "00e7dc79-a8f9-467e-91c9-edd33f977396",
   "metadata": {},
   "source": [
    "### __Function 1 :__\n"
   ]
  },
  {
   "cell_type": "markdown",
   "id": "886dfbc9-df8d-47af-b692-f5d8a8d0a74f",
   "metadata": {},
   "source": [
    "Write a function that takes one argument that is a string, and returns a list that contains every other character entered (starting from the character at the 0th position in the list)."
   ]
  },
  {
   "cell_type": "markdown",
   "id": "acbf2fc1-d261-4065-9ecc-4ed12900fcb0",
   "metadata": {
    "tags": []
   },
   "source": [
    "##### Function 1 : Hints(click the arrow on the left to access)"
   ]
  },
  {
   "cell_type": "markdown",
   "id": "c8e940b5-589d-4961-ab89-f31675d8d621",
   "metadata": {
    "tags": []
   },
   "source": [
    "- You can use the list() function to convert the string to a list of characters.\n",
    "- You can use the slice operator to create a new list that only contains every other character in the original list. (Note that spaces will be treated as letters.)"
   ]
  },
  {
   "cell_type": "markdown",
   "id": "fb02ca19-ca2a-4536-ac22-f920804b4f6f",
   "metadata": {},
   "source": [
    "### __Function 2 :__\n"
   ]
  },
  {
   "cell_type": "markdown",
   "id": "e549cc43-b3f0-4aa7-8683-9a4e5da5f5c0",
   "metadata": {},
   "source": [
    "Write a function that takes one argument that is a string, and returns an integer that represents the number of times the letter ‘e’ is found in the string."
   ]
  },
  {
   "cell_type": "markdown",
   "id": "93f415e7-aeb5-4d10-ad34-d86f3cdede7e",
   "metadata": {},
   "source": [
    "### __Function 3 :__"
   ]
  },
  {
   "cell_type": "markdown",
   "id": "ccf9728f-e58d-4926-b10a-9d596ede1a22",
   "metadata": {},
   "source": [
    "Write a function that takes a string, then returns a tuple that contains only the first 5 characters in the string."
   ]
  },
  {
   "cell_type": "markdown",
   "id": "25d3af76-9599-445e-9997-00c873fda578",
   "metadata": {},
   "source": [
    "### __Main Program__"
   ]
  },
  {
   "cell_type": "markdown",
   "id": "5c557ff7-f8f9-4d4c-bb15-72b46a8ac565",
   "metadata": {},
   "source": [
    "Now put all these three functions together to create a program that prompts a user to enter a sentence . The sentence is then split into individual letters using the first function and every other letter of the sentence is printed. Then,using the second function, the number of times the letter ‘e’  is found is counted and returned, followed by a function that returns a tuple that contains the first 5 characters of the string."
   ]
  },
  {
   "cell_type": "markdown",
   "id": "ede679d0-0ccc-42bb-a9a3-e0900a448985",
   "metadata": {},
   "source": [
    "### Let's start coding ! "
   ]
  },
  {
   "cell_type": "code",
   "execution_count": 1,
   "id": "7ecae438-ccc3-491e-9540-823d799c1562",
   "metadata": {
    "deletable": false,
    "editable": false,
    "nbgrader": {
     "cell_type": "code",
     "checksum": "0fe1641b3f02474264c75cd1d1eff341",
     "grade": false,
     "grade_id": "cell-dc0b79b4f4e6abd9",
     "locked": true,
     "schema_version": 3,
     "solution": false,
     "task": false
    },
    "tags": []
   },
   "outputs": [],
   "source": [
    "#install the necessary dependencies\n",
    "import nose\n",
    "from nose.tools import assert_equal"
   ]
  },
  {
   "cell_type": "markdown",
   "id": "a654655b-17b1-4d4e-9e11-d1ee8f0dfa7f",
   "metadata": {},
   "source": [
    "### Function 1 :"
   ]
  },
  {
   "cell_type": "code",
   "execution_count": 10,
   "id": "4397abd5-910f-461c-a7c3-50298658879e",
   "metadata": {
    "deletable": false,
    "nbgrader": {
     "cell_type": "code",
     "checksum": "0a7203e5958e0863bc75b6cc41cb6ed7",
     "grade": false,
     "grade_id": "cell-5771e291a6271b36",
     "locked": false,
     "schema_version": 3,
     "solution": true,
     "task": false
    },
    "tags": []
   },
   "outputs": [
    {
     "data": {
      "text/plain": [
       "['T', 'i', ' ', 's', 's', 'n', 'e', 'c', ' ']"
      ]
     },
     "execution_count": 10,
     "metadata": {},
     "output_type": "execute_result"
    }
   ],
   "source": [
    "def every_other_letter(initial_string):\n",
    "    ''' return a list,named initial_list, that contains every other letter of the initial_string,\n",
    "        starting from the 0th position in the list '''\n",
    "    my_list = list(initial_string)\n",
    "    return my_list[::2]\n",
    "every_other_letter('This is sentence 1')"
   ]
  },
  {
   "cell_type": "code",
   "execution_count": 9,
   "id": "e4b0719e-3f1c-4418-bd6f-6f7078f4214f",
   "metadata": {
    "tags": []
   },
   "outputs": [
    {
     "data": {
      "text/plain": [
       "['T', 'i', ' ', 's', 's', 'n', 'e', 'c', ' ']"
      ]
     },
     "execution_count": 9,
     "metadata": {},
     "output_type": "execute_result"
    }
   ],
   "source": [
    "# Ungraded Tests - Test your function here\n",
    "initial_string = \"This is sentence 1\"\n",
    "every_other_letter(initial_string)"
   ]
  },
  {
   "cell_type": "code",
   "execution_count": 11,
   "id": "54b495b3-41ae-4b82-8260-0a3c12a19cbf",
   "metadata": {
    "deletable": false,
    "editable": false,
    "nbgrader": {
     "cell_type": "code",
     "checksum": "6058f7589ee5df4ad4ed037839e7d7b8",
     "grade": true,
     "grade_id": "cell-da43c75330edb865",
     "locked": true,
     "points": 2,
     "schema_version": 3,
     "solution": false,
     "task": false
    },
    "tags": []
   },
   "outputs": [],
   "source": [
    "# GRADED TEST CASE : Test your solution with the tests added in this cell\n",
    "assert every_other_letter(\"This is sentence 1\") == ['T', 'i', ' ', 's', 's', 'n', 'e', 'c', ' '], \"Check your function to convert a string into a list of characters\"\n",
    "assert every_other_letter(\"Here is another sentence.\") == ['H', 'r', ' ', 's', 'a', 'o', 'h', 'r', 's', 'n', 'e', 'c', '.'], \"Check your function to convert a string into a list of characters\""
   ]
  },
  {
   "cell_type": "markdown",
   "id": "cf7ee04f-d675-4333-bb84-182a34fb2b26",
   "metadata": {},
   "source": [
    "### Function 2 : "
   ]
  },
  {
   "cell_type": "code",
   "execution_count": 14,
   "id": "b94b0b2d-e92f-42b4-9cb9-daa6b14f6c46",
   "metadata": {
    "deletable": false,
    "nbgrader": {
     "cell_type": "code",
     "checksum": "3eefe62857712bdded491bdd38daeed2",
     "grade": false,
     "grade_id": "cell-607fd14953620263",
     "locked": false,
     "schema_version": 3,
     "solution": true,
     "task": false
    },
    "tags": []
   },
   "outputs": [
    {
     "data": {
      "text/plain": [
       "2"
      ]
     },
     "execution_count": 14,
     "metadata": {},
     "output_type": "execute_result"
    }
   ],
   "source": [
    "def count_letter(sentence_input):\n",
    "    my_list = list(sentence_input)\n",
    "    count = 0\n",
    "    for i in my_list:\n",
    "        if i == 'e':\n",
    "            count += 1\n",
    "    return count\n",
    "\n",
    "count_letter('ee')"
   ]
  },
  {
   "cell_type": "code",
   "execution_count": null,
   "id": "41052db2-c128-441a-9549-f56d7efe1400",
   "metadata": {
    "tags": []
   },
   "outputs": [],
   "source": [
    "# Ungraded ests - Test your function here\n",
    "\n",
    "sentence_input = \"I like to code\" ## 2 e's\n",
    "sentence_input2 = \"I like coding\" ## 0 e's\n",
    "count_letter(sentence_input)"
   ]
  },
  {
   "cell_type": "code",
   "execution_count": 13,
   "id": "0e833523-c339-4ebc-a302-e633b69437b9",
   "metadata": {
    "deletable": false,
    "editable": false,
    "nbgrader": {
     "cell_type": "code",
     "checksum": "d4e022e8c480cae86a0a3a5589134007",
     "grade": true,
     "grade_id": "cell-2ac44df2f08511b8",
     "locked": true,
     "points": 3,
     "schema_version": 3,
     "solution": false,
     "task": false
    },
    "tags": []
   },
   "outputs": [],
   "source": [
    "# GRADED TEST CASE : Test your solution with the tests added in this cell\n",
    "assert count_letter(\"This is sentence 1\") == 3 , \"Soemthing seems to be wrong! Check your count_letter_e function  again \"\n",
    "assert count_letter(\"Here is a sentence with multiple e's\") == 7, \"Soemthing seems to be wrong! Check your count_letter_e function  again \"\n",
    "assert count_letter(\"This sentence has five e''s\") == 5, \"Soemthing seems to be wrong! Check your count_letter_e function  again \""
   ]
  },
  {
   "cell_type": "markdown",
   "id": "54d70364-d569-4133-a5ed-a39343648cc4",
   "metadata": {},
   "source": [
    "### Function 3 : "
   ]
  },
  {
   "cell_type": "code",
   "execution_count": 21,
   "id": "f47a2519-0967-420f-a238-f4d49e5f19d9",
   "metadata": {
    "deletable": false,
    "nbgrader": {
     "cell_type": "code",
     "checksum": "3c62c56581c25b23d5b0394f67ee5d33",
     "grade": false,
     "grade_id": "cell-681ddc4dfa1a41aa",
     "locked": false,
     "schema_version": 3,
     "solution": true,
     "task": false
    },
    "tags": []
   },
   "outputs": [
    {
     "data": {
      "text/plain": [
       "('h', 'a', 'l', 'e', 'f')"
      ]
     },
     "execution_count": 21,
     "metadata": {},
     "output_type": "execute_result"
    }
   ],
   "source": [
    "def tuple_first_five(word_str):\n",
    "    ''' first, convert the string to a tuple, then return the first 5 letters of the tuple. Name the variable for tuple : five_tuple '''\n",
    "    my_tuple = tuple(word_str)\n",
    "    return my_tuple[:5]\n",
    "\n",
    "tuple_first_five('halefcaetano')"
   ]
  },
  {
   "cell_type": "code",
   "execution_count": null,
   "id": "dc605457-1779-4459-baf0-058cdf864e7c",
   "metadata": {
    "tags": []
   },
   "outputs": [],
   "source": [
    "# Ungraded Tests - Test your function here\n",
    "word_str = 'the quick brown fox jumps over the lazy dog'\n",
    "tuple_first_five(word_str)"
   ]
  },
  {
   "cell_type": "code",
   "execution_count": 22,
   "id": "4126534f-40b4-473d-8d03-b1ff0c680abf",
   "metadata": {
    "deletable": false,
    "editable": false,
    "nbgrader": {
     "cell_type": "code",
     "checksum": "7cc28be1350da7f47741fb4eb3de9c1b",
     "grade": true,
     "grade_id": "cell-fbcef9f007d59468",
     "locked": true,
     "points": 1,
     "schema_version": 3,
     "solution": false,
     "task": false
    },
    "tags": []
   },
   "outputs": [],
   "source": [
    "# GRADED TEST CASE : Test your solution with the tests added in this cell\n",
    "assert tuple_first_five(\"the quick brown fox jumps over the lazy dog\") == ('t', 'h', 'e', ' ', 'q'), \"Something is wrong! Check your function above.\" "
   ]
  },
  {
   "cell_type": "markdown",
   "id": "82ffeb4c-48da-47e3-bca5-d8d2f94e06cf",
   "metadata": {},
   "source": [
    "### __Putting it all Together in the Main Program__"
   ]
  },
  {
   "cell_type": "markdown",
   "id": "04d2be1b-766b-4c68-a45b-494ba2a9382d",
   "metadata": {},
   "source": [
    "Now, lets put all these functions together in one program!"
   ]
  },
  {
   "cell_type": "code",
   "execution_count": 23,
   "id": "0e4d341b-585c-4645-b132-4959bc071ff4",
   "metadata": {
    "tags": []
   },
   "outputs": [
    {
     "name": "stdin",
     "output_type": "stream",
     "text": [
      "Please enter a sentence:  halef\n"
     ]
    },
    {
     "name": "stdout",
     "output_type": "stream",
     "text": [
      "Every other letter in the list is:  ['h', 'l', 'f']\n",
      "You entered 1 letter e's\n",
      "The first five letters of the tuple are: ('h', 'a', 'l', 'e', 'f')\n"
     ]
    }
   ],
   "source": [
    "def every_other_letter(initial_string):\n",
    "    ''' return a list,named initial_list, that contains every other letter of the initial_string,\n",
    "        starting from the 0th position in the list '''\n",
    "    my_list = list(initial_string)\n",
    "    return my_list[::2]\n",
    "\n",
    "\n",
    "def count_letter(sentence_input):\n",
    "    my_list = list(sentence_input)\n",
    "    count = 0\n",
    "    for i in my_list:\n",
    "        if i == 'e':\n",
    "            count += 1\n",
    "    return count\n",
    "\n",
    "\n",
    "def tuple_first_five(word_str):\n",
    "    ''' first, convert the string to a tuple, then return the first 5 letters of the tuple. Name the variable for tuple : five_tuple '''\n",
    "    my_tuple = tuple(word_str)\n",
    "    return my_tuple[:5]\n",
    "\n",
    "\n",
    "def main():\n",
    "    # prompt the user to enter a sentence\n",
    "    user_string = input('Please enter a sentence: ')\n",
    "\n",
    "    # Output every other letter using the function you created above\n",
    "    print('Every other letter in the list is: ', every_other_letter(user_string))\n",
    "    # Output the number of e's by calling the function you created above\n",
    "    print('You entered', count_letter(user_string), \"letter e's\")\n",
    "    # Output the first five letters as a tuple \n",
    "    print('The first five letters of the tuple are:',tuple_first_five(user_string))\n",
    "    \n",
    "#Do not remove this line as it is calling the main function\n",
    "main()"
   ]
  },
  {
   "cell_type": "markdown",
   "id": "46f34055-9bfd-47aa-9917-76eecf767ed5",
   "metadata": {
    "tags": []
   },
   "source": [
    "## Final Step: Submit your Work for Grading "
   ]
  },
  {
   "cell_type": "markdown",
   "id": "10f79eaf-1be5-459a-8320-5b4d78e6e14e",
   "metadata": {
    "tags": []
   },
   "source": [
    "Great job on your work this week! To receive a final score for your work, please select the \"Submit Assignment\" button at the top of your lab."
   ]
  }
 ],
 "metadata": {
  "kernelspec": {
   "display_name": "Python 3 (ipykernel)",
   "language": "python",
   "name": "python3"
  },
  "language_info": {
   "codemirror_mode": {
    "name": "ipython",
    "version": 3
   },
   "file_extension": ".py",
   "mimetype": "text/x-python",
   "name": "python",
   "nbconvert_exporter": "python",
   "pygments_lexer": "ipython3",
   "version": "3.11.4"
  }
 },
 "nbformat": 4,
 "nbformat_minor": 5
}
