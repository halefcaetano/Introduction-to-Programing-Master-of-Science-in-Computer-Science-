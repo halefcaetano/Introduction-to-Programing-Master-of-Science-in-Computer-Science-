{
 "cells": [
  {
   "cell_type": "markdown",
   "id": "4b6433b6-09b3-4f1b-b9a7-c69564406ea7",
   "metadata": {},
   "source": [
    "# __Programming Assignment 6b__"
   ]
  },
  {
   "cell_type": "markdown",
   "id": "6c90d91f-25c2-4599-b0eb-83fd49335a54",
   "metadata": {},
   "source": [
    "## Assignment Instructions"
   ]
  },
  {
   "cell_type": "markdown",
   "id": "04dee87b-bc77-4e0d-bf57-5607754e73ef",
   "metadata": {},
   "source": [
    "#### The purpose of this assignment is to:\n",
    "\n",
    "* Practice manipulating lists \n",
    "\n",
    "* Practice using for loops with lists \n",
    "\n",
    "* Practice sorting lists "
   ]
  },
  {
   "cell_type": "markdown",
   "id": "f5e6aaec-9fe7-4629-a320-4c64ae7c7785",
   "metadata": {},
   "source": [
    "Follow these instructions to create a python program that will prompt the user to enter 5 words and add them to a list, but not allow duplicate words to be added. For this activity, you'll write two functions as described below. \n",
    "\n",
    "Be sure to test your code against the test cases! Submit your code once your tests are passing. (It is possible to earn partial credit for passing some of the tests, but not passing others.)"
   ]
  },
  {
   "cell_type": "markdown",
   "id": "1e7a63db-6740-4535-bc30-b9c98572c606",
   "metadata": {
    "tags": []
   },
   "source": [
    "### __Function 1 :__ "
   ]
  },
  {
   "cell_type": "markdown",
   "id": "d40fe000-c349-4f2a-9381-6cae05ab0381",
   "metadata": {},
   "source": [
    "Write a function that accepts two arguments: a list of words, and a new word to add to the list, as long as it is not a duplicate.  \n",
    "\n",
    "  1. If the word is already in the list, the function returns `True` (and does not add the word to the list a second time).\n",
    "  2. If the word is not yet in the list, then the function adds it to the end of the list, and returns `False`. \n"
   ]
  },
  {
   "cell_type": "markdown",
   "id": "4545b89c-3d0f-47f1-a222-bd5e075e2b08",
   "metadata": {},
   "source": [
    "### __Function 2 :__\n"
   ]
  },
  {
   "cell_type": "markdown",
   "id": "160f400f-4807-419b-a858-89e523d05f07",
   "metadata": {},
   "source": [
    "Write a function that accepts a list of words and returns a copy of the list where each word has been converted to Title Case, and then sorted."
   ]
  },
  {
   "cell_type": "markdown",
   "id": "bad8e392-c5d8-4c00-a53d-6ebe2f3d6fde",
   "metadata": {
    "tags": []
   },
   "source": [
    "##### Function 2 : Hints"
   ]
  },
  {
   "cell_type": "markdown",
   "id": "30030622-b34e-4c5b-b6ae-a4b0d178243b",
   "metadata": {
    "tags": []
   },
   "source": [
    "- You may want to use a for loop to iterate through each word, processing it separately, and then adding it back to a new list.\n",
    "- You can use the string function .title() to convert the word into title case.\n",
    "- Remember to review the difference between .sort() and sorted() \n",
    "    - .sort() sorts a list and modifies the original list, returning the value None \n",
    "    - sorted() takes a list as an argument, sorts it, and returns a copy of the original list "
   ]
  },
  {
   "cell_type": "markdown",
   "id": "046f7f94-a66b-4ced-91de-fa730200a93b",
   "metadata": {},
   "source": [
    "### __Main Program :__ *Putting it all together*"
   ]
  },
  {
   "cell_type": "markdown",
   "id": "34045ce3-7b77-4897-8473-0e80d5813406",
   "metadata": {},
   "source": [
    "Finally, you'll bring both the functions together in a program that prompt the user to enter 5 words. If the user enters a duplicate, your program should tell them they have already entered that word. Then, print the original list. Then, sort the list and print it out a second time. "
   ]
  },
  {
   "cell_type": "markdown",
   "id": "a2408efc-2044-4754-b9a0-5122cc0c987e",
   "metadata": {
    "tags": []
   },
   "source": [
    "#### Sample Output:"
   ]
  },
  {
   "cell_type": "markdown",
   "id": "b1e6c008-5f30-4826-8180-28b9482b2650",
   "metadata": {},
   "source": [
    "    Please enter a word:  Learning \n",
    "    Please enter a word:  python \n",
    "    Please enter a word:  is \n",
    "    Please enter a word:  very \n",
    "    Please enter a word:  very \n",
    "\n",
    "    You already entered that word. \n",
    "\n",
    "    Please enter a word:  very \n",
    "\n",
    "    You already entered that word. \n",
    "\n",
    "    Please enter a word:  very \n",
    "\n",
    "    You already entered that word. \n",
    "\n",
    "    Please enter a word:  fun! \n",
    "\n",
    "    You entered these words:  ['Learning', 'python', 'is', 'very', 'fun!'] \n",
    "    The sorted list in title case is:  ['Fun!', 'Is', 'Learning', 'Python', 'Very'] "
   ]
  },
  {
   "cell_type": "markdown",
   "id": "f6e2b209-6cf9-4306-98e4-42d3a806f692",
   "metadata": {},
   "source": [
    "## Lets Start Coding! "
   ]
  },
  {
   "cell_type": "markdown",
   "id": "b4d642dc-dc1f-4d23-ba65-94ed3552363b",
   "metadata": {},
   "source": [
    "### Function 1 : "
   ]
  },
  {
   "cell_type": "code",
   "execution_count": 39,
   "id": "00fd170f-40e0-4658-bc08-062f4d5acd17",
   "metadata": {
    "deletable": false,
    "nbgrader": {
     "cell_type": "code",
     "checksum": "2788923f38ac584192b70b894ada2f35",
     "grade": false,
     "grade_id": "cell-0d76c9fef97c049a",
     "locked": false,
     "schema_version": 3,
     "solution": true,
     "task": false
    },
    "tags": []
   },
   "outputs": [],
   "source": [
    "def check_and_store(word_list, word):\n",
    "    if word in word_list:\n",
    "        return True\n",
    "    else:\n",
    "        word_list.append(word)\n",
    "        return False\n",
    "    \n",
    "    \n"
   ]
  },
  {
   "cell_type": "code",
   "execution_count": 40,
   "id": "974c4964-b6da-4cc3-9cd9-8b0624a295e9",
   "metadata": {
    "tags": []
   },
   "outputs": [],
   "source": [
    "# Ungraded: Try it out - test your function\n",
    "\n",
    "word_list = ['ball']  # to test it, add a list of several words here, but include the word “ball” as one list element\n",
    "word1 = \"ball\" # we want to test adding a duplicate word, so this word be the same as one in the list\n",
    "word2 = \"unique\" # we want to test adding a new word, so this word should not be in the list\n",
    "\n",
    "assert check_and_store(word_list, word1) == True , \" Please check your function . A duplicate word should return True\"\n",
    "assert check_and_store(word_list, word2) == False , \" Please check your function . A new word should be appended to the list and return false\""
   ]
  },
  {
   "cell_type": "code",
   "execution_count": 41,
   "id": "1e49ad7f-9c4e-4809-9d8d-a2ee15bef851",
   "metadata": {
    "deletable": false,
    "editable": false,
    "nbgrader": {
     "cell_type": "code",
     "checksum": "44587ce4d699aae3b0aaaedd244b1694",
     "grade": true,
     "grade_id": "cell-5e241d7cbd081526",
     "locked": true,
     "points": 1,
     "schema_version": 3,
     "solution": false,
     "task": false
    },
    "tags": []
   },
   "outputs": [],
   "source": [
    "#GRADED TEST CASES : Test your solution with the tests added in this cell\n",
    "\n",
    "assert check_and_store([\"Monday\",\"Tuesday\",\"Wednesday\"], \"Tuesday\") == True, \" Check your function . A duplicate word should return True\"\n",
    "assert check_and_store([\"Monday\",\"Tuesday\",\"Wednesday\"], \"Saturday\") == False, \"Check your function . A new word appended to the list should return False\""
   ]
  },
  {
   "cell_type": "markdown",
   "id": "72b46f07-8e7d-4a4b-ae54-07ad4b3c48cb",
   "metadata": {},
   "source": [
    "### Function 2: "
   ]
  },
  {
   "cell_type": "code",
   "execution_count": 1,
   "id": "849bf919-3cd8-4110-a47a-989dd2c23f45",
   "metadata": {
    "deletable": false,
    "nbgrader": {
     "cell_type": "code",
     "checksum": "8ea4fa212bd8e5137bb9f5fd606cf631",
     "grade": false,
     "grade_id": "cell-4b5d3ddc99b3fcbc",
     "locked": false,
     "schema_version": 3,
     "solution": true,
     "task": false
    },
    "tags": []
   },
   "outputs": [
    {
     "data": {
      "text/plain": [
       "['Halef', 'Julia', 'Renata']"
      ]
     },
     "execution_count": 1,
     "metadata": {},
     "output_type": "execute_result"
    }
   ],
   "source": [
    "def case_sorting(list_of_words):\n",
    "    list_of_words = [word.capitalize() for word in list_of_words]\n",
    "    list_of_words.sort()\n",
    "    return list_of_words\n",
    "    \n",
    "case_sorting(['halef', 'renata', 'julia'])"
   ]
  },
  {
   "cell_type": "code",
   "execution_count": 2,
   "id": "c69da6f9-4ef9-4e3f-9435-fe9f4e031918",
   "metadata": {
    "tags": []
   },
   "outputs": [],
   "source": [
    "# Ungraded: Try it out - test your function\n",
    "\n",
    "list_of_words1 = ['pear','orange','plum' ] # add a list of test words here\n",
    "list_of_words2 = ['potato','radish','corn' ] # add a list of test words here\n",
    "\n",
    "assert case_sorting(list_of_words1) == ['Orange','Pear','Plum'] , \" Please check your function's sorting functionality\"\n",
    "assert case_sorting(list_of_words2) == ['Corn','Potato','Radish'] , \" Please check your function's sorting functionality\""
   ]
  },
  {
   "cell_type": "code",
   "execution_count": 3,
   "id": "ea2d83da-c6b9-4fa2-9f13-6872987ab2af",
   "metadata": {
    "deletable": false,
    "editable": false,
    "nbgrader": {
     "cell_type": "code",
     "checksum": "4f1de7076d2fa4ff0e30dee974462c45",
     "grade": true,
     "grade_id": "cell-006de32726037f4c",
     "locked": true,
     "points": 1,
     "schema_version": 3,
     "solution": false,
     "task": false
    },
    "tags": []
   },
   "outputs": [],
   "source": [
    "# GRADED TEST CASE : Test your solution with the tests added in this cell\n",
    "assert case_sorting(['fiction','autobiography','dictionary','motivational']) == ['Autobiography', 'Dictionary', 'Fiction', 'Motivational'], \"There seems to be some error. Check your sorting function ! \" \n",
    "assert case_sorting(['Mountains','rivers','ponds','lakes']) == ['Lakes', 'Mountains', 'Ponds', 'Rivers'], \"There seems to be some error. Check your sorting function ! \" "
   ]
  },
  {
   "cell_type": "markdown",
   "id": "89acb555-424f-457e-a600-ec3c2e5ee27e",
   "metadata": {},
   "source": [
    "### Main Program: *Putting it all together* "
   ]
  },
  {
   "cell_type": "markdown",
   "id": "8b3976b7-1bd0-43d7-9b08-9017d54c2d55",
   "metadata": {},
   "source": [
    "Now lets bring it all together into one program through a main function. This part of the assignment is not graded but is highly recommended.  Examine the code for the main program below. Enter the code needed to make the program function as described in the comments # ADD CODE HERE.\n",
    " "
   ]
  },
  {
   "cell_type": "code",
   "execution_count": 6,
   "id": "25714460-8edc-49b9-8d04-8d70a8f69cd5",
   "metadata": {
    "deletable": false,
    "nbgrader": {
     "cell_type": "code",
     "checksum": "732eab5ab75238b0371e8f68a2520d0f",
     "grade": false,
     "grade_id": "cell-7a89f05d1331b4a5",
     "locked": false,
     "schema_version": 3,
     "solution": true,
     "task": false
    },
    "tags": []
   },
   "outputs": [
    {
     "name": "stdin",
     "output_type": "stream",
     "text": [
      "Please enter a word:  halef\n",
      "Please enter a word:  renata\n",
      "Please enter a word:  julia\n",
      "Please enter a word:  debora\n",
      "Please enter a word:  mae\n"
     ]
    },
    {
     "name": "stdout",
     "output_type": "stream",
     "text": [
      "You entered these words:  ['halef', 'renata', 'julia', 'debora', 'mae']\n",
      "The sorted list in title case is:  ['Debora', 'Halef', 'Julia', 'Mae', 'Renata']\n"
     ]
    }
   ],
   "source": [
    "def check_and_store(word_list, word):\n",
    "    if word in word_list:\n",
    "        print('You already entered that word.')\n",
    "        return True\n",
    "    else:\n",
    "        word_list.append(word)\n",
    "        return False\n",
    "    \n",
    "    \n",
    "def case_sorting(list_of_words):\n",
    "    list_of_words = [word.capitalize() for word in list_of_words]\n",
    "    list_of_words.sort()\n",
    "    return list_of_words\n",
    "\n",
    "\n",
    "def main():\n",
    "    # loop to allow the user to enter 5 words\n",
    "    list_of_words = []\n",
    "    NUM_WORDS = 5\n",
    "    while len(list_of_words) < NUM_WORDS:\n",
    "        user_word = input('Please enter a word: ')\n",
    "        # If the user enters a duplicate, tell them they have already entered that word\n",
    "        # otherwise, store the new word in the list_of_words\n",
    "        check_and_store(list_of_words, user_word)\n",
    "\n",
    "    #print out the list \n",
    "    print('You entered these words: ', list_of_words)\n",
    "    # convert the word list to title case and sort it\n",
    "    print('The sorted list in title case is: ', case_sorting(list_of_words))\n",
    "\n",
    "# Do not remove this line as it is calling the main function\n",
    "main()\n"
   ]
  },
  {
   "cell_type": "markdown",
   "id": "f15b094a-5f60-44ab-8ae1-f994a8c4e2b5",
   "metadata": {
    "tags": []
   },
   "source": [
    "## Final Step : Submit your work for Grading"
   ]
  },
  {
   "cell_type": "markdown",
   "id": "53cff585-ce26-45aa-b913-a58ea49df788",
   "metadata": {
    "tags": []
   },
   "source": [
    "Great job on your work this week! To receive a final score for your work, please select the \"Submit Assignment\" button at the top of your lab."
   ]
  }
 ],
 "metadata": {
  "kernelspec": {
   "display_name": "Python 3 (ipykernel)",
   "language": "python",
   "name": "python3"
  },
  "language_info": {
   "codemirror_mode": {
    "name": "ipython",
    "version": 3
   },
   "file_extension": ".py",
   "mimetype": "text/x-python",
   "name": "python",
   "nbconvert_exporter": "python",
   "pygments_lexer": "ipython3",
   "version": "3.11.4"
  }
 },
 "nbformat": 4,
 "nbformat_minor": 5
}
