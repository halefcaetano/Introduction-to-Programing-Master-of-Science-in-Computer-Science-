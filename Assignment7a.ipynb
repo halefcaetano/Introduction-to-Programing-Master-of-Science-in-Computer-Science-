{
 "cells": [
  {
   "cell_type": "markdown",
   "id": "7d72a21c-52bc-448a-8931-54bcad8302b7",
   "metadata": {},
   "source": [
    "# Programming Assignment 7a"
   ]
  },
  {
   "cell_type": "markdown",
   "id": "140bcba3-ea14-4441-b516-35543e23eceb",
   "metadata": {},
   "source": [
    "## Assignment Instructions"
   ]
  },
  {
   "cell_type": "markdown",
   "id": "fa7e56f5-00f2-4498-96b4-ef3ec55341a2",
   "metadata": {},
   "source": [
    "Write two functions, described below.  Be sure to test your code against the test cases! Submit your code once your tests are passing.   Note: It is possible to earn partial credit for passing some of the tests, but not passing others.\n",
    "\n",
    "* #### Function 1: list_times_100(orig_list) \n",
    "Write a function that is passed a list of numbers.  This function should use a for loop to multiply each list element by 100, creating a new list.  Return this new list. \n",
    "\n",
    "* #### Function 2: Function 1: list_times_100(orig_list) \n",
    "Now, write a second function that meets the same specifications as above, but instead uses a list comprehension to do the new list creation. "
   ]
  },
  {
   "cell_type": "markdown",
   "id": "83a3a51e-5f0d-4714-9e1a-ae2184c0f0ea",
   "metadata": {
    "tags": []
   },
   "source": [
    "### Optional Extension"
   ]
  },
  {
   "cell_type": "markdown",
   "id": "cac05ce4-656c-4273-a3ee-064f50e40dd7",
   "metadata": {},
   "source": [
    "For this assignment, you are provided with a main() function that will do some simple tests on these two functions.  If you’d like, modify main() so that you instead prompt the user to enter 7 numbers, and store them in a list.  Afterwards, call the two functions and print the results.  For additional challenge, you can ask the user how many numbers they want to enter, instead of assuming they always want to enter 7. "
   ]
  },
  {
   "cell_type": "markdown",
   "id": "c8a6ba59-d628-4bbb-9a06-7bf0ef55cacb",
   "metadata": {
    "tags": []
   },
   "source": [
    "## Let's start coding!"
   ]
  },
  {
   "cell_type": "markdown",
   "id": "6ce92287-24fe-465f-98a8-31674d168340",
   "metadata": {},
   "source": [
    "### Step 1: Write Function A"
   ]
  },
  {
   "cell_type": "markdown",
   "id": "82f28585-d7b1-41fe-bbde-2248a9da4a27",
   "metadata": {
    "tags": []
   },
   "source": [
    "Notice that some of the cells are not able to be edited – they are just meant to be run to test your code, and perform the auto grading.  You should begin at the top and execute each code cell, adding your code when you see # YOUR CODE HERE.  If you have written the functions correctly, you should see no errors.\n",
    "\n",
    "When you execute the TEST CASES cell, what you want to see is no output.  You may want to intentionally make the function give a wrong result, so that you can see what the error message looks like – and then fix your function.  Once you execute the TEST CASES cell, and get no output, then your function is most likely correct!\n"
   ]
  },
  {
   "cell_type": "code",
   "execution_count": 1,
   "id": "77996c36-460c-47d0-8f45-f6760469b6dd",
   "metadata": {
    "deletable": false,
    "editable": false,
    "nbgrader": {
     "cell_type": "code",
     "checksum": "dce1f36f815f6cb520220ad71ceda35c",
     "grade": false,
     "grade_id": "cell-03d9b7788c0bebf2",
     "locked": true,
     "schema_version": 3,
     "solution": false,
     "task": false
    },
    "tags": []
   },
   "outputs": [],
   "source": [
    "## import all dependencies\n",
    "import inspect "
   ]
  },
  {
   "cell_type": "code",
   "execution_count": 15,
   "id": "3e9cc52d-2676-4568-afc0-cad192c99c9a",
   "metadata": {
    "deletable": false,
    "nbgrader": {
     "cell_type": "code",
     "checksum": "1a6b8a906334ac829d89c6ca754a0b3f",
     "grade": false,
     "grade_id": "cell-44a0994fc0d12898",
     "locked": false,
     "schema_version": 3,
     "solution": true,
     "task": false
    },
    "tags": []
   },
   "outputs": [],
   "source": [
    "### GRADED FUNCTION A: Write a function \"list_times_100\"\n",
    "\n",
    "def list_times_100(orig_list):\n",
    "    ''' use a for loop to create a new list that is 100 times the old list '''\n",
    "    total = []\n",
    "    for each_number in orig_list:\n",
    "        total.append(each_number * 100)\n",
    "    return total\n"
   ]
  },
  {
   "cell_type": "code",
   "execution_count": 5,
   "id": "5127b20f-af1f-4548-b8e1-644ac25aa427",
   "metadata": {
    "deletable": false,
    "editable": false,
    "nbgrader": {
     "cell_type": "code",
     "checksum": "7b78dce5579733e65a212238644e6526",
     "grade": false,
     "grade_id": "cell-5688a4494f5db8f1",
     "locked": true,
     "schema_version": 3,
     "solution": false,
     "task": false
    },
    "tags": []
   },
   "outputs": [
    {
     "name": "stdout",
     "output_type": "stream",
     "text": [
      "Your list times 100 is:  [100, 100, 100, 100]\n"
     ]
    }
   ],
   "source": [
    "## Try out your function with a simple list input\n",
    "orig_list = [1,1,1,1]\n",
    "list_times_100(orig_list)\n",
    "\n",
    "print(\"Your list times 100 is: \", list_times_100(orig_list) )"
   ]
  },
  {
   "cell_type": "markdown",
   "id": "d74e1b2f-f57c-4214-9d85-c856da125bef",
   "metadata": {
    "tags": []
   },
   "source": [
    "### Step 2: Write Function B"
   ]
  },
  {
   "cell_type": "code",
   "execution_count": 17,
   "id": "157c3cf3-89f3-49ad-ba04-b79a77299a8f",
   "metadata": {
    "deletable": false,
    "nbgrader": {
     "cell_type": "code",
     "checksum": "44e52588985889e541041ccca6aceb77",
     "grade": false,
     "grade_id": "cell-58341e91ad0b7cba",
     "locked": false,
     "schema_version": 3,
     "solution": true,
     "task": false
    },
    "tags": []
   },
   "outputs": [],
   "source": [
    "### GRADED FUNCTION B:  Write a second function called \"list_comprehension_100\"\n",
    "\n",
    "def list_comprehension_100(starting_list):\n",
    "    ''' use a list comprehension to create a new list that is 100 times the old list '''\n",
    "    total = [(each_number * 100) for each_number in starting_list]\n",
    "    return total"
   ]
  },
  {
   "cell_type": "code",
   "execution_count": 8,
   "id": "7de7b974-11c9-42ce-9719-cfaec53449ed",
   "metadata": {
    "deletable": false,
    "editable": false,
    "nbgrader": {
     "cell_type": "code",
     "checksum": "89ff079c1f2756067b797d8ee73647bc",
     "grade": false,
     "grade_id": "cell-6c15a24c55518ce3",
     "locked": true,
     "schema_version": 3,
     "solution": false,
     "task": false
    },
    "tags": []
   },
   "outputs": [
    {
     "name": "stdout",
     "output_type": "stream",
     "text": [
      "Your new list times 100 is:  [100, 100, 100, 100]\n"
     ]
    }
   ],
   "source": [
    "## Try out your list comprehension function with a simple list input\n",
    "starting_list = [2,2,2,2]\n",
    "list_comprehension_100(starting_list)\n",
    "\n",
    "print(\"Your new list times 100 is: \", list_comprehension_100(starting_list) )"
   ]
  },
  {
   "cell_type": "code",
   "execution_count": 9,
   "id": "fecc068b-7f1e-467c-b25e-d47c67eaa0bb",
   "metadata": {
    "tags": []
   },
   "outputs": [
    {
     "name": "stdout",
     "output_type": "stream",
     "text": [
      "Testing the two functions using two different lists:\n",
      "Starting with a list: [10, 20, 30, 40]\n",
      "Using a for loop, we see: [1000, 2000, 3000, 4000]\n",
      "Using a list comprehension, we see: [100, 100, 100, 100]\n",
      "They should be the same.\n",
      "Starting with a list: [1, 2, 3, 4, 5, 6, 7, 8, 9, 10, 11]\n",
      "Using a for loop, we see: [100, 200, 300, 400, 500, 600, 700, 800, 900, 1000, 1100]\n",
      "Using a list comprehension, we see: [100, 100, 100, 100]\n",
      "They should be the same.\n"
     ]
    }
   ],
   "source": [
    "def main():\n",
    "    print('Testing the two functions using two different lists:')\n",
    "    \n",
    "    # first list\n",
    "    list1 = [10, 20, 30, 40]\n",
    "    print(f'Starting with a list: {list1}')\n",
    "    print(f'Using a for loop, we see: {list_times_100(list1)}')\n",
    "    print(f'Using a list comprehension, we see: {list_comprehension_100(list1)}')\n",
    "    print('They should be the same.')\n",
    "    \n",
    "    # second list\n",
    "    list2 = [1, 2, 3, 4, 5, 6, 7, 8, 9, 10, 11]\n",
    "    print(f'Starting with a list: {list2}')\n",
    "    print(f'Using a for loop, we see: {list_times_100(list2)}')\n",
    "    print(f'Using a list comprehension, we see: {list_comprehension_100(list1)}')\n",
    "    print('They should be the same.')\n",
    "    \n",
    "main()"
   ]
  },
  {
   "cell_type": "markdown",
   "id": "ad0475ba-fd69-43c7-9621-918d778a5c7b",
   "metadata": {},
   "source": [
    "### Step 3: Testing Your Work"
   ]
  },
  {
   "cell_type": "markdown",
   "id": "03ff9aea-7fed-4f6c-8a37-690638a8c65c",
   "metadata": {},
   "source": [
    "Below is a program that will use your functions to generate two new lists. Your work will be autograded based on your function outputs for the test cases below."
   ]
  },
  {
   "cell_type": "code",
   "execution_count": 19,
   "id": "f4707b20-4abc-49fa-a5a5-55d94d389c66",
   "metadata": {
    "deletable": false,
    "editable": false,
    "nbgrader": {
     "cell_type": "code",
     "checksum": "11dda341232b40a393e7ff612e40d5b3",
     "grade": true,
     "grade_id": "cell-19240d2478ff1f89",
     "locked": true,
     "points": 3,
     "schema_version": 3,
     "solution": false,
     "task": false
    },
    "tags": []
   },
   "outputs": [
    {
     "name": "stdout",
     "output_type": "stream",
     "text": [
      "Testing the two functions using two different lists:\n"
     ]
    }
   ],
   "source": [
    "# GRADED TEST CASES 1: This cell should not deliver any errors when this cell is run\n",
    "print('Testing the two functions using two different lists:')\n",
    "\n",
    "# first test list\n",
    "list1 = [10, 20, 30, 40]\n",
    "assert list_times_100(list1) == [1000, 2000, 3000, 4000], \"Not quite. Verify that your for loop has the right multiplier. Your test output list is %s \" % list_times_100(list1)\n",
    "assert list_comprehension_100(list1) == [1000, 2000, 3000, 4000], \"Not quite. Please verify your list comprehension logic. Your test output list is %s \" % list_comprehension_100(list1)\n",
    "assert list_times_100(list1) == list_comprehension_100(list1), \"Not quite. %s should equal %s \" % list_times_100(list1) % list_comprehension_100(list1)"
   ]
  },
  {
   "cell_type": "code",
   "execution_count": 20,
   "id": "5ecf72c2-afcb-4509-933d-65eb65333970",
   "metadata": {
    "deletable": false,
    "editable": false,
    "nbgrader": {
     "cell_type": "code",
     "checksum": "c59ec8e1c418e7ae813653e3f95c1f6f",
     "grade": true,
     "grade_id": "cell-972625f7aab31e18",
     "locked": true,
     "points": 1,
     "schema_version": 3,
     "solution": false,
     "task": false
    },
    "tags": []
   },
   "outputs": [],
   "source": [
    "# GRADED TEST CASES 2: This cell should not deliver any errors when this cell is run\n",
    "\n",
    "# Check - for loop implementation\n",
    "for_loop_found = False\n",
    "\n",
    "list_time_lines = inspect.getsource(list_times_100)\n",
    "code_lines = list_time_lines.splitlines()\n",
    "for line in code_lines:\n",
    "    if \"for\" in line and \"in\" in line and \":\" in line:\n",
    "        for_loop_found = True\n",
    "\n",
    "assert for_loop_found == True, \"Please verify you've implemented a for loop in Function A.\""
   ]
  },
  {
   "cell_type": "code",
   "execution_count": 21,
   "id": "15a35843-2e7c-4664-9d95-e6b8a3703609",
   "metadata": {
    "deletable": false,
    "editable": false,
    "nbgrader": {
     "cell_type": "code",
     "checksum": "ac72503d65ef92939276eb7ae9cd1d2d",
     "grade": true,
     "grade_id": "cell-3a25b6898afbf1a6",
     "locked": true,
     "points": 1,
     "schema_version": 3,
     "solution": false,
     "task": false
    },
    "tags": []
   },
   "outputs": [],
   "source": [
    "# GRADED TEST CASES 3: This cell should not deliver any errors when this cell is run\n",
    "\n",
    "## Check - list comprehension implementation\n",
    "list_comprehension_found = False\n",
    "\n",
    "list_comp_lines = inspect.getsource(list_comprehension_100)\n",
    "comp_code_lines = list_comp_lines.splitlines()\n",
    "for line in comp_code_lines :\n",
    "    if \"[\" in line and \"for\" in line and \"in starting_list\" in line and \"]\" in line:\n",
    "        list_comprehension_found = True\n",
    "\n",
    "assert list_comprehension_found == True, \"Please verify you've implemented a list comprehension in Function B.\""
   ]
  },
  {
   "cell_type": "code",
   "execution_count": 22,
   "id": "36ac5f40-9519-44eb-9343-e734ae3250c0",
   "metadata": {
    "deletable": false,
    "editable": false,
    "nbgrader": {
     "cell_type": "code",
     "checksum": "dc7f2d74c2dae386c3b8ec15782866b8",
     "grade": true,
     "grade_id": "cell-2d949afda9933aad",
     "locked": true,
     "points": 3,
     "schema_version": 3,
     "solution": false,
     "task": false
    },
    "tags": []
   },
   "outputs": [],
   "source": [
    "# GRADED TEST CASE 4: This cell should not deliver any errors when this cell is run\n",
    "\n",
    "# second test list\n",
    "list2 = [1, 2, 3, 4, 5, 6, 7, 8, 9, 10, 11]\n",
    "assert list_times_100(list2) == [100, 200, 300, 400, 500, 600, 700, 800, 900, 1000, 1100], \"Not quite. Verify that your for loop has the right multiplier. Your test output list is %s \" % list_times_100(list2)\n",
    "assert list_comprehension_100(list2) == [100, 200, 300, 400, 500, 600, 700, 800, 900, 1000, 1100], \"Not quite. Please verify your list comprehension logic. Your test output list is %s \" % list_comprehension_100(list2)\n",
    "assert list_times_100(list2) == list_comprehension_100(list2), \"Not quite. %s should equal %s \" % list_times_100(list2) % list_comprehension_100(list2)"
   ]
  },
  {
   "cell_type": "markdown",
   "id": "cace715c-2c61-4ecf-a8aa-1d60f8d15401",
   "metadata": {
    "tags": []
   },
   "source": [
    "### Step 4: Submit your Work for Grading"
   ]
  },
  {
   "cell_type": "markdown",
   "id": "d689cd88-efdb-4888-acb8-cf37c3ba1d5e",
   "metadata": {
    "tags": []
   },
   "source": [
    "Great job on your work with for loops and list comprehension functions this week!\n",
    "\n",
    "To receive a final score for your work, please select the \"Submit Assignment\" button at the top of your lab."
   ]
  }
 ],
 "metadata": {
  "kernelspec": {
   "display_name": "Python 3 (ipykernel)",
   "language": "python",
   "name": "python3"
  },
  "language_info": {
   "codemirror_mode": {
    "name": "ipython",
    "version": 3
   },
   "file_extension": ".py",
   "mimetype": "text/x-python",
   "name": "python",
   "nbconvert_exporter": "python",
   "pygments_lexer": "ipython3",
   "version": "3.11.4"
  }
 },
 "nbformat": 4,
 "nbformat_minor": 5
}
