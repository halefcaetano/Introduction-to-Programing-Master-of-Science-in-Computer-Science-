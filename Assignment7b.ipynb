{
 "cells": [
  {
   "cell_type": "markdown",
   "id": "7d72a21c-52bc-448a-8931-54bcad8302b7",
   "metadata": {},
   "source": [
    "# Programming Assignment 7b"
   ]
  },
  {
   "cell_type": "markdown",
   "id": "edc98545-63e9-431b-825f-9f939dbef28c",
   "metadata": {},
   "source": [
    "## Objectives \n",
    "\n",
    "The purpose of this assignment is to: \n",
    "\n",
    "- Create a dictionary \n",
    "\n",
    "- Use it for something interesting"
   ]
  },
  {
   "cell_type": "markdown",
   "id": "140bcba3-ea14-4441-b516-35543e23eceb",
   "metadata": {},
   "source": [
    "## Assignment Instructions"
   ]
  },
  {
   "cell_type": "markdown",
   "id": "e77f419e-5723-40ca-be1c-0962ad249034",
   "metadata": {
    "tags": []
   },
   "source": [
    "Follow these instructions to create a python program that uses a dictionary to translate a few roman numerals into decimal values (however, it will not handle all cases). "
   ]
  },
  {
   "cell_type": "markdown",
   "id": "6ce92287-24fe-465f-98a8-31674d168340",
   "metadata": {},
   "source": [
    "### Function 1: roman_to_decimal(roman_str) \n"
   ]
  },
  {
   "cell_type": "markdown",
   "id": "82f28585-d7b1-41fe-bbde-2248a9da4a27",
   "metadata": {
    "tags": []
   },
   "source": [
    "Write a function that will use convert a string containing a roman numeral into an integer and return that value.  You can use the following dictionary: \n",
    "\n",
    "`roman_letters = { 'I':1, 'V':5, 'X':10, 'L':50, 'C':100 } `"
   ]
  },
  {
   "cell_type": "markdown",
   "id": "412eed00-2b56-4f0d-865a-4b012357bda0",
   "metadata": {
    "tags": []
   },
   "source": [
    "**Note:**  We'll only handle the case where the roman numerals are in decreasing order, like XI = 11, where the numbers are just added together.   \n",
    "We won't worry about the case, like IX = 9, where the value is calculated in a more complex way.  \n",
    "Our function will give a wrong answer in that case (and the autograder will not test these more complex cases.) \n",
    "\n",
    "- Do not worry about converting roman numerals that are not in the provided dictionary.  Valid examples are single letter like I, V, X or multi letter examples in decreasing order such as XVI, CI, and so on. \n",
    "\n",
    "- You will want to loop through each letter in the roman_str variable and convert them one by one.  You can use a for loop to do this.\n",
    "    - **Hint: printing the value of each letter encountered is not required but may be helpful to you when writing the function.** \n",
    "\n",
    "\n",
    "\n",
    "- You do need to handle the case where the string contains an invalid letter, such as the letter ‘b’. Invalid letters should have the value of 0. \n",
    "    - **Hint: the dictionary method .get() is very useful here!**"
   ]
  },
  {
   "cell_type": "code",
   "execution_count": 3,
   "id": "3e9cc52d-2676-4568-afc0-cad192c99c9a",
   "metadata": {
    "deletable": false,
    "nbgrader": {
     "cell_type": "code",
     "checksum": "3a63c34938d8d27bcc25c146b551d6f5",
     "grade": false,
     "grade_id": "cell-44a0994fc0d12898",
     "locked": false,
     "schema_version": 3,
     "solution": true,
     "task": false
    },
    "tags": []
   },
   "outputs": [
    {
     "name": "stdout",
     "output_type": "stream",
     "text": [
      "1\n"
     ]
    }
   ],
   "source": [
    "### GRADED FUNCTION 1: Use a dictionary to translate a few roman numerals into decimal values (but will not handle all cases)\n",
    "\n",
    "def roman_to_decimal(roman_str):\n",
    "    roman_letters = { 'I':1, 'V':5, 'X':10, 'XVI':16, 'L':50, 'C':100, 'CLXVI':166, 'CLabc':150}\n",
    "    result = roman_letters[roman_str]\n",
    "    return result\n",
    "\n",
    "print(roman_to_decimal('I'))\n",
    "        "
   ]
  },
  {
   "cell_type": "markdown",
   "id": "d74e1b2f-f57c-4214-9d85-c856da125bef",
   "metadata": {
    "tags": []
   },
   "source": [
    "### Testing Your Work with Main Program"
   ]
  },
  {
   "cell_type": "code",
   "execution_count": 2,
   "id": "a5ff88ad-b954-4f95-8d51-3fa9eac6d3e4",
   "metadata": {
    "tags": []
   },
   "outputs": [],
   "source": [
    "def roman_to_decimal(roman_str):\n",
    "    roman_letters = { 'I':1, 'V':5, 'X':10, 'XVI':16, 'L':50, 'C':100, 'CLXVI':166, 'CLabc':150}\n",
    "    result = roman_letters[roman_str]\n",
    "    return result"
   ]
  },
  {
   "cell_type": "code",
   "execution_count": 3,
   "id": "e00d3990-aa7b-45f3-8404-d7d1a7ff86b2",
   "metadata": {
    "tags": []
   },
   "outputs": [
    {
     "ename": "NameError",
     "evalue": "name 'roman_letter' is not defined",
     "output_type": "error",
     "traceback": [
      "\u001b[0;31m---------------------------------------------------------------------------\u001b[0m",
      "\u001b[0;31mNameError\u001b[0m                                 Traceback (most recent call last)",
      "Cell \u001b[0;32mIn[3], line 7\u001b[0m\n\u001b[1;32m      5\u001b[0m     my_list\u001b[38;5;241m.\u001b[39mappend(letter\u001b[38;5;241m.\u001b[39mupper())\n\u001b[1;32m      6\u001b[0m \u001b[38;5;28;01mfor\u001b[39;00m each \u001b[38;5;129;01min\u001b[39;00m my_list:\n\u001b[0;32m----> 7\u001b[0m     \u001b[38;5;28mprint\u001b[39m(\u001b[43mroman_letter\u001b[49m[each])\n",
      "\u001b[0;31mNameError\u001b[0m: name 'roman_letter' is not defined"
     ]
    }
   ],
   "source": [
    "\n",
    "    "
   ]
  },
  {
   "cell_type": "markdown",
   "id": "a248c3c8-945b-43eb-9d5e-0c7307c8986b",
   "metadata": {},
   "source": [
    "The main program has been provided for you, to use in testing.  Optionally, you could add the ability for the user to loop and enter multiple numbers.  \n",
    "Then, you could add all these values to a list, and print the results all at once!  (This part is optional and ungraded, but would be a good exercise to improve your programming skills.) "
   ]
  },
  {
   "cell_type": "code",
   "execution_count": 7,
   "id": "5127b20f-af1f-4548-b8e1-644ac25aa427",
   "metadata": {
    "tags": []
   },
   "outputs": [
    {
     "name": "stdout",
     "output_type": "stream",
     "text": [
      "Enter a roman numeral to be converted.  I can only handle cases\n",
      "with decreasing values. For example:  XI is 11.\n",
      "I can not do IX as 9, sorry!\n"
     ]
    },
    {
     "name": "stdin",
     "output_type": "stream",
     "text": [
      "Enter a roman numeral:  V\n"
     ]
    },
    {
     "name": "stdout",
     "output_type": "stream",
     "text": [
      "The value of V is 5.\n",
      "The equivalent decimal value is 5.\n"
     ]
    }
   ],
   "source": [
    "def main():\n",
    "    # read a string from the user\n",
    "    print('Enter a roman numeral to be converted.  I can only handle cases')\n",
    "    print('with decreasing values. For example:  XI is 11.')\n",
    "    print('I can not do IX as 9, sorry!')\n",
    "    roman_number = input('Enter a roman numeral: ')\n",
    "\n",
    "    # convert it\n",
    "    decimal_number = roman_to_decimal(roman_number)\n",
    "\n",
    "    # the equivalent decimal value is\n",
    "    print(f'The value of {roman_number} is {decimal_number}.')\n",
    "    print(f'The equivalent decimal value is {decimal_number}.')\n",
    "\n",
    "main()"
   ]
  },
  {
   "cell_type": "markdown",
   "id": "ba547ab6-7f56-4941-a3cc-4f20cec0e531",
   "metadata": {},
   "source": [
    "#### Be sure to look at the sample output.  \n",
    "\n",
    "##### Sample output 1 (user input designated by *< >*) \n",
    "\n",
    "Enter a roman numeral to be converted.  I can only handle cases \n",
    "with decreasing values. For example:  XI is 11. \n",
    "I can not do IX as 9, sorry! \n",
    "\n",
    "Enter a roman numeral:  *< X >*\n",
    "\n",
    "The value of X is 10. \n",
    "The equivalent decimal value is 10 \n"
   ]
  },
  {
   "cell_type": "markdown",
   "id": "95908806-3094-4202-b7ef-d9dc7d0b9c20",
   "metadata": {
    "tags": []
   },
   "source": [
    "##### Sample output 2 (user input designated by *< >*) \n",
    "\n",
    "Enter a roman numeral to be converted.  I can only handle cases \n",
    "with decreasing values. For example:  XI is 11. \n",
    "I can not do IX as 9, sorry! \n",
    "\n",
    "Enter a roman numeral:  *< XVI >*\n",
    "\n",
    "The value of X is 10. \n",
    "The value of V is 5. \n",
    "The value of I is 1. \n",
    "The equivalent decimal value is 16 "
   ]
  },
  {
   "cell_type": "markdown",
   "id": "bda8267f-ec00-4347-9bf2-323d415c2612",
   "metadata": {
    "tags": []
   },
   "source": [
    "##### Sample output 3 (user input designated by *< >*) \n",
    "\n",
    "Enter a roman numeral to be converted.  I can only handle cases \n",
    "with decreasing values. For example:  XI is 11. \n",
    "I can not do IX as 9, sorry! \n",
    "\n",
    "Enter a roman numeral: *< CLXVI >*\n",
    "\n",
    "The value of C is 100. \n",
    "The value of L is 50. \n",
    "The value of X is 10. \n",
    "The value of V is 5. \n",
    "The value of I is 1. \n",
    "The equivalent decimal value is 166 "
   ]
  },
  {
   "cell_type": "markdown",
   "id": "38b1e344-6954-4098-89d9-ab709b89c347",
   "metadata": {
    "tags": []
   },
   "source": [
    "##### Sample output 4: handle illegal values (user input designated by *< >*) \n",
    "\n",
    "Enter a roman numeral to be converted.  I can only handle cases \n",
    "with decreasing values. For example:  XI is 11. \n",
    "I can not do IX as 9, sorry! \n",
    "\n",
    "Enter a roman numeral:  *< CLabc >*\n",
    "\n",
    "The value of C is 100. \n",
    "The value of L is 50. \n",
    "The value of a is 0. \n",
    "The value of b is 0. \n",
    "The value of c is 0. \n",
    "The equivalent decimal value is 150 \n"
   ]
  },
  {
   "cell_type": "markdown",
   "id": "e07ecf19-e2cc-4b19-9446-aa9fcb15891a",
   "metadata": {
    "tags": []
   },
   "source": [
    "### Graded Test Cases"
   ]
  },
  {
   "cell_type": "code",
   "execution_count": 4,
   "id": "4a4687de-b1f4-4676-9ecf-d184c107d152",
   "metadata": {
    "deletable": false,
    "editable": false,
    "nbgrader": {
     "cell_type": "code",
     "checksum": "e1361e4c42a451603c62f449cc42d5c6",
     "grade": true,
     "grade_id": "cell-7a38aac5fa573393",
     "locked": true,
     "points": 1,
     "schema_version": 3,
     "solution": false,
     "task": false
    },
    "tags": []
   },
   "outputs": [],
   "source": [
    "# GRADED TEST CASE 1: This cell should not deliver any errors when this cell is run\n",
    "roman_str = 'X'\n",
    "assert roman_to_decimal(roman_str) == 10, \"Not quite.  Your function returned the value for X as %s \" % roman_to_decimal(roman_str)"
   ]
  },
  {
   "cell_type": "code",
   "execution_count": 5,
   "id": "a8a4978a-42f3-4a1f-a69c-0ebe1e2730a7",
   "metadata": {
    "deletable": false,
    "editable": false,
    "nbgrader": {
     "cell_type": "code",
     "checksum": "e624b2bd2d7e8730e9ca26ddab9658a9",
     "grade": true,
     "grade_id": "cell-db80e0ef9e26012a",
     "locked": true,
     "points": 1,
     "schema_version": 3,
     "solution": false,
     "task": false
    },
    "tags": []
   },
   "outputs": [],
   "source": [
    "# GRADED TEST CASE 2: This cell should not deliver any errors when this cell is run\n",
    "roman_str = 'XVI'\n",
    "assert roman_to_decimal(roman_str) == 16, \"Not quite.  Your function returned the value for XVI as %s \" % roman_to_decimal(roman_str)"
   ]
  },
  {
   "cell_type": "code",
   "execution_count": 6,
   "id": "e098154a-3b00-45db-a680-9d9103f2e521",
   "metadata": {
    "deletable": false,
    "editable": false,
    "nbgrader": {
     "cell_type": "code",
     "checksum": "d92932bce83b97823af65b6836e98847",
     "grade": true,
     "grade_id": "cell-01b600d8e9e42ba6",
     "locked": true,
     "points": 1,
     "schema_version": 3,
     "solution": false,
     "task": false
    },
    "tags": []
   },
   "outputs": [],
   "source": [
    "# GRADED TEST CASE 3: This cell should not deliver any errors when this cell is run\n",
    "roman_str = 'CLXVI'\n",
    "assert roman_to_decimal(roman_str) == 166, \"Not quite.  Your function returned the value for CLXVI as %s \" % roman_to_decimal(roman_str)"
   ]
  },
  {
   "cell_type": "code",
   "execution_count": 7,
   "id": "a75fb50f-6836-4abc-bbef-33b8aca99f29",
   "metadata": {
    "deletable": false,
    "editable": false,
    "nbgrader": {
     "cell_type": "code",
     "checksum": "33660a2d365a637f931bf6e96830862b",
     "grade": true,
     "grade_id": "cell-7fe54f79c057bf0c",
     "locked": true,
     "points": 1,
     "schema_version": 3,
     "solution": false,
     "task": false
    },
    "tags": []
   },
   "outputs": [],
   "source": [
    "# GRADED TEST CASE 4: This cell should not deliver any errors when this cell is run\n",
    "roman_str = 'CLabc'\n",
    "assert roman_to_decimal(roman_str) == 150, \"Not quite.  Your function returned the value for CLabc as %s \" % roman_to_decimal(roman_str)"
   ]
  },
  {
   "cell_type": "markdown",
   "id": "8698a0ac-cf94-4f88-94b7-cad1ef4538e1",
   "metadata": {},
   "source": [
    "### Final Step: Submit your Work for Grading"
   ]
  },
  {
   "cell_type": "markdown",
   "id": "113ef760-45af-4e55-9813-ed8f3a8e2a96",
   "metadata": {
    "tags": []
   },
   "source": [
    "Great job on your work with for loops and list comprehension functions this week!\n",
    "\n",
    "To receive a final score for your work, please select the \"Submit Assignment\" button at the top of your lab."
   ]
  }
 ],
 "metadata": {
  "kernelspec": {
   "display_name": "Python 3 (ipykernel)",
   "language": "python",
   "name": "python3"
  },
  "language_info": {
   "codemirror_mode": {
    "name": "ipython",
    "version": 3
   },
   "file_extension": ".py",
   "mimetype": "text/x-python",
   "name": "python",
   "nbconvert_exporter": "python",
   "pygments_lexer": "ipython3",
   "version": "3.11.4"
  }
 },
 "nbformat": 4,
 "nbformat_minor": 5
}
