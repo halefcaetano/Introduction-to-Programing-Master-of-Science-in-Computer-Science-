{
 "cells": [
  {
   "cell_type": "markdown",
   "id": "7d72a21c-52bc-448a-8931-54bcad8302b7",
   "metadata": {},
   "source": [
    "# Programming Assignment 9"
   ]
  },
  {
   "cell_type": "markdown",
   "id": "d2a987b7-893e-4bdc-968b-fa9a83d91d19",
   "metadata": {
    "tags": []
   },
   "source": [
    "## Objectives \n",
    "\n",
    "**The purpose of this assignment is to:**\n",
    "\n",
    "- Practice creating an ndarray using np.random.randint() \n",
    "\n",
    "- Practice accessing parts of the ndarray using slice. \n",
    "\n",
    "- Use a DataFrame to represent the same data, but with convenient indices and column headers. "
   ]
  },
  {
   "cell_type": "markdown",
   "id": "140bcba3-ea14-4441-b516-35543e23eceb",
   "metadata": {},
   "source": [
    "## Assignment Instructions"
   ]
  },
  {
   "cell_type": "markdown",
   "id": "814d6604-10ea-4ed9-950f-7ffd3761afcd",
   "metadata": {},
   "source": [
    "We will use an array to represent the grades of students in the class, randomly generate some grades, and then do some common array manipulations.  We will suppose that we have 10 students in the class, and each student completes 4 exams, all of which are equally weighted in their final grade.  We’ll group the code into functions. "
   ]
  },
  {
   "cell_type": "markdown",
   "id": "fa7e56f5-00f2-4498-96b4-ef3ec55341a2",
   "metadata": {
    "tags": []
   },
   "source": [
    "#### **Function 1:** rand_array(low, high, num_students, num_exams) \n",
    "\n",
    "Write a function that takes 4 arguments: \n",
    "\n",
    "- low represents the lowest number that should be randomly generated for a grade \n",
    "\n",
    "- high represents the highest number (inclusive) that should be randomly generated for a grade \n",
    "\n",
    "- num_students contains the number of students in the class \n",
    "\n",
    "- num_exams contains the number of exams that are give in the class \n",
    "\n",
    "This function should then return a 2D array which has num_students number of rows, and num_exams number of columns, containing random numbers between low and high (inclusive). "
   ]
  },
  {
   "cell_type": "markdown",
   "id": "863d3172-f47f-4ab0-ba74-6a391fb04007",
   "metadata": {
    "tags": []
   },
   "source": [
    "##### Function 1 Hints (click the arrow on the left to access)"
   ]
  },
  {
   "cell_type": "markdown",
   "id": "add8aff8-41bd-4500-afc6-c1efa445951e",
   "metadata": {
    "tags": []
   },
   "source": [
    "**Hints (it may help to write these steps as comments in your function):**\n",
    "1) Important:  The first line of your code inside the function must set the random seed to be 0.  Include this line exactly: \n",
    "\n",
    "    `np.random.seed(0)` \n",
    "\n",
    "This line ensures that your program uses the same starting value as the autograder (and all other students, too!) for the random numbers it generates.  Recall that a pseudorandom number generator will generate a random distribution of numbers, but that the numbers are based on the starting seed. \n",
    "\n",
    "2. Calculate the total number of exams that you need to generate (by multiplying the number of students by the number of exams in the course). \n",
    "\n",
    "3. Use np.random.randint() to create enough random numbers for those exams, with grades falling between low and high (inclusive).  This function will return a 1D list. \n",
    "\n",
    "4. Then, use .reshape() to modify list to be an array with num_student rows and num_exams columns. (Note that.reshape() does not change the original ndarray, it instead returns a new ndarray.). Store the result in a final variable and return it. "
   ]
  },
  {
   "cell_type": "markdown",
   "id": "f91552d3-c84d-4a9c-8b46-b829eaa6087c",
   "metadata": {},
   "source": [
    " "
   ]
  },
  {
   "cell_type": "markdown",
   "id": "61fdf6d3-18bb-4dc2-a0bd-1e7c64b162a4",
   "metadata": {
    "tags": []
   },
   "source": [
    "#### **Function 2**: build_student_df(grade_array) \n",
    "\n",
    "Write a function that will take a 2D array (such as what is returned from the first function) and convert it to a Pandas DataFrame with custom column names and custom row names.  Specifically, the names of the columns should be “Exam 1”, “Exam 2”, “Exam 3”, and “Exam 4”.  The names of the rows should be the letters “A” through “J”, in order.  Return this DataFrame from the function."
   ]
  },
  {
   "cell_type": "markdown",
   "id": "87c1f3ee-438c-415c-9784-ad57162ffd73",
   "metadata": {
    "tags": []
   },
   "source": [
    "##### Function 2 Hints (click the arrow on the left to access)"
   ]
  },
  {
   "cell_type": "markdown",
   "id": "8bbd06da-5ca8-4470-9792-6c50a8615fe9",
   "metadata": {},
   "source": [
    "Once you have the array converted to a DataFrame, you can use the function .rename() to change the row and column names.  You can check your notes or review the lectures, or find another source on the internet, for example this page: https://www.geeksforgeeks.org/python-change-column-names-and-row-indexes-in-pandas-dataframe/  "
   ]
  },
  {
   "cell_type": "markdown",
   "id": "22838138-6c83-4b66-849e-22e48c8ce4a5",
   "metadata": {},
   "source": [
    " "
   ]
  },
  {
   "cell_type": "markdown",
   "id": "ce3e79d8-ed48-461b-991c-f3ce27f419f5",
   "metadata": {
    "tags": []
   },
   "source": [
    "## Let's Start Coding!"
   ]
  },
  {
   "cell_type": "code",
   "execution_count": 1,
   "id": "f54d25f3-87db-4e98-84be-ba10913462bf",
   "metadata": {
    "deletable": false,
    "editable": false,
    "nbgrader": {
     "cell_type": "code",
     "checksum": "b5f5b3429951acf949a13f8a1f17e98a",
     "grade": false,
     "grade_id": "cell-f7dfecc21bab37d6",
     "locked": true,
     "schema_version": 3,
     "solution": false,
     "task": false
    },
    "tags": []
   },
   "outputs": [],
   "source": [
    "# get all dependencies\n",
    "import numpy as np\n",
    "import pandas as pd\n",
    "import inspect"
   ]
  },
  {
   "cell_type": "markdown",
   "id": "fb7c19a1-4ee1-4c5d-845e-669e44be41f8",
   "metadata": {
    "tags": []
   },
   "source": [
    "### Step 1: Code your Functions"
   ]
  },
  {
   "cell_type": "markdown",
   "id": "65607e6b-42bf-400b-bb8f-0cacc9756677",
   "metadata": {
    "tags": []
   },
   "source": [
    "#### **Function 1:** rand_array(low, high, num_students, num_exams) "
   ]
  },
  {
   "cell_type": "code",
   "execution_count": 109,
   "id": "d72b4fb8-16cc-42bb-828d-3ee67351c01c",
   "metadata": {
    "deletable": false,
    "nbgrader": {
     "cell_type": "code",
     "checksum": "2894054e2dc9584adfb6bdff35c23a2b",
     "grade": false,
     "grade_id": "cell-0daaf1b52f5997ae",
     "locked": false,
     "schema_version": 3,
     "solution": true,
     "task": false
    },
    "tags": []
   },
   "outputs": [],
   "source": [
    "def rand_array(low, high, num_students, num_exams):\n",
    "    ''' generate a 2D array of num_students rows and num_exams columns\n",
    "        which contain random numbers between the low and high\n",
    "        integer values (inclusive), returning the 2D array'''\n",
    "    np.random.seed(0)\n",
    "    arr = np.random.randint(low, high, size =(num_students, num_exams))\n",
    "    return arr\n"
   ]
  },
  {
   "cell_type": "code",
   "execution_count": 94,
   "id": "c2317508-3b59-4be9-8758-6b35d0c77f3b",
   "metadata": {
    "tags": []
   },
   "outputs": [
    {
     "name": "stdout",
     "output_type": "stream",
     "text": [
      "[[82 85 91 70]\n",
      " [73 97 73 77]\n",
      " [79 89 91 88]\n",
      " [74 93 76 94]\n",
      " [94 82 96 71]\n",
      " [76 77 93 84]\n",
      " [94 87 75 95]\n",
      " [83 78 79 90]\n",
      " [89 86 89 75]\n",
      " [85 85 70 88]]\n"
     ]
    }
   ],
   "source": [
    "# For basic testing\n",
    "exam_grades = rand_array(70, 100, 10, 4)\n",
    "print(exam_grades)"
   ]
  },
  {
   "cell_type": "markdown",
   "id": "14257661-053b-4895-b741-f2c65ea60634",
   "metadata": {
    "tags": []
   },
   "source": [
    "#### **Function 2**: build_student_df(grade_array) "
   ]
  },
  {
   "cell_type": "code",
   "execution_count": 110,
   "id": "7cfcbd20-26f0-4582-af17-dfc14a525106",
   "metadata": {
    "deletable": false,
    "nbgrader": {
     "cell_type": "code",
     "checksum": "0ab73760da23c012d76abaf9591e386d",
     "grade": false,
     "grade_id": "cell-82b29dfe8426014c",
     "locked": false,
     "schema_version": 3,
     "solution": true,
     "task": false
    },
    "tags": []
   },
   "outputs": [],
   "source": [
    "def build_student_df(grade_array):\n",
    "    ''' take a 2D ndarray and convert to a Pandas Dataframe with custom row and column labels'''\n",
    "    names = [_ for _ in 'ABCDEFGHIJ']\n",
    "    names1 = [_ for _ in ('Exam 1', 'Exam 2', 'Exam 3', 'Exam 4')]\n",
    "    df = pd.DataFrame(grade_array, index=names, columns=names1)\n",
    "    return df"
   ]
  },
  {
   "cell_type": "code",
   "execution_count": 111,
   "id": "bd43eb80-b31c-4539-9e43-2941be63d17f",
   "metadata": {
    "tags": []
   },
   "outputs": [
    {
     "data": {
      "text/html": [
       "<div>\n",
       "<style scoped>\n",
       "    .dataframe tbody tr th:only-of-type {\n",
       "        vertical-align: middle;\n",
       "    }\n",
       "\n",
       "    .dataframe tbody tr th {\n",
       "        vertical-align: top;\n",
       "    }\n",
       "\n",
       "    .dataframe thead th {\n",
       "        text-align: right;\n",
       "    }\n",
       "</style>\n",
       "<table border=\"1\" class=\"dataframe\">\n",
       "  <thead>\n",
       "    <tr style=\"text-align: right;\">\n",
       "      <th></th>\n",
       "      <th>Exam 1</th>\n",
       "      <th>Exam 2</th>\n",
       "      <th>Exam 3</th>\n",
       "      <th>Exam 4</th>\n",
       "    </tr>\n",
       "  </thead>\n",
       "  <tbody>\n",
       "    <tr>\n",
       "      <th>A</th>\n",
       "      <td>82</td>\n",
       "      <td>85</td>\n",
       "      <td>91</td>\n",
       "      <td>70</td>\n",
       "    </tr>\n",
       "    <tr>\n",
       "      <th>B</th>\n",
       "      <td>73</td>\n",
       "      <td>97</td>\n",
       "      <td>73</td>\n",
       "      <td>77</td>\n",
       "    </tr>\n",
       "    <tr>\n",
       "      <th>C</th>\n",
       "      <td>79</td>\n",
       "      <td>89</td>\n",
       "      <td>91</td>\n",
       "      <td>88</td>\n",
       "    </tr>\n",
       "    <tr>\n",
       "      <th>D</th>\n",
       "      <td>74</td>\n",
       "      <td>93</td>\n",
       "      <td>76</td>\n",
       "      <td>94</td>\n",
       "    </tr>\n",
       "    <tr>\n",
       "      <th>E</th>\n",
       "      <td>94</td>\n",
       "      <td>82</td>\n",
       "      <td>96</td>\n",
       "      <td>71</td>\n",
       "    </tr>\n",
       "    <tr>\n",
       "      <th>F</th>\n",
       "      <td>76</td>\n",
       "      <td>77</td>\n",
       "      <td>93</td>\n",
       "      <td>84</td>\n",
       "    </tr>\n",
       "    <tr>\n",
       "      <th>G</th>\n",
       "      <td>94</td>\n",
       "      <td>87</td>\n",
       "      <td>75</td>\n",
       "      <td>95</td>\n",
       "    </tr>\n",
       "    <tr>\n",
       "      <th>H</th>\n",
       "      <td>83</td>\n",
       "      <td>78</td>\n",
       "      <td>79</td>\n",
       "      <td>90</td>\n",
       "    </tr>\n",
       "    <tr>\n",
       "      <th>I</th>\n",
       "      <td>89</td>\n",
       "      <td>86</td>\n",
       "      <td>89</td>\n",
       "      <td>75</td>\n",
       "    </tr>\n",
       "    <tr>\n",
       "      <th>J</th>\n",
       "      <td>85</td>\n",
       "      <td>85</td>\n",
       "      <td>70</td>\n",
       "      <td>88</td>\n",
       "    </tr>\n",
       "  </tbody>\n",
       "</table>\n",
       "</div>"
      ],
      "text/plain": [
       "   Exam 1  Exam 2  Exam 3  Exam 4\n",
       "A      82      85      91      70\n",
       "B      73      97      73      77\n",
       "C      79      89      91      88\n",
       "D      74      93      76      94\n",
       "E      94      82      96      71\n",
       "F      76      77      93      84\n",
       "G      94      87      75      95\n",
       "H      83      78      79      90\n",
       "I      89      86      89      75\n",
       "J      85      85      70      88"
      ]
     },
     "execution_count": 111,
     "metadata": {},
     "output_type": "execute_result"
    }
   ],
   "source": [
    "# For basic testing\n",
    "build_student_df(exam_grades) "
   ]
  },
  {
   "cell_type": "markdown",
   "id": "c8a6ba59-d628-4bbb-9a06-7bf0ef55cacb",
   "metadata": {
    "tags": []
   },
   "source": [
    "### Step 2: Testing your code with the Main program"
   ]
  },
  {
   "cell_type": "markdown",
   "id": "d5227b5a-d724-4cf0-9fb8-7ea112424540",
   "metadata": {
    "tags": []
   },
   "source": [
    "The main program has been provided for you, to use in testing.  Notice how the same data (for example, Exam 2 scores) can be retrieved from either the array or the DataFrame, but the exact methods used for retrieving the data are slightly different. \n",
    "\n",
    "As always, feel free to modify the code in main to further your understanding, but be sure that the two functions meet the requirements listed above. "
   ]
  },
  {
   "cell_type": "code",
   "execution_count": 121,
   "id": "b729b162-1850-48fc-9d49-25be5cbc82a2",
   "metadata": {
    "tags": []
   },
   "outputs": [
    {
     "name": "stdout",
     "output_type": "stream",
     "text": [
      "The student grades in a 2D list are:\n",
      "[[82 85 91 70]\n",
      " [73 97 73 77]\n",
      " [79 89 91 88]\n",
      " [74 93 76 94]\n",
      " [94 82 96 71]\n",
      " [76 77 93 84]\n",
      " [94 87 75 95]\n",
      " [83 78 79 90]\n",
      " [89 86 89 75]\n",
      " [85 85 70 88]]\n",
      "\n",
      "From the 2D list, we can print just Exam 2 grades:\n",
      "[85 97 89 93 82 77 87 78 86 85]\n",
      "The student grades in a DataFrame are:\n",
      "   Exam 1  Exam 2  Exam 3  Exam 4\n",
      "A      82      85      91      70\n",
      "B      73      97      73      77\n",
      "C      79      89      91      88\n",
      "D      74      93      76      94\n",
      "E      94      82      96      71\n",
      "F      76      77      93      84\n",
      "G      94      87      75      95\n",
      "H      83      78      79      90\n",
      "I      89      86      89      75\n",
      "J      85      85      70      88\n",
      "\n",
      "From the DataFrame, we can print just Exam 2 grades:\n"
     ]
    },
    {
     "ename": "KeyError",
     "evalue": "'Exam2'",
     "output_type": "error",
     "traceback": [
      "\u001b[0;31m---------------------------------------------------------------------------\u001b[0m",
      "\u001b[0;31mKeyError\u001b[0m                                  Traceback (most recent call last)",
      "File \u001b[0;32m/opt/conda/lib/python3.11/site-packages/pandas/core/indexes/base.py:3653\u001b[0m, in \u001b[0;36mIndex.get_loc\u001b[0;34m(self, key)\u001b[0m\n\u001b[1;32m   3652\u001b[0m \u001b[38;5;28;01mtry\u001b[39;00m:\n\u001b[0;32m-> 3653\u001b[0m     \u001b[38;5;28;01mreturn\u001b[39;00m \u001b[38;5;28;43mself\u001b[39;49m\u001b[38;5;241;43m.\u001b[39;49m\u001b[43m_engine\u001b[49m\u001b[38;5;241;43m.\u001b[39;49m\u001b[43mget_loc\u001b[49m\u001b[43m(\u001b[49m\u001b[43mcasted_key\u001b[49m\u001b[43m)\u001b[49m\n\u001b[1;32m   3654\u001b[0m \u001b[38;5;28;01mexcept\u001b[39;00m \u001b[38;5;167;01mKeyError\u001b[39;00m \u001b[38;5;28;01mas\u001b[39;00m err:\n",
      "File \u001b[0;32m/opt/conda/lib/python3.11/site-packages/pandas/_libs/index.pyx:147\u001b[0m, in \u001b[0;36mpandas._libs.index.IndexEngine.get_loc\u001b[0;34m()\u001b[0m\n",
      "File \u001b[0;32m/opt/conda/lib/python3.11/site-packages/pandas/_libs/index.pyx:176\u001b[0m, in \u001b[0;36mpandas._libs.index.IndexEngine.get_loc\u001b[0;34m()\u001b[0m\n",
      "File \u001b[0;32mpandas/_libs/hashtable_class_helper.pxi:7080\u001b[0m, in \u001b[0;36mpandas._libs.hashtable.PyObjectHashTable.get_item\u001b[0;34m()\u001b[0m\n",
      "File \u001b[0;32mpandas/_libs/hashtable_class_helper.pxi:7088\u001b[0m, in \u001b[0;36mpandas._libs.hashtable.PyObjectHashTable.get_item\u001b[0;34m()\u001b[0m\n",
      "\u001b[0;31mKeyError\u001b[0m: 'Exam2'",
      "\nThe above exception was the direct cause of the following exception:\n",
      "\u001b[0;31mKeyError\u001b[0m                                  Traceback (most recent call last)",
      "Cell \u001b[0;32mIn[121], line 22\u001b[0m\n\u001b[1;32m     19\u001b[0m     \u001b[38;5;28mprint\u001b[39m(\u001b[38;5;124m'\u001b[39m\u001b[38;5;130;01m\\n\u001b[39;00m\u001b[38;5;124mWe can also print all the grades of student \u001b[39m\u001b[38;5;124m\"\u001b[39m\u001b[38;5;124mA\u001b[39m\u001b[38;5;124m\"\u001b[39m\u001b[38;5;124m:\u001b[39m\u001b[38;5;124m'\u001b[39m)\n\u001b[1;32m     20\u001b[0m     \u001b[38;5;28mprint\u001b[39m(student_grades_df\u001b[38;5;241m.\u001b[39mloc[\u001b[38;5;124m'\u001b[39m\u001b[38;5;124mA\u001b[39m\u001b[38;5;124m'\u001b[39m]) \u001b[38;5;66;03m# row\u001b[39;00m\n\u001b[0;32m---> 22\u001b[0m \u001b[43mmain\u001b[49m\u001b[43m(\u001b[49m\u001b[43m)\u001b[49m\n",
      "Cell \u001b[0;32mIn[121], line 18\u001b[0m, in \u001b[0;36mmain\u001b[0;34m()\u001b[0m\n\u001b[1;32m     16\u001b[0m \u001b[38;5;66;03m# Print just the Exam 2 grades\u001b[39;00m\n\u001b[1;32m     17\u001b[0m \u001b[38;5;28mprint\u001b[39m(\u001b[38;5;124m'\u001b[39m\u001b[38;5;130;01m\\n\u001b[39;00m\u001b[38;5;124mFrom the DataFrame, we can print just Exam 2 grades:\u001b[39m\u001b[38;5;124m'\u001b[39m)\n\u001b[0;32m---> 18\u001b[0m \u001b[38;5;28mprint\u001b[39m(\u001b[43mstudent_grades_df\u001b[49m\u001b[43m[\u001b[49m\u001b[38;5;124;43m'\u001b[39;49m\u001b[38;5;124;43mExam2\u001b[39;49m\u001b[38;5;124;43m'\u001b[39;49m\u001b[43m]\u001b[49m) \u001b[38;5;66;03m# col\u001b[39;00m\n\u001b[1;32m     19\u001b[0m \u001b[38;5;28mprint\u001b[39m(\u001b[38;5;124m'\u001b[39m\u001b[38;5;130;01m\\n\u001b[39;00m\u001b[38;5;124mWe can also print all the grades of student \u001b[39m\u001b[38;5;124m\"\u001b[39m\u001b[38;5;124mA\u001b[39m\u001b[38;5;124m\"\u001b[39m\u001b[38;5;124m:\u001b[39m\u001b[38;5;124m'\u001b[39m)\n\u001b[1;32m     20\u001b[0m \u001b[38;5;28mprint\u001b[39m(student_grades_df\u001b[38;5;241m.\u001b[39mloc[\u001b[38;5;124m'\u001b[39m\u001b[38;5;124mA\u001b[39m\u001b[38;5;124m'\u001b[39m])\n",
      "File \u001b[0;32m/opt/conda/lib/python3.11/site-packages/pandas/core/frame.py:3761\u001b[0m, in \u001b[0;36mDataFrame.__getitem__\u001b[0;34m(self, key)\u001b[0m\n\u001b[1;32m   3759\u001b[0m \u001b[38;5;28;01mif\u001b[39;00m \u001b[38;5;28mself\u001b[39m\u001b[38;5;241m.\u001b[39mcolumns\u001b[38;5;241m.\u001b[39mnlevels \u001b[38;5;241m>\u001b[39m \u001b[38;5;241m1\u001b[39m:\n\u001b[1;32m   3760\u001b[0m     \u001b[38;5;28;01mreturn\u001b[39;00m \u001b[38;5;28mself\u001b[39m\u001b[38;5;241m.\u001b[39m_getitem_multilevel(key)\n\u001b[0;32m-> 3761\u001b[0m indexer \u001b[38;5;241m=\u001b[39m \u001b[38;5;28;43mself\u001b[39;49m\u001b[38;5;241;43m.\u001b[39;49m\u001b[43mcolumns\u001b[49m\u001b[38;5;241;43m.\u001b[39;49m\u001b[43mget_loc\u001b[49m\u001b[43m(\u001b[49m\u001b[43mkey\u001b[49m\u001b[43m)\u001b[49m\n\u001b[1;32m   3762\u001b[0m \u001b[38;5;28;01mif\u001b[39;00m is_integer(indexer):\n\u001b[1;32m   3763\u001b[0m     indexer \u001b[38;5;241m=\u001b[39m [indexer]\n",
      "File \u001b[0;32m/opt/conda/lib/python3.11/site-packages/pandas/core/indexes/base.py:3655\u001b[0m, in \u001b[0;36mIndex.get_loc\u001b[0;34m(self, key)\u001b[0m\n\u001b[1;32m   3653\u001b[0m     \u001b[38;5;28;01mreturn\u001b[39;00m \u001b[38;5;28mself\u001b[39m\u001b[38;5;241m.\u001b[39m_engine\u001b[38;5;241m.\u001b[39mget_loc(casted_key)\n\u001b[1;32m   3654\u001b[0m \u001b[38;5;28;01mexcept\u001b[39;00m \u001b[38;5;167;01mKeyError\u001b[39;00m \u001b[38;5;28;01mas\u001b[39;00m err:\n\u001b[0;32m-> 3655\u001b[0m     \u001b[38;5;28;01mraise\u001b[39;00m \u001b[38;5;167;01mKeyError\u001b[39;00m(key) \u001b[38;5;28;01mfrom\u001b[39;00m \u001b[38;5;21;01merr\u001b[39;00m\n\u001b[1;32m   3656\u001b[0m \u001b[38;5;28;01mexcept\u001b[39;00m \u001b[38;5;167;01mTypeError\u001b[39;00m:\n\u001b[1;32m   3657\u001b[0m     \u001b[38;5;66;03m# If we have a listlike key, _check_indexing_error will raise\u001b[39;00m\n\u001b[1;32m   3658\u001b[0m     \u001b[38;5;66;03m#  InvalidIndexError. Otherwise we fall through and re-raise\u001b[39;00m\n\u001b[1;32m   3659\u001b[0m     \u001b[38;5;66;03m#  the TypeError.\u001b[39;00m\n\u001b[1;32m   3660\u001b[0m     \u001b[38;5;28mself\u001b[39m\u001b[38;5;241m.\u001b[39m_check_indexing_error(key)\n",
      "\u001b[0;31mKeyError\u001b[0m: 'Exam2'"
     ]
    }
   ],
   "source": [
    "def main():\n",
    "    # create exam grades for 10 students, 4 exams each, with random numbers between 70 and 100\n",
    "    grades = rand_array(70, 100, 10, 4)\n",
    "    # Print the result -- this is a 2D list\n",
    "    print('The student grades in a 2D list are:')\n",
    "    print(grades)\n",
    "    # Print just the Exam 2 grades\n",
    "    print('\\nFrom the 2D list, we can print just Exam 2 grades:')\n",
    "    print(grades[:,1])\n",
    "    \n",
    "    # now, convert this to a DataFrame\n",
    "    student_grades_df= build_student_df(grades)\n",
    "    # Print the result -- this is a DataFrame\n",
    "    print('The student grades in a DataFrame are:')\n",
    "    print(student_grades_df)\n",
    "    # Print just the Exam 2 grades\n",
    "    print('\\nFrom the DataFrame, we can print just Exam 2 grades:')\n",
    "    print(student_grades_df['Exam2']) # col\n",
    "    print('\\nWe can also print all the grades of student \"A\":')\n",
    "    print(student_grades_df.loc['A']) # row\n",
    "\n",
    "main()"
   ]
  },
  {
   "cell_type": "markdown",
   "id": "fc30d9d0-f285-4000-8354-570d391e3534",
   "metadata": {
    "tags": []
   },
   "source": [
    "### Step 3: Graded Test Cases\n",
    "The below cells are locked in this notebook. You do not need to modify them, but you can run them to test your code before submitting for final grading, or press the \"Validate\" button in your lab to automatically run these all at once."
   ]
  },
  {
   "cell_type": "code",
   "execution_count": 120,
   "id": "3e9cc52d-2676-4568-afc0-cad192c99c9a",
   "metadata": {
    "deletable": false,
    "editable": false,
    "nbgrader": {
     "cell_type": "code",
     "checksum": "47f827a14c484600fafc0f4e3ca29924",
     "grade": true,
     "grade_id": "cell-44a0994fc0d12898",
     "locked": true,
     "points": 2,
     "schema_version": 3,
     "solution": false,
     "task": false
    },
    "tags": []
   },
   "outputs": [],
   "source": [
    "### GRADED TEST CASE 1: \n",
    "'''FUNCTION 1 - A 2D List of exam grades is generated from a 4 parameter function'''\n",
    "param_check = bool\n",
    "\n",
    "try:\n",
    "    grades = rand_array(70, 100, 10, 4)\n",
    "    param_check = True\n",
    "    data_type = type(grades)\n",
    "except Exception as error:\n",
    "    param_check = False\n",
    "    \n",
    "assert str(data_type) == \"<class 'numpy.ndarray'>\" and param_check == True, \"Please verify that your function takes 4 arguments and has a data type of a 2D list\""
   ]
  },
  {
   "cell_type": "code",
   "execution_count": 119,
   "id": "a8a4978a-42f3-4a1f-a69c-0ebe1e2730a7",
   "metadata": {
    "deletable": false,
    "editable": false,
    "nbgrader": {
     "cell_type": "code",
     "checksum": "838518467454b5f18073c6304853aee5",
     "grade": true,
     "grade_id": "cell-db80e0ef9e26012a",
     "locked": true,
     "points": 1,
     "schema_version": 3,
     "solution": false,
     "task": false
    },
    "tags": []
   },
   "outputs": [],
   "source": [
    "### GRADED TEST CASE 2: \n",
    "'''FUNCTION 1 - Function includes random generation elements'''\n",
    "\n",
    "random_check = bool\n",
    "\n",
    "func_lines = inspect.getsource(rand_array)\n",
    "code_lines = func_lines.splitlines()\n",
    "for line in code_lines:\n",
    "    if \"np.random.seed(0)\" in line or \"np.random.randint\" in line:\n",
    "        random_check = True\n",
    "assert random_check == True, \"Please verify you've used np.random.seed and np.random.randint\""
   ]
  },
  {
   "cell_type": "code",
   "execution_count": 118,
   "id": "157c3cf3-89f3-49ad-ba04-b79a77299a8f",
   "metadata": {
    "deletable": false,
    "editable": false,
    "nbgrader": {
     "cell_type": "code",
     "checksum": "b4ede2d501e6d41820a68454984d0714",
     "grade": true,
     "grade_id": "cell-58341e91ad0b7cba",
     "locked": true,
     "points": 1,
     "schema_version": 3,
     "solution": false,
     "task": false
    },
    "tags": []
   },
   "outputs": [],
   "source": [
    "###  GRADED TEST CASE 3: \n",
    "'''FUNCTION 2 - Function delivers an output of a DataFrame type'''\n",
    "\n",
    "student_grades_df= build_student_df(grades)\n",
    "data_type = type(student_grades_df)\n",
    "assert str(data_type) == \"<class 'pandas.core.frame.DataFrame'>\", \"Please verify that your code generates a DataFrame.\""
   ]
  },
  {
   "cell_type": "code",
   "execution_count": 117,
   "id": "4a4687de-b1f4-4676-9ecf-d184c107d152",
   "metadata": {
    "deletable": false,
    "editable": false,
    "nbgrader": {
     "cell_type": "code",
     "checksum": "e78f7f1c1731b89ea81a82787d4984a5",
     "grade": true,
     "grade_id": "cell-7a38aac5fa573393",
     "locked": true,
     "points": 2,
     "schema_version": 3,
     "solution": false,
     "task": false
    },
    "tags": []
   },
   "outputs": [],
   "source": [
    "### GRADED TEST CASE 4: \n",
    "'''FUNCTION 2 - Row names “Exam 1”, “Exam 2”, “Exam 3”, and “Exam 4”. The names of the rows should be the letters “A” through “J”, in order. '''\n",
    "col_check = bool\n",
    "row_check = bool\n",
    "\n",
    "def cleanString(string):\n",
    "    clean_string = string.replace(\" \", \"\")\n",
    "    clean_string = clean_string.replace(\"'\", \"\")\n",
    "    clean_string = clean_string.replace('\"', \"\")\n",
    "    return clean_string\n",
    "\n",
    "df = build_student_df(exam_grades) \n",
    "exp_column_list = \"['Exam 1','Exam 2','Exam 3','Exam 4']\"\n",
    "exp_row_list = \"['A' 'B' 'C' 'D' 'E' 'F' 'G' 'H' 'I' 'J']\"\n",
    "\n",
    "submit_column_list = str(list(df.columns.values))\n",
    "submit_rows_list = str(df.index.values)\n",
    "\n",
    "## Sanitize columns and rows from submission \n",
    "submit_col_clean = cleanString(submit_column_list)\n",
    "submit_rows_clean = cleanString(submit_rows_list)\n",
    "\n",
    "## Sanitize columns and rows from expected solution\n",
    "exp_col_clean = cleanString(exp_column_list)\n",
    "exp_rows_clean = cleanString(exp_row_list)\n",
    "\n",
    "assert submit_col_clean == exp_col_clean, \"Please verify your column headers are correct. Your columns are %s\" % submit_column_list\n",
    "assert submit_rows_clean ==  exp_rows_clean, \"Please verify your row values are correct. Your rows are %s\" % submit_rows_list"
   ]
  },
  {
   "cell_type": "markdown",
   "id": "03ff9aea-7fed-4f6c-8a37-690638a8c65c",
   "metadata": {},
   "source": [
    "### Step 4: Submit your Work for Grading\n",
    "Congratulations on completing this assignment.\n",
    "\n",
    "To receive a final score for your work, please select the \"Submit Assignment\" button at the top of your lab."
   ]
  }
 ],
 "metadata": {
  "kernelspec": {
   "display_name": "Python 3 (ipykernel)",
   "language": "python",
   "name": "python3"
  },
  "language_info": {
   "codemirror_mode": {
    "name": "ipython",
    "version": 3
   },
   "file_extension": ".py",
   "mimetype": "text/x-python",
   "name": "python",
   "nbconvert_exporter": "python",
   "pygments_lexer": "ipython3",
   "version": "3.11.4"
  }
 },
 "nbformat": 4,
 "nbformat_minor": 5
}
