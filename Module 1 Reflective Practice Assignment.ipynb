{
 "cells": [
  {
   "cell_type": "markdown",
   "id": "9923e9c4",
   "metadata": {
    "deletable": false,
    "editable": false,
    "nbgrader": {
     "cell_type": "markdown",
     "checksum": "5879ca07d79bd6d2ec666ee1779b0f75",
     "grade": false,
     "grade_id": "cell-af9cc8d837aebce9",
     "locked": true,
     "schema_version": 3,
     "solution": false,
     "task": false
    },
    "tags": []
   },
   "source": [
    "# Module 1 Reflective Practice Assignment "
   ]
  },
  {
   "cell_type": "markdown",
   "id": "64845279",
   "metadata": {
    "deletable": false,
    "editable": false,
    "nbgrader": {
     "cell_type": "markdown",
     "checksum": "83eb5bb51fab5891b34eb53ed24aedf5",
     "grade": false,
     "grade_id": "cell-ff5eef82ae0a7de3",
     "locked": true,
     "schema_version": 3,
     "solution": false,
     "task": false
    },
    "tags": []
   },
   "source": [
    "Spend between 20 and 30 minutes just experimenting with the python concepts that we have learned this week.  Get creative!  Try new things! \n",
    "Fail and try again!  Suggested practice items:\n",
    "\n",
    "- Using mathematical operations to add, subtract, multiply, divide, or find the remainder \n",
    "\n",
    "- Using if statements with comparison operators such as >, >=, <, <=, ==, or!= \n",
    "\n",
    "Once you're done, save this Jupyter Notebook - you will submit it as part of this assignment. It is perfectly acceptable to describe trying to get something to work, and then failing to get it functioning as desired in the 20-30 min time block.  This does not mean you'll get a bad grade for this assignment -- failing is a necessary part of learning, though none of us particularly enjoy it.  Sometimes what you'll try to accomplish is just too big of a task for a Reflective Practice session, and that is ok -- you will still have learned from the experience."
   ]
  },
  {
   "cell_type": "markdown",
   "id": "d4d46bc2",
   "metadata": {
    "deletable": false,
    "editable": false,
    "nbgrader": {
     "cell_type": "markdown",
     "checksum": "57f1897b1bab0711d9df0267ffd90ee9",
     "grade": false,
     "grade_id": "cell-acf62cab23157c1e",
     "locked": true,
     "schema_version": 3,
     "solution": false,
     "task": false
    },
    "tags": []
   },
   "source": [
    "## You can experiment with your code in the notebook cells below."
   ]
  },
  {
   "cell_type": "code",
   "execution_count": 1,
   "id": "df57ecf8-0cc2-42ab-a548-0d59064158af",
   "metadata": {
    "tags": []
   },
   "outputs": [
    {
     "name": "stdout",
     "output_type": "stream",
     "text": [
      "Hello World!\n"
     ]
    }
   ],
   "source": [
    "print('Hello World!')"
   ]
  },
  {
   "cell_type": "code",
   "execution_count": 2,
   "id": "30fbdc72-92d2-4bad-ba56-9d0148183195",
   "metadata": {
    "tags": []
   },
   "outputs": [
    {
     "name": "stdin",
     "output_type": "stream",
     "text": [
      "Write a sentence Hello World!\n"
     ]
    }
   ],
   "source": [
    "sentence = input('Write a sentence')"
   ]
  },
  {
   "cell_type": "code",
   "execution_count": 3,
   "id": "eae3e2a2-9c1c-4877-8415-20c8d3e7d7d6",
   "metadata": {
    "tags": []
   },
   "outputs": [
    {
     "name": "stdin",
     "output_type": "stream",
     "text": [
      "Write a sentence Hello World!\n"
     ]
    },
    {
     "name": "stdout",
     "output_type": "stream",
     "text": [
      "Hello World!\n"
     ]
    }
   ],
   "source": [
    "sentence = input('Write a sentence')\n",
    "print(sentence) "
   ]
  },
  {
   "cell_type": "code",
   "execution_count": 4,
   "id": "2699d5ff-8651-479c-aca8-7b09368a97de",
   "metadata": {
    "tags": []
   },
   "outputs": [
    {
     "name": "stdin",
     "output_type": "stream",
     "text": [
      "Write yout age:  23\n"
     ]
    },
    {
     "name": "stdout",
     "output_type": "stream",
     "text": [
      "23\n"
     ]
    }
   ],
   "source": [
    "age = int(input('Write yout age: '))\n",
    "print(age)"
   ]
  },
  {
   "cell_type": "code",
   "execution_count": 5,
   "id": "c8630db0-49f3-4542-b5cd-09dd881fe2ae",
   "metadata": {
    "tags": []
   },
   "outputs": [
    {
     "name": "stdin",
     "output_type": "stream",
     "text": [
      "Write a float:  23.5\n"
     ]
    },
    {
     "name": "stdout",
     "output_type": "stream",
     "text": [
      "23.5\n"
     ]
    }
   ],
   "source": [
    "fl0at = float(input('Write a float: '))\n",
    "print(fl0at)"
   ]
  },
  {
   "cell_type": "code",
   "execution_count": 10,
   "id": "ac0e4757-b579-49ee-a8df-4cb96c2d5de3",
   "metadata": {
    "tags": []
   },
   "outputs": [
    {
     "name": "stdin",
     "output_type": "stream",
     "text": [
      "Write a number between 0 and 20:  10\n"
     ]
    },
    {
     "name": "stdout",
     "output_type": "stream",
     "text": [
      "You chose the number 10\n"
     ]
    }
   ],
   "source": [
    "number = int(input('Write a number between 0 and 20: '))\n",
    "if number > 10:\n",
    "    print(number, 'is greater than 10.')\n",
    "if number < 10:\n",
    "    print(number, 'is less than 10.')\n",
    "if number == 10: \n",
    "    print('You chose the number', number)"
   ]
  },
  {
   "cell_type": "code",
   "execution_count": 12,
   "id": "8a663c48-4b1c-491a-91a6-2efca6d81a9b",
   "metadata": {
    "tags": []
   },
   "outputs": [
    {
     "name": "stdin",
     "output_type": "stream",
     "text": [
      "Enter the first number:  10\n",
      "Enter the second number:  3\n",
      "Enter the third number:  6\n"
     ]
    },
    {
     "name": "stdout",
     "output_type": "stream",
     "text": [
      "The biggest number is 10 and the smallest number is 3\n"
     ]
    }
   ],
   "source": [
    "number1 = int(input('Enter the first number: '))\n",
    "number2 = int(input('Enter the second number: '))\n",
    "number3 = int(input('Enter the third number: '))\n",
    "minimum = min(number1, number2, number3)\n",
    "maximum = max(number1, number2, number3)\n",
    "print('The biggest number is', maximum, 'and the smallest number is', minimum)"
   ]
  },
  {
   "cell_type": "code",
   "execution_count": 26,
   "id": "11b3b508-73ab-4aab-a612-992bb37522a8",
   "metadata": {
    "tags": []
   },
   "outputs": [
    {
     "name": "stdin",
     "output_type": "stream",
     "text": [
      "Enter the first number:  33\n",
      "Enter the second number:  555\n",
      "Enter the third number:  55\n"
     ]
    },
    {
     "name": "stdout",
     "output_type": "stream",
     "text": [
      "555\n"
     ]
    }
   ],
   "source": [
    "number1 = int(input('Enter the first number: '))\n",
    "number2 = int(input('Enter the second number: '))\n",
    "number3 = int(input('Enter the third number: '))\n",
    "if number2 >= number1:\n",
    "    maximum = number2\n",
    "if number3 >= maximum:\n",
    "    maximum = number3\n",
    "print(maximum)"
   ]
  },
  {
   "cell_type": "code",
   "execution_count": 27,
   "id": "4f5a0458-d6fc-4c7d-aff2-497de8b12002",
   "metadata": {
    "tags": []
   },
   "outputs": [
    {
     "name": "stdout",
     "output_type": "stream",
     "text": [
      "Programming with Python\n",
      " is so fun.\n",
      " Excited to learn more\n"
     ]
    }
   ],
   "source": [
    "print('Programming with Python\\n is so fun.\\n Excited to learn more')"
   ]
  },
  {
   "cell_type": "code",
   "execution_count": 30,
   "id": "ceb083d3-e395-458f-b91b-3978c42c32eb",
   "metadata": {
    "tags": []
   },
   "outputs": [
    {
     "name": "stdout",
     "output_type": "stream",
     "text": [
      "4.5\n"
     ]
    }
   ],
   "source": [
    "print(9 / 2)"
   ]
  },
  {
   "cell_type": "code",
   "execution_count": 31,
   "id": "f80320ac-b8f9-4c23-a433-e76ccc4158ab",
   "metadata": {
    "tags": []
   },
   "outputs": [
    {
     "name": "stdout",
     "output_type": "stream",
     "text": [
      "4\n"
     ]
    }
   ],
   "source": [
    "print(9 // 2)"
   ]
  },
  {
   "cell_type": "code",
   "execution_count": 32,
   "id": "937db060-41bf-4616-8ebf-bf1559f37aa6",
   "metadata": {
    "tags": []
   },
   "outputs": [
    {
     "name": "stdout",
     "output_type": "stream",
     "text": [
      "1\n"
     ]
    }
   ],
   "source": [
    "print(9 % 2)"
   ]
  },
  {
   "cell_type": "markdown",
   "id": "778141b4",
   "metadata": {
    "deletable": false,
    "editable": false,
    "nbgrader": {
     "cell_type": "markdown",
     "checksum": "e0c14a0ca9aa4ed4778eb1c0f2e5affa",
     "grade": false,
     "grade_id": "cell-7ccb79a53f7c89b2",
     "locked": true,
     "schema_version": 3,
     "solution": false,
     "task": false
    }
   },
   "source": [
    "# Module 1 Reflection Submission"
   ]
  },
  {
   "cell_type": "markdown",
   "id": "94c9aaa3-9cfe-4d6a-a57a-b69ce3dd9736",
   "metadata": {
    "deletable": false,
    "editable": false,
    "nbgrader": {
     "cell_type": "markdown",
     "checksum": "e83c63bcd9536bdf74e3878dd15e7c44",
     "grade": false,
     "grade_id": "cell-f95893fa698683c6",
     "locked": true,
     "schema_version": 3,
     "solution": false,
     "task": false
    },
    "tags": []
   },
   "source": [
    "#### Please place all code experimentation above this comment. ####"
   ]
  },
  {
   "cell_type": "markdown",
   "id": "75e6ae4b",
   "metadata": {
    "deletable": false,
    "editable": false,
    "nbgrader": {
     "cell_type": "markdown",
     "checksum": "31393ebea6837e960f92aa3c6c3f3a4f",
     "grade": false,
     "grade_id": "cell-227ea0fa9fdb6130",
     "locked": true,
     "schema_version": 3,
     "solution": false,
     "task": false
    },
    "tags": []
   },
   "source": [
    "Reflect on what you have learned below.  Write a short (4-8 sentence summary) reflecting on what you figured out through this practice session. "
   ]
  },
  {
   "cell_type": "markdown",
   "id": "e6f89290",
   "metadata": {
    "deletable": false,
    "editable": false,
    "nbgrader": {
     "cell_type": "markdown",
     "checksum": "fdb31303a2c3d7857e128fce9c757af1",
     "grade": false,
     "grade_id": "cell-574144c829d666e1",
     "locked": true,
     "schema_version": 3,
     "solution": false,
     "task": false
    },
    "tags": []
   },
   "source": [
    "#### Enter Your Reflection Under this Cell ####"
   ]
  },
  {
   "cell_type": "markdown",
   "id": "151867f3",
   "metadata": {
    "deletable": false,
    "nbgrader": {
     "cell_type": "markdown",
     "checksum": "71ddbbf3ac3bfff3a76911e0cb382e2b",
     "grade": true,
     "grade_id": "cell-498c413593a65abb",
     "locked": false,
     "points": 0,
     "schema_version": 3,
     "solution": true,
     "task": false
    },
    "tags": []
   },
   "source": [
    "YOUR ANSWER HERE"
   ]
  },
  {
   "cell_type": "code",
   "execution_count": null,
   "id": "db8b0bc1-8b22-4e1b-bb17-ca1e7b6bbf85",
   "metadata": {},
   "outputs": [],
   "source": [
    "# I've learned how to print an output and how to get an input."
   ]
  },
  {
   "cell_type": "code",
   "execution_count": null,
   "id": "562ef287-948b-4cf4-970d-4f2063d4fad2",
   "metadata": {},
   "outputs": [],
   "source": [
    "# It's easier when you use functions such as min() and max()."
   ]
  },
  {
   "cell_type": "code",
   "execution_count": null,
   "id": "77b33683-1954-407b-a497-d98214bd8de6",
   "metadata": {},
   "outputs": [],
   "source": [
    "# I learned how to use if with indentation."
   ]
  },
  {
   "cell_type": "code",
   "execution_count": null,
   "id": "c83c8cdc-ab0e-4753-aef7-aafdc85b07f9",
   "metadata": {},
   "outputs": [],
   "source": [
    "# I was programming in Jupyter using the programmimg language Python."
   ]
  },
  {
   "cell_type": "code",
   "execution_count": null,
   "id": "1692c7ce-55d8-4864-8cb4-73ada127e94e",
   "metadata": {},
   "outputs": [],
   "source": [
    "#  I learned how to use the operators."
   ]
  },
  {
   "cell_type": "markdown",
   "id": "d6d56306",
   "metadata": {
    "deletable": false,
    "editable": false,
    "nbgrader": {
     "cell_type": "markdown",
     "checksum": "a1fbf885ac8c6745e7bf96ebd28969b6",
     "grade": false,
     "grade_id": "cell-de0a0a081f87a48d",
     "locked": true,
     "schema_version": 3,
     "solution": false,
     "task": false
    },
    "tags": []
   },
   "source": [
    "#### Enter Your Reflection Above this Cell ####"
   ]
  }
 ],
 "metadata": {
  "kernelspec": {
   "display_name": "Python 3 (ipykernel)",
   "language": "python",
   "name": "python3"
  },
  "language_info": {
   "codemirror_mode": {
    "name": "ipython",
    "version": 3
   },
   "file_extension": ".py",
   "mimetype": "text/x-python",
   "name": "python",
   "nbconvert_exporter": "python",
   "pygments_lexer": "ipython3",
   "version": "3.11.4"
  }
 },
 "nbformat": 4,
 "nbformat_minor": 5
}
