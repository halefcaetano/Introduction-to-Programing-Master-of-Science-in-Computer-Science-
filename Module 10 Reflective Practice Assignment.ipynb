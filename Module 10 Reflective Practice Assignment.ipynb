{
 "cells": [
  {
   "cell_type": "markdown",
   "id": "650dab67",
   "metadata": {
    "tags": []
   },
   "source": [
    "# Module 10 Reflective Practice Assignment"
   ]
  },
  {
   "cell_type": "markdown",
   "id": "41ad7fbb",
   "metadata": {},
   "source": [
    "Spend between 20 and 30 minutes just experimenting with the python concepts that we have learned this week.  Get creative!  Try new things!  Fail and try again!  Suggested practice items: \n",
    "\n",
    "- Print a variety of Unicode characters, including emojis and symbols \n",
    "\n",
    "- Prompt the user to enter a string, then manipulate it using the following methods: \n",
    "\n",
    "    -- Use .strip() to remove whitespace from a string, and to remove specific characters \n",
    "\n",
    "    -- Use .lower(), .upper(), .capitalize(), or .title() to change the case of a string \n",
    "\n",
    "    -- Use .count() to find the number of occurrences of a character within a string \n",
    "\n",
    "    --- Use .replace() to find and replace specific words (of your choice) in the string that they typed \n",
    "\n",
    "- For practice, add a while loop to the above code, so that you can repeat prompting the user for a string until they type “QUIT”. \n",
    "\n",
    "Save this Jupyter Notebook, since you will submit it as part of this assignment. It is perfectly acceptable to describe trying to get something to work, and then failing to get it functioning as desired in the 20-30 min time block. This does not mean you'll get a bad grade for this assignment -- failing is a necessary part of learning, though none of us particularly enjoy it.  Sometimes what you'll try to accomplish is just too big of a task for a Reflective Practice session, and that is ok -- you will still have learned from the experience. "
   ]
  },
  {
   "cell_type": "markdown",
   "id": "74f546bf",
   "metadata": {
    "deletable": false,
    "editable": false,
    "nbgrader": {
     "cell_type": "markdown",
     "checksum": "60de21969ffb7a16842801ad4fbdc84d",
     "grade": false,
     "grade_id": "cell-ea9dc44fb1726c14",
     "locked": true,
     "schema_version": 3,
     "solution": false,
     "task": false
    },
    "tags": []
   },
   "source": [
    "### You can experiment with your code locally or in the notebook cells below."
   ]
  },
  {
   "cell_type": "code",
   "execution_count": 4,
   "id": "6ab48c84",
   "metadata": {
    "tags": []
   },
   "outputs": [
    {
     "name": "stdout",
     "output_type": "stream",
     "text": [
      "😆\n"
     ]
    }
   ],
   "source": [
    "print(f'{0x1F606:c}')"
   ]
  },
  {
   "cell_type": "code",
   "execution_count": 5,
   "id": "83397ece",
   "metadata": {
    "tags": []
   },
   "outputs": [
    {
     "name": "stdin",
     "output_type": "stream",
     "text": [
      "Enter a sentence:  halsdhalsd hasldhaklds.     \n"
     ]
    },
    {
     "name": "stdout",
     "output_type": "stream",
     "text": [
      "halsdhalsd hasldhaklds.\n"
     ]
    }
   ],
   "source": [
    "sentence = input('Enter a sentence: ')\n",
    "print(sentence.strip())"
   ]
  },
  {
   "cell_type": "code",
   "execution_count": 6,
   "id": "671efb5c",
   "metadata": {
    "tags": []
   },
   "outputs": [
    {
     "name": "stdout",
     "output_type": "stream",
     "text": [
      "halsdhalsd hasldhaklds.     \n",
      "HALSDHALSD HASLDHAKLDS.     \n",
      "Halsdhalsd hasldhaklds.     \n",
      "Halsdhalsd Hasldhaklds.     \n"
     ]
    }
   ],
   "source": [
    "print(sentence.lower())\n",
    "print(sentence.upper())\n",
    "print(sentence.capitalize())\n",
    "print(sentence.title())"
   ]
  },
  {
   "cell_type": "code",
   "execution_count": 7,
   "id": "29f95c9a-7175-46e5-8686-f32931733386",
   "metadata": {
    "tags": []
   },
   "outputs": [
    {
     "name": "stdout",
     "output_type": "stream",
     "text": [
      "4\n"
     ]
    }
   ],
   "source": [
    "print(sentence.count('a'))"
   ]
  },
  {
   "cell_type": "code",
   "execution_count": 8,
   "id": "b49c70d5-f64a-4451-8a4f-61a9d0df365c",
   "metadata": {
    "tags": []
   },
   "outputs": [
    {
     "name": "stdout",
     "output_type": "stream",
     "text": [
      "h999lsdh999lsd h999sldh999klds.     \n"
     ]
    }
   ],
   "source": [
    "print(sentence.replace('a', '999')"
   ]
  },
  {
   "cell_type": "code",
   "execution_count": 1,
   "id": "2ab59a6a-1b1f-4c05-ac03-e51c729a0d4e",
   "metadata": {
    "tags": []
   },
   "outputs": [
    {
     "name": "stdin",
     "output_type": "stream",
     "text": [
      "Enter a sentence:  ASDJKAHSDA\n"
     ]
    },
    {
     "name": "stdout",
     "output_type": "stream",
     "text": [
      "Enter 1 to lower: \n",
      "Enter 2 to upper: \n",
      "Enter 3 to capitalize: \n",
      "Enter 4 to title: \n",
      "Enter 5 to count letter a: \n",
      "Enter QUIT to quit: \n"
     ]
    },
    {
     "name": "stdin",
     "output_type": "stream",
     "text": [
      "Enter a number OR QUIT 2\n"
     ]
    },
    {
     "name": "stdout",
     "output_type": "stream",
     "text": [
      "ASDJKAHSDA\n"
     ]
    },
    {
     "name": "stdin",
     "output_type": "stream",
     "text": [
      "Enter a sentence:  ASKJDAKLJSDHA\n"
     ]
    },
    {
     "name": "stdout",
     "output_type": "stream",
     "text": [
      "Enter 1 to lower: \n",
      "Enter 2 to upper: \n",
      "Enter 3 to capitalize: \n",
      "Enter 4 to title: \n",
      "Enter 5 to count letter a: \n",
      "Enter QUIT to quit: \n"
     ]
    },
    {
     "name": "stdin",
     "output_type": "stream",
     "text": [
      "Enter a number OR QUIT 5\n"
     ]
    },
    {
     "name": "stdout",
     "output_type": "stream",
     "text": [
      "0\n"
     ]
    },
    {
     "name": "stdin",
     "output_type": "stream",
     "text": [
      "Enter a sentence:  AKJSLKDA;JSL;D\n"
     ]
    },
    {
     "name": "stdout",
     "output_type": "stream",
     "text": [
      "Enter 1 to lower: \n",
      "Enter 2 to upper: \n",
      "Enter 3 to capitalize: \n",
      "Enter 4 to title: \n",
      "Enter 5 to count letter a: \n",
      "Enter QUIT to quit: \n"
     ]
    },
    {
     "name": "stdin",
     "output_type": "stream",
     "text": [
      "Enter a number OR QUIT QUIT\n"
     ]
    }
   ],
   "source": [
    "while True:\n",
    "    sentence = input('Enter a sentence: ')\n",
    "    print('Enter 1 to lower: ')\n",
    "    print('Enter 2 to upper: ')\n",
    "    print('Enter 3 to capitalize: ')\n",
    "    print('Enter 4 to title: ')\n",
    "    print('Enter 5 to count letter a: ')\n",
    "    print('Enter QUIT to quit: ')\n",
    "    choice = input('Enter a number OR QUIT')\n",
    "    if choice == str(1):\n",
    "        print(sentence.lower())\n",
    "    elif choice == str(2):\n",
    "        print(sentence.upper())\n",
    "    elif choice == str(3):\n",
    "        print(sentence.capitalize())\n",
    "    elif choice == str(4):\n",
    "        print(sentence.title())\n",
    "    elif choice == str(5):\n",
    "        print(sentence.count('a'))\n",
    "    elif choice == 'QUIT':\n",
    "        break"
   ]
  },
  {
   "cell_type": "markdown",
   "id": "3c0224a2-829c-4dc6-871c-a25ce8c45d6d",
   "metadata": {
    "deletable": false,
    "editable": false,
    "nbgrader": {
     "cell_type": "markdown",
     "checksum": "ebcbcb321c1d431b6355df6dc293d48c",
     "grade": false,
     "grade_id": "cell-6ab7b33550afca91",
     "locked": true,
     "schema_version": 3,
     "solution": false,
     "task": false
    },
    "tags": []
   },
   "source": [
    "#### Please place all code experimentation above this comment. ####"
   ]
  },
  {
   "cell_type": "markdown",
   "id": "f8ae9eda",
   "metadata": {
    "deletable": false,
    "editable": false,
    "nbgrader": {
     "cell_type": "markdown",
     "checksum": "db660646178c9fcb50b2d9e61d61f9c0",
     "grade": false,
     "grade_id": "cell-7ccb79a53f7c89b2",
     "locked": true,
     "schema_version": 3,
     "solution": false,
     "task": false
    }
   },
   "source": [
    "# Module 10 Reflection Submission"
   ]
  },
  {
   "cell_type": "markdown",
   "id": "de17dff5",
   "metadata": {
    "deletable": false,
    "editable": false,
    "nbgrader": {
     "cell_type": "markdown",
     "checksum": "31393ebea6837e960f92aa3c6c3f3a4f",
     "grade": false,
     "grade_id": "cell-227ea0fa9fdb6130",
     "locked": true,
     "schema_version": 3,
     "solution": false,
     "task": false
    },
    "tags": []
   },
   "source": [
    "Reflect on what you have learned below.  Write a short (4-8 sentence summary) reflecting on what you figured out through this practice session. "
   ]
  },
  {
   "cell_type": "markdown",
   "id": "90201994",
   "metadata": {
    "deletable": false,
    "editable": false,
    "nbgrader": {
     "cell_type": "markdown",
     "checksum": "fdb31303a2c3d7857e128fce9c757af1",
     "grade": false,
     "grade_id": "cell-574144c829d666e1",
     "locked": true,
     "schema_version": 3,
     "solution": false,
     "task": false
    },
    "tags": []
   },
   "source": [
    "#### Enter Your Reflection Under this Cell ####"
   ]
  },
  {
   "cell_type": "markdown",
   "id": "6a897653",
   "metadata": {
    "deletable": false,
    "nbgrader": {
     "cell_type": "markdown",
     "checksum": "71ddbbf3ac3bfff3a76911e0cb382e2b",
     "grade": true,
     "grade_id": "cell-498c413593a65abb",
     "locked": false,
     "points": 0,
     "schema_version": 3,
     "solution": true,
     "task": false
    },
    "tags": []
   },
   "source": [
    "YOUR ANSWER HERE"
   ]
  },
  {
   "cell_type": "code",
   "execution_count": null,
   "id": "2a025800-4737-4575-ab34-f546e3f5d018",
   "metadata": {},
   "outputs": [],
   "source": [
    "# I learnd how to change the string"
   ]
  },
  {
   "cell_type": "code",
   "execution_count": null,
   "id": "25538a17-dd7c-4eac-8f81-0a8b697ebc84",
   "metadata": {},
   "outputs": [],
   "source": [
    "# How to print a string in a way that you want"
   ]
  },
  {
   "cell_type": "code",
   "execution_count": null,
   "id": "92d66e77-7947-4224-a148-dc68487e2408",
   "metadata": {},
   "outputs": [],
   "source": [
    "# I learned how to get a piece from a string"
   ]
  },
  {
   "cell_type": "code",
   "execution_count": null,
   "id": "7de5866c-693a-486f-a025-0889e214447b",
   "metadata": {},
   "outputs": [],
   "source": [
    "# I learned that we can analyze a string"
   ]
  },
  {
   "cell_type": "markdown",
   "id": "f97d7204",
   "metadata": {
    "deletable": false,
    "editable": false,
    "nbgrader": {
     "cell_type": "markdown",
     "checksum": "a1fbf885ac8c6745e7bf96ebd28969b6",
     "grade": false,
     "grade_id": "cell-de0a0a081f87a48d",
     "locked": true,
     "schema_version": 3,
     "solution": false,
     "task": false
    },
    "tags": []
   },
   "source": [
    "#### Enter Your Reflection Above this Cell ####"
   ]
  },
  {
   "cell_type": "markdown",
   "id": "a1959248-4f78-439d-bdb0-9b543e2ddd91",
   "metadata": {},
   "source": [
    "# Submitting Your Work"
   ]
  },
  {
   "cell_type": "markdown",
   "id": "838125a5-f7e1-496f-9747-dcc73d9a64cd",
   "metadata": {},
   "source": [
    "This week, you'll have your Reflection Activity graded by your Peers in the following Peer Review item.  \n",
    "- When you've completed your reflection this week, save this lab. \n",
    "- Then return to the assignment page and follow the steps under \"Submitting Your Work for Peer Peview\" to complete this assignment in full."
   ]
  }
 ],
 "metadata": {
  "kernelspec": {
   "display_name": "Python 3 (ipykernel)",
   "language": "python",
   "name": "python3"
  },
  "language_info": {
   "codemirror_mode": {
    "name": "ipython",
    "version": 3
   },
   "file_extension": ".py",
   "mimetype": "text/x-python",
   "name": "python",
   "nbconvert_exporter": "python",
   "pygments_lexer": "ipython3",
   "version": "3.11.4"
  }
 },
 "nbformat": 4,
 "nbformat_minor": 5
}
