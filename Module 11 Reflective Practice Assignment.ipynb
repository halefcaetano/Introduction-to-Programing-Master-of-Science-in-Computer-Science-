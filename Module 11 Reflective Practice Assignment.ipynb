{
 "cells": [
  {
   "cell_type": "markdown",
   "id": "9923e9c4",
   "metadata": {
    "deletable": false,
    "editable": false,
    "nbgrader": {
     "cell_type": "markdown",
     "checksum": "62aaad801ca10ad03ed572dbd2a12471",
     "grade": false,
     "grade_id": "cell-af9cc8d837aebce9",
     "locked": true,
     "schema_version": 3,
     "solution": false,
     "task": false
    },
    "tags": []
   },
   "source": [
    "# Module 11 Reflective Practice Assignment "
   ]
  },
  {
   "cell_type": "markdown",
   "id": "64845279",
   "metadata": {
    "deletable": false,
    "editable": false,
    "nbgrader": {
     "cell_type": "markdown",
     "checksum": "692678f9e2075dd2680f48329b25455b",
     "grade": false,
     "grade_id": "cell-ff5eef82ae0a7de3",
     "locked": true,
     "schema_version": 3,
     "solution": false,
     "task": false
    },
    "tags": []
   },
   "source": [
    "Spend between 20 and 30 minutes just experimenting with the python concepts that we have learned this week.  Get creative!  Try new things! \n",
    "Fail and try again!  Suggested practice items:\n",
    "\n",
    "- Visit regex101.com. On the left side, under \"Flavor\", choose \"Python\".  In the test string area, insert a string similar to this \"Jennifer Coy jennifer.coy@bsu.edu Muncie, IN 47306\".  Then, work to generate your own regex expression that will match your entire email address from that string.  Then, transfer that regex expression to your python program, and test it on different input strings. \n",
    "\n",
    "- Visit regex101.com again.  Use a different test string, that is longer, and has something interesting embedded in it (say, an address that contains \"IN,\" -- find the pattern to match the city and zip code that surrounds the \"IN,\" string. \n",
    "\n",
    "- Use the provided `cswebsite.txt` file (provided in this lab) to search for other data.  Can you capture the full address for the facebook link?  Instagram? Tiktok?  What else can you extract from the page?  Can you extract all the phone numbers? \n",
    "\n",
    "Once you're done, save this Jupyter Notebook - you will submit it as part of this assignment. It is perfectly acceptable to describe trying to get something to work, and then failing to get it functioning as desired in the 20-30 min time block.  This does not mean you'll get a bad grade for this assignment -- failing is a necessary part of learning, though none of us particularly enjoy it.  Sometimes what you'll try to accomplish is just too big of a task for a Reflective Practice session, and that is ok -- you will still have learned from the experience."
   ]
  },
  {
   "cell_type": "markdown",
   "id": "d4d46bc2",
   "metadata": {
    "deletable": false,
    "editable": false,
    "nbgrader": {
     "cell_type": "markdown",
     "checksum": "57f1897b1bab0711d9df0267ffd90ee9",
     "grade": false,
     "grade_id": "cell-acf62cab23157c1e",
     "locked": true,
     "schema_version": 3,
     "solution": false,
     "task": false
    },
    "tags": []
   },
   "source": [
    "## You can experiment with your code in the notebook cells below."
   ]
  },
  {
   "cell_type": "code",
   "execution_count": 13,
   "id": "df57ecf8-0cc2-42ab-a548-0d59064158af",
   "metadata": {
    "tags": []
   },
   "outputs": [
    {
     "name": "stdout",
     "output_type": "stream",
     "text": [
      "['00000', '00027', '05883', '67774', '16889', '11565', '16889', '11565', '00000', '00027', '00000', '00027', '15000', '63819', '31467', '60000', '63819', '31467', '60000', '63824', '17040', '20000', '63819', '31467', '40000', '63819', '31467', '60000', '63819', '31467', '60000', '63819', '31467', '60000', '63819', '31467', '60000', '11231', '12688', '76216', '44386', '15063', '16909', '11411', '18878', '62085', '69324', '24376', '63781', '44737', '46327', '49337', '49337', '49593', '00000', '00027', '35444', '11390', '36676', '35444', '63819', '31467', '60000', '47306', '47306']\n",
      "['800-872-0369', '765-285-1581', '800-382-8540', '765-289-1241']\n"
     ]
    }
   ],
   "source": [
    "import re\n",
    "\n",
    "\n",
    "\n",
    "def process_webpage(file_name):\n",
    "    ''' open file named filename and read all contents into a single string, \n",
    "        returning the string '''\n",
    "    try:\n",
    "        with open(file_name, 'r') as datafile:\n",
    "            content = ''\n",
    "            line_list = datafile.readlines()\n",
    "            for i in line_list:\n",
    "                content += i\n",
    "        return content\n",
    "    except FileNotFoundError:\n",
    "        return f\"There is no file named {file_name} in this directory.\"\n",
    "\n",
    "def get_5digit_nums(web_string): \n",
    "    ''' take the string and extract 5 digit numbers, similar to zipcodes  '''\n",
    "    contents = ''\n",
    "    for i in web_string:\n",
    "        contents += i \n",
    "    r = re.compile(r'\\d\\d\\d\\d\\d')\n",
    "    results = r.findall(contents)\n",
    "    return results\n",
    "\n",
    "\n",
    "def get_phone_numbers(web_string):\n",
    "    ''' processed the web_string and extract phone numbers, returning a list of numbers '''\n",
    "    contents = ''\n",
    "    for i in web_string:\n",
    "        contents += i \n",
    "    r = re.compile(r'\\d\\d\\d-\\d\\d\\d-\\d\\d\\d\\d')\n",
    "    results = r.findall(contents)\n",
    "    return results\n",
    "\n",
    "\n",
    "sample = process_webpage('cswebsite.txt')\n",
    "print(get_5digit_nums(sample))\n",
    "print(get_phone_numbers(sample))"
   ]
  },
  {
   "cell_type": "code",
   "execution_count": 16,
   "id": "30fbdc72-92d2-4bad-ba56-9d0148183195",
   "metadata": {
    "tags": []
   },
   "outputs": [
    {
     "name": "stdout",
     "output_type": "stream",
     "text": [
      "['Brentwood ']\n"
     ]
    }
   ],
   "source": [
    "# Find city tested in regex101.com\n",
    "contents = 'Halef Caetano, Brentwood CA'\n",
    "r = re.compile(r\"^([a-zA-Z\\u0080-\\u024F]+(?:. |-| |'))*[a-zA-Z\\u0080-\\u024F]*$\")\n",
    "results = r.findall(contents)\n",
    "print(results)"
   ]
  },
  {
   "cell_type": "code",
   "execution_count": 17,
   "id": "eae3e2a2-9c1c-4877-8415-20c8d3e7d7d6",
   "metadata": {
    "tags": []
   },
   "outputs": [
    {
     "name": "stdout",
     "output_type": "stream",
     "text": [
      "[', CA 99999']\n"
     ]
    }
   ],
   "source": [
    "# Find State and Zip code tested in regex101.com\n",
    "contents = '3333 Josephine AVE #114 Temecula, CA 99999'\n",
    "r = re.compile(r\"[\\,].*\")\n",
    "results = r.findall(contents)\n",
    "print(results)"
   ]
  },
  {
   "cell_type": "markdown",
   "id": "746122fd-0b59-415d-b795-d0eae409c938",
   "metadata": {},
   "source": []
  },
  {
   "cell_type": "raw",
   "id": "b2616172-c5dc-4fc4-843c-a18cd95a16c7",
   "metadata": {},
   "source": []
  },
  {
   "cell_type": "markdown",
   "id": "94c9aaa3-9cfe-4d6a-a57a-b69ce3dd9736",
   "metadata": {
    "deletable": false,
    "editable": false,
    "nbgrader": {
     "cell_type": "markdown",
     "checksum": "e83c63bcd9536bdf74e3878dd15e7c44",
     "grade": false,
     "grade_id": "cell-f95893fa698683c6",
     "locked": true,
     "schema_version": 3,
     "solution": false,
     "task": false
    },
    "tags": []
   },
   "source": [
    "#### Please place all code experimentation above this comment. ####"
   ]
  },
  {
   "cell_type": "markdown",
   "id": "778141b4",
   "metadata": {
    "deletable": false,
    "editable": false,
    "nbgrader": {
     "cell_type": "markdown",
     "checksum": "252137dbfca750bdb33a09806e09617a",
     "grade": false,
     "grade_id": "cell-7ccb79a53f7c89b2",
     "locked": true,
     "schema_version": 3,
     "solution": false,
     "task": false
    }
   },
   "source": [
    "# Module 11 Reflection Submission"
   ]
  },
  {
   "cell_type": "markdown",
   "id": "75e6ae4b",
   "metadata": {
    "deletable": false,
    "editable": false,
    "nbgrader": {
     "cell_type": "markdown",
     "checksum": "31393ebea6837e960f92aa3c6c3f3a4f",
     "grade": false,
     "grade_id": "cell-227ea0fa9fdb6130",
     "locked": true,
     "schema_version": 3,
     "solution": false,
     "task": false
    },
    "tags": []
   },
   "source": [
    "Reflect on what you have learned below.  Write a short (4-8 sentence summary) reflecting on what you figured out through this practice session. "
   ]
  },
  {
   "cell_type": "markdown",
   "id": "e6f89290",
   "metadata": {
    "deletable": false,
    "editable": false,
    "nbgrader": {
     "cell_type": "markdown",
     "checksum": "fdb31303a2c3d7857e128fce9c757af1",
     "grade": false,
     "grade_id": "cell-574144c829d666e1",
     "locked": true,
     "schema_version": 3,
     "solution": false,
     "task": false
    },
    "tags": []
   },
   "source": [
    "#### Enter Your Reflection Under this Cell ####"
   ]
  },
  {
   "cell_type": "markdown",
   "id": "151867f3",
   "metadata": {
    "deletable": false,
    "nbgrader": {
     "cell_type": "markdown",
     "checksum": "71ddbbf3ac3bfff3a76911e0cb382e2b",
     "grade": true,
     "grade_id": "cell-498c413593a65abb",
     "locked": false,
     "points": 0,
     "schema_version": 3,
     "solution": true,
     "task": false
    },
    "tags": []
   },
   "source": [
    "YOUR ANSWER HERE"
   ]
  },
  {
   "cell_type": "code",
   "execution_count": null,
   "id": "d2026abf-0690-40a5-9135-4fad9cd6fafe",
   "metadata": {},
   "outputs": [],
   "source": [
    "# It helps in data cleaning."
   ]
  },
  {
   "cell_type": "code",
   "execution_count": null,
   "id": "8721b718-54b9-4d2e-9785-1fa4bbe9e26c",
   "metadata": {},
   "outputs": [],
   "source": [
    "# We can analyze texts with regex."
   ]
  },
  {
   "cell_type": "code",
   "execution_count": null,
   "id": "26948fb4-59c7-46f3-9fd3-83c6c8ac38e1",
   "metadata": {},
   "outputs": [],
   "source": [
    "# We can remove the unnecessary words with regex."
   ]
  },
  {
   "cell_type": "code",
   "execution_count": null,
   "id": "fa5a10a3-6981-4c85-9dea-10f702145f66",
   "metadata": {},
   "outputs": [],
   "source": [
    "# Regular expressions are a powerful language for matching text patterns."
   ]
  },
  {
   "cell_type": "markdown",
   "id": "d6d56306",
   "metadata": {
    "deletable": false,
    "editable": false,
    "nbgrader": {
     "cell_type": "markdown",
     "checksum": "a1fbf885ac8c6745e7bf96ebd28969b6",
     "grade": false,
     "grade_id": "cell-de0a0a081f87a48d",
     "locked": true,
     "schema_version": 3,
     "solution": false,
     "task": false
    },
    "tags": []
   },
   "source": [
    "#### Enter Your Reflection Above this Cell ####"
   ]
  }
 ],
 "metadata": {
  "kernelspec": {
   "display_name": "Python 3 (ipykernel)",
   "language": "python",
   "name": "python3"
  },
  "language_info": {
   "codemirror_mode": {
    "name": "ipython",
    "version": 3
   },
   "file_extension": ".py",
   "mimetype": "text/x-python",
   "name": "python",
   "nbconvert_exporter": "python",
   "pygments_lexer": "ipython3",
   "version": "3.11.4"
  }
 },
 "nbformat": 4,
 "nbformat_minor": 5
}
