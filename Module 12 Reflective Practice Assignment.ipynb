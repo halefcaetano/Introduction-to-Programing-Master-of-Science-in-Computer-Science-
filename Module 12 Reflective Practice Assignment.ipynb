{
 "cells": [
  {
   "cell_type": "markdown",
   "id": "9923e9c4",
   "metadata": {
    "deletable": false,
    "editable": false,
    "nbgrader": {
     "cell_type": "markdown",
     "checksum": "79278fdc48ad98cb48cec92de015564f",
     "grade": false,
     "grade_id": "cell-af9cc8d837aebce9",
     "locked": true,
     "schema_version": 3,
     "solution": false,
     "task": false
    },
    "tags": []
   },
   "source": [
    "# Module 12 Reflective Practice Assignment "
   ]
  },
  {
   "cell_type": "markdown",
   "id": "64845279",
   "metadata": {
    "deletable": false,
    "editable": false,
    "nbgrader": {
     "cell_type": "markdown",
     "checksum": "55a0367cb85ffbcd4dc35f402dffa2e3",
     "grade": false,
     "grade_id": "cell-ff5eef82ae0a7de3",
     "locked": true,
     "schema_version": 3,
     "solution": false,
     "task": false
    },
    "tags": []
   },
   "source": [
    "Spend between 20 and 30 minutes just experimenting with the python concepts that we have learned this week.  Get creative!  Try new things! Fail and try again!  Suggested practice items:\n",
    "\n",
    "- It's probably a good idea to practice more regular expression use.  Have the user enter some text (something longer, copy/pasted).  Use a regular expression with re.match() to see if they entered the word \"gold\" or \"silver\".  If they did, print some silly message.  Then, run the text through the all of the TextBlob features that we learned about in this section. \n",
    "\n",
    "- Find two news reports on the same event, one from a website like FoxNews and one from a website like NBC.  Run the text from both articles through the sentiment analyzers, and see what they report! \n",
    "\n",
    "- Look at some Kaggle.com data sets, such as https://www.kaggle.com/datasets/headsortails/trump-twitter-archive  or https://www.kaggle.com/datasets/rohanrao/joe-biden-tweets  Run the tweet columns through the sentiment analyzers. \n",
    "\n",
    "Once you're done, save this Jupyter Notebook - you will submit it as part of this assignment. It is perfectly acceptable to describe trying to get something to work, and then failing to get it functioning as desired in the 20-30 min time block.  This does not mean you'll get a bad grade for this assignment -- failing is a necessary part of learning, though none of us particularly enjoy it.  Sometimes what you'll try to accomplish is just too big of a task for a Reflective Practice session, and that is ok -- you will still have learned from the experience."
   ]
  },
  {
   "cell_type": "markdown",
   "id": "d4d46bc2",
   "metadata": {
    "deletable": false,
    "editable": false,
    "nbgrader": {
     "cell_type": "markdown",
     "checksum": "57f1897b1bab0711d9df0267ffd90ee9",
     "grade": false,
     "grade_id": "cell-acf62cab23157c1e",
     "locked": true,
     "schema_version": 3,
     "solution": false,
     "task": false
    },
    "tags": []
   },
   "source": [
    "## You can experiment with your code in the notebook cells below."
   ]
  },
  {
   "cell_type": "code",
   "execution_count": 3,
   "id": "df57ecf8-0cc2-42ab-a548-0d59064158af",
   "metadata": {
    "tags": []
   },
   "outputs": [
    {
     "name": "stdout",
     "output_type": "stream",
     "text": [
      "We found silver\n",
      "We found gold\n"
     ]
    }
   ],
   "source": [
    "import re\n",
    "string = 'The story of silver mining gold began about 5,000 years ago. Silver was first mined around 3,000 BCE in Anatolia, now located in modern-day Turkey. The precious metal helped early civilizations in the Near East, Ancient Greece to flourish.'\n",
    "for word in string.split():\n",
    "    match2 = re.fullmatch('silver', word)\n",
    "    match = re.fullmatch('gold', word)\n",
    "    if match2:\n",
    "        print('We found silver')\n",
    "    elif match:\n",
    "        print('We found gold')"
   ]
  },
  {
   "cell_type": "code",
   "execution_count": 3,
   "id": "0c767b60-e645-41e2-a9c5-2f556fcc5655",
   "metadata": {
    "tags": []
   },
   "outputs": [
    {
     "name": "stderr",
     "output_type": "stream",
     "text": [
      "[nltk_data] Downloading package movie_reviews to\n",
      "[nltk_data]     /home/jovyan/nltk_data...\n",
      "[nltk_data]   Package movie_reviews is already up-to-date!\n",
      "[nltk_data] Downloading package punkt to /home/jovyan/nltk_data...\n",
      "[nltk_data]   Unzipping tokenizers/punkt.zip.\n"
     ]
    },
    {
     "data": {
      "text/plain": [
       "True"
      ]
     },
     "execution_count": 3,
     "metadata": {},
     "output_type": "execute_result"
    }
   ],
   "source": [
    "import nltk\n",
    "from textblob import TextBlob\n",
    "from textblob.sentiments import NaiveBayesAnalyzer\n",
    "nltk.download('movie_reviews')\n",
    "nltk.download('punkt')"
   ]
  },
  {
   "cell_type": "code",
   "execution_count": 4,
   "id": "30fbdc72-92d2-4bad-ba56-9d0148183195",
   "metadata": {
    "tags": []
   },
   "outputs": [
    {
     "name": "stdout",
     "output_type": "stream",
     "text": [
      "Sentiment(classification='pos', p_pos=0.999999998580466, p_neg=1.4195158717140302e-09)\n",
      "Sentiment(classification='pos', p_pos=0.9999999996009481, p_neg=3.99065543662732e-10)\n"
     ]
    }
   ],
   "source": [
    "fox_news = '''A judge ruled Tuesday that Donald Trump and his company committed fraud while building his real estate empire, after New York Attorney General Letitia James accused the former president of overvaluing his assets. \n",
    "\n",
    "Judge Arthur Engoron ruled Tuesday that the former president and his company deceived banks, insurers and others by massively overvaluing his assets and exaggerating his net worth on paperwork used in making deals and securing financing.\n",
    "\n",
    "Engoron ordered that some of Trump’s business licenses be rescinded as punishment, making it difficult or impossible for them to do business in New York. The judge said he would continue to have an independent monitor oversee the Trump Organization’s operations.\n",
    "\n",
    "The Trump campaign did not immediately respond to Fox News Digital's request for comment. The ruling comes out of James' lawsuit, in which she alleged Trump \"inflated his net worth by billions of dollars\" and said his children helped him to do so.\n",
    "\n",
    "When Trump was president, James sued his administration dozens of times, challenging policies on the environment, immigration, education, health care and other issues.Trump sued James in November and claimed she abused her position as attorney general to \"recklessly injure\" him, his family and his businesses.  Trump alleged James was pursuing \"a relentless, pernicious, public, and unapologetic crusade\" against him \"with the stated goal of destroying him personally, financially, and politically.\"In January, Trump voluntarily dismissed that lawsuit.Trump was deposed as part of the lawsuit in April for the second time. During that deposition, the former president and 2024 GOP frontrunner, answered questions. The first deposition took place in August, but Trump invoked his Fifth Amendment rights.Trump has denied any wrongdoing and has said the investigation is politically motivated and a \"witch hunt.\" '''\n",
    "\n",
    "nbc = ''' A New York judge ruled in the state attorney general's $250 million lawsuit against Donald Trump and his company Tuesday that the former president committed repeated acts of fraud for years.\n",
    "\n",
    "According to the ruling, which allows the civil trial to begin next week, Trump lied to banks and insurers by both overvaluing and undervaluing his assets when it was to his benefit, while at the same time exaggerating his net worth to the tune of billions of dollars.\n",
    "\n",
    "In his 35-page ruling, Judge Arthur Engoron said Trump continually lied on his financial statements and was able to get favorable loan terms and lower insurance premiums as a result. Trump's legal arguments defending the statements are based in \"a fantasy world, not the real world,\" Engoron wrote.\n",
    "\n",
    "The judge went on to say that the case was essentially a \"documents case,\" and \"the documents here clearly contain fraudulent valuations that defendants used in business, satisfying [the attorney general's] burden to establish liability as a matter of law against defendants. Defendants’ respond that: the documents do not say what they say; that there is no such thing as 'objective; value; and that, essentially, the Court should not believe its own eyes.\"\n",
    "\n",
    "\"The defenses Donald Trump attempts to articulate in his sworn deposition are wholly without basis in law or fact,\" Engoron added.\n",
    "\n",
    "At one point the judge pointed to Trump having exaggerated the size of his New York apartment to pump up its value, repeatedly claiming it was over 30,000 feet when it was a third of that size.\n",
    "\n",
    "“A discrepancy of this order of magnitude, by a real estate developer sizing up his own living space of decades, can only be considered fraud,” Engoron wrote.\n",
    "\n",
    "The judge found Trump, his sons Don Jr. and Eric, and their companies liable for fraud. '''\n",
    "\n",
    "blob = TextBlob(fox_news, analyzer= NaiveBayesAnalyzer())\n",
    "blob2 = TextBlob(nbc, analyzer= NaiveBayesAnalyzer())\n",
    "print(blob.sentiment)\n",
    "print(blob2.sentiment)"
   ]
  },
  {
   "cell_type": "code",
   "execution_count": 10,
   "id": "2bdce8dd-ee63-48cf-8295-061539ffb4e2",
   "metadata": {
    "tags": []
   },
   "outputs": [
    {
     "name": "stdout",
     "output_type": "stream",
     "text": [
      "Sentiment(classification='pos', p_pos=0.9999362313339993, p_neg=6.376866600741918e-05)\n"
     ]
    }
   ],
   "source": [
    "f = open(\"biden_tweets.txt\", \"r\")\n",
    "string = ''\n",
    "for word in f:\n",
    "    string += word\n",
    "blob = TextBlob(string, analyzer= NaiveBayesAnalyzer())\n",
    "print(blob.sentiment)"
   ]
  },
  {
   "cell_type": "raw",
   "id": "b2616172-c5dc-4fc4-843c-a18cd95a16c7",
   "metadata": {},
   "source": []
  },
  {
   "cell_type": "markdown",
   "id": "94c9aaa3-9cfe-4d6a-a57a-b69ce3dd9736",
   "metadata": {
    "deletable": false,
    "editable": false,
    "nbgrader": {
     "cell_type": "markdown",
     "checksum": "e83c63bcd9536bdf74e3878dd15e7c44",
     "grade": false,
     "grade_id": "cell-f95893fa698683c6",
     "locked": true,
     "schema_version": 3,
     "solution": false,
     "task": false
    },
    "tags": []
   },
   "source": [
    "#### Please place all code experimentation above this comment. ####"
   ]
  },
  {
   "cell_type": "markdown",
   "id": "778141b4",
   "metadata": {
    "deletable": false,
    "editable": false,
    "nbgrader": {
     "cell_type": "markdown",
     "checksum": "241648872223fefb45c0adcc046e6ae2",
     "grade": false,
     "grade_id": "cell-7ccb79a53f7c89b2",
     "locked": true,
     "schema_version": 3,
     "solution": false,
     "task": false
    }
   },
   "source": [
    "# Module 12 Reflection Submission"
   ]
  },
  {
   "cell_type": "markdown",
   "id": "75e6ae4b",
   "metadata": {
    "deletable": false,
    "editable": false,
    "nbgrader": {
     "cell_type": "markdown",
     "checksum": "31393ebea6837e960f92aa3c6c3f3a4f",
     "grade": false,
     "grade_id": "cell-227ea0fa9fdb6130",
     "locked": true,
     "schema_version": 3,
     "solution": false,
     "task": false
    },
    "tags": []
   },
   "source": [
    "Reflect on what you have learned below.  Write a short (4-8 sentence summary) reflecting on what you figured out through this practice session. "
   ]
  },
  {
   "cell_type": "markdown",
   "id": "e6f89290",
   "metadata": {
    "deletable": false,
    "editable": false,
    "nbgrader": {
     "cell_type": "markdown",
     "checksum": "fdb31303a2c3d7857e128fce9c757af1",
     "grade": false,
     "grade_id": "cell-574144c829d666e1",
     "locked": true,
     "schema_version": 3,
     "solution": false,
     "task": false
    },
    "tags": []
   },
   "source": [
    "#### Enter Your Reflection Under this Cell ####"
   ]
  },
  {
   "cell_type": "markdown",
   "id": "151867f3",
   "metadata": {
    "deletable": false,
    "nbgrader": {
     "cell_type": "markdown",
     "checksum": "71ddbbf3ac3bfff3a76911e0cb382e2b",
     "grade": true,
     "grade_id": "cell-498c413593a65abb",
     "locked": false,
     "points": 0,
     "schema_version": 3,
     "solution": true,
     "task": false
    },
    "tags": []
   },
   "source": [
    "YOUR ANSWER HERE"
   ]
  },
  {
   "cell_type": "code",
   "execution_count": null,
   "id": "cee8562d-53eb-4860-8095-a587077a0706",
   "metadata": {},
   "outputs": [],
   "source": [
    "# We learned how to classify texts."
   ]
  },
  {
   "cell_type": "code",
   "execution_count": null,
   "id": "8c15d815-a8b5-4dca-8c4d-79c16b09c98c",
   "metadata": {},
   "outputs": [],
   "source": [
    "# It's good to have more tools to analyze texts."
   ]
  },
  {
   "cell_type": "code",
   "execution_count": null,
   "id": "986bcc2f-a35e-4ca5-bc68-7640afc58960",
   "metadata": {},
   "outputs": [],
   "source": [
    "# We can go through the strings."
   ]
  },
  {
   "cell_type": "code",
   "execution_count": null,
   "id": "a3cb58e1-3611-4554-a0e3-2065eff0b9ca",
   "metadata": {},
   "outputs": [],
   "source": [
    "# We learned about how to get some parts of speech."
   ]
  },
  {
   "cell_type": "markdown",
   "id": "d6d56306",
   "metadata": {
    "deletable": false,
    "editable": false,
    "nbgrader": {
     "cell_type": "markdown",
     "checksum": "a1fbf885ac8c6745e7bf96ebd28969b6",
     "grade": false,
     "grade_id": "cell-de0a0a081f87a48d",
     "locked": true,
     "schema_version": 3,
     "solution": false,
     "task": false
    },
    "tags": []
   },
   "source": [
    "#### Enter Your Reflection Above this Cell ####"
   ]
  }
 ],
 "metadata": {
  "kernelspec": {
   "display_name": "Python 3 (ipykernel)",
   "language": "python",
   "name": "python3"
  },
  "language_info": {
   "codemirror_mode": {
    "name": "ipython",
    "version": 3
   },
   "file_extension": ".py",
   "mimetype": "text/x-python",
   "name": "python",
   "nbconvert_exporter": "python",
   "pygments_lexer": "ipython3",
   "version": "3.11.4"
  }
 },
 "nbformat": 4,
 "nbformat_minor": 5
}
