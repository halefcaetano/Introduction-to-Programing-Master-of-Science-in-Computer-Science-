{
 "cells": [
  {
   "cell_type": "markdown",
   "id": "9923e9c4",
   "metadata": {
    "deletable": false,
    "editable": false,
    "nbgrader": {
     "cell_type": "markdown",
     "checksum": "53af27930fef5c6309d78a09f83c956f",
     "grade": false,
     "grade_id": "cell-af9cc8d837aebce9",
     "locked": true,
     "schema_version": 3,
     "solution": false,
     "task": false
    },
    "tags": []
   },
   "source": [
    "# Module 14 Reflective Practice Assignment "
   ]
  },
  {
   "cell_type": "markdown",
   "id": "64845279",
   "metadata": {
    "deletable": false,
    "editable": false,
    "nbgrader": {
     "cell_type": "markdown",
     "checksum": "cd9e9c38e3a769de8a820140c834e8c5",
     "grade": false,
     "grade_id": "cell-ff5eef82ae0a7de3",
     "locked": true,
     "schema_version": 3,
     "solution": false,
     "task": false
    },
    "tags": []
   },
   "source": [
    "Spend between 20 and 30 minutes just experimenting with the python concepts that we have learned this week.  Get creative!  Try new things! \n",
    "Fail and try again!  Suggested practice items:\n",
    "\n",
    "- Follow the steps shown in the video [Using python to connect to an API: the requests package to Wikipedia](https://www.coursera.org/learn/ball-state-univeristy-introduction-to-programming/item/6V0Ay), but explore other articles.  Can you use the json package to explore the data returned from Wikipedia and extract just the article title?  The main text of the article?  what else can you extract? \n",
    "\n",
    "- Play with some example JSON data.  For example, there are two files available that contain data from the website https://dummyjson.com/:  `dummyjsonexample.txt` and `dummyjsonproducts.txt` (both provided in this lab.)  The first file is shorter, and the second one is larger.  Can you load these into the JSON object and extract each piece of information separately? (Remember that working with JSON data, at first, is a lot of trial and error and exploration.  Keep trying!) \n",
    "\n",
    "Once you're done, save this Jupyter Notebook - you will submit it as part of this assignment. It is perfectly acceptable to describe trying to get something to work, and then failing to get it functioning as desired in the 20-30 min time block.  This does not mean you'll get a bad grade for this assignment -- failing is a necessary part of learning, though none of us particularly enjoy it.  Sometimes what you'll try to accomplish is just too big of a task for a Reflective Practice session, and that is ok -- you will still have learned from the experience."
   ]
  },
  {
   "cell_type": "markdown",
   "id": "d4d46bc2",
   "metadata": {
    "deletable": false,
    "editable": false,
    "nbgrader": {
     "cell_type": "markdown",
     "checksum": "57f1897b1bab0711d9df0267ffd90ee9",
     "grade": false,
     "grade_id": "cell-acf62cab23157c1e",
     "locked": true,
     "schema_version": 3,
     "solution": false,
     "task": false
    },
    "tags": []
   },
   "source": [
    "## You can experiment with your code in the notebook cells below."
   ]
  },
  {
   "cell_type": "code",
   "execution_count": 61,
   "id": "30fbdc72-92d2-4bad-ba56-9d0148183195",
   "metadata": {
    "tags": []
   },
   "outputs": [],
   "source": [
    "## import all dependencies\n",
    "import requests # for http connections\n",
    "import json, inspect"
   ]
  },
  {
   "cell_type": "code",
   "execution_count": 60,
   "id": "df57ecf8-0cc2-42ab-a548-0d59064158af",
   "metadata": {
    "tags": []
   },
   "outputs": [
    {
     "name": "stdout",
     "output_type": "stream",
     "text": [
      "('Coursera', '35356507')\n"
     ]
    }
   ],
   "source": [
    "def get_Wikipedia_json_for_title(article_title):\n",
    "    ''' Write a function that will connect to Wikipedia and get an article \n",
    "    of a specific title, returning the json object '''\n",
    "    url = 'https://en.wikipedia.org/w/api.php?action=parse&page=' + article_title +'&format=json'\n",
    "    response = requests.get(url)\n",
    "    json = response.json()      \n",
    "    return json\n",
    "\n",
    "def json_title_and_toc(json_obj):\n",
    "    ''' Write a function that will accept a json object, and \n",
    "    return a string that contains relevant information about the article sections '''\n",
    "    json = json_obj['parse']['sections']\n",
    "    string = str(json_obj['parse']['title'])\n",
    "    pageid = str((json_obj['parse']['pageid']))\n",
    "    return string, pageid\n",
    "\n",
    "article_title = \"Coursera\"\n",
    "wiki_data = get_Wikipedia_json_for_title(article_title)\n",
    "summary = json_title_and_toc(wiki_data)\n",
    "\n",
    "print(summary)"
   ]
  },
  {
   "cell_type": "code",
   "execution_count": 62,
   "id": "eae3e2a2-9c1c-4877-8415-20c8d3e7d7d6",
   "metadata": {
    "tags": []
   },
   "outputs": [
    {
     "name": "stdout",
     "output_type": "stream",
     "text": [
      "iPhone 9\n",
      "An apple mobile which is nothing like apple\n"
     ]
    }
   ],
   "source": [
    "with open('dummyjsonproducts.txt', 'r') as openfile:\n",
    "    file_ = openfile.readlines()\n",
    "file = file_[0]\n",
    "json_ = json.loads(file)\n",
    "print(json_['products'][0]['title'])\n",
    "print(json_['products'][0]['description'])"
   ]
  },
  {
   "cell_type": "raw",
   "id": "b2616172-c5dc-4fc4-843c-a18cd95a16c7",
   "metadata": {},
   "source": []
  },
  {
   "cell_type": "markdown",
   "id": "94c9aaa3-9cfe-4d6a-a57a-b69ce3dd9736",
   "metadata": {
    "deletable": false,
    "editable": false,
    "nbgrader": {
     "cell_type": "markdown",
     "checksum": "e83c63bcd9536bdf74e3878dd15e7c44",
     "grade": false,
     "grade_id": "cell-f95893fa698683c6",
     "locked": true,
     "schema_version": 3,
     "solution": false,
     "task": false
    },
    "tags": []
   },
   "source": [
    "#### Please place all code experimentation above this comment. ####"
   ]
  },
  {
   "cell_type": "markdown",
   "id": "778141b4",
   "metadata": {
    "deletable": false,
    "editable": false,
    "nbgrader": {
     "cell_type": "markdown",
     "checksum": "065600e3c5302792b22d54cc24810b04",
     "grade": false,
     "grade_id": "cell-7ccb79a53f7c89b2",
     "locked": true,
     "schema_version": 3,
     "solution": false,
     "task": false
    }
   },
   "source": [
    "# Module 14 Reflection Submission"
   ]
  },
  {
   "cell_type": "markdown",
   "id": "75e6ae4b",
   "metadata": {
    "deletable": false,
    "editable": false,
    "nbgrader": {
     "cell_type": "markdown",
     "checksum": "31393ebea6837e960f92aa3c6c3f3a4f",
     "grade": false,
     "grade_id": "cell-227ea0fa9fdb6130",
     "locked": true,
     "schema_version": 3,
     "solution": false,
     "task": false
    },
    "tags": []
   },
   "source": [
    "Reflect on what you have learned below.  Write a short (4-8 sentence summary) reflecting on what you figured out through this practice session. "
   ]
  },
  {
   "cell_type": "markdown",
   "id": "e6f89290",
   "metadata": {
    "deletable": false,
    "editable": false,
    "nbgrader": {
     "cell_type": "markdown",
     "checksum": "fdb31303a2c3d7857e128fce9c757af1",
     "grade": false,
     "grade_id": "cell-574144c829d666e1",
     "locked": true,
     "schema_version": 3,
     "solution": false,
     "task": false
    },
    "tags": []
   },
   "source": [
    "#### Enter Your Reflection Under this Cell ####"
   ]
  },
  {
   "cell_type": "markdown",
   "id": "151867f3",
   "metadata": {
    "deletable": false,
    "nbgrader": {
     "cell_type": "markdown",
     "checksum": "71ddbbf3ac3bfff3a76911e0cb382e2b",
     "grade": true,
     "grade_id": "cell-498c413593a65abb",
     "locked": false,
     "points": 0,
     "schema_version": 3,
     "solution": true,
     "task": false
    },
    "tags": []
   },
   "source": [
    "YOUR ANSWER HERE"
   ]
  },
  {
   "cell_type": "code",
   "execution_count": null,
   "id": "97891f7c-6f22-4920-8e92-e0f775b07d15",
   "metadata": {},
   "outputs": [],
   "source": [
    "# It's good so we can get data from web"
   ]
  },
  {
   "cell_type": "code",
   "execution_count": null,
   "id": "1ad04b8a-094f-403d-ba2f-818d5d4919e7",
   "metadata": {},
   "outputs": [],
   "source": [
    "# We can extract some interesting topics from the data"
   ]
  },
  {
   "cell_type": "code",
   "execution_count": null,
   "id": "6fc9f9e2-da0c-4f71-a234-8b51c40f415b",
   "metadata": {},
   "outputs": [],
   "source": [
    "# It's good to work with API, we have so many criatives API"
   ]
  },
  {
   "cell_type": "code",
   "execution_count": null,
   "id": "50c4fb7d-9c5e-45c0-ab40-ab4253976227",
   "metadata": {},
   "outputs": [],
   "source": [
    "# I'ts. start to leanirng how to deal with API"
   ]
  },
  {
   "cell_type": "markdown",
   "id": "d6d56306",
   "metadata": {
    "deletable": false,
    "editable": false,
    "nbgrader": {
     "cell_type": "markdown",
     "checksum": "a1fbf885ac8c6745e7bf96ebd28969b6",
     "grade": false,
     "grade_id": "cell-de0a0a081f87a48d",
     "locked": true,
     "schema_version": 3,
     "solution": false,
     "task": false
    },
    "tags": []
   },
   "source": [
    "#### Enter Your Reflection Above this Cell ####"
   ]
  }
 ],
 "metadata": {
  "kernelspec": {
   "display_name": "Python 3 (ipykernel)",
   "language": "python",
   "name": "python3"
  },
  "language_info": {
   "codemirror_mode": {
    "name": "ipython",
    "version": 3
   },
   "file_extension": ".py",
   "mimetype": "text/x-python",
   "name": "python",
   "nbconvert_exporter": "python",
   "pygments_lexer": "ipython3",
   "version": "3.11.4"
  }
 },
 "nbformat": 4,
 "nbformat_minor": 5
}
