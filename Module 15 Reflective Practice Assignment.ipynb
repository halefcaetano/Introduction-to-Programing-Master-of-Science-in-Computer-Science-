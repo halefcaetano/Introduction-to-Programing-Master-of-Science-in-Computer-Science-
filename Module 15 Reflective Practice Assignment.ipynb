{
 "cells": [
  {
   "cell_type": "markdown",
   "id": "9923e9c4",
   "metadata": {
    "deletable": false,
    "editable": false,
    "nbgrader": {
     "cell_type": "markdown",
     "checksum": "200456dd3b52a64f8e219920ed33c611",
     "grade": false,
     "grade_id": "cell-af9cc8d837aebce9",
     "locked": true,
     "schema_version": 3,
     "solution": false,
     "task": false
    },
    "tags": []
   },
   "source": [
    "# Module 15 Reflective Practice Assignment "
   ]
  },
  {
   "cell_type": "markdown",
   "id": "64845279",
   "metadata": {
    "deletable": false,
    "editable": false,
    "nbgrader": {
     "cell_type": "markdown",
     "checksum": "5645d7952ceee344f4b0370e2f084a66",
     "grade": false,
     "grade_id": "cell-ff5eef82ae0a7de3",
     "locked": true,
     "schema_version": 3,
     "solution": false,
     "task": false
    },
    "tags": []
   },
   "source": [
    "Spend between 20 and 30 minutes just experimenting with the python concepts that we have learned this week.  Get creative!  Try new things! \n",
    "Fail and try again!  Suggested practice items:\n",
    "\n",
    "- Review earlier techniques and incorporate new features: write a program that prompts the user to enter a long string.  Then, use regular expressions to search the string to extract phone numbers, or zip codes, or specific words.  Also, perform some sentiment analysis on their entry – and report if it’s mostly positive, negative, or neutral.  Add an emoji to help communicate the sentiment result.  Do a word count on the string. List all nouns that are contained in the string.  Remove all whitespace and then sort the characters alphabetically.  Then, loop to prompt the user to enter another string. \n",
    "\n",
    "- Search for another tweet dataset and repeat the analysis that we did for Elon Musk’s tweets. \n",
    "\n",
    "- Adapt the code used in the Live Coding example of rating the reading level of Wikipedia texts to be more general – are there other websites that you can connect to?  (Note that the Coursera servers will block some websites, so you may want to just stick to different pages on Wikipedia.) \n",
    "\n",
    "Once you're done, save this Jupyter Notebook - you will submit it as part of this assignment. It is perfectly acceptable to describe trying to get something to work, and then failing to get it functioning as desired in the 20-30 min time block.  This does not mean you'll get a bad grade for this assignment -- failing is a necessary part of learning, though none of us particularly enjoy it.  Sometimes what you'll try to accomplish is just too big of a task for a Reflective Practice session, and that is ok -- you will still have learned from the experience."
   ]
  },
  {
   "cell_type": "markdown",
   "id": "d4d46bc2",
   "metadata": {
    "deletable": false,
    "editable": false,
    "nbgrader": {
     "cell_type": "markdown",
     "checksum": "57f1897b1bab0711d9df0267ffd90ee9",
     "grade": false,
     "grade_id": "cell-acf62cab23157c1e",
     "locked": true,
     "schema_version": 3,
     "solution": false,
     "task": false
    },
    "tags": []
   },
   "source": [
    "## You can experiment with your code in the notebook cells below."
   ]
  },
  {
   "cell_type": "code",
   "execution_count": null,
   "id": "df57ecf8-0cc2-42ab-a548-0d59064158af",
   "metadata": {
    "tags": []
   },
   "outputs": [],
   "source": [
    "import nltk\n",
    "from textblob import TextBlob\n",
    "from textblob.sentiments import NaiveBayesAnalyzer\n",
    "import re\n",
    "nltk.download('movie_reviews')\n",
    "nltk.download('punkt')\n",
    "nltk.download('brown')\n",
    "import pandas as pd"
   ]
  },
  {
   "cell_type": "code",
   "execution_count": null,
   "id": "dced325f-a4a6-4971-bf77-3b47915a2ec4",
   "metadata": {
    "tags": []
   },
   "outputs": [],
   "source": [
    "def gold_silver(string):\n",
    "    for word in string.split():\n",
    "        match2 = re.fullmatch('silver', word)\n",
    "        match = re.fullmatch('gold', word)\n",
    "        if match2:\n",
    "            return'We found silver'\n",
    "        elif match:\n",
    "            return 'We found gold'\n",
    "        \n",
    "        \n",
    "def get_5digit_nums(web_string): \n",
    "    ''' take the string and extract 5 digit numbers, similar to zipcodes  '''\n",
    "    contents = ''\n",
    "    for i in web_string:\n",
    "        contents += i \n",
    "    r = re.compile(r'\\d\\d\\d\\d\\d')\n",
    "    results = r.findall(contents)\n",
    "    return results\n",
    "\n",
    "\n",
    "\n",
    "def get_phone_numbers(web_string):\n",
    "    ''' processed the web_string and e415-858-31xtract phone numbers, returning a list of numbers '''\n",
    "    contents = ''\n",
    "    for i in web_string:\n",
    "        contents += i \n",
    "    r = re.compile(r'\\d\\d\\d-\\d\\d\\d-\\d\\d\\d\\d')\n",
    "    results = r.findall(contents)\n",
    "    return results"
   ]
  },
  {
   "cell_type": "code",
   "execution_count": null,
   "id": "53366e61-e620-4e44-ad5e-73b093e21e1c",
   "metadata": {
    "tags": []
   },
   "outputs": [],
   "source": [
    "choice = 'start'\n",
    "while choice != 'quit':\n",
    "    string = ''\n",
    "    my_list = []\n",
    "    choice = input('Enter a string: (or quit to stop)')\n",
    "    # To see if there is a word silver or gold\n",
    "    if gold_silver(choice) != None:\n",
    "        print(gold_silver(choice))\n",
    "    # To see if there is a phone number\n",
    "    if len(get_phone_numbers(choice)) > 0:\n",
    "        print(f'We found the number: {get_phone_numbers(choice)}')\n",
    "    # To see if there is a zip code\n",
    "    if  len(get_5digit_nums(choice)) > 0:\n",
    "        print(f'We found the zip code: { get_5digit_nums(choice)}')\n",
    "    # To do a sentiment analysis \n",
    "    for word in choice:\n",
    "        string += word\n",
    "    blob = TextBlob(string, analyzer= NaiveBayesAnalyzer())\n",
    "     if blob.sentiment.classification == 'pos':\n",
    "        print('😁')\n",
    "    elif blob.sentiment.classification == 'neg':\n",
    "        print('😣')\n",
    "    else:\n",
    "        print('🤨')\n",
    "    # To sort the characters alphabetically\n",
    "    for word in choice.split():\n",
    "        my_list.append(word)\n",
    "    my_list2 = my_list.sort()\n",
    "    print(f'The characters alphabetically are: {my_list2}.')\n",
    "    # To now how many nouns are\n",
    "    if len(blob.noun_phrases) > 0:\n",
    "        print(f'The number of nouns are {blob.noun_phrases}')\n",
    "        "
   ]
  },
  {
   "cell_type": "code",
   "execution_count": null,
   "id": "eae3e2a2-9c1c-4877-8415-20c8d3e7d7d6",
   "metadata": {
    "tags": []
   },
   "outputs": [],
   "source": [
    "filename = 'JoeBidenTweets3.csv'\n",
    "biden_df = pd.read_csv(filename)\n",
    "print(f\"Average of retweets are {biden_df['retweets'].mean()}\")    \n",
    "print(f\"Average of replies are {biden_df['replies'].mean()}\") \n",
    "print(biden_df)\n",
    "for each in biden_df['tweet']:\n",
    "    print(TextBlob(each).sentiment.polarity)  \n",
    "    \n",
    "    "
   ]
  },
  {
   "cell_type": "markdown",
   "id": "746122fd-0b59-415d-b795-d0eae409c938",
   "metadata": {},
   "source": []
  },
  {
   "cell_type": "raw",
   "id": "b2616172-c5dc-4fc4-843c-a18cd95a16c7",
   "metadata": {},
   "source": []
  },
  {
   "cell_type": "markdown",
   "id": "94c9aaa3-9cfe-4d6a-a57a-b69ce3dd9736",
   "metadata": {
    "deletable": false,
    "editable": false,
    "nbgrader": {
     "cell_type": "markdown",
     "checksum": "e83c63bcd9536bdf74e3878dd15e7c44",
     "grade": false,
     "grade_id": "cell-f95893fa698683c6",
     "locked": true,
     "schema_version": 3,
     "solution": false,
     "task": false
    },
    "tags": []
   },
   "source": [
    "#### Please place all code experimentation above this comment. ####"
   ]
  },
  {
   "cell_type": "markdown",
   "id": "778141b4",
   "metadata": {
    "deletable": false,
    "editable": false,
    "nbgrader": {
     "cell_type": "markdown",
     "checksum": "00d249f057c238b9f9c19ab32b606490",
     "grade": false,
     "grade_id": "cell-7ccb79a53f7c89b2",
     "locked": true,
     "schema_version": 3,
     "solution": false,
     "task": false
    }
   },
   "source": [
    "# Module 15 Reflection Submission"
   ]
  },
  {
   "cell_type": "markdown",
   "id": "75e6ae4b",
   "metadata": {
    "deletable": false,
    "editable": false,
    "nbgrader": {
     "cell_type": "markdown",
     "checksum": "31393ebea6837e960f92aa3c6c3f3a4f",
     "grade": false,
     "grade_id": "cell-227ea0fa9fdb6130",
     "locked": true,
     "schema_version": 3,
     "solution": false,
     "task": false
    },
    "tags": []
   },
   "source": [
    "Reflect on what you have learned below.  Write a short (4-8 sentence summary) reflecting on what you figured out through this practice session. "
   ]
  },
  {
   "cell_type": "markdown",
   "id": "e6f89290",
   "metadata": {
    "deletable": false,
    "editable": false,
    "nbgrader": {
     "cell_type": "markdown",
     "checksum": "fdb31303a2c3d7857e128fce9c757af1",
     "grade": false,
     "grade_id": "cell-574144c829d666e1",
     "locked": true,
     "schema_version": 3,
     "solution": false,
     "task": false
    },
    "tags": []
   },
   "source": [
    "#### Enter Your Reflection Under this Cell ####"
   ]
  },
  {
   "cell_type": "markdown",
   "id": "151867f3",
   "metadata": {
    "deletable": false,
    "nbgrader": {
     "cell_type": "markdown",
     "checksum": "71ddbbf3ac3bfff3a76911e0cb382e2b",
     "grade": true,
     "grade_id": "cell-498c413593a65abb",
     "locked": false,
     "points": 0,
     "schema_version": 3,
     "solution": true,
     "task": false
    },
    "tags": []
   },
   "source": [
    "YOUR ANSWER HERE"
   ]
  },
  {
   "cell_type": "code",
   "execution_count": null,
   "id": "25e0daf5-db3e-4277-a536-6b29369b3fef",
   "metadata": {},
   "outputs": [],
   "source": [
    "# You have to read your data first to know what to do"
   ]
  },
  {
   "cell_type": "code",
   "execution_count": null,
   "id": "4f84ba3e-f00a-4e28-be79-7510144d409d",
   "metadata": {},
   "outputs": [],
   "source": [
    "# Python is a fast way to clean data"
   ]
  },
  {
   "cell_type": "code",
   "execution_count": null,
   "id": "f83dcfd1-af8d-497b-b067-fc286ac9d597",
   "metadata": {},
   "outputs": [],
   "source": [
    "# I learned to find some data through kaggle"
   ]
  },
  {
   "cell_type": "code",
   "execution_count": null,
   "id": "17e7d38a-852a-49ed-8365-74ec43d2d9b6",
   "metadata": {},
   "outputs": [],
   "source": [
    "# Some data are so big, you need a language to work with it."
   ]
  },
  {
   "cell_type": "markdown",
   "id": "d6d56306",
   "metadata": {
    "deletable": false,
    "editable": false,
    "nbgrader": {
     "cell_type": "markdown",
     "checksum": "a1fbf885ac8c6745e7bf96ebd28969b6",
     "grade": false,
     "grade_id": "cell-de0a0a081f87a48d",
     "locked": true,
     "schema_version": 3,
     "solution": false,
     "task": false
    },
    "tags": []
   },
   "source": [
    "#### Enter Your Reflection Above this Cell ####"
   ]
  }
 ],
 "metadata": {
  "kernelspec": {
   "display_name": "Python 3 (ipykernel)",
   "language": "python",
   "name": "python3"
  },
  "language_info": {
   "codemirror_mode": {
    "name": "ipython",
    "version": 3
   },
   "file_extension": ".py",
   "mimetype": "text/x-python",
   "name": "python",
   "nbconvert_exporter": "python",
   "pygments_lexer": "ipython3",
   "version": "3.11.4"
  }
 },
 "nbformat": 4,
 "nbformat_minor": 5
}
