{
 "cells": [
  {
   "cell_type": "markdown",
   "id": "9923e9c4",
   "metadata": {
    "deletable": false,
    "editable": false,
    "nbgrader": {
     "cell_type": "markdown",
     "checksum": "7e78ec76f766abc0ac9241ecf31ce4d4",
     "grade": false,
     "grade_id": "cell-af9cc8d837aebce9",
     "locked": true,
     "schema_version": 3,
     "solution": false,
     "task": false
    },
    "tags": []
   },
   "source": [
    "# Module 2 Reflective Practice Assignment "
   ]
  },
  {
   "cell_type": "markdown",
   "id": "64845279",
   "metadata": {
    "deletable": false,
    "editable": false,
    "nbgrader": {
     "cell_type": "markdown",
     "checksum": "7afc3ddeae28f705489572db84d0bbf5",
     "grade": false,
     "grade_id": "cell-ff5eef82ae0a7de3",
     "locked": true,
     "schema_version": 3,
     "solution": false,
     "task": false
    },
    "tags": []
   },
   "source": [
    "Spend between 20 and 30 minutes just experimenting with the python concepts that we have learned this week.  Get creative!  Try new things! \n",
    "Fail and try again!  Suggested practice items:\n",
    "\n",
    "- Write an if statement that prints an encouraging phrase based on a student's grade \n",
    "\n",
    "- Write a for loop that counts from 1 to 100, and also prints out \"yipee\" when we get to the numbers that are divisible by 10 (i.e. 10, 20, 30, etc) \n",
    "\n",
    "- Write a while loop that asks the user to enter a number.  If it's not the one that you want them to guess, tell them higher or lower, and then let them keep guessing until they get it right  \n",
    "\n",
    "Once you're done, save this Jupyter Notebook - you will submit it as part of this assignment. It is perfectly acceptable to describe trying to get something to work, and then failing to get it functioning as desired in the 20-30 min time block.  This does not mean you'll get a bad grade for this assignment -- failing is a necessary part of learning, though none of us particularly enjoy it.  Sometimes what you'll try to accomplish is just too big of a task for a Reflective Practice session, and that is ok -- you will still have learned from the experience."
   ]
  },
  {
   "cell_type": "markdown",
   "id": "d4d46bc2",
   "metadata": {
    "deletable": false,
    "editable": false,
    "nbgrader": {
     "cell_type": "markdown",
     "checksum": "57f1897b1bab0711d9df0267ffd90ee9",
     "grade": false,
     "grade_id": "cell-acf62cab23157c1e",
     "locked": true,
     "schema_version": 3,
     "solution": false,
     "task": false
    },
    "tags": []
   },
   "source": [
    "## You can experiment with your code in the notebook cells below."
   ]
  },
  {
   "cell_type": "code",
   "execution_count": 1,
   "id": "df57ecf8-0cc2-42ab-a548-0d59064158af",
   "metadata": {
    "tags": []
   },
   "outputs": [
    {
     "name": "stdout",
     "output_type": "stream",
     "text": [
      "35.0\n"
     ]
    }
   ],
   "source": [
    "import statistics\n",
    "numbers = (10, 20, 30, 40, 50, 60)\n",
    "print(statistics.median(numbers))"
   ]
  },
  {
   "cell_type": "code",
   "execution_count": 2,
   "id": "30fbdc72-92d2-4bad-ba56-9d0148183195",
   "metadata": {
    "tags": []
   },
   "outputs": [
    {
     "name": "stdout",
     "output_type": "stream",
     "text": [
      "The number is 10.\n"
     ]
    }
   ],
   "source": [
    "number = 10\n",
    "if number > 10:\n",
    "    print('The number is greater than 10')\n",
    "elif number < 10:\n",
    "    print('The namber is less than 10')\n",
    "else:\n",
    "    print('The number is 10.')"
   ]
  },
  {
   "cell_type": "code",
   "execution_count": 3,
   "id": "eae3e2a2-9c1c-4877-8415-20c8d3e7d7d6",
   "metadata": {
    "tags": []
   },
   "outputs": [
    {
     "name": "stdout",
     "output_type": "stream",
     "text": [
      "1 2 3 4 5 6 7 8 9 "
     ]
    }
   ],
   "source": [
    "for i in range(1, 10):\n",
    "    print(i, end=\" \")"
   ]
  },
  {
   "cell_type": "code",
   "execution_count": 5,
   "id": "1d5b0338-3766-4a2c-b17e-4d683b001984",
   "metadata": {
    "tags": []
   },
   "outputs": [
    {
     "name": "stdout",
     "output_type": "stream",
     "text": [
      "1 2 3 4 5 6 7 8 9 10 11 12 13 14 15 16 17 18 19 20 "
     ]
    }
   ],
   "source": [
    "i = 0\n",
    "while i < 20:\n",
    "    i = i + 1\n",
    "    print(i, end=\" \")"
   ]
  },
  {
   "cell_type": "code",
   "execution_count": 6,
   "id": "87629962-91ab-461a-b657-a3e7bbe3cce0",
   "metadata": {
    "tags": []
   },
   "outputs": [
    {
     "name": "stdin",
     "output_type": "stream",
     "text": [
      "Write your grade:  80\n"
     ]
    },
    {
     "name": "stdout",
     "output_type": "stream",
     "text": [
      "You passed!\n"
     ]
    }
   ],
   "source": [
    "grade = int(input('Write your grade: '))\n",
    "if grade >= 70:\n",
    "    print('You passed!')\n",
    "else:\n",
    "    print(\"You didn't pass.\")"
   ]
  },
  {
   "cell_type": "code",
   "execution_count": 13,
   "id": "5c9d37aa-3a35-418b-96c9-77bb3a5d6565",
   "metadata": {
    "tags": []
   },
   "outputs": [
    {
     "name": "stdout",
     "output_type": "stream",
     "text": [
      "1 2 3 4 5 6 7 8 9 10 yipee 11 12 13 14 15 16 17 18 19 20 yipee 21 22 23 24 25 26 27 28 29 30 yipee 31 32 33 34 35 36 37 38 39 40 yipee 41 42 43 44 45 46 47 48 49 50 yipee 51 52 53 54 55 56 57 58 59 60 yipee 61 62 63 64 65 66 67 68 69 70 yipee 71 72 73 74 75 76 77 78 79 80 yipee 81 82 83 84 85 86 87 88 89 90 yipee 91 92 93 94 95 96 97 98 99 100 yipee "
     ]
    }
   ],
   "source": [
    "for i in range(1, 101):\n",
    "    print(i, end=' ')\n",
    "    if i % 10 == 0:\n",
    "        print('yipee', end=' ')"
   ]
  },
  {
   "cell_type": "code",
   "execution_count": 14,
   "id": "ebfba495-f865-48fa-93f2-66e6856d84cf",
   "metadata": {
    "tags": []
   },
   "outputs": [
    {
     "name": "stdin",
     "output_type": "stream",
     "text": [
      "Guess a number between 1 and 30:  10\n"
     ]
    },
    {
     "name": "stdout",
     "output_type": "stream",
     "text": [
      "Try higher.\n"
     ]
    },
    {
     "name": "stdin",
     "output_type": "stream",
     "text": [
      "Guess a number between 1 and 30:  17\n"
     ]
    },
    {
     "name": "stdout",
     "output_type": "stream",
     "text": [
      "Try higher.\n"
     ]
    },
    {
     "name": "stdin",
     "output_type": "stream",
     "text": [
      "Guess a number between 1 and 30:  19\n"
     ]
    },
    {
     "name": "stdout",
     "output_type": "stream",
     "text": [
      "Try lower.\n"
     ]
    },
    {
     "name": "stdin",
     "output_type": "stream",
     "text": [
      "Guess a number between 1 and 30:  18\n"
     ]
    },
    {
     "name": "stdout",
     "output_type": "stream",
     "text": [
      "You guessed the number 18.\n"
     ]
    }
   ],
   "source": [
    "while True:\n",
    "    guess = int(input('Guess a number between 1 and 30: '))\n",
    "    if guess > 18:\n",
    "        print('Try lower.')\n",
    "    elif guess < 18:\n",
    "        print('Try higher.')\n",
    "    else:\n",
    "        break\n",
    "print('You guessed the number 18.')"
   ]
  },
  {
   "cell_type": "markdown",
   "id": "94c9aaa3-9cfe-4d6a-a57a-b69ce3dd9736",
   "metadata": {
    "deletable": false,
    "editable": false,
    "nbgrader": {
     "cell_type": "markdown",
     "checksum": "e83c63bcd9536bdf74e3878dd15e7c44",
     "grade": false,
     "grade_id": "cell-f95893fa698683c6",
     "locked": true,
     "schema_version": 3,
     "solution": false,
     "task": false
    },
    "tags": []
   },
   "source": [
    "#### Please place all code experimentation above this comment. ####"
   ]
  },
  {
   "cell_type": "markdown",
   "id": "778141b4",
   "metadata": {
    "deletable": false,
    "editable": false,
    "nbgrader": {
     "cell_type": "markdown",
     "checksum": "963ca02a17c34bb8aeff72e3c7c246d9",
     "grade": false,
     "grade_id": "cell-7ccb79a53f7c89b2",
     "locked": true,
     "schema_version": 3,
     "solution": false,
     "task": false
    }
   },
   "source": [
    "# Module 2 Reflection Submission"
   ]
  },
  {
   "cell_type": "markdown",
   "id": "75e6ae4b",
   "metadata": {
    "deletable": false,
    "editable": false,
    "nbgrader": {
     "cell_type": "markdown",
     "checksum": "31393ebea6837e960f92aa3c6c3f3a4f",
     "grade": false,
     "grade_id": "cell-227ea0fa9fdb6130",
     "locked": true,
     "schema_version": 3,
     "solution": false,
     "task": false
    },
    "tags": []
   },
   "source": [
    "Reflect on what you have learned below.  Write a short (4-8 sentence summary) reflecting on what you figured out through this practice session. "
   ]
  },
  {
   "cell_type": "markdown",
   "id": "e6f89290",
   "metadata": {
    "deletable": false,
    "editable": false,
    "nbgrader": {
     "cell_type": "markdown",
     "checksum": "fdb31303a2c3d7857e128fce9c757af1",
     "grade": false,
     "grade_id": "cell-574144c829d666e1",
     "locked": true,
     "schema_version": 3,
     "solution": false,
     "task": false
    },
    "tags": []
   },
   "source": [
    "#### Enter Your Reflection Under this Cell ####"
   ]
  },
  {
   "cell_type": "markdown",
   "id": "151867f3",
   "metadata": {
    "deletable": false,
    "nbgrader": {
     "cell_type": "markdown",
     "checksum": "71ddbbf3ac3bfff3a76911e0cb382e2b",
     "grade": true,
     "grade_id": "cell-498c413593a65abb",
     "locked": false,
     "points": 0,
     "schema_version": 3,
     "solution": true,
     "task": false
    },
    "tags": []
   },
   "source": [
    "YOUR ANSWER HERE"
   ]
  },
  {
   "cell_type": "code",
   "execution_count": null,
   "id": "a0137b22-1a5a-404c-9e08-7f46fb5c4422",
   "metadata": {},
   "outputs": [],
   "source": [
    "# I learned about if, elif and else."
   ]
  },
  {
   "cell_type": "code",
   "execution_count": null,
   "id": "4c850347-f3bc-4902-89ad-224256e9d9ae",
   "metadata": {},
   "outputs": [],
   "source": [
    "# I learned how to use the for and while loop."
   ]
  },
  {
   "cell_type": "code",
   "execution_count": null,
   "id": "c7c89610-14e2-4c5c-8f7e-e7af781a1b88",
   "metadata": {},
   "outputs": [],
   "source": [
    "# I started to use some libraries."
   ]
  },
  {
   "cell_type": "code",
   "execution_count": null,
   "id": "6a91afbc-5999-41ae-b6ba-07e30f2d4252",
   "metadata": {},
   "outputs": [],
   "source": [
    "# I used % to get an answer. "
   ]
  },
  {
   "cell_type": "code",
   "execution_count": null,
   "id": "cdbbfe13-223b-457e-a08a-fb686ecf0c94",
   "metadata": {},
   "outputs": [],
   "source": [
    "# I included the break in my while loop."
   ]
  },
  {
   "cell_type": "markdown",
   "id": "d6d56306",
   "metadata": {
    "deletable": false,
    "editable": false,
    "nbgrader": {
     "cell_type": "markdown",
     "checksum": "a1fbf885ac8c6745e7bf96ebd28969b6",
     "grade": false,
     "grade_id": "cell-de0a0a081f87a48d",
     "locked": true,
     "schema_version": 3,
     "solution": false,
     "task": false
    },
    "tags": []
   },
   "source": [
    "#### Enter Your Reflection Above this Cell ####"
   ]
  }
 ],
 "metadata": {
  "kernelspec": {
   "display_name": "Python 3 (ipykernel)",
   "language": "python",
   "name": "python3"
  },
  "language_info": {
   "codemirror_mode": {
    "name": "ipython",
    "version": 3
   },
   "file_extension": ".py",
   "mimetype": "text/x-python",
   "name": "python",
   "nbconvert_exporter": "python",
   "pygments_lexer": "ipython3",
   "version": "3.11.4"
  }
 },
 "nbformat": 4,
 "nbformat_minor": 5
}
