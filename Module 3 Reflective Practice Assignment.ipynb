{
 "cells": [
  {
   "cell_type": "markdown",
   "id": "650dab67",
   "metadata": {
    "tags": []
   },
   "source": [
    "# Module 3 Reflective Practice Assignment"
   ]
  },
  {
   "cell_type": "markdown",
   "id": "41ad7fbb",
   "metadata": {},
   "source": [
    "Spend between 20 and 30 minutes just experimenting with the python concepts that we have learned this week.  Get creative!  Try new things!  Fail and try again!  Suggested practice items: \n",
    "\n",
    "- Write a function that wraps some code together, maybe from one of your previous reflective practice sections \n",
    "\n",
    "- Write a function that counts down a number passed to it in an argument, down to 1 and then prints BOOM! \n",
    "\n",
    "- Write a function that calculates your final letter grade for this class \n",
    "\n",
    "Save this Jupyter Notebook, since you will submit it as part of this assignment. It is perfectly acceptable to describe trying to get something to work, and then failing to get it functioning as desired in the 20-30 min time block. This does not mean you'll get a bad grade for this assignment -- failing is a necessary part of learning, though none of us particularly enjoy it.  Sometimes what you'll try to accomplish is just too big of a task for a Reflective Practice session, and that is ok -- you will still have learned from the experience. "
   ]
  },
  {
   "cell_type": "markdown",
   "id": "74f546bf",
   "metadata": {
    "deletable": false,
    "editable": false,
    "nbgrader": {
     "cell_type": "markdown",
     "checksum": "60de21969ffb7a16842801ad4fbdc84d",
     "grade": false,
     "grade_id": "cell-ea9dc44fb1726c14",
     "locked": true,
     "schema_version": 3,
     "solution": false,
     "task": false
    },
    "tags": []
   },
   "source": [
    "### You can experiment with your code locally or in the notebook cells below."
   ]
  },
  {
   "cell_type": "code",
   "execution_count": 8,
   "id": "6ab48c84",
   "metadata": {
    "tags": []
   },
   "outputs": [
    {
     "name": "stdout",
     "output_type": "stream",
     "text": [
      "This is the number I chose between 1 and 100: 11\n"
     ]
    }
   ],
   "source": [
    "import random\n",
    "def rand():\n",
    "    return print(f'This is the number I chose between 1 and 100: {random.randint(1, 100)}')\n",
    "rand()"
   ]
  },
  {
   "cell_type": "code",
   "execution_count": 15,
   "id": "83397ece",
   "metadata": {
    "tags": []
   },
   "outputs": [
    {
     "name": "stdout",
     "output_type": "stream",
     "text": [
      "Give me three numbers so I can calculate the average.\n"
     ]
    },
    {
     "name": "stdin",
     "output_type": "stream",
     "text": [
      "Write the first number:  4\n",
      "Write the second number:  8\n",
      "Write the third number:  12\n"
     ]
    },
    {
     "name": "stdout",
     "output_type": "stream",
     "text": [
      "The average is 8\n"
     ]
    }
   ],
   "source": [
    "import statistics\n",
    "def average(n1, n2, n3):\n",
    "    numbers = [n1, n2, n3]\n",
    "    return statistics.mean(numbers)\n",
    "print('Give me three numbers so I can calculate the average.')\n",
    "number1 = int(input('Write the first number: '))\n",
    "number2 = int(input('Write the second number: '))\n",
    "number3 = int(input('Write the third number: '))\n",
    "print(f'The average is {average(number1, number2, number3)}')"
   ]
  },
  {
   "cell_type": "code",
   "execution_count": 30,
   "id": "b704ffe6-f1d4-4fb4-8694-776bca45ef6a",
   "metadata": {
    "tags": []
   },
   "outputs": [
    {
     "name": "stdout",
     "output_type": "stream",
     "text": [
      "I chose a number between 1 and 50, you have to guess it. Let's play!\n"
     ]
    },
    {
     "name": "stdin",
     "output_type": "stream",
     "text": [
      "Which number are you going to choose?  23\n"
     ]
    },
    {
     "name": "stdout",
     "output_type": "stream",
     "text": [
      "Try a smaller number.\n"
     ]
    },
    {
     "name": "stdin",
     "output_type": "stream",
     "text": [
      "Which number are you going to choose?  22\n"
     ]
    },
    {
     "name": "stdout",
     "output_type": "stream",
     "text": [
      "Try a smaller number.\n"
     ]
    },
    {
     "name": "stdin",
     "output_type": "stream",
     "text": [
      "Which number are you going to choose?  15\n"
     ]
    },
    {
     "name": "stdout",
     "output_type": "stream",
     "text": [
      "Try a smaller number.\n"
     ]
    },
    {
     "name": "stdin",
     "output_type": "stream",
     "text": [
      "Which number are you going to choose?  12\n"
     ]
    },
    {
     "name": "stdout",
     "output_type": "stream",
     "text": [
      "Try a smaller number.\n"
     ]
    },
    {
     "name": "stdin",
     "output_type": "stream",
     "text": [
      "Which number are you going to choose?  10\n"
     ]
    },
    {
     "name": "stdout",
     "output_type": "stream",
     "text": [
      "Try a smaller number.\n"
     ]
    },
    {
     "name": "stdin",
     "output_type": "stream",
     "text": [
      "Which number are you going to choose?  5\n"
     ]
    },
    {
     "name": "stdout",
     "output_type": "stream",
     "text": [
      "Try a smaller number.\n"
     ]
    },
    {
     "name": "stdin",
     "output_type": "stream",
     "text": [
      "Which number are you going to choose?  3\n"
     ]
    },
    {
     "name": "stdout",
     "output_type": "stream",
     "text": [
      "Try a bigger number.\n"
     ]
    },
    {
     "name": "stdin",
     "output_type": "stream",
     "text": [
      "Which number are you going to choose?  4\n"
     ]
    },
    {
     "name": "stdout",
     "output_type": "stream",
     "text": [
      "You are right!\n"
     ]
    }
   ],
   "source": [
    "import random\n",
    "print(\"I chose a number between 1 and 50, you have to guess it. Let's play!\")\n",
    "number = random.randint(1, 50)\n",
    "while True:\n",
    "    guess = int(input('Which number are you going to choose? '))\n",
    "    if guess > number:\n",
    "        print('Try a smaller number.')\n",
    "    elif guess < number:\n",
    "        print('Try a bigger number.')\n",
    "    else:\n",
    "        print('You are right!')\n",
    "        break"
   ]
  },
  {
   "cell_type": "code",
   "execution_count": 37,
   "id": "e477831f-7a64-486d-b47a-267faf867a71",
   "metadata": {
    "tags": []
   },
   "outputs": [
    {
     "name": "stdin",
     "output_type": "stream",
     "text": [
      "Write a grade to know the letter grade. 90\n"
     ]
    },
    {
     "name": "stdout",
     "output_type": "stream",
     "text": [
      "Your letter grade is A\n"
     ]
    }
   ],
   "source": [
    "def grade(grade):\n",
    "    if grade > 89:\n",
    "        final = 'A'\n",
    "    elif grade > 79:\n",
    "        final = 'B'\n",
    "    elif grade > 69:\n",
    "        final = 'C'\n",
    "    elif grade > 59:\n",
    "        final = 'D'\n",
    "    else:\n",
    "        final = 'F'\n",
    "    return final\n",
    "number = int(input('Write a grade to know the letter grade.'))\n",
    "print(f'Your letter grade is {grade(number)}')"
   ]
  },
  {
   "cell_type": "code",
   "execution_count": 42,
   "id": "eaa02b7c-fe35-4295-ae3e-db952a415c61",
   "metadata": {
    "tags": []
   },
   "outputs": [
    {
     "name": "stdin",
     "output_type": "stream",
     "text": [
      "Enter a number:  40\n"
     ]
    },
    {
     "name": "stdout",
     "output_type": "stream",
     "text": [
      "40\n",
      "39\n",
      "38\n",
      "37\n",
      "36\n",
      "35\n",
      "34\n",
      "33\n",
      "32\n",
      "31\n",
      "30\n",
      "29\n",
      "28\n",
      "27\n",
      "26\n",
      "25\n",
      "24\n",
      "23\n",
      "22\n",
      "21\n",
      "20\n",
      "19\n",
      "18\n",
      "17\n",
      "16\n",
      "15\n",
      "14\n",
      "13\n",
      "12\n",
      "11\n",
      "10\n",
      "9\n",
      "8\n",
      "7\n",
      "6\n",
      "5\n",
      "4\n",
      "3\n",
      "2\n",
      "1\n",
      "BOOM!\n"
     ]
    }
   ],
   "source": [
    "number = int(input('Enter a number: '))\n",
    "for i in range(number, 0, -1):\n",
    "    print(i)\n",
    "print('BOOM!')"
   ]
  },
  {
   "cell_type": "markdown",
   "id": "3c0224a2-829c-4dc6-871c-a25ce8c45d6d",
   "metadata": {
    "deletable": false,
    "editable": false,
    "nbgrader": {
     "cell_type": "markdown",
     "checksum": "ebcbcb321c1d431b6355df6dc293d48c",
     "grade": false,
     "grade_id": "cell-6ab7b33550afca91",
     "locked": true,
     "schema_version": 3,
     "solution": false,
     "task": false
    },
    "tags": []
   },
   "source": [
    "#### Please place all code experimentation above this comment. ####"
   ]
  },
  {
   "cell_type": "markdown",
   "id": "f8ae9eda",
   "metadata": {
    "deletable": false,
    "editable": false,
    "nbgrader": {
     "cell_type": "markdown",
     "checksum": "846199902f5609cc37dbb527300842aa",
     "grade": false,
     "grade_id": "cell-7ccb79a53f7c89b2",
     "locked": true,
     "schema_version": 3,
     "solution": false,
     "task": false
    }
   },
   "source": [
    "# Module 3 Reflection Submission"
   ]
  },
  {
   "cell_type": "markdown",
   "id": "de17dff5",
   "metadata": {
    "deletable": false,
    "editable": false,
    "nbgrader": {
     "cell_type": "markdown",
     "checksum": "31393ebea6837e960f92aa3c6c3f3a4f",
     "grade": false,
     "grade_id": "cell-227ea0fa9fdb6130",
     "locked": true,
     "schema_version": 3,
     "solution": false,
     "task": false
    },
    "tags": []
   },
   "source": [
    "Reflect on what you have learned below.  Write a short (4-8 sentence summary) reflecting on what you figured out through this practice session. "
   ]
  },
  {
   "cell_type": "markdown",
   "id": "90201994",
   "metadata": {
    "deletable": false,
    "editable": false,
    "nbgrader": {
     "cell_type": "markdown",
     "checksum": "fdb31303a2c3d7857e128fce9c757af1",
     "grade": false,
     "grade_id": "cell-574144c829d666e1",
     "locked": true,
     "schema_version": 3,
     "solution": false,
     "task": false
    },
    "tags": []
   },
   "source": [
    "#### Enter Your Reflection Under this Cell ####"
   ]
  },
  {
   "cell_type": "markdown",
   "id": "6a897653",
   "metadata": {
    "deletable": false,
    "nbgrader": {
     "cell_type": "markdown",
     "checksum": "71ddbbf3ac3bfff3a76911e0cb382e2b",
     "grade": true,
     "grade_id": "cell-498c413593a65abb",
     "locked": false,
     "points": 0,
     "schema_version": 3,
     "solution": true,
     "task": false
    },
    "tags": []
   },
   "source": [
    "YOUR ANSWER HERE"
   ]
  },
  {
   "cell_type": "code",
   "execution_count": null,
   "id": "e05759fa-cdaf-49b3-b889-d29c0cbf8864",
   "metadata": {},
   "outputs": [],
   "source": [
    "# Trying functions.\n",
    "# Using python libraries.\n",
    "# Using While loop.\n",
    "# Functions without argument.\n",
    "# Functions with an argument."
   ]
  },
  {
   "cell_type": "markdown",
   "id": "f97d7204",
   "metadata": {
    "deletable": false,
    "editable": false,
    "nbgrader": {
     "cell_type": "markdown",
     "checksum": "a1fbf885ac8c6745e7bf96ebd28969b6",
     "grade": false,
     "grade_id": "cell-de0a0a081f87a48d",
     "locked": true,
     "schema_version": 3,
     "solution": false,
     "task": false
    },
    "tags": []
   },
   "source": [
    "#### Enter Your Reflection Above this Cell ####"
   ]
  },
  {
   "cell_type": "markdown",
   "id": "a1959248-4f78-439d-bdb0-9b543e2ddd91",
   "metadata": {},
   "source": [
    "# Submitting Your Work"
   ]
  },
  {
   "cell_type": "markdown",
   "id": "838125a5-f7e1-496f-9747-dcc73d9a64cd",
   "metadata": {},
   "source": [
    "This week, you'll have your Reflection Activity graded by your Peers in the following Peer Review item.  \n",
    "- When you've completed your reflection this week, save this lab. \n",
    "- Then return to the assignment page and follow the steps under \"Submitting Your Work for Peer Peview\" to complete this assignment in full."
   ]
  }
 ],
 "metadata": {
  "kernelspec": {
   "display_name": "Python 3 (ipykernel)",
   "language": "python",
   "name": "python3"
  },
  "language_info": {
   "codemirror_mode": {
    "name": "ipython",
    "version": 3
   },
   "file_extension": ".py",
   "mimetype": "text/x-python",
   "name": "python",
   "nbconvert_exporter": "python",
   "pygments_lexer": "ipython3",
   "version": "3.11.4"
  }
 },
 "nbformat": 4,
 "nbformat_minor": 5
}
