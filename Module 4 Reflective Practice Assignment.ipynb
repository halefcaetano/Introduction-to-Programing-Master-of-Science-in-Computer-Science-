{
 "cells": [
  {
   "cell_type": "markdown",
   "id": "9923e9c4",
   "metadata": {
    "deletable": false,
    "editable": false,
    "nbgrader": {
     "cell_type": "markdown",
     "checksum": "2b11cd0a10675fd71a6f78299d2d480f",
     "grade": false,
     "grade_id": "cell-af9cc8d837aebce9",
     "locked": true,
     "schema_version": 3,
     "solution": false,
     "task": false
    },
    "tags": []
   },
   "source": [
    "# Module 4 Reflective Practice Assignment "
   ]
  },
  {
   "cell_type": "markdown",
   "id": "64845279",
   "metadata": {
    "deletable": false,
    "editable": false,
    "nbgrader": {
     "cell_type": "markdown",
     "checksum": "6e8aab1bfb1f600c3b56908af033a4ed",
     "grade": false,
     "grade_id": "cell-ff5eef82ae0a7de3",
     "locked": true,
     "schema_version": 3,
     "solution": false,
     "task": false
    },
    "tags": []
   },
   "source": [
    "Spend between 20 and 30 minutes just experimenting with the python concepts that we have learned this week.  Get creative!  Try new things! \n",
    "Fail and try again!  Suggested practice items:\n",
    "\n",
    "- Create two functions -- one that is called print_me() and takes some text as an argument, then prints it.  Then, create another function that is called repeat_me() that takes a number as an argument, then has a for loop to call the print_me() function that many times.  If you're up to a challenge, add an option to allow the user to type in the text, and also the number...or if you want a farther stretch goal, allow them repeat the program, until they decide to type \"quit\". \n",
    "\n",
    "- Pull in the math module, but rename it as \"mathisfun\" and then use the pow(), ceil(), and floor() functions \n",
    "\n",
    "- Play around with the statistics module's functions pvariance() and pstdev().\n",
    "\n",
    "Once you're done, save this Jupyter Notebook - you will submit it as part of this assignment. It is perfectly acceptable to describe trying to get something to work, and then failing to get it functioning as desired in the 20-30 min time block.  This does not mean you'll get a bad grade for this assignment -- failing is a necessary part of learning, though none of us particularly enjoy it.  Sometimes what you'll try to accomplish is just too big of a task for a Reflective Practice session, and that is ok -- you will still have learned from the experience."
   ]
  },
  {
   "cell_type": "markdown",
   "id": "d4d46bc2",
   "metadata": {
    "deletable": false,
    "editable": false,
    "nbgrader": {
     "cell_type": "markdown",
     "checksum": "57f1897b1bab0711d9df0267ffd90ee9",
     "grade": false,
     "grade_id": "cell-acf62cab23157c1e",
     "locked": true,
     "schema_version": 3,
     "solution": false,
     "task": false
    },
    "tags": []
   },
   "source": [
    "## You can experiment with your code in the notebook cells below."
   ]
  },
  {
   "cell_type": "code",
   "execution_count": 3,
   "id": "df57ecf8-0cc2-42ab-a548-0d59064158af",
   "metadata": {
    "tags": []
   },
   "outputs": [
    {
     "name": "stdout",
     "output_type": "stream",
     "text": [
      "hello\n"
     ]
    }
   ],
   "source": [
    "def print_me(text):\n",
    "    print(text)\n",
    "    \n",
    "print_me('hello')"
   ]
  },
  {
   "cell_type": "code",
   "execution_count": 17,
   "id": "30fbdc72-92d2-4bad-ba56-9d0148183195",
   "metadata": {
    "tags": []
   },
   "outputs": [
    {
     "name": "stdout",
     "output_type": "stream",
     "text": [
      "hello\n",
      "hello\n",
      "hello\n",
      "hello\n"
     ]
    }
   ],
   "source": [
    "def print_me(text):\n",
    "    print(text)\n",
    "    \n",
    "sentence = 'hello'\n",
    "\n",
    "def repeat_me(number):\n",
    "    for i in range(number):\n",
    "        print_me(sentence)   \n",
    "    \n",
    "repeat_me(4)"
   ]
  },
  {
   "cell_type": "code",
   "execution_count": 40,
   "id": "eae3e2a2-9c1c-4877-8415-20c8d3e7d7d6",
   "metadata": {
    "tags": []
   },
   "outputs": [
    {
     "name": "stdin",
     "output_type": "stream",
     "text": [
      "Write a text or quit to exit. quit\n"
     ]
    }
   ],
   "source": [
    "while True:\n",
    "    sentence = input('Write a text or quit to exit.')\n",
    "    if sentence == 'quit':\n",
    "        break\n",
    "    times = int(input('Write a number.'))\n",
    "    repeat_me(times)"
   ]
  },
  {
   "cell_type": "code",
   "execution_count": 49,
   "id": "b7ca4e7b-8b6a-4c37-8e46-a57dc9b917ad",
   "metadata": {
    "tags": []
   },
   "outputs": [
    {
     "name": "stdout",
     "output_type": "stream",
     "text": [
      "4 - 16.0 - 5\n"
     ]
    }
   ],
   "source": [
    "import math as mathisfun\n",
    "try1 = mathisfun.ceil(3.5)\n",
    "try2 = mathisfun.pow(4, 2)\n",
    "try3 = mathisfun.floor(5.6)\n",
    "print(f'{try1} - {try2} - {try3}')"
   ]
  },
  {
   "cell_type": "code",
   "execution_count": 55,
   "id": "58d3abed-2ad7-41ac-b25f-c2d4df454de1",
   "metadata": {
    "tags": []
   },
   "outputs": [
    {
     "name": "stdout",
     "output_type": "stream",
     "text": [
      "2.0 - 4\n"
     ]
    }
   ],
   "source": [
    "from statistics import pvariance, pstdev\n",
    "pstdev1 = pstdev([1, 2, 3, 4, 5, 6, 7])\n",
    "pvariance1 = pvariance([1, 2, 3, 4, 5, 6, 7])\n",
    "print(f'{pstdev1} - {pvariance1}')"
   ]
  },
  {
   "cell_type": "markdown",
   "id": "746122fd-0b59-415d-b795-d0eae409c938",
   "metadata": {},
   "source": []
  },
  {
   "cell_type": "raw",
   "id": "b2616172-c5dc-4fc4-843c-a18cd95a16c7",
   "metadata": {},
   "source": []
  },
  {
   "cell_type": "markdown",
   "id": "94c9aaa3-9cfe-4d6a-a57a-b69ce3dd9736",
   "metadata": {
    "deletable": false,
    "editable": false,
    "nbgrader": {
     "cell_type": "markdown",
     "checksum": "e83c63bcd9536bdf74e3878dd15e7c44",
     "grade": false,
     "grade_id": "cell-f95893fa698683c6",
     "locked": true,
     "schema_version": 3,
     "solution": false,
     "task": false
    },
    "tags": []
   },
   "source": [
    "#### Please place all code experimentation above this comment. ####"
   ]
  },
  {
   "cell_type": "markdown",
   "id": "778141b4",
   "metadata": {
    "deletable": false,
    "editable": false,
    "nbgrader": {
     "cell_type": "markdown",
     "checksum": "229ab4483dcd89a2d8d7bb0a26d80910",
     "grade": false,
     "grade_id": "cell-7ccb79a53f7c89b2",
     "locked": true,
     "schema_version": 3,
     "solution": false,
     "task": false
    }
   },
   "source": [
    "# Module 4 Reflection Submission"
   ]
  },
  {
   "cell_type": "markdown",
   "id": "75e6ae4b",
   "metadata": {
    "deletable": false,
    "editable": false,
    "nbgrader": {
     "cell_type": "markdown",
     "checksum": "31393ebea6837e960f92aa3c6c3f3a4f",
     "grade": false,
     "grade_id": "cell-227ea0fa9fdb6130",
     "locked": true,
     "schema_version": 3,
     "solution": false,
     "task": false
    },
    "tags": []
   },
   "source": [
    "Reflect on what you have learned below.  Write a short (4-8 sentence summary) reflecting on what you figured out through this practice session. "
   ]
  },
  {
   "cell_type": "markdown",
   "id": "e6f89290",
   "metadata": {
    "deletable": false,
    "editable": false,
    "nbgrader": {
     "cell_type": "markdown",
     "checksum": "fdb31303a2c3d7857e128fce9c757af1",
     "grade": false,
     "grade_id": "cell-574144c829d666e1",
     "locked": true,
     "schema_version": 3,
     "solution": false,
     "task": false
    },
    "tags": []
   },
   "source": [
    "#### Enter Your Reflection Under this Cell ####"
   ]
  },
  {
   "cell_type": "markdown",
   "id": "151867f3",
   "metadata": {
    "deletable": false,
    "nbgrader": {
     "cell_type": "markdown",
     "checksum": "71ddbbf3ac3bfff3a76911e0cb382e2b",
     "grade": true,
     "grade_id": "cell-498c413593a65abb",
     "locked": false,
     "points": 0,
     "schema_version": 3,
     "solution": true,
     "task": false
    },
    "tags": []
   },
   "source": [
    "YOUR ANSWER HERE"
   ]
  },
  {
   "cell_type": "code",
   "execution_count": null,
   "id": "ef871dc9-999a-40ea-93ea-021731a93e4d",
   "metadata": {},
   "outputs": [],
   "source": [
    "# I learned about the differences between variables."
   ]
  },
  {
   "cell_type": "code",
   "execution_count": null,
   "id": "decef4d8-f6b1-4d53-834a-942310b491c5",
   "metadata": {},
   "outputs": [],
   "source": [
    "# How to conect functions with programs."
   ]
  },
  {
   "cell_type": "code",
   "execution_count": null,
   "id": "466f1aad-480b-41fe-811d-1446cc386f9f",
   "metadata": {},
   "outputs": [],
   "source": [
    "# I learned to \"change\" the name of a function."
   ]
  },
  {
   "cell_type": "code",
   "execution_count": null,
   "id": "40c92adf-9421-42ff-8c30-61f0d1ed301d",
   "metadata": {},
   "outputs": [],
   "source": [
    "# I played with some existing functions."
   ]
  },
  {
   "cell_type": "markdown",
   "id": "d6d56306",
   "metadata": {
    "deletable": false,
    "editable": false,
    "nbgrader": {
     "cell_type": "markdown",
     "checksum": "a1fbf885ac8c6745e7bf96ebd28969b6",
     "grade": false,
     "grade_id": "cell-de0a0a081f87a48d",
     "locked": true,
     "schema_version": 3,
     "solution": false,
     "task": false
    },
    "tags": []
   },
   "source": [
    "#### Enter Your Reflection Above this Cell ####"
   ]
  }
 ],
 "metadata": {
  "kernelspec": {
   "display_name": "Python 3 (ipykernel)",
   "language": "python",
   "name": "python3"
  },
  "language_info": {
   "codemirror_mode": {
    "name": "ipython",
    "version": 3
   },
   "file_extension": ".py",
   "mimetype": "text/x-python",
   "name": "python",
   "nbconvert_exporter": "python",
   "pygments_lexer": "ipython3",
   "version": "3.11.4"
  }
 },
 "nbformat": 4,
 "nbformat_minor": 5
}
