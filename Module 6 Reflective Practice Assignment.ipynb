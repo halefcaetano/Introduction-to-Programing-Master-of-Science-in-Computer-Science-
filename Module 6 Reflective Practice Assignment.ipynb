{
 "cells": [
  {
   "cell_type": "markdown",
   "id": "9923e9c4",
   "metadata": {
    "deletable": false,
    "editable": false,
    "nbgrader": {
     "cell_type": "markdown",
     "checksum": "84b2d216f8d863961361c79caed3c06d",
     "grade": false,
     "grade_id": "cell-af9cc8d837aebce9",
     "locked": true,
     "schema_version": 3,
     "solution": false,
     "task": false
    },
    "tags": []
   },
   "source": [
    "# Module 6 Reflective Practice Assignment "
   ]
  },
  {
   "cell_type": "markdown",
   "id": "64845279",
   "metadata": {
    "deletable": false,
    "editable": false,
    "nbgrader": {
     "cell_type": "markdown",
     "checksum": "98396dd417b3ab2808991f631ce3110a",
     "grade": false,
     "grade_id": "cell-ff5eef82ae0a7de3",
     "locked": true,
     "schema_version": 3,
     "solution": false,
     "task": false
    },
    "tags": []
   },
   "source": [
    "Spend between 20 and 30 minutes just experimenting with the python concepts that we have learned this week.  Get creative!  Try new things! \n",
    "Fail and try again!  Suggested practice items:\n",
    "\n",
    "- Create a tuple and a list that are the same, then use len(), slice, .sort()/sorted(), in/not in, .append(), and so on with them (which actions are not allowed on tuples and lists?)  \n",
    "- Use a for loop to prompt the user to enter 10 names and keep adding them to a list.  Then, sort the list and print it out.  \n",
    "- Use a for loop to generate a list of 100 random numbers between 0 and 6 (inclusive).  Then, use .count() to see how many of each possible answer you generated.\n",
    "\n",
    "Once you're done, save this Jupyter Notebook - you will submit it as part of this assignment. It is perfectly acceptable to describe trying to get something to work, and then failing to get it functioning as desired in the 20-30 min time block.  This does not mean you'll get a bad grade for this assignment -- failing is a necessary part of learning, though none of us particularly enjoy it.  Sometimes what you'll try to accomplish is just too big of a task for a Reflective Practice session, and that is ok -- you will still have learned from the experience."
   ]
  },
  {
   "cell_type": "markdown",
   "id": "d4d46bc2",
   "metadata": {
    "deletable": false,
    "editable": false,
    "nbgrader": {
     "cell_type": "markdown",
     "checksum": "57f1897b1bab0711d9df0267ffd90ee9",
     "grade": false,
     "grade_id": "cell-acf62cab23157c1e",
     "locked": true,
     "schema_version": 3,
     "solution": false,
     "task": false
    },
    "tags": []
   },
   "source": [
    "## You can experiment with your code in the notebook cells below."
   ]
  },
  {
   "cell_type": "code",
   "execution_count": 8,
   "id": "df57ecf8-0cc2-42ab-a548-0d59064158af",
   "metadata": {
    "tags": []
   },
   "outputs": [],
   "source": [
    "my_tuple = (8, 9, 10)\n",
    "my_list = [10, 9, 8]\n",
    "len_tuple = len(my_tuple)\n",
    "len_list = len(my_list)"
   ]
  },
  {
   "cell_type": "code",
   "execution_count": 9,
   "id": "30fbdc72-92d2-4bad-ba56-9d0148183195",
   "metadata": {
    "tags": []
   },
   "outputs": [
    {
     "name": "stdout",
     "output_type": "stream",
     "text": [
      "3 3\n"
     ]
    }
   ],
   "source": [
    "print(len_list, len_tuple)"
   ]
  },
  {
   "cell_type": "code",
   "execution_count": 9,
   "id": "eae3e2a2-9c1c-4877-8415-20c8d3e7d7d6",
   "metadata": {
    "tags": []
   },
   "outputs": [
    {
     "name": "stdout",
     "output_type": "stream",
     "text": [
      "[8, 9, 10]\n"
     ]
    }
   ],
   "source": [
    "my_list.sort()\n",
    "print(my_list)"
   ]
  },
  {
   "cell_type": "code",
   "execution_count": 11,
   "id": "8ef5b348-3417-4e13-9262-a3bccd564be1",
   "metadata": {
    "tags": []
   },
   "outputs": [
    {
     "name": "stdout",
     "output_type": "stream",
     "text": [
      "[8, 9, 10, 20]\n"
     ]
    }
   ],
   "source": [
    "my_list.append(20) \n",
    "print(my_list)"
   ]
  },
  {
   "cell_type": "code",
   "execution_count": 13,
   "id": "3a98fb57-4a64-4829-a470-086e2b3ed990",
   "metadata": {
    "tags": []
   },
   "outputs": [
    {
     "name": "stdout",
     "output_type": "stream",
     "text": [
      "[8, 9, 10, 20, 30]\n"
     ]
    }
   ],
   "source": [
    "if 30 not in my_list:\n",
    "    my_list.append(30)\n",
    "    print(my_list)"
   ]
  },
  {
   "cell_type": "code",
   "execution_count": 36,
   "id": "8f68ecce-0da7-4f97-abc0-2d21deb9f072",
   "metadata": {
    "tags": []
   },
   "outputs": [
    {
     "name": "stdout",
     "output_type": "stream",
     "text": [
      "There is no 5 in the list\n"
     ]
    }
   ],
   "source": [
    "m_list = [1, 2, 3, 4]\n",
    "if 5 in m_list:\n",
    "    print('There is 5 in the list.')\n",
    "else:\n",
    "    print('There is no 5 in the list.')"
   ]
  },
  {
   "cell_type": "code",
   "execution_count": 14,
   "id": "0e14950e-f47f-4464-a6fd-d594dc0f8654",
   "metadata": {
    "tags": []
   },
   "outputs": [
    {
     "name": "stdin",
     "output_type": "stream",
     "text": [
      "Write a name:  halef\n",
      "Write a name:  caetano\n",
      "Write a name:  halef\n",
      "Write a name:  halef\n",
      "Write a name:  halef\n",
      "Write a name:  renata\n",
      "Write a name:  ser\n",
      "Write a name:  se\n",
      "Write a name:  se\n",
      "Write a name:  ne\n"
     ]
    },
    {
     "name": "stdout",
     "output_type": "stream",
     "text": [
      "['halef', 'caetano', 'halef', 'halef', 'halef', 'renata', 'ser', 'se', 'se', 'ne']\n"
     ]
    }
   ],
   "source": [
    "list_user = []\n",
    "for i in range(10):\n",
    "    list_user.append(input('Write a name: '))\n",
    "print(list_user)"
   ]
  },
  {
   "cell_type": "code",
   "execution_count": 35,
   "id": "87345b0b-139d-4001-b43e-4d7a1efbf947",
   "metadata": {
    "tags": []
   },
   "outputs": [
    {
     "name": "stdout",
     "output_type": "stream",
     "text": [
      "It was generated the number 0 - 16 times\n",
      "It was generated the number 1 - 13 times\n",
      "It was generated the number 2 - 14 times\n",
      "It was generated the number 3 - 19 times\n",
      "It was generated the number 4 - 10 times\n",
      "It was generated the number 5 - 14 times\n",
      "It was generated the number 6 - 14 times\n"
     ]
    }
   ],
   "source": [
    "import random\n",
    "list_numbers = []\n",
    "for i in range(100):\n",
    "    i = random.randrange(0, 7)\n",
    "    list_numbers.append(i)\n",
    "for j in range(0, 7):\n",
    "    count = list_numbers.count(j)\n",
    "    print(f'It was generated the number {j} - {count} times')"
   ]
  },
  {
   "cell_type": "markdown",
   "id": "94c9aaa3-9cfe-4d6a-a57a-b69ce3dd9736",
   "metadata": {
    "deletable": false,
    "editable": false,
    "nbgrader": {
     "cell_type": "markdown",
     "checksum": "e83c63bcd9536bdf74e3878dd15e7c44",
     "grade": false,
     "grade_id": "cell-f95893fa698683c6",
     "locked": true,
     "schema_version": 3,
     "solution": false,
     "task": false
    },
    "tags": []
   },
   "source": [
    "#### Please place all code experimentation above this comment. ####"
   ]
  },
  {
   "cell_type": "markdown",
   "id": "778141b4",
   "metadata": {
    "deletable": false,
    "editable": false,
    "nbgrader": {
     "cell_type": "markdown",
     "checksum": "d978cd922e522be355476319a4ac284d",
     "grade": false,
     "grade_id": "cell-7ccb79a53f7c89b2",
     "locked": true,
     "schema_version": 3,
     "solution": false,
     "task": false
    }
   },
   "source": [
    "# Module 6 Reflection Submission"
   ]
  },
  {
   "cell_type": "markdown",
   "id": "75e6ae4b",
   "metadata": {
    "deletable": false,
    "editable": false,
    "nbgrader": {
     "cell_type": "markdown",
     "checksum": "31393ebea6837e960f92aa3c6c3f3a4f",
     "grade": false,
     "grade_id": "cell-227ea0fa9fdb6130",
     "locked": true,
     "schema_version": 3,
     "solution": false,
     "task": false
    },
    "tags": []
   },
   "source": [
    "Reflect on what you have learned below.  Write a short (4-8 sentence summary) reflecting on what you figured out through this practice session. "
   ]
  },
  {
   "cell_type": "markdown",
   "id": "e6f89290",
   "metadata": {
    "deletable": false,
    "editable": false,
    "nbgrader": {
     "cell_type": "markdown",
     "checksum": "fdb31303a2c3d7857e128fce9c757af1",
     "grade": false,
     "grade_id": "cell-574144c829d666e1",
     "locked": true,
     "schema_version": 3,
     "solution": false,
     "task": false
    },
    "tags": []
   },
   "source": [
    "#### Enter Your Reflection Under this Cell ####"
   ]
  },
  {
   "cell_type": "markdown",
   "id": "151867f3",
   "metadata": {
    "deletable": false,
    "nbgrader": {
     "cell_type": "markdown",
     "checksum": "71ddbbf3ac3bfff3a76911e0cb382e2b",
     "grade": true,
     "grade_id": "cell-498c413593a65abb",
     "locked": false,
     "points": 0,
     "schema_version": 3,
     "solution": true,
     "task": false
    },
    "tags": []
   },
   "source": [
    "YOUR ANSWER HERE"
   ]
  },
  {
   "cell_type": "code",
   "execution_count": null,
   "id": "e0e0b156-a88b-4355-a596-4266763b02a2",
   "metadata": {},
   "outputs": [],
   "source": [
    "# Tuples are immutable."
   ]
  },
  {
   "cell_type": "code",
   "execution_count": null,
   "id": "60653339-0672-456a-86bb-5e7cee63d2c6",
   "metadata": {},
   "outputs": [],
   "source": [
    "# Len is used to find the size of the tuple/list"
   ]
  },
  {
   "cell_type": "code",
   "execution_count": null,
   "id": "2ef97eff-140d-4eb7-891f-b2b51540337b",
   "metadata": {},
   "outputs": [],
   "source": [
    "# We learned some methods that we can change the list"
   ]
  },
  {
   "cell_type": "code",
   "execution_count": null,
   "id": "6edf70ed-bc92-40d6-8943-4b0ca87b0ef2",
   "metadata": {},
   "outputs": [],
   "source": [
    "# In a list, you can store objects of any type."
   ]
  },
  {
   "cell_type": "markdown",
   "id": "d6d56306",
   "metadata": {
    "deletable": false,
    "editable": false,
    "nbgrader": {
     "cell_type": "markdown",
     "checksum": "a1fbf885ac8c6745e7bf96ebd28969b6",
     "grade": false,
     "grade_id": "cell-de0a0a081f87a48d",
     "locked": true,
     "schema_version": 3,
     "solution": false,
     "task": false
    },
    "tags": []
   },
   "source": [
    "#### Enter Your Reflection Above this Cell ####"
   ]
  }
 ],
 "metadata": {
  "kernelspec": {
   "display_name": "Python 3 (ipykernel)",
   "language": "python",
   "name": "python3"
  },
  "language_info": {
   "codemirror_mode": {
    "name": "ipython",
    "version": 3
   },
   "file_extension": ".py",
   "mimetype": "text/x-python",
   "name": "python",
   "nbconvert_exporter": "python",
   "pygments_lexer": "ipython3",
   "version": "3.11.4"
  }
 },
 "nbformat": 4,
 "nbformat_minor": 5
}
