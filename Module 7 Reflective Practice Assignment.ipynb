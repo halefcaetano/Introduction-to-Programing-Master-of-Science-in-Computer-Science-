{
 "cells": [
  {
   "cell_type": "markdown",
   "id": "650dab67",
   "metadata": {
    "tags": []
   },
   "source": [
    "# Module 7 Reflective Practice Assignment"
   ]
  },
  {
   "cell_type": "markdown",
   "id": "41ad7fbb",
   "metadata": {},
   "source": [
    "Spend between 20 and 30 minutes just experimenting with the python concepts that we have learned this week.  Get creative!  Try new things!  Fail and try again!  Suggested practice items: \n",
    "\n",
    "- Write some code using a list, for loop, and list comprehension:  first, use a for loop to prompt the user to enter a number, and add it to a list.  Once the list is full, use a list comprehension to create a new list where each item is half of what it used to be.  I.e. transform [4, 5, 6} to [2, 2.5, 3] \n",
    "\n",
    "- Create a dictionary that contains the names of several of your friend’s names as the keys, and the values can be the city that they live in.  Print the dictionary, then print the keys sorted alphabetically, then print the cities, also sorted alphabetically. \n",
    "\n",
    "- You will see that a file named favorite_foods.txt is found in this directory.  Use python to open the file, read each line, and print the food in ALL CAPS. \n",
    "\n",
    "Save this Jupyter Notebook, since you will submit it as part of this assignment. It is perfectly acceptable to describe trying to get something to work, and then failing to get it functioning as desired in the 20-30 min time block. This does not mean you'll get a bad grade for this assignment -- failing is a necessary part of learning, though none of us particularly enjoy it.  Sometimes what you'll try to accomplish is just too big of a task for a Reflective Practice session, and that is ok -- you will still have learned from the experience. "
   ]
  },
  {
   "cell_type": "markdown",
   "id": "74f546bf",
   "metadata": {
    "deletable": false,
    "editable": false,
    "nbgrader": {
     "cell_type": "markdown",
     "checksum": "60de21969ffb7a16842801ad4fbdc84d",
     "grade": false,
     "grade_id": "cell-ea9dc44fb1726c14",
     "locked": true,
     "schema_version": 3,
     "solution": false,
     "task": false
    },
    "tags": []
   },
   "source": [
    "### You can experiment with your code locally or in the notebook cells below."
   ]
  },
  {
   "cell_type": "code",
   "execution_count": 10,
   "id": "e1b312dc-54c1-4844-9220-6f6faf3306b5",
   "metadata": {
    "tags": []
   },
   "outputs": [
    {
     "name": "stdin",
     "output_type": "stream",
     "text": [
      "Enter a number:  4\n",
      "Enter a number:  4\n",
      "Enter a number:  4\n",
      "Enter a number:  4\n",
      "Enter a number:  4\n",
      "Enter a number:  4\n",
      "Enter a number:  4\n",
      "Enter a number:  4\n"
     ]
    },
    {
     "name": "stdout",
     "output_type": "stream",
     "text": [
      "[2.0, 2.0, 2.0, 2.0, 2.0, 2.0, 2.0, 2.0]\n"
     ]
    }
   ],
   "source": [
    "my_list = []\n",
    "for i in range(8):\n",
    "    my_list.append(int(input('Enter a number: ')))\n",
    "    second_list = [(each / 2) for each in my_list]\n",
    "print(second_list)"
   ]
  },
  {
   "cell_type": "code",
   "execution_count": 13,
   "id": "83397ece",
   "metadata": {
    "tags": []
   },
   "outputs": [
    {
     "name": "stdout",
     "output_type": "stream",
     "text": [
      "{'Renata': 'Burlingame', 'Izabella': 'Foster City', 'Rafael': 'Daily City', 'Roberto': 'Hercules', 'Ido': 'San Francisco'}\n",
      "['Ido', 'Izabella', 'Rafael', 'Renata', 'Roberto']\n",
      "['Burlingame', 'Daily City', 'Foster City', 'Hercules', 'San Francisco']\n"
     ]
    }
   ],
   "source": [
    "my_dic = {'Renata': 'Burlingame', 'Izabella': 'Foster City', 'Rafael': 'Foster City', 'Rafael': 'Daily City', 'Roberto': 'Hercules', 'Ido': 'San Francisco'}\n",
    "print(my_dic)\n",
    "print(sorted(my_dic.keys()))\n",
    "print(sorted(my_dic.values()))"
   ]
  },
  {
   "cell_type": "code",
   "execution_count": 14,
   "id": "671efb5c",
   "metadata": {
    "tags": []
   },
   "outputs": [
    {
     "name": "stdout",
     "output_type": "stream",
     "text": [
      "MASSAMAN CURRY \n",
      "\n",
      "NEAPOLITAN PIZZA \n",
      "\n",
      "CHOCOLATE \n",
      "\n",
      "SUSHI \n",
      "\n",
      "PEKING DUCK \n",
      "\n",
      "HAMBURGER \n",
      "\n",
      "PENANG ASSAM LAKSA \n",
      "\n",
      "TOM YUM GOONG \n",
      "\n",
      "ICE CREAM \n",
      "\n",
      "CHICKEN MUAMBA \n",
      "\n",
      "CORN ON THE COB \n",
      "\n",
      "DONUTS \n",
      "\n",
      "PASTEL DE NATA \n"
     ]
    }
   ],
   "source": [
    "with open('favorite_foods.txt', 'r') as file:\n",
    "    for eachline in file:\n",
    "        print(eachline.upper())"
   ]
  },
  {
   "cell_type": "markdown",
   "id": "3c0224a2-829c-4dc6-871c-a25ce8c45d6d",
   "metadata": {
    "deletable": false,
    "editable": false,
    "nbgrader": {
     "cell_type": "markdown",
     "checksum": "ebcbcb321c1d431b6355df6dc293d48c",
     "grade": false,
     "grade_id": "cell-6ab7b33550afca91",
     "locked": true,
     "schema_version": 3,
     "solution": false,
     "task": false
    },
    "tags": []
   },
   "source": [
    "#### Please place all code experimentation above this comment. ####"
   ]
  },
  {
   "cell_type": "markdown",
   "id": "f8ae9eda",
   "metadata": {
    "deletable": false,
    "editable": false,
    "nbgrader": {
     "cell_type": "markdown",
     "checksum": "51305c9e9c23e4c1a238f4ece838bd6f",
     "grade": false,
     "grade_id": "cell-7ccb79a53f7c89b2",
     "locked": true,
     "schema_version": 3,
     "solution": false,
     "task": false
    }
   },
   "source": [
    "# Module 7 Reflection Submission"
   ]
  },
  {
   "cell_type": "markdown",
   "id": "de17dff5",
   "metadata": {
    "deletable": false,
    "editable": false,
    "nbgrader": {
     "cell_type": "markdown",
     "checksum": "31393ebea6837e960f92aa3c6c3f3a4f",
     "grade": false,
     "grade_id": "cell-227ea0fa9fdb6130",
     "locked": true,
     "schema_version": 3,
     "solution": false,
     "task": false
    },
    "tags": []
   },
   "source": [
    "Reflect on what you have learned below.  Write a short (4-8 sentence summary) reflecting on what you figured out through this practice session. "
   ]
  },
  {
   "cell_type": "markdown",
   "id": "90201994",
   "metadata": {
    "deletable": false,
    "editable": false,
    "nbgrader": {
     "cell_type": "markdown",
     "checksum": "fdb31303a2c3d7857e128fce9c757af1",
     "grade": false,
     "grade_id": "cell-574144c829d666e1",
     "locked": true,
     "schema_version": 3,
     "solution": false,
     "task": false
    },
    "tags": []
   },
   "source": [
    "#### Enter Your Reflection Under this Cell ####"
   ]
  },
  {
   "cell_type": "markdown",
   "id": "6a897653",
   "metadata": {
    "deletable": false,
    "nbgrader": {
     "cell_type": "markdown",
     "checksum": "71ddbbf3ac3bfff3a76911e0cb382e2b",
     "grade": true,
     "grade_id": "cell-498c413593a65abb",
     "locked": false,
     "points": 0,
     "schema_version": 3,
     "solution": true,
     "task": false
    },
    "tags": []
   },
   "source": [
    "YOUR ANSWER HERE"
   ]
  },
  {
   "cell_type": "code",
   "execution_count": null,
   "id": "5886eecd-9c10-4cb6-a26e-140d8239b26b",
   "metadata": {},
   "outputs": [],
   "source": [
    "# Now we learned how to extract from files"
   ]
  },
  {
   "cell_type": "code",
   "execution_count": null,
   "id": "f592dcdc-9882-47ad-8ebc-fd2c3c69da3e",
   "metadata": {},
   "outputs": [],
   "source": [
    "# Dictionary is really good to store and give names to our data"
   ]
  },
  {
   "cell_type": "code",
   "execution_count": null,
   "id": "7b36f7c8-8104-4e51-a44e-9d84b61bcd69",
   "metadata": {},
   "outputs": [],
   "source": [
    "# List comprehension is more complicated to learn but after you understand you will use less lines of code"
   ]
  },
  {
   "cell_type": "code",
   "execution_count": null,
   "id": "7f86eb7a-d752-4faa-a689-dcf6fdb83df2",
   "metadata": {},
   "outputs": [],
   "source": [
    "# I'm having some trouble with dictionary but I'll keep practicing "
   ]
  },
  {
   "cell_type": "markdown",
   "id": "f97d7204",
   "metadata": {
    "deletable": false,
    "editable": false,
    "nbgrader": {
     "cell_type": "markdown",
     "checksum": "a1fbf885ac8c6745e7bf96ebd28969b6",
     "grade": false,
     "grade_id": "cell-de0a0a081f87a48d",
     "locked": true,
     "schema_version": 3,
     "solution": false,
     "task": false
    },
    "tags": []
   },
   "source": [
    "#### Enter Your Reflection Above this Cell ####"
   ]
  },
  {
   "cell_type": "markdown",
   "id": "a1959248-4f78-439d-bdb0-9b543e2ddd91",
   "metadata": {},
   "source": [
    "# Submitting Your Work"
   ]
  },
  {
   "cell_type": "markdown",
   "id": "838125a5-f7e1-496f-9747-dcc73d9a64cd",
   "metadata": {},
   "source": [
    "This week, you'll have your Reflection Activity graded by your Peers in the following Peer Review item.  \n",
    "- When you've completed your reflection this week, save this lab. \n",
    "- Then return to the assignment page and follow the steps under \"Submitting Your Work for Peer Peview\" to complete this assignment in full."
   ]
  }
 ],
 "metadata": {
  "kernelspec": {
   "display_name": "Python 3 (ipykernel)",
   "language": "python",
   "name": "python3"
  },
  "language_info": {
   "codemirror_mode": {
    "name": "ipython",
    "version": 3
   },
   "file_extension": ".py",
   "mimetype": "text/x-python",
   "name": "python",
   "nbconvert_exporter": "python",
   "pygments_lexer": "ipython3",
   "version": "3.11.4"
  }
 },
 "nbformat": 4,
 "nbformat_minor": 5
}
