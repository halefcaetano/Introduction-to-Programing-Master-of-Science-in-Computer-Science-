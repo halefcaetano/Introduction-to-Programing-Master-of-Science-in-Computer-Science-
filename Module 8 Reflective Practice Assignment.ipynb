{
 "cells": [
  {
   "cell_type": "markdown",
   "id": "9923e9c4",
   "metadata": {
    "deletable": false,
    "editable": false,
    "nbgrader": {
     "cell_type": "markdown",
     "checksum": "059ff0db12ff17414f58f58770b688e0",
     "grade": false,
     "grade_id": "cell-af9cc8d837aebce9",
     "locked": true,
     "schema_version": 3,
     "solution": false,
     "task": false
    },
    "tags": []
   },
   "source": [
    "# Module 8 Reflective Practice Assignment "
   ]
  },
  {
   "cell_type": "markdown",
   "id": "64845279",
   "metadata": {
    "deletable": false,
    "editable": false,
    "nbgrader": {
     "cell_type": "markdown",
     "checksum": "1a71c5d94b2b67971f1aac399253f221",
     "grade": false,
     "grade_id": "cell-ff5eef82ae0a7de3",
     "locked": true,
     "schema_version": 3,
     "solution": false,
     "task": false
    },
    "tags": []
   },
   "source": [
    "Spend between 20 and 30 minutes just experimenting with the python concepts that we have learned this week.  Get creative!  Try new things! \n",
    "Fail and try again!  Suggested practice items:\n",
    "\n",
    "- Practice exception handling along these lines:  prompt the user to enter a number.  If the number they entered is odd, just print \"whew!\".  If the number is even, do some math that results in a divide by zero exception.  Allow your program to first crash...and then fix it with a try/except statement and catch that error, and just print a message like \"you entered an even number, and I caught a divide by zero error\". \n",
    "\n",
    "- Read the provided `languages-spoken-2018-census-new_zealand.csv` into a Pandas dataframe, and print it out.  Use the .describe() function to quickly see the mean, min, max, and so on, for the numeric columns. \n",
    "\n",
    "- For a fun challenge, locate some data on Kaggle (https://www.kaggle.com/datasets ) that you can download as a csv, upload to the Jupyter Lab environment, then read it into a Pandas dataframe and print it out.  Warning:  Kaggle is a bottomless pit of interesting information, so don't spend all your time browsing! \n",
    "\n",
    "Once you're done, save this Jupyter Notebook - you will submit it as part of this assignment. It is perfectly acceptable to describe trying to get something to work, and then failing to get it functioning as desired in the 20-30 min time block.  This does not mean you'll get a bad grade for this assignment -- failing is a necessary part of learning, though none of us particularly enjoy it.  Sometimes what you'll try to accomplish is just too big of a task for a Reflective Practice session, and that is ok -- you will still have learned from the experience."
   ]
  },
  {
   "cell_type": "markdown",
   "id": "d4d46bc2",
   "metadata": {
    "deletable": false,
    "editable": false,
    "nbgrader": {
     "cell_type": "markdown",
     "checksum": "57f1897b1bab0711d9df0267ffd90ee9",
     "grade": false,
     "grade_id": "cell-acf62cab23157c1e",
     "locked": true,
     "schema_version": 3,
     "solution": false,
     "task": false
    },
    "tags": []
   },
   "source": [
    "## You can experiment with your code in the notebook cells below."
   ]
  },
  {
   "cell_type": "code",
   "execution_count": 1,
   "id": "eae3e2a2-9c1c-4877-8415-20c8d3e7d7d6",
   "metadata": {
    "tags": []
   },
   "outputs": [
    {
     "name": "stdin",
     "output_type": "stream",
     "text": [
      "Enter a number:  4\n"
     ]
    },
    {
     "name": "stdout",
     "output_type": "stream",
     "text": [
      "you entered an even number, and I caught a divide by zero error\n"
     ]
    },
    {
     "name": "stdin",
     "output_type": "stream",
     "text": [
      "Enter a number:  6\n"
     ]
    },
    {
     "name": "stdout",
     "output_type": "stream",
     "text": [
      "you entered an even number, and I caught a divide by zero error\n"
     ]
    },
    {
     "name": "stdin",
     "output_type": "stream",
     "text": [
      "Enter a number:  3\n"
     ]
    },
    {
     "name": "stdout",
     "output_type": "stream",
     "text": [
      "whew!\n"
     ]
    }
   ],
   "source": [
    "while True:\n",
    "    number = int(input('Enter a number: '))\n",
    "    try:\n",
    "        if (number % 2) != 0:\n",
    "            print('whew!')\n",
    "            break\n",
    "        else:\n",
    "            result = number / 0\n",
    "            print(result)\n",
    "    except ZeroDivisionError:\n",
    "        print(\"you entered an even number, and I caught a divide by zero error\")"
   ]
  },
  {
   "cell_type": "code",
   "execution_count": 5,
   "id": "30fbdc72-92d2-4bad-ba56-9d0148183195",
   "metadata": {
    "tags": []
   },
   "outputs": [
    {
     "name": "stdout",
     "output_type": "stream",
     "text": [
      "               Code  Census_usually_resident_population_count\n",
      "count    196.000000                              1.960000e+02\n",
      "mean   14480.607143                              2.976634e+04\n",
      "std    12780.668295                              3.203200e+05\n",
      "min     1100.000000                              0.000000e+00\n",
      "25%     7115.750000                              4.200000e+01\n",
      "50%    14154.500000                              3.360000e+02\n",
      "75%    18302.500000                              2.569500e+03\n",
      "max    99999.000000                              4.482135e+06\n"
     ]
    }
   ],
   "source": [
    "import pandas as pd\n",
    "df = pd.read_csv('languages-spoken-2018-census-new_zealand.csv')\n",
    "df2 = df.describe()\n",
    "print(df2)"
   ]
  },
  {
   "cell_type": "code",
   "execution_count": 5,
   "id": "df57ecf8-0cc2-42ab-a548-0d59064158af",
   "metadata": {
    "tags": []
   },
   "outputs": [
    {
     "name": "stdout",
     "output_type": "stream",
     "text": [
      "     Unnamed: 0                name                  full_name  age  height  \\\n",
      "0             0        Manuel Neuer         Manuel Peter Neuer   37    1.93   \n",
      "1             1         Yann Sommer                        NaN   34    1.83   \n",
      "2             2        Sven Ulreich                        NaN   34    1.92   \n",
      "3             3     Johannes Schenk                        NaN   20    1.91   \n",
      "4             4    Matthijs de Ligt                        NaN   23    1.89   \n",
      "..          ...                 ...                        ...  ...     ...   \n",
      "510         510        Takuma Asano                      浅野 拓磨   28    1.73   \n",
      "511         511     Philipp Hofmann                        NaN   30    1.95   \n",
      "512         512        Simon Zoller        Simon Martin Zoller   31    1.79   \n",
      "513         513    Silvère Ganvoula  Silvère Ganvoula M'boussy   26    1.91   \n",
      "514         514  Moritz Broschinski                        NaN   22    1.90   \n",
      "\n",
      "     nationality   place_of_birth  price  max_price                 position  \\\n",
      "0        Germany    Gelsenkirchen   7.00       45.0               Goalkeeper   \n",
      "1    Switzerland           Morges   5.00       13.0               Goalkeeper   \n",
      "2        Germany       Schorndorf   0.90        6.0               Goalkeeper   \n",
      "3        Germany      Schweinfurt   0.30        0.3               Goalkeeper   \n",
      "4    Netherlands       Leiderdorp  75.00       75.0   Defender - Centre-Back   \n",
      "..           ...              ...    ...        ...                      ...   \n",
      "510        Japan      Komono, Mie   4.00        4.0    Attack - Right Winger   \n",
      "511      Germany         Arnsberg   2.50        2.5  Attack - Centre-Forward   \n",
      "512      Germany  Friedrichshafen   1.10        3.0  Attack - Centre-Forward   \n",
      "513        Congo      Brazzaville   0.75        2.5  Attack - Centre-Forward   \n",
      "514      Germany     Finsterwalde   0.50        0.5  Attack - Centre-Forward   \n",
      "\n",
      "     shirt_nr   foot           club contract_expires joined_club  \\\n",
      "0           1  right  Bayern Munich       2024-06-30  2011-07-01   \n",
      "1          27  right  Bayern Munich       2025-06-30  2023-01-19   \n",
      "2          26  right  Bayern Munich       2024-06-30  2021-07-01   \n",
      "3          35    NaN  Bayern Munich       2024-06-30  2022-07-01   \n",
      "4           4  right  Bayern Munich       2027-06-30  2022-07-19   \n",
      "..        ...    ...            ...              ...         ...   \n",
      "510        11  right     VfL Bochum       2024-06-30  2021-07-01   \n",
      "511        33   left     VfL Bochum       2024-06-30  2022-07-01   \n",
      "512         9  right     VfL Bochum       2024-06-30  2019-01-01   \n",
      "513        35  right     VfL Bochum       2023-06-30  2019-07-05   \n",
      "514        29  right     VfL Bochum       2026-06-30  2023-01-22   \n",
      "\n",
      "                player_agent outfitter  \n",
      "0            PRO Profil GmbH    adidas  \n",
      "1                  Relatives      Puma  \n",
      "2    BMS Sportconsulting ...    adidas  \n",
      "3                     11WINS       NaN  \n",
      "4            Rafaela Pimenta    adidas  \n",
      "..                       ...       ...  \n",
      "510    JEB ENTERTAINMENT ...    adidas  \n",
      "511                     ROOF       NaN  \n",
      "512                  GoalSky      Puma  \n",
      "513      BY Sport Consulting      Puma  \n",
      "514            Teamgeist ...       NaN  \n",
      "\n",
      "[515 rows x 17 columns]\n"
     ]
    }
   ],
   "source": [
    "import pandas as pd\n",
    "df = pd.read_csv('bundesliga_player.csv')\n",
    "print(df)"
   ]
  },
  {
   "cell_type": "markdown",
   "id": "746122fd-0b59-415d-b795-d0eae409c938",
   "metadata": {},
   "source": []
  },
  {
   "cell_type": "raw",
   "id": "b2616172-c5dc-4fc4-843c-a18cd95a16c7",
   "metadata": {},
   "source": []
  },
  {
   "cell_type": "markdown",
   "id": "94c9aaa3-9cfe-4d6a-a57a-b69ce3dd9736",
   "metadata": {
    "deletable": false,
    "editable": false,
    "nbgrader": {
     "cell_type": "markdown",
     "checksum": "e83c63bcd9536bdf74e3878dd15e7c44",
     "grade": false,
     "grade_id": "cell-f95893fa698683c6",
     "locked": true,
     "schema_version": 3,
     "solution": false,
     "task": false
    },
    "tags": []
   },
   "source": [
    "#### Please place all code experimentation above this comment. ####"
   ]
  },
  {
   "cell_type": "markdown",
   "id": "778141b4",
   "metadata": {
    "deletable": false,
    "editable": false,
    "nbgrader": {
     "cell_type": "markdown",
     "checksum": "946cbfaf6f666e5e3a512746f8de7c68",
     "grade": false,
     "grade_id": "cell-7ccb79a53f7c89b2",
     "locked": true,
     "schema_version": 3,
     "solution": false,
     "task": false
    }
   },
   "source": [
    "# Module 8 Reflection Submission"
   ]
  },
  {
   "cell_type": "markdown",
   "id": "75e6ae4b",
   "metadata": {
    "deletable": false,
    "editable": false,
    "nbgrader": {
     "cell_type": "markdown",
     "checksum": "31393ebea6837e960f92aa3c6c3f3a4f",
     "grade": false,
     "grade_id": "cell-227ea0fa9fdb6130",
     "locked": true,
     "schema_version": 3,
     "solution": false,
     "task": false
    },
    "tags": []
   },
   "source": [
    "Reflect on what you have learned below.  Write a short (4-8 sentence summary) reflecting on what you figured out through this practice session. "
   ]
  },
  {
   "cell_type": "markdown",
   "id": "e6f89290",
   "metadata": {
    "deletable": false,
    "editable": false,
    "nbgrader": {
     "cell_type": "markdown",
     "checksum": "fdb31303a2c3d7857e128fce9c757af1",
     "grade": false,
     "grade_id": "cell-574144c829d666e1",
     "locked": true,
     "schema_version": 3,
     "solution": false,
     "task": false
    },
    "tags": []
   },
   "source": [
    "#### Enter Your Reflection Under this Cell ####"
   ]
  },
  {
   "cell_type": "markdown",
   "id": "151867f3",
   "metadata": {
    "deletable": false,
    "nbgrader": {
     "cell_type": "markdown",
     "checksum": "71ddbbf3ac3bfff3a76911e0cb382e2b",
     "grade": true,
     "grade_id": "cell-498c413593a65abb",
     "locked": false,
     "points": 0,
     "schema_version": 3,
     "solution": true,
     "task": false
    },
    "tags": []
   },
   "source": [
    "YOUR ANSWER HERE"
   ]
  },
  {
   "cell_type": "code",
   "execution_count": null,
   "id": "5121abc7-fb4c-4dda-b03c-70f692e15322",
   "metadata": {},
   "outputs": [],
   "source": [
    "# This practice session helped to understand more how to read csv files."
   ]
  },
  {
   "cell_type": "code",
   "execution_count": null,
   "id": "7b9665a7-91c9-438d-a4e0-7e478e579bec",
   "metadata": {},
   "outputs": [],
   "source": [
    "# I heard about Kaggle before but it's my first time using it. There is a lot of good data to see and study from. "
   ]
  },
  {
   "cell_type": "code",
   "execution_count": null,
   "id": "d36845f6-6548-4928-8033-521bc17c8cce",
   "metadata": {},
   "outputs": [],
   "source": [
    "# The try/ except statment is good so the program won't crash with the user."
   ]
  },
  {
   "cell_type": "code",
   "execution_count": null,
   "id": "8714214b-49aa-4d89-8b37-b6a6d6a2815e",
   "metadata": {},
   "outputs": [],
   "source": [
    "# To figure out which error the program will crash, we need first to let it crash, so we can fix it."
   ]
  },
  {
   "cell_type": "markdown",
   "id": "d6d56306",
   "metadata": {
    "deletable": false,
    "editable": false,
    "nbgrader": {
     "cell_type": "markdown",
     "checksum": "a1fbf885ac8c6745e7bf96ebd28969b6",
     "grade": false,
     "grade_id": "cell-de0a0a081f87a48d",
     "locked": true,
     "schema_version": 3,
     "solution": false,
     "task": false
    },
    "tags": []
   },
   "source": [
    "#### Enter Your Reflection Above this Cell ####"
   ]
  }
 ],
 "metadata": {
  "kernelspec": {
   "display_name": "Python 3 (ipykernel)",
   "language": "python",
   "name": "python3"
  },
  "language_info": {
   "codemirror_mode": {
    "name": "ipython",
    "version": 3
   },
   "file_extension": ".py",
   "mimetype": "text/x-python",
   "name": "python",
   "nbconvert_exporter": "python",
   "pygments_lexer": "ipython3",
   "version": "3.11.4"
  }
 },
 "nbformat": 4,
 "nbformat_minor": 5
}
